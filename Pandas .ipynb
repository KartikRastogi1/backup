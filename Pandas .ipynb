{
 "cells": [
  {
   "cell_type": "markdown",
   "id": "b5007bb5",
   "metadata": {},
   "source": [
    "A teacher wants to store the names of the students along with their roll\n",
    "numbers or serial numbers in a proper format. How can you help the teacher accomplish this task? How will Series help you solve it?"
   ]
  },
  {
   "cell_type": "code",
   "execution_count": 13,
   "id": "36721bf2",
   "metadata": {},
   "outputs": [],
   "source": [
    "name  = ['harsh','anika','kartik','shivani','sunil','zoya', 'yash','ashad','bhanu','ishita']"
   ]
  },
  {
   "cell_type": "code",
   "execution_count": 1,
   "id": "2e2f2aa6",
   "metadata": {},
   "outputs": [],
   "source": [
    "import pandas as pd\n",
    "import numpy as np"
   ]
  },
  {
   "cell_type": "code",
   "execution_count": 15,
   "id": "cdc6bf04",
   "metadata": {},
   "outputs": [
    {
     "data": {
      "text/plain": [
       "0      harsh\n",
       "1      anika\n",
       "2     kartik\n",
       "3    shivani\n",
       "4      sunil\n",
       "5       zoya\n",
       "6       yash\n",
       "7      ashad\n",
       "8      bhanu\n",
       "9     ishita\n",
       "dtype: object"
      ]
     },
     "execution_count": 15,
     "metadata": {},
     "output_type": "execute_result"
    }
   ],
   "source": [
    "S = pd.Series(name)\n",
    "S"
   ]
  },
  {
   "cell_type": "code",
   "execution_count": 16,
   "id": "08cdd5b7",
   "metadata": {},
   "outputs": [
    {
     "data": {
      "text/plain": [
       "RangeIndex(start=0, stop=10, step=1)"
      ]
     },
     "execution_count": 16,
     "metadata": {},
     "output_type": "execute_result"
    }
   ],
   "source": [
    "S.index"
   ]
  },
  {
   "cell_type": "code",
   "execution_count": 17,
   "id": "b7a7ac2f",
   "metadata": {},
   "outputs": [
    {
     "data": {
      "text/plain": [
       "array(['harsh', 'anika', 'kartik', 'shivani', 'sunil', 'zoya', 'yash',\n",
       "       'ashad', 'bhanu', 'ishita'], dtype=object)"
      ]
     },
     "execution_count": 17,
     "metadata": {},
     "output_type": "execute_result"
    }
   ],
   "source": [
    "S.values"
   ]
  },
  {
   "cell_type": "code",
   "execution_count": 18,
   "id": "63b45dda",
   "metadata": {},
   "outputs": [
    {
     "data": {
      "text/plain": [
       "1       harsh\n",
       "2       anika\n",
       "3      kartik\n",
       "4     shivani\n",
       "5       sunil\n",
       "6        zoya\n",
       "7        yash\n",
       "8       ashad\n",
       "9       bhanu\n",
       "10     ishita\n",
       "dtype: object"
      ]
     },
     "execution_count": 18,
     "metadata": {},
     "output_type": "execute_result"
    }
   ],
   "source": [
    "index= np.arange(1,11)\n",
    "S = pd.Series(name, index= index)\n",
    "S"
   ]
  },
  {
   "cell_type": "code",
   "execution_count": null,
   "id": "94a1c848",
   "metadata": {},
   "outputs": [],
   "source": [
    "#create a series to store data of your 5 favourite books their index are from 101 to 105"
   ]
  },
  {
   "cell_type": "code",
   "execution_count": 12,
   "id": "23a092d9",
   "metadata": {},
   "outputs": [],
   "source": [
    "books= ['harry potter','lord of rings','American Psycho','The Alchemist','it end with us']"
   ]
  },
  {
   "cell_type": "code",
   "execution_count": 13,
   "id": "ab2e75ee",
   "metadata": {},
   "outputs": [
    {
     "data": {
      "text/plain": [
       "0       harry potter\n",
       "1      lord of rings\n",
       "2    American Psycho\n",
       "3      The Alchemist\n",
       "4     it end with us\n",
       "dtype: object"
      ]
     },
     "execution_count": 13,
     "metadata": {},
     "output_type": "execute_result"
    }
   ],
   "source": [
    "S = pd.Series(books)\n",
    "S"
   ]
  },
  {
   "cell_type": "code",
   "execution_count": 14,
   "id": "ae4c691d",
   "metadata": {},
   "outputs": [
    {
     "data": {
      "text/plain": [
       "101       harry potter\n",
       "102      lord of rings\n",
       "103    American Psycho\n",
       "104      The Alchemist\n",
       "105     it end with us\n",
       "dtype: object"
      ]
     },
     "execution_count": 14,
     "metadata": {},
     "output_type": "execute_result"
    }
   ],
   "source": [
    "index= np.arange(101,106)\n",
    "S = pd.Series(books, index= index)\n",
    "S"
   ]
  },
  {
   "cell_type": "code",
   "execution_count": null,
   "id": "6b211284",
   "metadata": {},
   "outputs": [],
   "source": [
    "#An e-commerce company wants to represent the customer IDs thats consist  of alphamumeric characters along with their spending\n",
    "#scores [1-100]. How can you accomplish this task?"
   ]
  },
  {
   "cell_type": "code",
   "execution_count": 15,
   "id": "1c2cfce1",
   "metadata": {},
   "outputs": [],
   "source": [
    "index = ['a1','a2', 'a3', 'a4', 'a5']\n",
    "values = [43,56,87,90,32]    #np.arange(43,48) "
   ]
  },
  {
   "cell_type": "code",
   "execution_count": 16,
   "id": "f6b21865",
   "metadata": {},
   "outputs": [
    {
     "data": {
      "text/plain": [
       "a1    43\n",
       "a2    56\n",
       "a3    87\n",
       "a4    90\n",
       "a5    32\n",
       "dtype: int64"
      ]
     },
     "execution_count": 16,
     "metadata": {},
     "output_type": "execute_result"
    }
   ],
   "source": [
    "spending_score = pd.Series(values, index = index)\n",
    "spending_score"
   ]
  },
  {
   "cell_type": "code",
   "execution_count": 18,
   "id": "64583831",
   "metadata": {},
   "outputs": [
    {
     "data": {
      "text/plain": [
       "{1: 'Kartik', 2: 'harsh', 3: 'subham', 4: 'ravi'}"
      ]
     },
     "execution_count": 18,
     "metadata": {},
     "output_type": "execute_result"
    }
   ],
   "source": [
    "d1 = {1:'Kartik', 2:'harsh',3:'subham',4:'ravi'}           #dictionary\n",
    "d1"
   ]
  },
  {
   "cell_type": "code",
   "execution_count": 20,
   "id": "94426b37",
   "metadata": {},
   "outputs": [
    {
     "data": {
      "text/plain": [
       "1    Kartik\n",
       "2     harsh\n",
       "3    subham\n",
       "4      ravi\n",
       "dtype: object"
      ]
     },
     "execution_count": 20,
     "metadata": {},
     "output_type": "execute_result"
    }
   ],
   "source": [
    "x=pd.Series(d1)\n",
    "x"
   ]
  },
  {
   "cell_type": "code",
   "execution_count": null,
   "id": "c3c2d607",
   "metadata": {},
   "outputs": [],
   "source": []
  },
  {
   "cell_type": "code",
   "execution_count": 22,
   "id": "d791001c",
   "metadata": {},
   "outputs": [],
   "source": [
    "name = [\"Benjamin\",\"Liam\" , \"John\", \"Smith\" , \"Warner\", \"David\", \"Micheal\", \"James\", \"Dennis\", \"Rossum\"]\n",
    "Sal=  [25000, 26000, 23000, 27000, 28000, 28500, 24000, 30000, 29000, 24700]"
   ]
  },
  {
   "cell_type": "code",
   "execution_count": 23,
   "id": "ad82b936",
   "metadata": {},
   "outputs": [
    {
     "data": {
      "text/plain": [
       "Benjamin    25000\n",
       "Liam        26000\n",
       "John        23000\n",
       "Smith       27000\n",
       "Warner      28000\n",
       "David       28500\n",
       "Micheal     24000\n",
       "James       30000\n",
       "Dennis      29000\n",
       "Rossum      24700\n",
       "dtype: int64"
      ]
     },
     "execution_count": 23,
     "metadata": {},
     "output_type": "execute_result"
    }
   ],
   "source": [
    "Ser = pd.Series(Sal,index=name)\n",
    "Ser"
   ]
  },
  {
   "cell_type": "code",
   "execution_count": 24,
   "id": "51eb9643",
   "metadata": {},
   "outputs": [
    {
     "data": {
      "text/plain": [
       "29000"
      ]
     },
     "execution_count": 24,
     "metadata": {},
     "output_type": "execute_result"
    }
   ],
   "source": [
    "Ser['Dennis']"
   ]
  },
  {
   "cell_type": "code",
   "execution_count": 25,
   "id": "392b7130",
   "metadata": {},
   "outputs": [
    {
     "data": {
      "text/plain": [
       "29000"
      ]
     },
     "execution_count": 25,
     "metadata": {},
     "output_type": "execute_result"
    }
   ],
   "source": [
    "Ser[8]"
   ]
  },
  {
   "cell_type": "code",
   "execution_count": 26,
   "id": "1b1be146",
   "metadata": {},
   "outputs": [
    {
     "data": {
      "text/plain": [
       "29000"
      ]
     },
     "execution_count": 26,
     "metadata": {},
     "output_type": "execute_result"
    }
   ],
   "source": [
    "Ser[-2]"
   ]
  },
  {
   "cell_type": "code",
   "execution_count": 27,
   "id": "71528468",
   "metadata": {},
   "outputs": [],
   "source": [
    "#multiple indexing"
   ]
  },
  {
   "cell_type": "code",
   "execution_count": 28,
   "id": "52ebda4d",
   "metadata": {},
   "outputs": [
    {
     "data": {
      "text/plain": [
       "Benjamin    25000\n",
       "Liam        26000\n",
       "John        23000\n",
       "Smith       27000\n",
       "Warner      28000\n",
       "dtype: int64"
      ]
     },
     "execution_count": 28,
     "metadata": {},
     "output_type": "execute_result"
    }
   ],
   "source": [
    "Ser[:5]"
   ]
  },
  {
   "cell_type": "code",
   "execution_count": 29,
   "id": "21936b30",
   "metadata": {},
   "outputs": [
    {
     "data": {
      "text/plain": [
       "Benjamin    25000\n",
       "Liam        26000\n",
       "John        23000\n",
       "Smith       27000\n",
       "Warner      28000\n",
       "dtype: int64"
      ]
     },
     "execution_count": 29,
     "metadata": {},
     "output_type": "execute_result"
    }
   ],
   "source": [
    "Ser[\"Benjamin\":\"Warner\"]"
   ]
  },
  {
   "cell_type": "code",
   "execution_count": 30,
   "id": "d02e55f2",
   "metadata": {},
   "outputs": [
    {
     "data": {
      "text/plain": [
       "James     30000\n",
       "Dennis    29000\n",
       "Rossum    24700\n",
       "dtype: int64"
      ]
     },
     "execution_count": 30,
     "metadata": {},
     "output_type": "execute_result"
    }
   ],
   "source": [
    "Ser[-3:]"
   ]
  },
  {
   "cell_type": "code",
   "execution_count": 31,
   "id": "4fa95d7d",
   "metadata": {},
   "outputs": [],
   "source": [
    "condition = Ser<25000"
   ]
  },
  {
   "cell_type": "code",
   "execution_count": 32,
   "id": "b1fbe168",
   "metadata": {},
   "outputs": [
    {
     "data": {
      "text/plain": [
       "John       23000\n",
       "Micheal    24000\n",
       "Rossum     24700\n",
       "dtype: int64"
      ]
     },
     "execution_count": 32,
     "metadata": {},
     "output_type": "execute_result"
    }
   ],
   "source": [
    "Ser[condition]"
   ]
  },
  {
   "cell_type": "code",
   "execution_count": 33,
   "id": "6aa2ffb9",
   "metadata": {},
   "outputs": [],
   "source": [
    "condition = Ser<25000"
   ]
  },
  {
   "cell_type": "code",
   "execution_count": 34,
   "id": "8ec794ae",
   "metadata": {},
   "outputs": [
    {
     "data": {
      "text/plain": [
       "John       23000\n",
       "Micheal    24000\n",
       "Rossum     24700\n",
       "dtype: int64"
      ]
     },
     "execution_count": 34,
     "metadata": {},
     "output_type": "execute_result"
    }
   ],
   "source": [
    "Ser[condition]"
   ]
  },
  {
   "cell_type": "code",
   "execution_count": 39,
   "id": "04aa8aee",
   "metadata": {},
   "outputs": [
    {
     "data": {
      "text/plain": [
       "Benjamin    30000.0\n",
       "Liam        31200.0\n",
       "John        27600.0\n",
       "Smith       32400.0\n",
       "Warner      33600.0\n",
       "David       34200.0\n",
       "Micheal     28800.0\n",
       "James       36000.0\n",
       "Dennis      34800.0\n",
       "Rossum      29640.0\n",
       "dtype: float64"
      ]
     },
     "execution_count": 39,
     "metadata": {},
     "output_type": "execute_result"
    }
   ],
   "source": [
    "ser= Ser*1.2\n",
    "ser"
   ]
  },
  {
   "cell_type": "code",
   "execution_count": 40,
   "id": "9727407a",
   "metadata": {},
   "outputs": [],
   "source": [
    "#greater than 32000"
   ]
  },
  {
   "cell_type": "code",
   "execution_count": 41,
   "id": "56aee1e5",
   "metadata": {},
   "outputs": [],
   "source": [
    "condition = ser>32000"
   ]
  },
  {
   "cell_type": "code",
   "execution_count": 42,
   "id": "340066ae",
   "metadata": {},
   "outputs": [
    {
     "data": {
      "text/plain": [
       "Smith     32400.0\n",
       "Warner    33600.0\n",
       "David     34200.0\n",
       "James     36000.0\n",
       "Dennis    34800.0\n",
       "dtype: float64"
      ]
     },
     "execution_count": 42,
     "metadata": {},
     "output_type": "execute_result"
    }
   ],
   "source": [
    "ser[condition]"
   ]
  },
  {
   "cell_type": "code",
   "execution_count": 43,
   "id": "19bd5498",
   "metadata": {},
   "outputs": [
    {
     "data": {
      "text/plain": [
       "Henry     34000\n",
       "Rajeev    23409\n",
       "Vinay     34270\n",
       "Amar      30172\n",
       "Omkar     32140\n",
       "dtype: int64"
      ]
     },
     "execution_count": 43,
     "metadata": {},
     "output_type": "execute_result"
    }
   ],
   "source": [
    "new_ser = pd.Series([34000, 23409, 34270, 30172, 32140], index = [\"Henry\", 'Rajeev', 'Vinay', 'Amar','Omkar'])\n",
    "new_ser"
   ]
  },
  {
   "cell_type": "code",
   "execution_count": 44,
   "id": "d01769fa",
   "metadata": {},
   "outputs": [
    {
     "data": {
      "text/plain": [
       "Benjamin    30000.0\n",
       "Liam        31200.0\n",
       "John        27600.0\n",
       "Smith       32400.0\n",
       "Warner      33600.0\n",
       "David       34200.0\n",
       "Micheal     28800.0\n",
       "James       36000.0\n",
       "Dennis      34800.0\n",
       "Rossum      29640.0\n",
       "Henry       34000.0\n",
       "Rajeev      23409.0\n",
       "Vinay       34270.0\n",
       "Amar        30172.0\n",
       "Omkar       32140.0\n",
       "dtype: float64"
      ]
     },
     "execution_count": 44,
     "metadata": {},
     "output_type": "execute_result"
    }
   ],
   "source": [
    "new_ser = pd.concat([ser, new_ser])                   #concating two series ser and new_ser\n",
    "new_ser                                           "
   ]
  },
  {
   "cell_type": "code",
   "execution_count": 45,
   "id": "e7e28044",
   "metadata": {},
   "outputs": [
    {
     "data": {
      "text/plain": [
       "472231.0"
      ]
     },
     "execution_count": 45,
     "metadata": {},
     "output_type": "execute_result"
    }
   ],
   "source": [
    "new_ser.sum()"
   ]
  },
  {
   "cell_type": "code",
   "execution_count": 46,
   "id": "fe3622c1",
   "metadata": {},
   "outputs": [
    {
     "data": {
      "text/plain": [
       "31482.066666666666"
      ]
     },
     "execution_count": 46,
     "metadata": {},
     "output_type": "execute_result"
    }
   ],
   "source": [
    "new_ser.mean()"
   ]
  },
  {
   "cell_type": "code",
   "execution_count": 47,
   "id": "80ee091d",
   "metadata": {},
   "outputs": [
    {
     "data": {
      "text/plain": [
       "23409.0"
      ]
     },
     "execution_count": 47,
     "metadata": {},
     "output_type": "execute_result"
    }
   ],
   "source": [
    "new_ser.min()"
   ]
  },
  {
   "cell_type": "code",
   "execution_count": 51,
   "id": "c64f17df",
   "metadata": {},
   "outputs": [
    {
     "data": {
      "text/plain": [
       "36000.0"
      ]
     },
     "execution_count": 51,
     "metadata": {},
     "output_type": "execute_result"
    }
   ],
   "source": [
    "new_ser.max()"
   ]
  },
  {
   "cell_type": "code",
   "execution_count": 49,
   "id": "3be41eca",
   "metadata": {},
   "outputs": [
    {
     "data": {
      "text/plain": [
       "32140.0"
      ]
     },
     "execution_count": 49,
     "metadata": {},
     "output_type": "execute_result"
    }
   ],
   "source": [
    "new_ser.median()"
   ]
  },
  {
   "cell_type": "code",
   "execution_count": 55,
   "id": "26a95d0f",
   "metadata": {},
   "outputs": [],
   "source": [
    "condition = new_ser<new_ser.mean()"
   ]
  },
  {
   "cell_type": "code",
   "execution_count": 56,
   "id": "a6e6c8f8",
   "metadata": {},
   "outputs": [
    {
     "data": {
      "text/plain": [
       "Benjamin    30000.0\n",
       "Liam        31200.0\n",
       "John        27600.0\n",
       "Micheal     28800.0\n",
       "Rossum      29640.0\n",
       "Rajeev      23409.0\n",
       "Amar        30172.0\n",
       "dtype: float64"
      ]
     },
     "execution_count": 56,
     "metadata": {},
     "output_type": "execute_result"
    }
   ],
   "source": [
    "new_ser[condition]"
   ]
  },
  {
   "cell_type": "code",
   "execution_count": 37,
   "id": "baa35f04",
   "metadata": {},
   "outputs": [
    {
     "data": {
      "text/plain": [
       "John        23000.0\n",
       "Rajeev      23409.0\n",
       "Micheal     24000.0\n",
       "Rossum      24700.0\n",
       "Benjamin    25000.0\n",
       "Liam        26000.0\n",
       "Smith       27000.0\n",
       "John        27600.0\n",
       "Warner      28000.0\n",
       "David       28500.0\n",
       "Micheal     28800.0\n",
       "Dennis      29000.0\n",
       "Rossum      29640.0\n",
       "Benjamin    30000.0\n",
       "Liam        31200.0\n",
       "Omkar       32140.0\n",
       "Smith       32400.0\n",
       "Warner      33600.0\n",
       "Henry       34000.0\n",
       "David       34200.0\n",
       "Vinay       34270.0\n",
       "Dennis      34800.0\n",
       "James       35000.0\n",
       "Amar        35000.0\n",
       "James       36000.0\n",
       "dtype: float64"
      ]
     },
     "execution_count": 37,
     "metadata": {},
     "output_type": "execute_result"
    }
   ],
   "source": [
    "new_ser.sort_values()              #values in ascending order"
   ]
  },
  {
   "cell_type": "code",
   "execution_count": 57,
   "id": "b8f02c7b",
   "metadata": {},
   "outputs": [
    {
     "data": {
      "text/plain": [
       "James       36000.0\n",
       "Dennis      34800.0\n",
       "Vinay       34270.0\n",
       "David       34200.0\n",
       "Henry       34000.0\n",
       "Warner      33600.0\n",
       "Smith       32400.0\n",
       "Omkar       32140.0\n",
       "Liam        31200.0\n",
       "Amar        30172.0\n",
       "Benjamin    30000.0\n",
       "Rossum      29640.0\n",
       "Micheal     28800.0\n",
       "John        27600.0\n",
       "Rajeev      23409.0\n",
       "dtype: float64"
      ]
     },
     "execution_count": 57,
     "metadata": {},
     "output_type": "execute_result"
    }
   ],
   "source": [
    "new_ser.sort_values(ascending = False)          #descending order"
   ]
  },
  {
   "cell_type": "code",
   "execution_count": 58,
   "id": "aa9c9340",
   "metadata": {},
   "outputs": [
    {
     "data": {
      "text/plain": [
       "Amar        30172.0\n",
       "Benjamin    30000.0\n",
       "David       34200.0\n",
       "Dennis      34800.0\n",
       "Henry       34000.0\n",
       "James       36000.0\n",
       "John        27600.0\n",
       "Liam        31200.0\n",
       "Micheal     28800.0\n",
       "Omkar       32140.0\n",
       "Rajeev      23409.0\n",
       "Rossum      29640.0\n",
       "Smith       32400.0\n",
       "Vinay       34270.0\n",
       "Warner      33600.0\n",
       "dtype: float64"
      ]
     },
     "execution_count": 58,
     "metadata": {},
     "output_type": "execute_result"
    }
   ],
   "source": [
    "new_ser.sort_index()            #sorting Alphabatucally in ascending order"
   ]
  },
  {
   "cell_type": "code",
   "execution_count": null,
   "id": "98a3adcc",
   "metadata": {},
   "outputs": [],
   "source": []
  },
  {
   "cell_type": "code",
   "execution_count": 59,
   "id": "f2f5a3c5",
   "metadata": {},
   "outputs": [
    {
     "data": {
      "text/plain": [
       "Benjamin     True\n",
       "Liam         True\n",
       "John        False\n",
       "Smith       False\n",
       "Warner      False\n",
       "David       False\n",
       "Micheal     False\n",
       "James       False\n",
       "Dennis      False\n",
       "Rossum      False\n",
       "Henry       False\n",
       "Rajeev      False\n",
       "Vinay       False\n",
       "Amar         True\n",
       "Omkar       False\n",
       "dtype: bool"
      ]
     },
     "execution_count": 59,
     "metadata": {},
     "output_type": "execute_result"
    }
   ],
   "source": [
    "condition = new_ser.between(30000, 32000, inclusive = 'both')    #salaries between 30000 and 32000\n",
    "condition "
   ]
  },
  {
   "cell_type": "code",
   "execution_count": 60,
   "id": "a2d07d88",
   "metadata": {},
   "outputs": [
    {
     "data": {
      "text/plain": [
       "Benjamin    30000.0\n",
       "Liam        31200.0\n",
       "Amar        30172.0\n",
       "dtype: float64"
      ]
     },
     "execution_count": 60,
     "metadata": {},
     "output_type": "execute_result"
    }
   ],
   "source": [
    "between30_32 = new_ser[condition]\n",
    "between30_32"
   ]
  },
  {
   "cell_type": "code",
   "execution_count": 61,
   "id": "c60fcba7",
   "metadata": {},
   "outputs": [
    {
     "data": {
      "text/plain": [
       "Benjamin    30000.0\n",
       "Liam        35000.0\n",
       "John        27600.0\n",
       "Smith       32400.0\n",
       "Warner      33600.0\n",
       "David       34200.0\n",
       "Micheal     28800.0\n",
       "James       36000.0\n",
       "Dennis      34800.0\n",
       "Rossum      29640.0\n",
       "Henry       34000.0\n",
       "Rajeev      23409.0\n",
       "Vinay       34270.0\n",
       "Amar        35000.0\n",
       "Omkar       32140.0\n",
       "dtype: float64"
      ]
     },
     "execution_count": 61,
     "metadata": {},
     "output_type": "execute_result"
    }
   ],
   "source": [
    "new_ser.update(pd.Series([35000,35000], index = ['Liam', 'Amar']))        #update function\n",
    "new_ser"
   ]
  },
  {
   "cell_type": "code",
   "execution_count": 62,
   "id": "b138c35f",
   "metadata": {},
   "outputs": [
    {
     "data": {
      "text/plain": [
       "Benjamin    30000.0\n",
       "Liam        35000.0\n",
       "John        27600.0\n",
       "Smith       32400.0\n",
       "Warner      33600.0\n",
       "David       34200.0\n",
       "Micheal     28800.0\n",
       "James       36000.0\n",
       "Dennis      34800.0\n",
       "Rossum      29640.0\n",
       "Henry       34000.0\n",
       "Rajeev      23409.0\n",
       "Vinay       34270.0\n",
       "Amar        35000.0\n",
       "Omkar       32140.0\n",
       "dtype: float64"
      ]
     },
     "execution_count": 62,
     "metadata": {},
     "output_type": "execute_result"
    }
   ],
   "source": [
    "dup = new_ser.copy()            #copy()\n",
    "dup"
   ]
  },
  {
   "cell_type": "code",
   "execution_count": 63,
   "id": "464c8762",
   "metadata": {},
   "outputs": [],
   "source": [
    "name_to_drop  =['John','David']"
   ]
  },
  {
   "cell_type": "code",
   "execution_count": 64,
   "id": "fd3afb10",
   "metadata": {},
   "outputs": [
    {
     "data": {
      "text/plain": [
       "Benjamin    30000.0\n",
       "Liam        35000.0\n",
       "Smith       32400.0\n",
       "Warner      33600.0\n",
       "Micheal     28800.0\n",
       "James       36000.0\n",
       "Dennis      34800.0\n",
       "Rossum      29640.0\n",
       "Henry       34000.0\n",
       "Rajeev      23409.0\n",
       "Vinay       34270.0\n",
       "Amar        35000.0\n",
       "Omkar       32140.0\n",
       "dtype: float64"
      ]
     },
     "execution_count": 64,
     "metadata": {},
     "output_type": "execute_result"
    }
   ],
   "source": [
    "dup.drop(name_to_drop)"
   ]
  },
  {
   "cell_type": "code",
   "execution_count": 46,
   "id": "5a5e4085",
   "metadata": {},
   "outputs": [],
   "source": [
    "#Dataframe"
   ]
  },
  {
   "cell_type": "code",
   "execution_count": null,
   "id": "799d854b",
   "metadata": {},
   "outputs": [],
   "source": []
  },
  {
   "cell_type": "code",
   "execution_count": null,
   "id": "96d4b235",
   "metadata": {},
   "outputs": [],
   "source": []
  },
  {
   "cell_type": "code",
   "execution_count": 120,
   "id": "02b31150",
   "metadata": {},
   "outputs": [
    {
     "data": {
      "text/html": [
       "<div>\n",
       "<style scoped>\n",
       "    .dataframe tbody tr th:only-of-type {\n",
       "        vertical-align: middle;\n",
       "    }\n",
       "\n",
       "    .dataframe tbody tr th {\n",
       "        vertical-align: top;\n",
       "    }\n",
       "\n",
       "    .dataframe thead th {\n",
       "        text-align: right;\n",
       "    }\n",
       "</style>\n",
       "<table border=\"1\" class=\"dataframe\">\n",
       "  <thead>\n",
       "    <tr style=\"text-align: right;\">\n",
       "      <th></th>\n",
       "      <th>Salary</th>\n",
       "    </tr>\n",
       "  </thead>\n",
       "  <tbody>\n",
       "    <tr>\n",
       "      <th>Benjamin</th>\n",
       "      <td>30000.0</td>\n",
       "    </tr>\n",
       "    <tr>\n",
       "      <th>Liam</th>\n",
       "      <td>35000.0</td>\n",
       "    </tr>\n",
       "    <tr>\n",
       "      <th>John</th>\n",
       "      <td>27600.0</td>\n",
       "    </tr>\n",
       "    <tr>\n",
       "      <th>Smith</th>\n",
       "      <td>32400.0</td>\n",
       "    </tr>\n",
       "    <tr>\n",
       "      <th>Warner</th>\n",
       "      <td>33600.0</td>\n",
       "    </tr>\n",
       "    <tr>\n",
       "      <th>David</th>\n",
       "      <td>34200.0</td>\n",
       "    </tr>\n",
       "    <tr>\n",
       "      <th>Micheal</th>\n",
       "      <td>28800.0</td>\n",
       "    </tr>\n",
       "    <tr>\n",
       "      <th>James</th>\n",
       "      <td>36000.0</td>\n",
       "    </tr>\n",
       "    <tr>\n",
       "      <th>Dennis</th>\n",
       "      <td>34800.0</td>\n",
       "    </tr>\n",
       "    <tr>\n",
       "      <th>Rossum</th>\n",
       "      <td>29640.0</td>\n",
       "    </tr>\n",
       "    <tr>\n",
       "      <th>Henry</th>\n",
       "      <td>34000.0</td>\n",
       "    </tr>\n",
       "    <tr>\n",
       "      <th>Rajeev</th>\n",
       "      <td>23409.0</td>\n",
       "    </tr>\n",
       "    <tr>\n",
       "      <th>Vinay</th>\n",
       "      <td>34270.0</td>\n",
       "    </tr>\n",
       "    <tr>\n",
       "      <th>Amar</th>\n",
       "      <td>35000.0</td>\n",
       "    </tr>\n",
       "    <tr>\n",
       "      <th>Omkar</th>\n",
       "      <td>32140.0</td>\n",
       "    </tr>\n",
       "  </tbody>\n",
       "</table>\n",
       "</div>"
      ],
      "text/plain": [
       "           Salary\n",
       "Benjamin  30000.0\n",
       "Liam      35000.0\n",
       "John      27600.0\n",
       "Smith     32400.0\n",
       "Warner    33600.0\n",
       "David     34200.0\n",
       "Micheal   28800.0\n",
       "James     36000.0\n",
       "Dennis    34800.0\n",
       "Rossum    29640.0\n",
       "Henry     34000.0\n",
       "Rajeev    23409.0\n",
       "Vinay     34270.0\n",
       "Amar      35000.0\n",
       "Omkar     32140.0"
      ]
     },
     "execution_count": 120,
     "metadata": {},
     "output_type": "execute_result"
    }
   ],
   "source": [
    "df = pd.DataFrame(new_ser, columns=['Salary'])\n",
    "df"
   ]
  },
  {
   "cell_type": "code",
   "execution_count": 70,
   "id": "75f9d608",
   "metadata": {},
   "outputs": [
    {
     "data": {
      "text/plain": [
       "{'Name': ['vishal', 'sanjay', 'prashant'],\n",
       " 'roll_no': [1, 2, 3],\n",
       " 'city': ['Mumbai', 'Delhi', 'Bangalore']}"
      ]
     },
     "execution_count": 70,
     "metadata": {},
     "output_type": "execute_result"
    }
   ],
   "source": [
    "d2 = {\"Name\":[\"vishal\", \"sanjay\", \"prashant\"], \"roll_no\":[1,2,3] ,'city':[\"Mumbai\",\"Delhi\",\"Bangalore\"]}\n",
    "d2"
   ]
  },
  {
   "cell_type": "code",
   "execution_count": 72,
   "id": "7b393195",
   "metadata": {},
   "outputs": [
    {
     "data": {
      "text/html": [
       "<div>\n",
       "<style scoped>\n",
       "    .dataframe tbody tr th:only-of-type {\n",
       "        vertical-align: middle;\n",
       "    }\n",
       "\n",
       "    .dataframe tbody tr th {\n",
       "        vertical-align: top;\n",
       "    }\n",
       "\n",
       "    .dataframe thead th {\n",
       "        text-align: right;\n",
       "    }\n",
       "</style>\n",
       "<table border=\"1\" class=\"dataframe\">\n",
       "  <thead>\n",
       "    <tr style=\"text-align: right;\">\n",
       "      <th></th>\n",
       "      <th>Name</th>\n",
       "      <th>roll_no</th>\n",
       "      <th>city</th>\n",
       "    </tr>\n",
       "  </thead>\n",
       "  <tbody>\n",
       "    <tr>\n",
       "      <th>0</th>\n",
       "      <td>vishal</td>\n",
       "      <td>1</td>\n",
       "      <td>Mumbai</td>\n",
       "    </tr>\n",
       "    <tr>\n",
       "      <th>1</th>\n",
       "      <td>sanjay</td>\n",
       "      <td>2</td>\n",
       "      <td>Delhi</td>\n",
       "    </tr>\n",
       "    <tr>\n",
       "      <th>2</th>\n",
       "      <td>prashant</td>\n",
       "      <td>3</td>\n",
       "      <td>Bangalore</td>\n",
       "    </tr>\n",
       "  </tbody>\n",
       "</table>\n",
       "</div>"
      ],
      "text/plain": [
       "       Name  roll_no       city\n",
       "0    vishal        1     Mumbai\n",
       "1    sanjay        2      Delhi\n",
       "2  prashant        3  Bangalore"
      ]
     },
     "execution_count": 72,
     "metadata": {},
     "output_type": "execute_result"
    }
   ],
   "source": [
    "df2 = pd.DataFrame(d2)\n",
    "df2"
   ]
  },
  {
   "cell_type": "code",
   "execution_count": null,
   "id": "2950fff8",
   "metadata": {},
   "outputs": [],
   "source": []
  },
  {
   "cell_type": "code",
   "execution_count": null,
   "id": "bc199def",
   "metadata": {},
   "outputs": [],
   "source": []
  },
  {
   "cell_type": "code",
   "execution_count": 86,
   "id": "d7591e06",
   "metadata": {},
   "outputs": [],
   "source": [
    "import numpy as np\n",
    "Di={'Roll_no':np.arange(1,11),\n",
    "   \"Name\":[\"Benjamin\",\"Liam\", \"Jhon\", \"Smith\", \"Warner\", \"David\", \"Micheal\", \"James\", \"Dennis\", \"Rossum\"],\n",
    "   \"Percentage\":[66.8, 78.9, 56.4, 61.5, 75.6, 80.6, 51.78, 51.78, 85.5,70.56]}"
   ]
  },
  {
   "cell_type": "code",
   "execution_count": 93,
   "id": "95038c19",
   "metadata": {},
   "outputs": [
    {
     "data": {
      "text/html": [
       "<div>\n",
       "<style scoped>\n",
       "    .dataframe tbody tr th:only-of-type {\n",
       "        vertical-align: middle;\n",
       "    }\n",
       "\n",
       "    .dataframe tbody tr th {\n",
       "        vertical-align: top;\n",
       "    }\n",
       "\n",
       "    .dataframe thead th {\n",
       "        text-align: right;\n",
       "    }\n",
       "</style>\n",
       "<table border=\"1\" class=\"dataframe\">\n",
       "  <thead>\n",
       "    <tr style=\"text-align: right;\">\n",
       "      <th></th>\n",
       "      <th>Roll_no</th>\n",
       "      <th>Name</th>\n",
       "      <th>Percentage</th>\n",
       "    </tr>\n",
       "  </thead>\n",
       "  <tbody>\n",
       "    <tr>\n",
       "      <th>1</th>\n",
       "      <td>1</td>\n",
       "      <td>Benjamin</td>\n",
       "      <td>66.80</td>\n",
       "    </tr>\n",
       "    <tr>\n",
       "      <th>2</th>\n",
       "      <td>2</td>\n",
       "      <td>Liam</td>\n",
       "      <td>78.90</td>\n",
       "    </tr>\n",
       "    <tr>\n",
       "      <th>3</th>\n",
       "      <td>3</td>\n",
       "      <td>Jhon</td>\n",
       "      <td>56.40</td>\n",
       "    </tr>\n",
       "    <tr>\n",
       "      <th>4</th>\n",
       "      <td>4</td>\n",
       "      <td>Smith</td>\n",
       "      <td>61.50</td>\n",
       "    </tr>\n",
       "    <tr>\n",
       "      <th>5</th>\n",
       "      <td>5</td>\n",
       "      <td>Warner</td>\n",
       "      <td>75.60</td>\n",
       "    </tr>\n",
       "    <tr>\n",
       "      <th>6</th>\n",
       "      <td>6</td>\n",
       "      <td>David</td>\n",
       "      <td>80.60</td>\n",
       "    </tr>\n",
       "    <tr>\n",
       "      <th>7</th>\n",
       "      <td>7</td>\n",
       "      <td>Micheal</td>\n",
       "      <td>51.78</td>\n",
       "    </tr>\n",
       "    <tr>\n",
       "      <th>8</th>\n",
       "      <td>8</td>\n",
       "      <td>James</td>\n",
       "      <td>51.78</td>\n",
       "    </tr>\n",
       "    <tr>\n",
       "      <th>9</th>\n",
       "      <td>9</td>\n",
       "      <td>Dennis</td>\n",
       "      <td>85.50</td>\n",
       "    </tr>\n",
       "    <tr>\n",
       "      <th>10</th>\n",
       "      <td>10</td>\n",
       "      <td>Rossum</td>\n",
       "      <td>70.56</td>\n",
       "    </tr>\n",
       "  </tbody>\n",
       "</table>\n",
       "</div>"
      ],
      "text/plain": [
       "    Roll_no      Name  Percentage\n",
       "1         1  Benjamin       66.80\n",
       "2         2      Liam       78.90\n",
       "3         3      Jhon       56.40\n",
       "4         4     Smith       61.50\n",
       "5         5    Warner       75.60\n",
       "6         6     David       80.60\n",
       "7         7   Micheal       51.78\n",
       "8         8     James       51.78\n",
       "9         9    Dennis       85.50\n",
       "10       10    Rossum       70.56"
      ]
     },
     "execution_count": 93,
     "metadata": {},
     "output_type": "execute_result"
    }
   ],
   "source": [
    "df3 = pd.DataFrame(Di, index = np.arange(1,11))             #changing index values\n",
    "df3"
   ]
  },
  {
   "cell_type": "code",
   "execution_count": 79,
   "id": "280bb737",
   "metadata": {},
   "outputs": [
    {
     "data": {
      "text/plain": [
       "1     Benjamin\n",
       "2         Liam\n",
       "3         Jhon\n",
       "4        Smith\n",
       "5       Warner\n",
       "6        David\n",
       "7      Micheal\n",
       "8        James\n",
       "9       Dennis\n",
       "10      Rossum\n",
       "Name: Name, dtype: object"
      ]
     },
     "execution_count": 79,
     "metadata": {},
     "output_type": "execute_result"
    }
   ],
   "source": [
    "df3.Name"
   ]
  },
  {
   "cell_type": "code",
   "execution_count": 80,
   "id": "52dae1da",
   "metadata": {},
   "outputs": [
    {
     "data": {
      "text/plain": [
       "1     Benjamin\n",
       "2         Liam\n",
       "3         Jhon\n",
       "4        Smith\n",
       "5       Warner\n",
       "6        David\n",
       "7      Micheal\n",
       "8        James\n",
       "9       Dennis\n",
       "10      Rossum\n",
       "Name: Name, dtype: object"
      ]
     },
     "execution_count": 80,
     "metadata": {},
     "output_type": "execute_result"
    }
   ],
   "source": [
    "df3['Name']"
   ]
  },
  {
   "cell_type": "code",
   "execution_count": 81,
   "id": "1e7f2ec1",
   "metadata": {},
   "outputs": [
    {
     "data": {
      "text/html": [
       "<div>\n",
       "<style scoped>\n",
       "    .dataframe tbody tr th:only-of-type {\n",
       "        vertical-align: middle;\n",
       "    }\n",
       "\n",
       "    .dataframe tbody tr th {\n",
       "        vertical-align: top;\n",
       "    }\n",
       "\n",
       "    .dataframe thead th {\n",
       "        text-align: right;\n",
       "    }\n",
       "</style>\n",
       "<table border=\"1\" class=\"dataframe\">\n",
       "  <thead>\n",
       "    <tr style=\"text-align: right;\">\n",
       "      <th></th>\n",
       "      <th>Name</th>\n",
       "    </tr>\n",
       "  </thead>\n",
       "  <tbody>\n",
       "    <tr>\n",
       "      <th>1</th>\n",
       "      <td>Benjamin</td>\n",
       "    </tr>\n",
       "    <tr>\n",
       "      <th>2</th>\n",
       "      <td>Liam</td>\n",
       "    </tr>\n",
       "    <tr>\n",
       "      <th>3</th>\n",
       "      <td>Jhon</td>\n",
       "    </tr>\n",
       "    <tr>\n",
       "      <th>4</th>\n",
       "      <td>Smith</td>\n",
       "    </tr>\n",
       "    <tr>\n",
       "      <th>5</th>\n",
       "      <td>Warner</td>\n",
       "    </tr>\n",
       "    <tr>\n",
       "      <th>6</th>\n",
       "      <td>David</td>\n",
       "    </tr>\n",
       "    <tr>\n",
       "      <th>7</th>\n",
       "      <td>Micheal</td>\n",
       "    </tr>\n",
       "    <tr>\n",
       "      <th>8</th>\n",
       "      <td>James</td>\n",
       "    </tr>\n",
       "    <tr>\n",
       "      <th>9</th>\n",
       "      <td>Dennis</td>\n",
       "    </tr>\n",
       "    <tr>\n",
       "      <th>10</th>\n",
       "      <td>Rossum</td>\n",
       "    </tr>\n",
       "  </tbody>\n",
       "</table>\n",
       "</div>"
      ],
      "text/plain": [
       "        Name\n",
       "1   Benjamin\n",
       "2       Liam\n",
       "3       Jhon\n",
       "4      Smith\n",
       "5     Warner\n",
       "6      David\n",
       "7    Micheal\n",
       "8      James\n",
       "9     Dennis\n",
       "10    Rossum"
      ]
     },
     "execution_count": 81,
     "metadata": {},
     "output_type": "execute_result"
    }
   ],
   "source": [
    "df3[['Name']]           #use double square brackets to get this type of result"
   ]
  },
  {
   "cell_type": "code",
   "execution_count": 97,
   "id": "ce0004c6",
   "metadata": {},
   "outputs": [
    {
     "data": {
      "text/plain": [
       "Roll_no            5\n",
       "Name          Warner\n",
       "Percentage      75.6\n",
       "Name: 5, dtype: object"
      ]
     },
     "execution_count": 97,
     "metadata": {},
     "output_type": "execute_result"
    }
   ],
   "source": [
    "df3.iloc[4]                        #iloc() is index locaiton"
   ]
  },
  {
   "cell_type": "code",
   "execution_count": 98,
   "id": "ac91269f",
   "metadata": {},
   "outputs": [
    {
     "data": {
      "text/html": [
       "<div>\n",
       "<style scoped>\n",
       "    .dataframe tbody tr th:only-of-type {\n",
       "        vertical-align: middle;\n",
       "    }\n",
       "\n",
       "    .dataframe tbody tr th {\n",
       "        vertical-align: top;\n",
       "    }\n",
       "\n",
       "    .dataframe thead th {\n",
       "        text-align: right;\n",
       "    }\n",
       "</style>\n",
       "<table border=\"1\" class=\"dataframe\">\n",
       "  <thead>\n",
       "    <tr style=\"text-align: right;\">\n",
       "      <th></th>\n",
       "      <th>Roll_no</th>\n",
       "      <th>Name</th>\n",
       "      <th>Percentage</th>\n",
       "    </tr>\n",
       "  </thead>\n",
       "  <tbody>\n",
       "    <tr>\n",
       "      <th>1</th>\n",
       "      <td>1</td>\n",
       "      <td>Benjamin</td>\n",
       "      <td>66.8</td>\n",
       "    </tr>\n",
       "    <tr>\n",
       "      <th>2</th>\n",
       "      <td>2</td>\n",
       "      <td>Liam</td>\n",
       "      <td>78.9</td>\n",
       "    </tr>\n",
       "    <tr>\n",
       "      <th>3</th>\n",
       "      <td>3</td>\n",
       "      <td>Jhon</td>\n",
       "      <td>56.4</td>\n",
       "    </tr>\n",
       "    <tr>\n",
       "      <th>4</th>\n",
       "      <td>4</td>\n",
       "      <td>Smith</td>\n",
       "      <td>61.5</td>\n",
       "    </tr>\n",
       "  </tbody>\n",
       "</table>\n",
       "</div>"
      ],
      "text/plain": [
       "   Roll_no      Name  Percentage\n",
       "1        1  Benjamin        66.8\n",
       "2        2      Liam        78.9\n",
       "3        3      Jhon        56.4\n",
       "4        4     Smith        61.5"
      ]
     },
     "execution_count": 98,
     "metadata": {},
     "output_type": "execute_result"
    }
   ],
   "source": [
    "df3.iloc[:4]   "
   ]
  },
  {
   "cell_type": "code",
   "execution_count": 108,
   "id": "86b9a790",
   "metadata": {},
   "outputs": [
    {
     "data": {
      "text/plain": [
       "1    Benjamin\n",
       "2        Liam\n",
       "3        Jhon\n",
       "4       Smith\n",
       "Name: Name, dtype: object"
      ]
     },
     "execution_count": 108,
     "metadata": {},
     "output_type": "execute_result"
    }
   ],
   "source": [
    "df3.iloc[:4,1]"
   ]
  },
  {
   "cell_type": "code",
   "execution_count": 109,
   "id": "a3d7d137",
   "metadata": {},
   "outputs": [
    {
     "data": {
      "text/html": [
       "<div>\n",
       "<style scoped>\n",
       "    .dataframe tbody tr th:only-of-type {\n",
       "        vertical-align: middle;\n",
       "    }\n",
       "\n",
       "    .dataframe tbody tr th {\n",
       "        vertical-align: top;\n",
       "    }\n",
       "\n",
       "    .dataframe thead th {\n",
       "        text-align: right;\n",
       "    }\n",
       "</style>\n",
       "<table border=\"1\" class=\"dataframe\">\n",
       "  <thead>\n",
       "    <tr style=\"text-align: right;\">\n",
       "      <th></th>\n",
       "      <th>Roll_no</th>\n",
       "    </tr>\n",
       "  </thead>\n",
       "  <tbody>\n",
       "    <tr>\n",
       "      <th>1</th>\n",
       "      <td>1</td>\n",
       "    </tr>\n",
       "    <tr>\n",
       "      <th>2</th>\n",
       "      <td>2</td>\n",
       "    </tr>\n",
       "    <tr>\n",
       "      <th>3</th>\n",
       "      <td>3</td>\n",
       "    </tr>\n",
       "    <tr>\n",
       "      <th>4</th>\n",
       "      <td>4</td>\n",
       "    </tr>\n",
       "  </tbody>\n",
       "</table>\n",
       "</div>"
      ],
      "text/plain": [
       "   Roll_no\n",
       "1        1\n",
       "2        2\n",
       "3        3\n",
       "4        4"
      ]
     },
     "execution_count": 109,
     "metadata": {},
     "output_type": "execute_result"
    }
   ],
   "source": [
    "df3.iloc[:4,:1]"
   ]
  },
  {
   "cell_type": "code",
   "execution_count": 110,
   "id": "b7bd67cd",
   "metadata": {},
   "outputs": [
    {
     "data": {
      "text/html": [
       "<div>\n",
       "<style scoped>\n",
       "    .dataframe tbody tr th:only-of-type {\n",
       "        vertical-align: middle;\n",
       "    }\n",
       "\n",
       "    .dataframe tbody tr th {\n",
       "        vertical-align: top;\n",
       "    }\n",
       "\n",
       "    .dataframe thead th {\n",
       "        text-align: right;\n",
       "    }\n",
       "</style>\n",
       "<table border=\"1\" class=\"dataframe\">\n",
       "  <thead>\n",
       "    <tr style=\"text-align: right;\">\n",
       "      <th></th>\n",
       "      <th>Name</th>\n",
       "      <th>Percentage</th>\n",
       "    </tr>\n",
       "  </thead>\n",
       "  <tbody>\n",
       "    <tr>\n",
       "      <th>1</th>\n",
       "      <td>Benjamin</td>\n",
       "      <td>66.8</td>\n",
       "    </tr>\n",
       "    <tr>\n",
       "      <th>2</th>\n",
       "      <td>Liam</td>\n",
       "      <td>78.9</td>\n",
       "    </tr>\n",
       "    <tr>\n",
       "      <th>3</th>\n",
       "      <td>Jhon</td>\n",
       "      <td>56.4</td>\n",
       "    </tr>\n",
       "    <tr>\n",
       "      <th>4</th>\n",
       "      <td>Smith</td>\n",
       "      <td>61.5</td>\n",
       "    </tr>\n",
       "  </tbody>\n",
       "</table>\n",
       "</div>"
      ],
      "text/plain": [
       "       Name  Percentage\n",
       "1  Benjamin        66.8\n",
       "2      Liam        78.9\n",
       "3      Jhon        56.4\n",
       "4     Smith        61.5"
      ]
     },
     "execution_count": 110,
     "metadata": {},
     "output_type": "execute_result"
    }
   ],
   "source": [
    "df3.iloc[:4,1:]"
   ]
  },
  {
   "cell_type": "code",
   "execution_count": 116,
   "id": "53eed3c3",
   "metadata": {},
   "outputs": [
    {
     "data": {
      "text/html": [
       "<div>\n",
       "<style scoped>\n",
       "    .dataframe tbody tr th:only-of-type {\n",
       "        vertical-align: middle;\n",
       "    }\n",
       "\n",
       "    .dataframe tbody tr th {\n",
       "        vertical-align: top;\n",
       "    }\n",
       "\n",
       "    .dataframe thead th {\n",
       "        text-align: right;\n",
       "    }\n",
       "</style>\n",
       "<table border=\"1\" class=\"dataframe\">\n",
       "  <thead>\n",
       "    <tr style=\"text-align: right;\">\n",
       "      <th></th>\n",
       "      <th>Name</th>\n",
       "      <th>Percentage</th>\n",
       "    </tr>\n",
       "  </thead>\n",
       "  <tbody>\n",
       "    <tr>\n",
       "      <th>1</th>\n",
       "      <td>Benjamin</td>\n",
       "      <td>66.8</td>\n",
       "    </tr>\n",
       "    <tr>\n",
       "      <th>2</th>\n",
       "      <td>Liam</td>\n",
       "      <td>78.9</td>\n",
       "    </tr>\n",
       "    <tr>\n",
       "      <th>3</th>\n",
       "      <td>Jhon</td>\n",
       "      <td>56.4</td>\n",
       "    </tr>\n",
       "  </tbody>\n",
       "</table>\n",
       "</div>"
      ],
      "text/plain": [
       "       Name  Percentage\n",
       "1  Benjamin        66.8\n",
       "2      Liam        78.9\n",
       "3      Jhon        56.4"
      ]
     },
     "execution_count": 116,
     "metadata": {},
     "output_type": "execute_result"
    }
   ],
   "source": [
    "df3.loc[:3,['Name','Percentage']]"
   ]
  },
  {
   "cell_type": "code",
   "execution_count": 117,
   "id": "08ada8cd",
   "metadata": {},
   "outputs": [
    {
     "data": {
      "text/html": [
       "<div>\n",
       "<style scoped>\n",
       "    .dataframe tbody tr th:only-of-type {\n",
       "        vertical-align: middle;\n",
       "    }\n",
       "\n",
       "    .dataframe tbody tr th {\n",
       "        vertical-align: top;\n",
       "    }\n",
       "\n",
       "    .dataframe thead th {\n",
       "        text-align: right;\n",
       "    }\n",
       "</style>\n",
       "<table border=\"1\" class=\"dataframe\">\n",
       "  <thead>\n",
       "    <tr style=\"text-align: right;\">\n",
       "      <th></th>\n",
       "      <th>Roll_no</th>\n",
       "      <th>Name</th>\n",
       "      <th>Percentage</th>\n",
       "    </tr>\n",
       "  </thead>\n",
       "  <tbody>\n",
       "    <tr>\n",
       "      <th>1</th>\n",
       "      <td>1</td>\n",
       "      <td>Benjamin</td>\n",
       "      <td>66.80</td>\n",
       "    </tr>\n",
       "    <tr>\n",
       "      <th>2</th>\n",
       "      <td>2</td>\n",
       "      <td>Liam</td>\n",
       "      <td>78.90</td>\n",
       "    </tr>\n",
       "    <tr>\n",
       "      <th>3</th>\n",
       "      <td>3</td>\n",
       "      <td>Jhon</td>\n",
       "      <td>56.40</td>\n",
       "    </tr>\n",
       "    <tr>\n",
       "      <th>4</th>\n",
       "      <td>4</td>\n",
       "      <td>Smith</td>\n",
       "      <td>61.50</td>\n",
       "    </tr>\n",
       "    <tr>\n",
       "      <th>5</th>\n",
       "      <td>5</td>\n",
       "      <td>Warner</td>\n",
       "      <td>75.60</td>\n",
       "    </tr>\n",
       "    <tr>\n",
       "      <th>6</th>\n",
       "      <td>6</td>\n",
       "      <td>David</td>\n",
       "      <td>80.60</td>\n",
       "    </tr>\n",
       "    <tr>\n",
       "      <th>7</th>\n",
       "      <td>7</td>\n",
       "      <td>Micheal</td>\n",
       "      <td>51.78</td>\n",
       "    </tr>\n",
       "    <tr>\n",
       "      <th>8</th>\n",
       "      <td>8</td>\n",
       "      <td>James</td>\n",
       "      <td>51.78</td>\n",
       "    </tr>\n",
       "    <tr>\n",
       "      <th>9</th>\n",
       "      <td>9</td>\n",
       "      <td>Dennis</td>\n",
       "      <td>85.50</td>\n",
       "    </tr>\n",
       "    <tr>\n",
       "      <th>10</th>\n",
       "      <td>10</td>\n",
       "      <td>Rossum</td>\n",
       "      <td>70.56</td>\n",
       "    </tr>\n",
       "  </tbody>\n",
       "</table>\n",
       "</div>"
      ],
      "text/plain": [
       "    Roll_no      Name  Percentage\n",
       "1         1  Benjamin       66.80\n",
       "2         2      Liam       78.90\n",
       "3         3      Jhon       56.40\n",
       "4         4     Smith       61.50\n",
       "5         5    Warner       75.60\n",
       "6         6     David       80.60\n",
       "7         7   Micheal       51.78\n",
       "8         8     James       51.78\n",
       "9         9    Dennis       85.50\n",
       "10       10    Rossum       70.56"
      ]
     },
     "execution_count": 117,
     "metadata": {},
     "output_type": "execute_result"
    }
   ],
   "source": [
    "df3"
   ]
  },
  {
   "cell_type": "code",
   "execution_count": 118,
   "id": "cddb680a",
   "metadata": {},
   "outputs": [],
   "source": [
    "condition = df3['Percentage']>70"
   ]
  },
  {
   "cell_type": "code",
   "execution_count": 119,
   "id": "54497dac",
   "metadata": {},
   "outputs": [
    {
     "data": {
      "text/html": [
       "<div>\n",
       "<style scoped>\n",
       "    .dataframe tbody tr th:only-of-type {\n",
       "        vertical-align: middle;\n",
       "    }\n",
       "\n",
       "    .dataframe tbody tr th {\n",
       "        vertical-align: top;\n",
       "    }\n",
       "\n",
       "    .dataframe thead th {\n",
       "        text-align: right;\n",
       "    }\n",
       "</style>\n",
       "<table border=\"1\" class=\"dataframe\">\n",
       "  <thead>\n",
       "    <tr style=\"text-align: right;\">\n",
       "      <th></th>\n",
       "      <th>Roll_no</th>\n",
       "      <th>Name</th>\n",
       "      <th>Percentage</th>\n",
       "    </tr>\n",
       "  </thead>\n",
       "  <tbody>\n",
       "    <tr>\n",
       "      <th>2</th>\n",
       "      <td>2</td>\n",
       "      <td>Liam</td>\n",
       "      <td>78.90</td>\n",
       "    </tr>\n",
       "    <tr>\n",
       "      <th>5</th>\n",
       "      <td>5</td>\n",
       "      <td>Warner</td>\n",
       "      <td>75.60</td>\n",
       "    </tr>\n",
       "    <tr>\n",
       "      <th>6</th>\n",
       "      <td>6</td>\n",
       "      <td>David</td>\n",
       "      <td>80.60</td>\n",
       "    </tr>\n",
       "    <tr>\n",
       "      <th>9</th>\n",
       "      <td>9</td>\n",
       "      <td>Dennis</td>\n",
       "      <td>85.50</td>\n",
       "    </tr>\n",
       "    <tr>\n",
       "      <th>10</th>\n",
       "      <td>10</td>\n",
       "      <td>Rossum</td>\n",
       "      <td>70.56</td>\n",
       "    </tr>\n",
       "  </tbody>\n",
       "</table>\n",
       "</div>"
      ],
      "text/plain": [
       "    Roll_no    Name  Percentage\n",
       "2         2    Liam       78.90\n",
       "5         5  Warner       75.60\n",
       "6         6   David       80.60\n",
       "9         9  Dennis       85.50\n",
       "10       10  Rossum       70.56"
      ]
     },
     "execution_count": 119,
     "metadata": {},
     "output_type": "execute_result"
    }
   ],
   "source": [
    "df3[condition]"
   ]
  },
  {
   "cell_type": "code",
   "execution_count": null,
   "id": "672290b8",
   "metadata": {},
   "outputs": [],
   "source": []
  }
 ],
 "metadata": {
  "kernelspec": {
   "display_name": "Python 3 (ipykernel)",
   "language": "python",
   "name": "python3"
  },
  "language_info": {
   "codemirror_mode": {
    "name": "ipython",
    "version": 3
   },
   "file_extension": ".py",
   "mimetype": "text/x-python",
   "name": "python",
   "nbconvert_exporter": "python",
   "pygments_lexer": "ipython3",
   "version": "3.11.5"
  }
 },
 "nbformat": 4,
 "nbformat_minor": 5
}
