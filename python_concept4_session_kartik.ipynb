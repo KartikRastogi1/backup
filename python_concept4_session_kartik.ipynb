{
 "cells": [
  {
   "cell_type": "code",
   "execution_count": 1,
   "id": "f2971231",
   "metadata": {},
   "outputs": [
    {
     "name": "stdout",
     "output_type": "stream",
     "text": [
      "1\n",
      "2\n",
      "3\n",
      "4\n",
      "5\n",
      "6\n",
      "7\n",
      "8\n",
      "9\n"
     ]
    }
   ],
   "source": [
    "num = 10\n",
    "i=1\n",
    "while i<num:                    #run till 9\n",
    "    print(i)\n",
    "    i=i+1                       #incrementing by 1"
   ]
  },
  {
   "cell_type": "code",
   "execution_count": null,
   "id": "6c69d785",
   "metadata": {},
   "outputs": [],
   "source": [
    "#number multiple of 8"
   ]
  },
  {
   "cell_type": "code",
   "execution_count": 8,
   "id": "496547d5",
   "metadata": {},
   "outputs": [
    {
     "name": "stdout",
     "output_type": "stream",
     "text": [
      "8\n",
      "16\n",
      "24\n",
      "32\n",
      "40\n",
      "48\n",
      "56\n",
      "64\n",
      "72\n",
      "80\n"
     ]
    }
   ],
   "source": [
    "n=11\n",
    "i=1\n",
    "while i<n:\n",
    "    print(i*8)\n",
    "    i=i+1\n",
    "   "
   ]
  },
  {
   "cell_type": "code",
   "execution_count": 11,
   "id": "223f745f",
   "metadata": {},
   "outputs": [
    {
     "name": "stdout",
     "output_type": "stream",
     "text": [
      "anil\n",
      "ramesh\n",
      "hello\n"
     ]
    }
   ],
   "source": [
    "i=0\n",
    "while i<len(li):\n",
    "    if type(li[i])==str:\n",
    "        print(li[i])\n",
    "    i=i+1"
   ]
  },
  {
   "cell_type": "code",
   "execution_count": 1,
   "id": "3b1e4ad3",
   "metadata": {},
   "outputs": [],
   "source": [
    "li=['anil',12,'ramesh','hello',23]"
   ]
  },
  {
   "cell_type": "code",
   "execution_count": 9,
   "id": "f4955ba2",
   "metadata": {},
   "outputs": [
    {
     "data": {
      "text/plain": [
       "12"
      ]
     },
     "execution_count": 9,
     "metadata": {},
     "output_type": "execute_result"
    }
   ],
   "source": [
    "li[1]"
   ]
  },
  {
   "cell_type": "code",
   "execution_count": null,
   "id": "894ca350",
   "metadata": {},
   "outputs": [],
   "source": [
    "#finding the sum of first 5 odd numbers\n",
    "1+3+5+7+9"
   ]
  },
  {
   "cell_type": "code",
   "execution_count": 16,
   "id": "76708040",
   "metadata": {},
   "outputs": [],
   "source": [
    "i=1\n",
    "ct=0\n",
    "total=0"
   ]
  },
  {
   "cell_type": "code",
   "execution_count": 17,
   "id": "9d752277",
   "metadata": {},
   "outputs": [
    {
     "name": "stdout",
     "output_type": "stream",
     "text": [
      "25\n"
     ]
    }
   ],
   "source": [
    "while ct<5:\n",
    "    if i%2==1:\n",
    "        total = total+i\n",
    "        ct=ct+1\n",
    "    i=i+1\n",
    "print(total)"
   ]
  },
  {
   "cell_type": "code",
   "execution_count": 5,
   "id": "e1fac013",
   "metadata": {},
   "outputs": [
    {
     "data": {
      "text/plain": [
       "['anil', 12, 'ramesh', 'hello', 23]"
      ]
     },
     "execution_count": 5,
     "metadata": {},
     "output_type": "execute_result"
    }
   ],
   "source": [
    "li"
   ]
  },
  {
   "cell_type": "code",
   "execution_count": 6,
   "id": "561370db",
   "metadata": {},
   "outputs": [],
   "source": [
    "iterator = iter(li)           #An iterator is an object that contains a countable number of values.\n",
    "\n",
    "                             #An iterator is an object that can be iterated upon, meaning that you can traverse through all the values.\n",
    "\n",
    "                 #Technically, in Python, an iterator is an object which implements the iterator protocol, which consist of the methods"
   ]
  },
  {
   "cell_type": "code",
   "execution_count": 7,
   "id": "8211fd8b",
   "metadata": {},
   "outputs": [
    {
     "data": {
      "text/plain": [
       "<list_iterator at 0x229798ad600>"
      ]
     },
     "execution_count": 7,
     "metadata": {},
     "output_type": "execute_result"
    }
   ],
   "source": [
    "iterator"
   ]
  },
  {
   "cell_type": "code",
   "execution_count": 8,
   "id": "3b56f1d8",
   "metadata": {},
   "outputs": [
    {
     "data": {
      "text/plain": [
       "'anil'"
      ]
     },
     "execution_count": 8,
     "metadata": {},
     "output_type": "execute_result"
    }
   ],
   "source": [
    "next(iterator)"
   ]
  },
  {
   "cell_type": "code",
   "execution_count": 9,
   "id": "df5f4b65",
   "metadata": {},
   "outputs": [
    {
     "data": {
      "text/plain": [
       "12"
      ]
     },
     "execution_count": 9,
     "metadata": {},
     "output_type": "execute_result"
    }
   ],
   "source": [
    "next(iterator)"
   ]
  },
  {
   "cell_type": "code",
   "execution_count": 10,
   "id": "659fcb9e",
   "metadata": {},
   "outputs": [
    {
     "data": {
      "text/plain": [
       "'ramesh'"
      ]
     },
     "execution_count": 10,
     "metadata": {},
     "output_type": "execute_result"
    }
   ],
   "source": [
    "next(iterator)"
   ]
  },
  {
   "cell_type": "code",
   "execution_count": 11,
   "id": "6bdb7907",
   "metadata": {},
   "outputs": [
    {
     "data": {
      "text/plain": [
       "'hello'"
      ]
     },
     "execution_count": 11,
     "metadata": {},
     "output_type": "execute_result"
    }
   ],
   "source": [
    "next(iterator)"
   ]
  },
  {
   "cell_type": "code",
   "execution_count": 12,
   "id": "bf492a75",
   "metadata": {},
   "outputs": [
    {
     "data": {
      "text/plain": [
       "23"
      ]
     },
     "execution_count": 12,
     "metadata": {},
     "output_type": "execute_result"
    }
   ],
   "source": [
    "next(iterator)"
   ]
  },
  {
   "cell_type": "code",
   "execution_count": 13,
   "id": "23055f59",
   "metadata": {},
   "outputs": [
    {
     "ename": "StopIteration",
     "evalue": "",
     "output_type": "error",
     "traceback": [
      "\u001b[1;31m---------------------------------------------------------------------------\u001b[0m",
      "\u001b[1;31mStopIteration\u001b[0m                             Traceback (most recent call last)",
      "Cell \u001b[1;32mIn[13], line 1\u001b[0m\n\u001b[1;32m----> 1\u001b[0m \u001b[38;5;28mnext\u001b[39m(iterator)\n",
      "\u001b[1;31mStopIteration\u001b[0m: "
     ]
    }
   ],
   "source": [
    "next(iterator)"
   ]
  },
  {
   "cell_type": "code",
   "execution_count": 24,
   "id": "8c19ff39",
   "metadata": {},
   "outputs": [],
   "source": [
    "tup1 = ('Anil',12, 'Sunil','Ramesh','salman', 12, 'sameer',90.13)\n"
   ]
  },
  {
   "cell_type": "code",
   "execution_count": 25,
   "id": "2e8d9fe3",
   "metadata": {},
   "outputs": [
    {
     "data": {
      "text/plain": [
       "('Anil', 12, 'Sunil', 'Ramesh', 'salman', 12, 'sameer', 90.13)"
      ]
     },
     "execution_count": 25,
     "metadata": {},
     "output_type": "execute_result"
    }
   ],
   "source": [
    "tup1"
   ]
  },
  {
   "cell_type": "code",
   "execution_count": 26,
   "id": "1d491521",
   "metadata": {},
   "outputs": [
    {
     "data": {
      "text/plain": [
       "('Anil', 12, 'Sunil', 'Ramesh')"
      ]
     },
     "execution_count": 26,
     "metadata": {},
     "output_type": "execute_result"
    }
   ],
   "source": [
    "tup1[0:4]"
   ]
  },
  {
   "cell_type": "code",
   "execution_count": 27,
   "id": "efc05de4",
   "metadata": {},
   "outputs": [
    {
     "data": {
      "text/plain": [
       "(90.13, 'sameer', 12, 'salman', 'Ramesh', 'Sunil', 12, 'Anil')"
      ]
     },
     "execution_count": 27,
     "metadata": {},
     "output_type": "execute_result"
    }
   ],
   "source": [
    "tup1[::-1]"
   ]
  },
  {
   "cell_type": "code",
   "execution_count": 28,
   "id": "0f889dc6",
   "metadata": {},
   "outputs": [],
   "source": [
    "s1={1,3,2,4,5,7,2,3,5,6,7,8,6}          #set()"
   ]
  },
  {
   "cell_type": "code",
   "execution_count": 29,
   "id": "96fae866",
   "metadata": {},
   "outputs": [],
   "source": [
    "s1.add(10)"
   ]
  },
  {
   "cell_type": "code",
   "execution_count": 30,
   "id": "597fd4d3",
   "metadata": {},
   "outputs": [
    {
     "data": {
      "text/plain": [
       "{1, 2, 3, 4, 5, 6, 7, 8, 10}"
      ]
     },
     "execution_count": 30,
     "metadata": {},
     "output_type": "execute_result"
    }
   ],
   "source": [
    "s1"
   ]
  },
  {
   "cell_type": "code",
   "execution_count": 31,
   "id": "e634fc13",
   "metadata": {},
   "outputs": [],
   "source": [
    "s1.remove(5)"
   ]
  },
  {
   "cell_type": "code",
   "execution_count": 32,
   "id": "fad5ffd4",
   "metadata": {},
   "outputs": [
    {
     "data": {
      "text/plain": [
       "{1, 2, 3, 4, 6, 7, 8, 10}"
      ]
     },
     "execution_count": 32,
     "metadata": {},
     "output_type": "execute_result"
    }
   ],
   "source": [
    "s1"
   ]
  },
  {
   "cell_type": "code",
   "execution_count": 10,
   "id": "2878324d",
   "metadata": {},
   "outputs": [
    {
     "data": {
      "text/plain": [
       "{'k1': 129, 'k2': 231, 'k3': 543, 'k4': 879}"
      ]
     },
     "execution_count": 10,
     "metadata": {},
     "output_type": "execute_result"
    }
   ],
   "source": [
    "d1 = {'k1':129, 'k2':231, \"k3\":543, \"k4\":879}\n",
    "d1"
   ]
  },
  {
   "cell_type": "code",
   "execution_count": 11,
   "id": "3fec1e94",
   "metadata": {},
   "outputs": [
    {
     "data": {
      "text/plain": [
       "543"
      ]
     },
     "execution_count": 11,
     "metadata": {},
     "output_type": "execute_result"
    }
   ],
   "source": [
    "d1['k3']"
   ]
  },
  {
   "cell_type": "code",
   "execution_count": 16,
   "id": "a8d26cb0",
   "metadata": {},
   "outputs": [
    {
     "data": {
      "text/plain": [
       "1782"
      ]
     },
     "execution_count": 16,
     "metadata": {},
     "output_type": "execute_result"
    }
   ],
   "source": [
    "sum(d1.values())"
   ]
  },
  {
   "cell_type": "code",
   "execution_count": 35,
   "id": "d3830b02",
   "metadata": {},
   "outputs": [
    {
     "data": {
      "text/plain": [
       "dict_keys(['k1', 'k2', 'k3', 'k4'])"
      ]
     },
     "execution_count": 35,
     "metadata": {},
     "output_type": "execute_result"
    }
   ],
   "source": [
    "d1.keys()"
   ]
  },
  {
   "cell_type": "code",
   "execution_count": 37,
   "id": "c3a7c64c",
   "metadata": {},
   "outputs": [
    {
     "data": {
      "text/plain": [
       "dict_values([129, 231, 543, 879])"
      ]
     },
     "execution_count": 37,
     "metadata": {},
     "output_type": "execute_result"
    }
   ],
   "source": [
    "d1.values()"
   ]
  },
  {
   "cell_type": "code",
   "execution_count": 38,
   "id": "a3d85e2b",
   "metadata": {},
   "outputs": [
    {
     "data": {
      "text/plain": [
       "dict_items([('k1', 129), ('k2', 231), ('k3', 543), ('k4', 879)])"
      ]
     },
     "execution_count": 38,
     "metadata": {},
     "output_type": "execute_result"
    }
   ],
   "source": [
    "d1.items()"
   ]
  },
  {
   "cell_type": "code",
   "execution_count": 27,
   "id": "d9732d33",
   "metadata": {},
   "outputs": [
    {
     "name": "stdout",
     "output_type": "stream",
     "text": [
      "129\n",
      "231\n",
      "543\n",
      "879\n"
     ]
    }
   ],
   "source": [
    "for _, i in d1.items():\n",
    "    print(i)"
   ]
  },
  {
   "cell_type": "code",
   "execution_count": 46,
   "id": "6ebf1f22",
   "metadata": {},
   "outputs": [
    {
     "name": "stdout",
     "output_type": "stream",
     "text": [
      "129 k1\n",
      "231 k2\n",
      "543 k3\n",
      "879 k4\n"
     ]
    }
   ],
   "source": [
    "for a,i in d1.items():\n",
    "    print(i,a)"
   ]
  },
  {
   "cell_type": "code",
   "execution_count": 47,
   "id": "30e0cabb",
   "metadata": {},
   "outputs": [],
   "source": [
    "li1=[12,4,3,5,6,4,3,7,9,0,4,2,65,7,90]"
   ]
  },
  {
   "cell_type": "code",
   "execution_count": 29,
   "id": "acae6d5d",
   "metadata": {},
   "outputs": [
    {
     "name": "stdout",
     "output_type": "stream",
     "text": [
      "0\n",
      "1\n",
      "2\n",
      "3\n",
      "4\n",
      "5\n",
      "6\n"
     ]
    }
   ],
   "source": [
    "for i in range(0,11):\n",
    "    if i ==7:\n",
    "        break\n",
    "    print(i)"
   ]
  },
  {
   "cell_type": "code",
   "execution_count": 50,
   "id": "ed2ab903",
   "metadata": {},
   "outputs": [
    {
     "name": "stdout",
     "output_type": "stream",
     "text": [
      "0\n",
      "1\n",
      "2\n",
      "3\n",
      "4\n",
      "5\n",
      "6\n",
      "8\n",
      "9\n",
      "10\n"
     ]
    }
   ],
   "source": [
    "for i in range(0,11):\n",
    "    if i ==7:\n",
    "        continue                  #skip 7 and continue\n",
    "    print(i)"
   ]
  },
  {
   "cell_type": "code",
   "execution_count": 31,
   "id": "f68e0d57",
   "metadata": {},
   "outputs": [
    {
     "data": {
      "text/plain": [
       "[0, 1, 8, 27, 64, 125, 216, 343, 512, 729, 1000]"
      ]
     },
     "execution_count": 31,
     "metadata": {},
     "output_type": "execute_result"
    }
   ],
   "source": [
    "[i**3 for i in range(0,11)]                               #cube of numbers till 10"
   ]
  },
  {
   "cell_type": "code",
   "execution_count": 52,
   "id": "cd23863f",
   "metadata": {},
   "outputs": [
    {
     "data": {
      "text/plain": [
       "['anil', 12, 'ramesh', 'hello', 23]"
      ]
     },
     "execution_count": 52,
     "metadata": {},
     "output_type": "execute_result"
    }
   ],
   "source": [
    "li"
   ]
  },
  {
   "cell_type": "code",
   "execution_count": 56,
   "id": "c48d31fc",
   "metadata": {},
   "outputs": [
    {
     "data": {
      "text/plain": [
       "{'anil': 'lina', 12: '21', 'ramesh': 'hsemar', 'hello': 'olleh', 23: '32'}"
      ]
     },
     "execution_count": 56,
     "metadata": {},
     "output_type": "execute_result"
    }
   ],
   "source": [
    "{x: str(x)[::-1] for x in li}            #dictionary comprehension"
   ]
  },
  {
   "cell_type": "code",
   "execution_count": 61,
   "id": "77352b56",
   "metadata": {},
   "outputs": [
    {
     "data": {
      "text/plain": [
       "{'anil': 4, 12: 2, 'ramesh': 6, 'hello': 5, 23: 2}"
      ]
     },
     "execution_count": 61,
     "metadata": {},
     "output_type": "execute_result"
    }
   ],
   "source": [
    "{x: len(str(x)[::-1]) for x in li}"
   ]
  },
  {
   "cell_type": "code",
   "execution_count": 1,
   "id": "14e966be",
   "metadata": {},
   "outputs": [
    {
     "name": "stdout",
     "output_type": "stream",
     "text": [
      "{('Manjeet', 4), ('Nikhil', 1), ('Astha', 2), ('Shambhavi', 3)}\n"
     ]
    }
   ],
   "source": [
    "name = [ \"Manjeet\", \"Nikhil\", \"Shambhavi\", \"Astha\" ]                        \n",
    "roll_no = [ 4, 1, 3, 2 ]  \n",
    " \n",
    "# using zip() to map values\n",
    "mapped = zip(name, roll_no)\n",
    " \n",
    "print(set(mapped)) "
   ]
  },
  {
   "cell_type": "code",
   "execution_count": null,
   "id": "d58829ef",
   "metadata": {},
   "outputs": [],
   "source": []
  }
 ],
 "metadata": {
  "kernelspec": {
   "display_name": "Python 3 (ipykernel)",
   "language": "python",
   "name": "python3"
  },
  "language_info": {
   "codemirror_mode": {
    "name": "ipython",
    "version": 3
   },
   "file_extension": ".py",
   "mimetype": "text/x-python",
   "name": "python",
   "nbconvert_exporter": "python",
   "pygments_lexer": "ipython3",
   "version": "3.11.5"
  }
 },
 "nbformat": 4,
 "nbformat_minor": 5
}
