{
 "cells": [
  {
   "cell_type": "markdown",
   "id": "e95098ae",
   "metadata": {},
   "source": [
    "43). Write a Python program that uses a for loop to iterate over a list of words and count the number of \n",
    "words that start with the letter 'a'."
   ]
  },
  {
   "cell_type": "code",
   "execution_count": 7,
   "id": "78df5718",
   "metadata": {},
   "outputs": [
    {
     "name": "stdout",
     "output_type": "stream",
     "text": [
      "list= ['apple', 'anika', 'and', 'hello', 'book']\n",
      " \n",
      "The number of words that start with the letter 'a' is 3\n"
     ]
    }
   ],
   "source": [
    "word = [\"apple\",\"anika\",\"and\",\"hello\",\"book\"]\n",
    "count= 0\n",
    "for i in word:\n",
    "    if i[0]=='a':\n",
    "        count=count+1\n",
    "print(\"list=\",word)\n",
    "print(\" \")\n",
    "print(\"The number of words that start with the letter 'a' is\",count)"
   ]
  },
  {
   "cell_type": "code",
   "execution_count": null,
   "id": "b610c8a7",
   "metadata": {},
   "outputs": [],
   "source": []
  }
 ],
 "metadata": {
  "kernelspec": {
   "display_name": "Python 3 (ipykernel)",
   "language": "python",
   "name": "python3"
  },
  "language_info": {
   "codemirror_mode": {
    "name": "ipython",
    "version": 3
   },
   "file_extension": ".py",
   "mimetype": "text/x-python",
   "name": "python",
   "nbconvert_exporter": "python",
   "pygments_lexer": "ipython3",
   "version": "3.11.5"
  }
 },
 "nbformat": 4,
 "nbformat_minor": 5
}
