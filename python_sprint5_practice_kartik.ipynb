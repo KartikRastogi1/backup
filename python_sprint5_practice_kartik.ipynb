{
 "cells": [
  {
   "cell_type": "markdown",
   "id": "0aa7acf5",
   "metadata": {},
   "source": [
    "Task 1: Checking if a word is a palindrome\n",
    "Create a user-defined function to accept a word from the user and check if the word is a palindrome or not.\n",
    "Note: Palindromes are the words that read the same backward and forward e.g. madam, mom, dad etc.\n",
    "The word \"madam\" is a palindrome as it spells the same even after reversing. The word \"CAT\" is not a palindrome, since \"TAC\" would be the reverse of \"CAT\" and they are not spelled the same."
   ]
  },
  {
   "cell_type": "code",
   "execution_count": 2,
   "id": "bd4a042b",
   "metadata": {},
   "outputs": [],
   "source": [
    "def palindrome():\n",
    "    word=input('enter a word:')\n",
    "    word=word.upper()\n",
    "    if word==word[::-1]:\n",
    "        print(\"yes It is a palindrome\")\n",
    "    else:\n",
    "        print(\"It is not a palindrome\")"
   ]
  },
  {
   "cell_type": "code",
   "execution_count": 6,
   "id": "470988aa",
   "metadata": {},
   "outputs": [
    {
     "name": "stdout",
     "output_type": "stream",
     "text": [
      "enter a word:mom\n",
      "yes It is a palindrome\n"
     ]
    }
   ],
   "source": [
    "palindrome()"
   ]
  },
  {
   "cell_type": "markdown",
   "id": "8038ed60",
   "metadata": {},
   "source": [
    "Task 2: Sorting words\n",
    "Create a user-defined function to accept multiple words from the user and store them in a list. Sort the words in the list in alphabetical order and print them.\n",
    "Sample Input: [zebra, cat, ant] Sample Output: [ant, cat, zebra]"
   ]
  },
  {
   "cell_type": "code",
   "execution_count": 3,
   "id": "639462b8",
   "metadata": {},
   "outputs": [],
   "source": [
    "def function():\n",
    "    b=[]\n",
    "    for i in range(3):\n",
    "        a=input(\"enter words:\")\n",
    "        b.append(a)\n",
    "    print(sorted(b))"
   ]
  },
  {
   "cell_type": "code",
   "execution_count": 73,
   "id": "dce85f4c",
   "metadata": {},
   "outputs": [
    {
     "name": "stdout",
     "output_type": "stream",
     "text": [
      "enter words:zebra\n",
      "enter words:cat\n",
      "enter words:ant\n",
      "['ant', 'cat', 'zebra']\n"
     ]
    }
   ],
   "source": [
    "function()"
   ]
  },
  {
   "cell_type": "markdown",
   "id": "99c9f3ae",
   "metadata": {},
   "source": [
    "Task 3: Converting characters to a string Create a user-defined function to accept user input as a list of characters. Convert the list of characters into a string and display the output.\n",
    "Sample Input: ['A', 'l', 'p', 'h', 'a']\n",
    "Sample Output: Alpha\n",
    "Hint: Consider exploring how to use the join() function."
   ]
  },
  {
   "cell_type": "code",
   "execution_count": 118,
   "id": "f423bd00",
   "metadata": {},
   "outputs": [],
   "source": [
    "def string():\n",
    "    x=[]\n",
    "    for i in range(5):\n",
    "        y=input(\"enter a list:\")\n",
    "        x.append(y)\n",
    "    return x"
   ]
  },
  {
   "cell_type": "code",
   "execution_count": 119,
   "id": "26e0d415",
   "metadata": {},
   "outputs": [
    {
     "name": "stdout",
     "output_type": "stream",
     "text": [
      "enter a list:a\n",
      "enter a list:l\n",
      "enter a list:p\n",
      "enter a list:h\n",
      "enter a list:a\n"
     ]
    },
    {
     "data": {
      "text/plain": [
       "'alpha'"
      ]
     },
     "execution_count": 119,
     "metadata": {},
     "output_type": "execute_result"
    }
   ],
   "source": [
    "\"\".join(string())"
   ]
  },
  {
   "cell_type": "markdown",
   "id": "a23e0477",
   "metadata": {},
   "source": [
    "Task 4: Picking the largest and smallest elements\n",
    "Create a user-defined function to allow the user to input 10 numbers and save them in a list. Print the smallest and the largest numbers from this list.\n",
    "Sample input:\n",
    "Data = [3,4,1,0, -31, 20, 40]\n",
    "Sample output:\n",
    "Min = -31\n",
    "Max =40"
   ]
  },
  {
   "cell_type": "code",
   "execution_count": 30,
   "id": "330737c5",
   "metadata": {},
   "outputs": [
    {
     "name": "stdout",
     "output_type": "stream",
     "text": [
      "enter numbers:1\n",
      "enter numbers:2\n",
      "enter numbers:3\n",
      "enter numbers:4\n",
      "enter numbers:5\n",
      "enter numbers:6\n",
      "enter numbers:7\n",
      "enter numbers:8\n",
      "enter numbers:9\n",
      "enter numbers:10\n",
      "l1 = [1, 2, 3, 4, 5, 6, 7, 8, 9, 10]\n",
      "minimum number: 1\n",
      "maximum number: 10\n"
     ]
    }
   ],
   "source": [
    "l1=[]\n",
    "def fun():\n",
    "    for i in range(10):\n",
    "        l2=int(input(\"enter numbers:\"))\n",
    "        l1.append(l2)\n",
    "    x=min(l1)\n",
    "    y=max(l1)\n",
    "    print(\"l1 =\",l1)\n",
    "    print(\"minimum number:\",x)\n",
    "    print(\"maximum number:\",y)\n",
    "fun() "
   ]
  },
  {
   "cell_type": "markdown",
   "id": "554c9a35",
   "metadata": {},
   "source": [
    "Task 5: Create a user-defined function to accept input from the user to populate a dictionary, using the following data:\n",
    "Item1 45.50\n",
    "item2 35\n",
    "item3 41.30\n",
    "item4 29\n",
    "item5 49.89\n",
    "Identify the maximum and minimum values from the dictionary.\n",
    "The output should be:\n",
    "Max value: 49.89\n",
    "Min value: 29"
   ]
  },
  {
   "cell_type": "code",
   "execution_count": 31,
   "id": "0f65c06b",
   "metadata": {},
   "outputs": [
    {
     "name": "stdout",
     "output_type": "stream",
     "text": [
      "enter number of items:3\n",
      "enter key items:k\n",
      "enter values:23\n",
      "d1= {'k': 23}\n",
      "minimum value: 23\n",
      "maximum value: 23\n",
      "enter key items:l\n",
      "enter values:45\n",
      "d1= {'k': 23, 'l': 45}\n",
      "minimum value: 23\n",
      "maximum value: 45\n",
      "enter key items:m\n",
      "enter values:56\n",
      "d1= {'k': 23, 'l': 45, 'm': 56}\n",
      "minimum value: 23\n",
      "maximum value: 56\n"
     ]
    }
   ],
   "source": [
    "d1={}\n",
    "def accept():\n",
    "    n = int(input(\"enter number of items:\"))\n",
    "    for i in range(n):\n",
    "        key =input(\"enter key items:\")\n",
    "        value= int(input(\"enter values:\"))\n",
    "        d1[key]=value\n",
    "        x=min(d1.values())\n",
    "        y=max(d1.values())\n",
    "        print(\"d1=\",d1)\n",
    "        print(\"minimum value:\",x)\n",
    "        print(\"maximum value:\",y)\n",
    "accept()\n",
    "        "
   ]
  },
  {
   "cell_type": "markdown",
   "id": "1a2d93d3",
   "metadata": {},
   "source": [
    "Task 6: Generating a profile card\n",
    "Write a program to create a profile card of a person.\n",
    "Create a user-defined function f1() to accept input from the user to store the name, age, gender, and occupation as local variable. Create another user-defined function f2) to print the values entered by the user earlier and generate a profile card. Function f2() will be called from f1().\n",
    "Sample output:\n",
    "Name: John Matthew\n",
    "Age: 40\n",
    "Gender: Male\n",
    "Occupation: HR"
   ]
  },
  {
   "cell_type": "code",
   "execution_count": 42,
   "id": "02bd831b",
   "metadata": {},
   "outputs": [
    {
     "name": "stdout",
     "output_type": "stream",
     "text": [
      "Name:kartik\n",
      "Age:22\n",
      "Gender:male\n",
      "Occupation:data analyst\n",
      "\n",
      "Name: kartik\n",
      "Age:  22\n",
      "Gender:  male\n",
      "Occupation:  data analyst\n"
     ]
    }
   ],
   "source": [
    "def f1():\n",
    "    a=input(\"Name:\")\n",
    "    b= input(\"Age:\")\n",
    "    c= input(\"Gender:\")\n",
    "    d= input(\"Occupation:\")\n",
    "    f2(a,b,c,d)\n",
    "def f2(a,b,c,d):\n",
    "    print(\"\")\n",
    "    print(\"Name:\",a)\n",
    "    print(\"Age: \",b)\n",
    "    print(\"Gender: \",c)\n",
    "    print(\"Occupation: \",d)\n",
    "    \n",
    "f1()    \n",
    "    "
   ]
  },
  {
   "cell_type": "markdown",
   "id": "21c682e0",
   "metadata": {},
   "source": [
    "Task 7: Sorting color frequency in tuples\n",
    " color = [('black', 4), ('green', 1), ('red', 5), ('blue', 2), ('yellow', 3)]\n",
    "Create a user-defined function to sort the data in the above list in ascending order. The output after sorting should be as follows:\n",
    "[('green', 1), (\"blue', 2), ('yellow', 3), (\"black', 4), ('red\", 5)]"
   ]
  },
  {
   "cell_type": "code",
   "execution_count": 32,
   "id": "e3d669da",
   "metadata": {},
   "outputs": [],
   "source": [
    "color = [('black', 4), ('green', 1), ('red', 5), ('blue', 2), ('yellow', 3)]"
   ]
  },
  {
   "cell_type": "code",
   "execution_count": 33,
   "id": "acd72390",
   "metadata": {},
   "outputs": [
    {
     "data": {
      "text/plain": [
       "[('green', 1), ('blue', 2), ('yellow', 3), ('black', 4), ('red', 5)]"
      ]
     },
     "execution_count": 33,
     "metadata": {},
     "output_type": "execute_result"
    }
   ],
   "source": [
    "sorted(color,key= lambda x:x[1])                                       #sorting using sorted() and lambda (with indexing)"
   ]
  },
  {
   "cell_type": "markdown",
   "id": "623e74e3",
   "metadata": {},
   "source": [
    "Task 8: Common data elements in two lists\n",
    "a = [\"Andy\", \"Mandy\", \"Sandy\"]\n",
    "b= [\"Handy\", \"Burgundy\", \"Mandy\"]\n",
    "Write a program to find the common element(s) in the two lists using Lambda expressions.\n",
    "Sample Input:\n",
    "a = [\"Ant\", \"Cat\", \"Mat\"\n",
    "b = [\"Bat\", \"Hat\", \"Ant'\"]\n",
    "Sample Output: [Ant]"
   ]
  },
  {
   "cell_type": "code",
   "execution_count": 39,
   "id": "fc9830be",
   "metadata": {},
   "outputs": [],
   "source": [
    "a=[\"Andy\",\"Mandy\",\"Sandy\"]\n",
    "b=[\"Handy\",\"Burgundy\",\"Mandy\"]"
   ]
  },
  {
   "cell_type": "code",
   "execution_count": 41,
   "id": "b8c51c8f",
   "metadata": {},
   "outputs": [
    {
     "data": {
      "text/plain": [
       "['Mandy']"
      ]
     },
     "execution_count": 41,
     "metadata": {},
     "output_type": "execute_result"
    }
   ],
   "source": [
    "list(filter(lambda x:x in a,b))                         #used to filter to find any common element in both the lists"
   ]
  },
  {
   "cell_type": "markdown",
   "id": "e0969efd",
   "metadata": {},
   "source": [
    "Task 9: Map function with Lambda expression\n",
    "c = [12,14, 14]\n",
    "d = [17,16,17]\n",
    "Write a Python program to add each element of list c with the corresponding element of list d, using the map function and Lambda expression.\n",
    "The output should be [29,30,31]."
   ]
  },
  {
   "cell_type": "code",
   "execution_count": 50,
   "id": "d46033fa",
   "metadata": {},
   "outputs": [],
   "source": [
    "c = [12,14, 14]\n",
    "d = [17,16,17]\n",
    "\n",
    "\n"
   ]
  },
  {
   "cell_type": "code",
   "execution_count": 55,
   "id": "31144d9d",
   "metadata": {},
   "outputs": [],
   "source": [
    "add=lambda c,d:c+d"
   ]
  },
  {
   "cell_type": "code",
   "execution_count": 56,
   "id": "ecd4b326",
   "metadata": {},
   "outputs": [
    {
     "data": {
      "text/plain": [
       "<function __main__.<lambda>(c, d)>"
      ]
     },
     "execution_count": 56,
     "metadata": {},
     "output_type": "execute_result"
    }
   ],
   "source": [
    "add"
   ]
  },
  {
   "cell_type": "code",
   "execution_count": 58,
   "id": "e2c91d25",
   "metadata": {},
   "outputs": [
    {
     "data": {
      "text/plain": [
       "[29, 30, 31]"
      ]
     },
     "execution_count": 58,
     "metadata": {},
     "output_type": "execute_result"
    }
   ],
   "source": [
    "list(map(add,c,d))                 #The map() function executes a specified function for each item in an iterable. The item is sent to the function as a parameter."
   ]
  },
  {
   "cell_type": "markdown",
   "id": "349cad3b",
   "metadata": {},
   "source": [
    "Task 10: Working with dates\n",
    "Develop a function that accepts the below mentioned date of birth and date of joining of an employee and determines if the employee is over 18 years of age. The function should accept dob and doj as two arguments and return True or False.\n",
    "dob=\"12-25-1991\" #date of birth\n",
    "doj= \"04-25-2020\" #date of joining the company\n",
    "The dates are in MM-DD-YYYY format.\n",
    "Hint: You are expected to only compare the year component in the dates to perform this task. Use the split function in string. For example,\n",
    "parts_of_date = dob.split(\"-\")"
   ]
  },
  {
   "cell_type": "code",
   "execution_count": 7,
   "id": "0698f44f",
   "metadata": {},
   "outputs": [
    {
     "data": {
      "text/plain": [
       "['04', '25', '2020']"
      ]
     },
     "execution_count": 7,
     "metadata": {},
     "output_type": "execute_result"
    }
   ],
   "source": [
    "dob=\"12-25-1991\"\n",
    "doj=\"04-25-2020\"\n",
    "dob.split('-')\n",
    "doj.split('-')\n",
    "    "
   ]
  },
  {
   "cell_type": "code",
   "execution_count": 8,
   "id": "ac46ba7c",
   "metadata": {},
   "outputs": [],
   "source": [
    "def string(dob,doj):\n",
    "    dob= dob.split('-')\n",
    "    doj= doj.split('-')\n",
    "    \n",
    "    dob_year = int(dob[-1])\n",
    "    doj_year = int(doj[-1])\n",
    "    age = doj_year-dob_year\n",
    "    print(age)"
   ]
  },
  {
   "cell_type": "code",
   "execution_count": 9,
   "id": "f4edfc3e",
   "metadata": {},
   "outputs": [
    {
     "name": "stdout",
     "output_type": "stream",
     "text": [
      "29\n"
     ]
    }
   ],
   "source": [
    "string(dob,doj)"
   ]
  },
  {
   "cell_type": "code",
   "execution_count": null,
   "id": "6e01044c",
   "metadata": {},
   "outputs": [],
   "source": []
  }
 ],
 "metadata": {
  "kernelspec": {
   "display_name": "Python 3 (ipykernel)",
   "language": "python",
   "name": "python3"
  },
  "language_info": {
   "codemirror_mode": {
    "name": "ipython",
    "version": 3
   },
   "file_extension": ".py",
   "mimetype": "text/x-python",
   "name": "python",
   "nbconvert_exporter": "python",
   "pygments_lexer": "ipython3",
   "version": "3.11.5"
  }
 },
 "nbformat": 4,
 "nbformat_minor": 5
}
