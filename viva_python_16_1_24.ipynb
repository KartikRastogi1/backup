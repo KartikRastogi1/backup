{
 "cells": [
  {
   "cell_type": "code",
   "execution_count": 1,
   "id": "9501fb30",
   "metadata": {},
   "outputs": [],
   "source": [
    "d1 ={ 'key1': 1,\"key2\":2,\"key3\":3,\"key4\":4}"
   ]
  },
  {
   "cell_type": "code",
   "execution_count": 2,
   "id": "2bb128c6",
   "metadata": {},
   "outputs": [
    {
     "data": {
      "text/plain": [
       "1"
      ]
     },
     "execution_count": 2,
     "metadata": {},
     "output_type": "execute_result"
    }
   ],
   "source": [
    "d1.get(\"key1\")"
   ]
  },
  {
   "cell_type": "code",
   "execution_count": 13,
   "id": "e65564f0",
   "metadata": {},
   "outputs": [
    {
     "data": {
      "text/plain": [
       "dict_keys(['key1', 'key2', 'key3', 'key4'])"
      ]
     },
     "execution_count": 13,
     "metadata": {},
     "output_type": "execute_result"
    }
   ],
   "source": [
    "d1.keys()"
   ]
  },
  {
   "cell_type": "code",
   "execution_count": 4,
   "id": "ac395f62",
   "metadata": {},
   "outputs": [
    {
     "data": {
      "text/plain": [
       "10"
      ]
     },
     "execution_count": 4,
     "metadata": {},
     "output_type": "execute_result"
    }
   ],
   "source": [
    "sum(d1.values())"
   ]
  },
  {
   "cell_type": "code",
   "execution_count": 2,
   "id": "499002ca",
   "metadata": {},
   "outputs": [
    {
     "name": "stdout",
     "output_type": "stream",
     "text": [
      "10\n"
     ]
    }
   ],
   "source": [
    "print(sum(d1.values()))\n"
   ]
  },
  {
   "cell_type": "code",
   "execution_count": null,
   "id": "473ebddf",
   "metadata": {},
   "outputs": [],
   "source": [
    "d2 = [1,2,3,4,5,]"
   ]
  },
  {
   "cell_type": "code",
   "execution_count": null,
   "id": "7d85cf70",
   "metadata": {},
   "outputs": [],
   "source": [
    "sum(d2)"
   ]
  },
  {
   "cell_type": "code",
   "execution_count": null,
   "id": "a91f9072",
   "metadata": {},
   "outputs": [],
   "source": [
    "my_tuple = (1, 2, 3)\n"
   ]
  },
  {
   "cell_type": "code",
   "execution_count": null,
   "id": "0014cd87",
   "metadata": {},
   "outputs": [],
   "source": [
    "sum(my_tuple)"
   ]
  },
  {
   "cell_type": "code",
   "execution_count": null,
   "id": "5cfc5a67",
   "metadata": {},
   "outputs": [],
   "source": [
    "a=[1,2,3,4,5,6]\n",
    "b=[2,3,4,5,6,7]\n",
    "c=[3,4,5,6,7,8]"
   ]
  },
  {
   "cell_type": "code",
   "execution_count": null,
   "id": "6b104607",
   "metadata": {},
   "outputs": [],
   "source": [
    "sum(a)"
   ]
  },
  {
   "cell_type": "code",
   "execution_count": null,
   "id": "a382c3e2",
   "metadata": {},
   "outputs": [],
   "source": [
    "add= lambda a,b,c:a+b+c"
   ]
  },
  {
   "cell_type": "code",
   "execution_count": null,
   "id": "6a8a30a3",
   "metadata": {},
   "outputs": [],
   "source": [
    "print(add)"
   ]
  },
  {
   "cell_type": "code",
   "execution_count": null,
   "id": "31fd8edd",
   "metadata": {},
   "outputs": [],
   "source": [
    "d =list(map(add,a,b,c))"
   ]
  },
  {
   "cell_type": "code",
   "execution_count": null,
   "id": "46a813dc",
   "metadata": {},
   "outputs": [],
   "source": [
    "print(d)"
   ]
  },
  {
   "cell_type": "code",
   "execution_count": null,
   "id": "d36206e1",
   "metadata": {},
   "outputs": [],
   "source": [
    "#concat three lists into one list"
   ]
  },
  {
   "cell_type": "code",
   "execution_count": null,
   "id": "a9dd81ff",
   "metadata": {},
   "outputs": [],
   "source": [
    "d=a+b+c"
   ]
  },
  {
   "cell_type": "code",
   "execution_count": null,
   "id": "8f9ba7d4",
   "metadata": {},
   "outputs": [],
   "source": [
    "print(d)"
   ]
  },
  {
   "cell_type": "code",
   "execution_count": null,
   "id": "d9369965",
   "metadata": {},
   "outputs": [],
   "source": [
    "tup1 = (1,2,3,4,5)\n"
   ]
  },
  {
   "cell_type": "code",
   "execution_count": null,
   "id": "b5968131",
   "metadata": {},
   "outputs": [],
   "source": [
    "sum(tup1)"
   ]
  },
  {
   "cell_type": "code",
   "execution_count": null,
   "id": "8160af08",
   "metadata": {},
   "outputs": [],
   "source": [
    "#print names which start with r\n"
   ]
  },
  {
   "cell_type": "code",
   "execution_count": null,
   "id": "5a4234d4",
   "metadata": {},
   "outputs": [],
   "source": [
    "l2 = [\"rahul\",\"arjun\",\"anika\"]"
   ]
  },
  {
   "cell_type": "code",
   "execution_count": null,
   "id": "9c3b5b84",
   "metadata": {},
   "outputs": [],
   "source": [
    "print(l2[0])"
   ]
  },
  {
   "cell_type": "code",
   "execution_count": null,
   "id": "c75069c5",
   "metadata": {},
   "outputs": [],
   "source": [
    "l2 = [\"rahul\", \"arjun\", \"nikhil\"]\n",
    "\n",
    "for word in l2:\n",
    "    if word.startswith('a'):\n",
    "        print(word)\n",
    "        break\n",
    "else:\n",
    "    print(\"No word with the letter 'r' found in the list.\")                                                \n",
    "\n",
    "                                                "
   ]
  },
  {
   "cell_type": "code",
   "execution_count": 5,
   "id": "391fb0b2",
   "metadata": {},
   "outputs": [],
   "source": [
    "d1 ={ 'key1': 1,\"key2\":2,\"key3\":3,\"key4\":4}"
   ]
  },
  {
   "cell_type": "code",
   "execution_count": 6,
   "id": "f7d9f72c",
   "metadata": {},
   "outputs": [],
   "source": [
    "d2={ 'key1': 2,\"key2\":4,\"key3\":6,\"key4\":8}"
   ]
  },
  {
   "cell_type": "code",
   "execution_count": 7,
   "id": "5b0a643f",
   "metadata": {},
   "outputs": [],
   "source": [
    "numperson ={}"
   ]
  },
  {
   "cell_type": "code",
   "execution_count": 8,
   "id": "896f37f1",
   "metadata": {},
   "outputs": [
    {
     "name": "stdout",
     "output_type": "stream",
     "text": [
      "10\n"
     ]
    }
   ],
   "source": [
    "add = sum(d1.values())\n",
    "print(add)"
   ]
  },
  {
   "cell_type": "code",
   "execution_count": 9,
   "id": "ce2b4456",
   "metadata": {},
   "outputs": [
    {
     "name": "stdout",
     "output_type": "stream",
     "text": [
      "{'key1': 3, 'key2': 6, 'key3': 9, 'key4': 12}\n"
     ]
    }
   ],
   "source": [
    "for key in d1:                                          #Method 1\n",
    "    numperson[key]=d1[key] +d2[key]\n",
    "print(numperson)"
   ]
  },
  {
   "cell_type": "code",
   "execution_count": null,
   "id": "9c7b433b",
   "metadata": {},
   "outputs": [],
   "source": [
    "sum_values1 = dict(map(lambda key:  (key,d1[key] + d2[key]), d1))         #method 2"
   ]
  },
  {
   "cell_type": "code",
   "execution_count": null,
   "id": "466729af",
   "metadata": {},
   "outputs": [],
   "source": [
    "print(sum_values1)"
   ]
  },
  {
   "cell_type": "code",
   "execution_count": 10,
   "id": "f37f1894",
   "metadata": {},
   "outputs": [
    {
     "name": "stdout",
     "output_type": "stream",
     "text": [
      "{'key1': 3, 'key2': 6, 'key3': 9, 'key4': 12}\n"
     ]
    }
   ],
   "source": [
    "for i in d1:\n",
    "    numperson[i] = d1[i]+d2[i]                      \n",
    "print(numperson)"
   ]
  },
  {
   "cell_type": "code",
   "execution_count": 19,
   "id": "25750d24",
   "metadata": {},
   "outputs": [
    {
     "data": {
      "text/plain": [
       "dict_values([1, 2, 3, 4])"
      ]
     },
     "execution_count": 19,
     "metadata": {},
     "output_type": "execute_result"
    }
   ],
   "source": [
    "d1.values()"
   ]
  },
  {
   "cell_type": "code",
   "execution_count": null,
   "id": "7bf795fc",
   "metadata": {},
   "outputs": [],
   "source": [
    "tup2 = (1,2,3,4,5)\n",
    "tup3 = (2,5,6,7,8)"
   ]
  },
  {
   "cell_type": "code",
   "execution_count": null,
   "id": "d0d46070",
   "metadata": {},
   "outputs": [],
   "source": [
    "tup2+tup3"
   ]
  },
  {
   "cell_type": "code",
   "execution_count": null,
   "id": "462ef788",
   "metadata": {},
   "outputs": [],
   "source": [
    "add3 = (lambda tup2,tup3:tup2+tup3)"
   ]
  },
  {
   "cell_type": "code",
   "execution_count": null,
   "id": "39b4b384",
   "metadata": {},
   "outputs": [],
   "source": [
    "print(add3)"
   ]
  },
  {
   "cell_type": "code",
   "execution_count": null,
   "id": "8077f9b5",
   "metadata": {},
   "outputs": [],
   "source": [
    "tuple(map(add3,tup2,tup3))"
   ]
  },
  {
   "cell_type": "code",
   "execution_count": 1,
   "id": "736117f7",
   "metadata": {},
   "outputs": [
    {
     "name": "stdout",
     "output_type": "stream",
     "text": [
      "enter number: 7\n",
      "yes it is prime\n"
     ]
    }
   ],
   "source": [
    "n=int(input(\"enter number: \"))\n",
    "flag =0\n",
    "for i in range(2,n):\n",
    "    if n%i==0:\n",
    "        flag =1\n",
    "if flag == 0:\n",
    "    print(\"yes it is prime\")\n",
    "else:\n",
    "    print(\"not a prime\")"
   ]
  },
  {
   "cell_type": "code",
   "execution_count": 7,
   "id": "e539ec20",
   "metadata": {},
   "outputs": [
    {
     "name": "stdout",
     "output_type": "stream",
     "text": [
      "6\n"
     ]
    }
   ],
   "source": [
    "d1 ={ 'key1': 1,\"key2\":2,\"key3\":3,\"key4\":4} \n",
    "sm = 0\n",
    "for value in d1.values():\n",
    "    if value%2==0:\n",
    "        sm = sm+value\n",
    "print(sm)"
   ]
  },
  {
   "cell_type": "code",
   "execution_count": null,
   "id": "a40d9372",
   "metadata": {},
   "outputs": [],
   "source": [
    "print(sm)"
   ]
  },
  {
   "cell_type": "code",
   "execution_count": null,
   "id": "dd3ee2f0",
   "metadata": {},
   "outputs": [],
   "source": [
    "n=int(input(\"enter n\"))\n",
    "x=0\n",
    "y=1\n",
    "z=0\n",
    "while(z<=n):\n",
    "    print(z)\n",
    "    x=y\n",
    "    y=z\n",
    "    z=x+y"
   ]
  },
  {
   "cell_type": "code",
   "execution_count": null,
   "id": "6958149f",
   "metadata": {},
   "outputs": [],
   "source": [
    "n=int(input(\"enter n \"))\n",
    "fact =1\n",
    "for i in range(1,n+1):\n",
    "    fact = fact*i\n",
    "\n",
    "print(fact)"
   ]
  },
  {
   "cell_type": "code",
   "execution_count": null,
   "id": "03b64048",
   "metadata": {},
   "outputs": [],
   "source": [
    "li = ['kartik','harsh']"
   ]
  },
  {
   "cell_type": "code",
   "execution_count": null,
   "id": "f9a026a9",
   "metadata": {},
   "outputs": [],
   "source": [
    "print(li[::-1])"
   ]
  },
  {
   "cell_type": "code",
   "execution_count": null,
   "id": "a7f76022",
   "metadata": {},
   "outputs": [],
   "source": [
    ". Write a Python program that uses the len() function to find the length of a given string and the \n",
    "number of elements in a list."
   ]
  },
  {
   "cell_type": "code",
   "execution_count": null,
   "id": "d961923b",
   "metadata": {},
   "outputs": [],
   "source": [
    "s=\"hello\"\n",
    "l1 = [\"a\",\"b\",\"c\",\"harsh\",\"neeraj\"]\n",
    "print(len(s))\n",
    "print(len(l1))"
   ]
  },
  {
   "cell_type": "markdown",
   "id": "7e86edd0",
   "metadata": {},
   "source": [
    "26). Write a Python program that uses the max() and min() functions to find the largest and smallest \n",
    "numbers in a given list.\n"
   ]
  },
  {
   "cell_type": "code",
   "execution_count": null,
   "id": "a85fcaab",
   "metadata": {},
   "outputs": [],
   "source": [
    "numbers = [9,10,11,2,4]\n",
    "\n",
    "# Find and display the largest and smallest numbers\n",
    "max_number = max(numbers)\n",
    "min_number = min(numbers)\n",
    "\n",
    "# Display the results\n",
    "print(\"Original List:\",numbers)\n",
    "print(\"Largest Number:\",max_number)\n",
    "print(\"Smallest Number:\",min_number)"
   ]
  },
  {
   "cell_type": "code",
   "execution_count": 3,
   "id": "0122bfbe",
   "metadata": {},
   "outputs": [],
   "source": [
    "x=2\n",
    "y=34\n",
    "if x>y:\n",
    "    print(\"x is greater than y\")\n",
    "elif y<x:\n",
    "    print(\"y is greater than x\")"
   ]
  },
  {
   "cell_type": "code",
   "execution_count": 4,
   "id": "9b4f8937",
   "metadata": {},
   "outputs": [
    {
     "name": "stdout",
     "output_type": "stream",
     "text": [
      "6\n"
     ]
    }
   ],
   "source": [
    "def add_num(a,b):\n",
    "    print(a+b)\n",
    "add_num(2,4)"
   ]
  },
  {
   "cell_type": "code",
   "execution_count": 5,
   "id": "852bf20c",
   "metadata": {},
   "outputs": [
    {
     "name": "stdout",
     "output_type": "stream",
     "text": [
      "x and y do not refer to the same object\n"
     ]
    }
   ],
   "source": [
    "x = [1, 2, 3]\n",
    "y = [1, 2, 3]\n",
    "\n",
    "# Check if x and y refer to the same object using the is operator\n",
    "if x is y:\n",
    "    print(\"x and y refer to the same object\")\n",
    "else:\n",
    "    print(\"x and y do not refer to the same object\")"
   ]
  },
  {
   "cell_type": "code",
   "execution_count": null,
   "id": "448bd970",
   "metadata": {},
   "outputs": [],
   "source": []
  },
  {
   "cell_type": "code",
   "execution_count": 2,
   "id": "468ea4db",
   "metadata": {},
   "outputs": [
    {
     "ename": "KeyError",
     "evalue": "0",
     "output_type": "error",
     "traceback": [
      "\u001b[1;31m---------------------------------------------------------------------------\u001b[0m",
      "\u001b[1;31mKeyError\u001b[0m                                  Traceback (most recent call last)",
      "Cell \u001b[1;32mIn[2], line 2\u001b[0m\n\u001b[0;32m      1\u001b[0m d1 \u001b[38;5;241m=\u001b[39m {\u001b[38;5;124m\"\u001b[39m\u001b[38;5;124mabc\u001b[39m\u001b[38;5;124m\"\u001b[39m:\u001b[38;5;241m5\u001b[39m, \u001b[38;5;124m\"\u001b[39m\u001b[38;5;124mxyz\u001b[39m\u001b[38;5;124m\"\u001b[39m:\u001b[38;5;241m3\u001b[39m}\n\u001b[1;32m----> 2\u001b[0m \u001b[38;5;28mprint\u001b[39m(d1[\u001b[38;5;241m0\u001b[39m])\n",
      "\u001b[1;31mKeyError\u001b[0m: 0"
     ]
    }
   ],
   "source": [
    "d1 = {\"abc\":5, \"xyz\":3}\n",
    "print(d1[0])"
   ]
  },
  {
   "cell_type": "code",
   "execution_count": 4,
   "id": "3d78b1db",
   "metadata": {},
   "outputs": [
    {
     "name": "stdout",
     "output_type": "stream",
     "text": [
      "{0, 9}\n"
     ]
    }
   ],
   "source": [
    "set1 = {0,0,9}\n",
    "print(set1)"
   ]
  },
  {
   "cell_type": "code",
   "execution_count": 6,
   "id": "88b77c09",
   "metadata": {},
   "outputs": [
    {
     "name": "stdout",
     "output_type": "stream",
     "text": [
      "{3}\n"
     ]
    }
   ],
   "source": [
    "set1= {2,5,3}\n",
    "set2 = {3,1}\n",
    "set3=set1&set2\n",
    "print(set3)"
   ]
  },
  {
   "cell_type": "code",
   "execution_count": 8,
   "id": "5d24b2f8",
   "metadata": {},
   "outputs": [
    {
     "name": "stdout",
     "output_type": "stream",
     "text": [
      "(2, 3, 4, 2, 3, 4)\n"
     ]
    }
   ],
   "source": [
    "tup1 = (2,3,4)\n",
    "tup3 = tup1*2\n",
    "print(tup3)"
   ]
  },
  {
   "cell_type": "code",
   "execution_count": 10,
   "id": "562a45b3",
   "metadata": {},
   "outputs": [
    {
     "name": "stdout",
     "output_type": "stream",
     "text": [
      "(0, 9, 0)\n"
     ]
    }
   ],
   "source": [
    "set1 = ((0,9,0))\n",
    "print(set1)"
   ]
  },
  {
   "cell_type": "code",
   "execution_count": 12,
   "id": "3c09bb1b",
   "metadata": {},
   "outputs": [
    {
     "name": "stdout",
     "output_type": "stream",
     "text": [
      "{0, 9, 2}\n"
     ]
    }
   ],
   "source": [
    "set1 =set([0,2,9])\n",
    "print(set1)"
   ]
  },
  {
   "cell_type": "code",
   "execution_count": 14,
   "id": "01ffe24a",
   "metadata": {},
   "outputs": [
    {
     "name": "stdout",
     "output_type": "stream",
     "text": [
      "{'abx': 1, 'roxy': 2, 'phoebe': 3}\n"
     ]
    }
   ],
   "source": [
    "dict =  {\"abx\":1,\"roxy\":2}\n",
    "dict.update({\"phoebe\":3})\n",
    "print(dict)"
   ]
  },
  {
   "cell_type": "code",
   "execution_count": 18,
   "id": "45316ee7",
   "metadata": {},
   "outputs": [
    {
     "name": "stdout",
     "output_type": "stream",
     "text": [
      "()\n"
     ]
    }
   ],
   "source": [
    "tup1 = (\"abi\",\"zoya\",\"anika\")\n",
    "print(tup1[-3:0])"
   ]
  },
  {
   "cell_type": "code",
   "execution_count": 19,
   "id": "b342c27b",
   "metadata": {},
   "outputs": [
    {
     "ename": "AttributeError",
     "evalue": "'tuple' object has no attribute 'pop'",
     "output_type": "error",
     "traceback": [
      "\u001b[1;31m---------------------------------------------------------------------------\u001b[0m",
      "\u001b[1;31mAttributeError\u001b[0m                            Traceback (most recent call last)",
      "Cell \u001b[1;32mIn[19], line 2\u001b[0m\n\u001b[0;32m      1\u001b[0m tup1\u001b[38;5;241m=\u001b[39m (\u001b[38;5;241m1\u001b[39m,\u001b[38;5;241m2\u001b[39m,\u001b[38;5;241m3\u001b[39m,\u001b[38;5;241m4\u001b[39m,\u001b[38;5;241m5\u001b[39m)\n\u001b[1;32m----> 2\u001b[0m tup1\u001b[38;5;241m.\u001b[39mpop(\u001b[38;5;241m2\u001b[39m)\n\u001b[0;32m      3\u001b[0m \u001b[38;5;28mprint\u001b[39m(tup1)\n",
      "\u001b[1;31mAttributeError\u001b[0m: 'tuple' object has no attribute 'pop'"
     ]
    }
   ],
   "source": [
    "tup1= (1,2,3,4,5)\n",
    "tup1.pop(2)\n",
    "print(tup1)"
   ]
  },
  {
   "cell_type": "code",
   "execution_count": 21,
   "id": "00b15f5d",
   "metadata": {},
   "outputs": [
    {
     "name": "stdout",
     "output_type": "stream",
     "text": [
      "x is [50, 70]\n",
      "change local x to  [2, 70]\n",
      "x is now [2, 70]\n"
     ]
    }
   ],
   "source": [
    "x=[50,70]\n",
    "def func(x):\n",
    "    print(\"x is\", x)\n",
    "    x[0] = 2\n",
    "    print(\"change local x to \",x)\n",
    "func(x)\n",
    "print(\"x is now\",x)"
   ]
  },
  {
   "cell_type": "code",
   "execution_count": 27,
   "id": "0d56fdf7",
   "metadata": {},
   "outputs": [
    {
     "data": {
      "text/plain": [
       "[4, 3, 2]"
      ]
     },
     "execution_count": 27,
     "metadata": {},
     "output_type": "execute_result"
    }
   ],
   "source": [
    "k=[2,3,4]\n",
    "list(reversed(k))"
   ]
  },
  {
   "cell_type": "code",
   "execution_count": 28,
   "id": "ed64fedb",
   "metadata": {},
   "outputs": [],
   "source": [
    "def mysery(nums):\n",
    "    out = []\n",
    "    for num in nums:\n",
    "        if num<0:\n",
    "            continue\n",
    "        else:\n",
    "            out.append(num)\n",
    "    return out"
   ]
  },
  {
   "cell_type": "code",
   "execution_count": 31,
   "id": "c3ee3505",
   "metadata": {},
   "outputs": [
    {
     "ename": "NameError",
     "evalue": "name 'nums' is not defined",
     "output_type": "error",
     "traceback": [
      "\u001b[1;31m---------------------------------------------------------------------------\u001b[0m",
      "\u001b[1;31mNameError\u001b[0m                                 Traceback (most recent call last)",
      "Cell \u001b[1;32mIn[31], line 1\u001b[0m\n\u001b[1;32m----> 1\u001b[0m mysery(nums)\n",
      "\u001b[1;31mNameError\u001b[0m: name 'nums' is not defined"
     ]
    }
   ],
   "source": [
    "mysery(nums)"
   ]
  },
  {
   "cell_type": "code",
   "execution_count": 38,
   "id": "fb69b7de",
   "metadata": {},
   "outputs": [
    {
     "ename": "IndexError",
     "evalue": "Replacement index 2 out of range for positional args tuple",
     "output_type": "error",
     "traceback": [
      "\u001b[1;31m---------------------------------------------------------------------------\u001b[0m",
      "\u001b[1;31mIndexError\u001b[0m                                Traceback (most recent call last)",
      "Cell \u001b[1;32mIn[38], line 4\u001b[0m\n\u001b[0;32m      2\u001b[0m     fullname \u001b[38;5;241m=\u001b[39m \u001b[38;5;124m\"\u001b[39m\u001b[38;5;132;01m{}\u001b[39;00m\u001b[38;5;132;01m{}\u001b[39;00m\u001b[38;5;132;01m{}\u001b[39;00m\u001b[38;5;124m\"\u001b[39m\u001b[38;5;241m.\u001b[39mformat(firstname,lastname)\n\u001b[0;32m      3\u001b[0m     \u001b[38;5;28mprint\u001b[39m(fullname)\n\u001b[1;32m----> 4\u001b[0m fullname(lastname\u001b[38;5;241m=\u001b[39m\u001b[38;5;124m'\u001b[39m\u001b[38;5;124mnckdncds\u001b[39m\u001b[38;5;124m'\u001b[39m,firstname\u001b[38;5;241m=\u001b[39m\u001b[38;5;124m'\u001b[39m\u001b[38;5;124macbas\u001b[39m\u001b[38;5;124m'\u001b[39m)\n",
      "Cell \u001b[1;32mIn[38], line 2\u001b[0m, in \u001b[0;36mfullname\u001b[1;34m(firstname, lastname)\u001b[0m\n\u001b[0;32m      1\u001b[0m \u001b[38;5;28;01mdef\u001b[39;00m \u001b[38;5;21mfullname\u001b[39m(firstname,lastname):\n\u001b[1;32m----> 2\u001b[0m     fullname \u001b[38;5;241m=\u001b[39m \u001b[38;5;124m\"\u001b[39m\u001b[38;5;132;01m{}\u001b[39;00m\u001b[38;5;132;01m{}\u001b[39;00m\u001b[38;5;132;01m{}\u001b[39;00m\u001b[38;5;124m\"\u001b[39m\u001b[38;5;241m.\u001b[39mformat(firstname,lastname)\n\u001b[0;32m      3\u001b[0m     \u001b[38;5;28mprint\u001b[39m(fullname)\n",
      "\u001b[1;31mIndexError\u001b[0m: Replacement index 2 out of range for positional args tuple"
     ]
    }
   ],
   "source": [
    "def fullname(firstname,lastname):\n",
    "    fullname = \"{}{}{}\".format(firstname,lastname)\n",
    "    print(fullname)\n",
    "fullname(lastname='nckdncds',firstname='acbas')"
   ]
  },
  {
   "cell_type": "code",
   "execution_count": 42,
   "id": "7e7748c1",
   "metadata": {},
   "outputs": [
    {
     "name": "stdout",
     "output_type": "stream",
     "text": [
      "3 2\n"
     ]
    }
   ],
   "source": [
    "def change(i=1,j=2):\n",
    "    i=i+j\n",
    "    j=j+1\n",
    "    print(i,j)\n",
    "change(j=1,i=2)"
   ]
  },
  {
   "cell_type": "code",
   "execution_count": 44,
   "id": "1b8c6c73",
   "metadata": {},
   "outputs": [
    {
     "ename": "UnboundLocalError",
     "evalue": "cannot access local variable 'x' where it is not associated with a value",
     "output_type": "error",
     "traceback": [
      "\u001b[1;31m---------------------------------------------------------------------------\u001b[0m",
      "\u001b[1;31mUnboundLocalError\u001b[0m                         Traceback (most recent call last)",
      "Cell \u001b[1;32mIn[44], line 5\u001b[0m\n\u001b[0;32m      3\u001b[0m     x\u001b[38;5;241m=\u001b[39mx\u001b[38;5;241m+\u001b[39m\u001b[38;5;241m1\u001b[39m\n\u001b[0;32m      4\u001b[0m     \u001b[38;5;28mprint\u001b[39m(x)\n\u001b[1;32m----> 5\u001b[0m myfunc()\n\u001b[0;32m      6\u001b[0m \u001b[38;5;28mprint\u001b[39m(x)\n",
      "Cell \u001b[1;32mIn[44], line 3\u001b[0m, in \u001b[0;36mmyfunc\u001b[1;34m()\u001b[0m\n\u001b[0;32m      2\u001b[0m \u001b[38;5;28;01mdef\u001b[39;00m \u001b[38;5;21mmyfunc\u001b[39m():\n\u001b[1;32m----> 3\u001b[0m     x\u001b[38;5;241m=\u001b[39mx\u001b[38;5;241m+\u001b[39m\u001b[38;5;241m1\u001b[39m\n\u001b[0;32m      4\u001b[0m     \u001b[38;5;28mprint\u001b[39m(x)\n",
      "\u001b[1;31mUnboundLocalError\u001b[0m: cannot access local variable 'x' where it is not associated with a value"
     ]
    }
   ],
   "source": [
    "x=75\n",
    "def myfunc():\n",
    "    x=x+1\n",
    "    print(x)\n",
    "myfunc()\n",
    "print(x)"
   ]
  },
  {
   "cell_type": "code",
   "execution_count": 46,
   "id": "dcf31e93",
   "metadata": {},
   "outputs": [
    {
     "name": "stdout",
     "output_type": "stream",
     "text": [
      "False\n"
     ]
    }
   ],
   "source": [
    "print(min(max(False,-3,-4),2,7))"
   ]
  },
  {
   "cell_type": "code",
   "execution_count": 47,
   "id": "30fc2d11",
   "metadata": {},
   "outputs": [
    {
     "name": "stdout",
     "output_type": "stream",
     "text": [
      "x is x 50\n",
      "change local x to 2\n",
      "x is now 50\n"
     ]
    }
   ],
   "source": [
    "x=50\n",
    "def fck(x):\n",
    "    print(\"x is x\",x)\n",
    "    x=2\n",
    "    print(\"change local x to\",x)\n",
    "fck(x)\n",
    "print(\"x is now\",x)"
   ]
  },
  {
   "cell_type": "code",
   "execution_count": 48,
   "id": "4b337a04",
   "metadata": {},
   "outputs": [
    {
     "name": "stdout",
     "output_type": "stream",
     "text": [
      "False\n"
     ]
    }
   ],
   "source": [
    "print (min(max(False, -3, -4), 2,7))"
   ]
  },
  {
   "cell_type": "code",
   "execution_count": 1,
   "id": "cf8760a5",
   "metadata": {},
   "outputs": [],
   "source": [
    "import pandas as pd\n",
    "LoD = [{\"a\":10, \"b\":20}, {\"a\":5, \"b\":10, \"c\":20}, {\"a\":7,\"d\":10, \"e\":20}]\n",
    "D1 = pd.DataFrame(LoD)"
   ]
  },
  {
   "cell_type": "code",
   "execution_count": 2,
   "id": "6af82822",
   "metadata": {},
   "outputs": [
    {
     "data": {
      "text/html": [
       "<div>\n",
       "<style scoped>\n",
       "    .dataframe tbody tr th:only-of-type {\n",
       "        vertical-align: middle;\n",
       "    }\n",
       "\n",
       "    .dataframe tbody tr th {\n",
       "        vertical-align: top;\n",
       "    }\n",
       "\n",
       "    .dataframe thead th {\n",
       "        text-align: right;\n",
       "    }\n",
       "</style>\n",
       "<table border=\"1\" class=\"dataframe\">\n",
       "  <thead>\n",
       "    <tr style=\"text-align: right;\">\n",
       "      <th></th>\n",
       "      <th>a</th>\n",
       "      <th>b</th>\n",
       "      <th>c</th>\n",
       "      <th>d</th>\n",
       "      <th>e</th>\n",
       "    </tr>\n",
       "  </thead>\n",
       "  <tbody>\n",
       "    <tr>\n",
       "      <th>0</th>\n",
       "      <td>10</td>\n",
       "      <td>20.0</td>\n",
       "      <td>NaN</td>\n",
       "      <td>NaN</td>\n",
       "      <td>NaN</td>\n",
       "    </tr>\n",
       "    <tr>\n",
       "      <th>1</th>\n",
       "      <td>5</td>\n",
       "      <td>10.0</td>\n",
       "      <td>20.0</td>\n",
       "      <td>NaN</td>\n",
       "      <td>NaN</td>\n",
       "    </tr>\n",
       "    <tr>\n",
       "      <th>2</th>\n",
       "      <td>7</td>\n",
       "      <td>NaN</td>\n",
       "      <td>NaN</td>\n",
       "      <td>10.0</td>\n",
       "      <td>20.0</td>\n",
       "    </tr>\n",
       "  </tbody>\n",
       "</table>\n",
       "</div>"
      ],
      "text/plain": [
       "    a     b     c     d     e\n",
       "0  10  20.0   NaN   NaN   NaN\n",
       "1   5  10.0  20.0   NaN   NaN\n",
       "2   7   NaN   NaN  10.0  20.0"
      ]
     },
     "execution_count": 2,
     "metadata": {},
     "output_type": "execute_result"
    }
   ],
   "source": [
    "D1"
   ]
  },
  {
   "cell_type": "code",
   "execution_count": 3,
   "id": "8a0a17ba",
   "metadata": {},
   "outputs": [
    {
     "data": {
      "text/plain": [
       "False"
      ]
     },
     "execution_count": 3,
     "metadata": {},
     "output_type": "execute_result"
    }
   ],
   "source": [
    "min (max (False, - 3, -4), 2, 7)"
   ]
  },
  {
   "cell_type": "code",
   "execution_count": 4,
   "id": "4496ca44",
   "metadata": {},
   "outputs": [
    {
     "name": "stdout",
     "output_type": "stream",
     "text": [
      "6\n"
     ]
    }
   ],
   "source": [
    "import numpy as np\n",
    "a = np. array ([[1,3,5], [2,4,6]])\n",
    "print(a.size)"
   ]
  },
  {
   "cell_type": "code",
   "execution_count": 6,
   "id": "ee69aad5",
   "metadata": {},
   "outputs": [],
   "source": [
    "import numpy as np\n",
    "array = [[0, 1, 2, 3, 0], [5, 6, 0, 7]]"
   ]
  },
  {
   "cell_type": "code",
   "execution_count": 7,
   "id": "46b31967",
   "metadata": {},
   "outputs": [
    {
     "data": {
      "text/plain": [
       "[[0, 1, 2, 3, 0], [5, 6, 0, 7]]"
      ]
     },
     "execution_count": 7,
     "metadata": {},
     "output_type": "execute_result"
    }
   ],
   "source": [
    "array"
   ]
  },
  {
   "cell_type": "code",
   "execution_count": 8,
   "id": "0e23255d",
   "metadata": {},
   "outputs": [],
   "source": [
    "import numpy as np\n",
    "array = [[ 0, 1, 2, 3, 0, 0, 5, 6, 0, 7]]"
   ]
  },
  {
   "cell_type": "code",
   "execution_count": 9,
   "id": "67849b7a",
   "metadata": {},
   "outputs": [
    {
     "data": {
      "text/plain": [
       "[[0, 1, 2, 3, 0, 0, 5, 6, 0, 7]]"
      ]
     },
     "execution_count": 9,
     "metadata": {},
     "output_type": "execute_result"
    }
   ],
   "source": [
    "array"
   ]
  },
  {
   "cell_type": "code",
   "execution_count": 5,
   "id": "4b994a12",
   "metadata": {},
   "outputs": [
    {
     "name": "stdout",
     "output_type": "stream",
     "text": [
      "2\n",
      "3\n",
      "5\n",
      "7\n"
     ]
    }
   ],
   "source": [
    "for num in range(2, 11):  # We start from 2 since 1 is not a prime number\n",
    "    is_prime = True\n",
    "    \n",
    "    # Check for factors\n",
    "    for i in range(2, num):\n",
    "        if (num % i) == 0:\n",
    "            is_prime = False\n",
    "            break\n",
    "    \n",
    "    # Print the number if it's prime\n",
    "    if is_prime:\n",
    "        print(num)"
   ]
  },
  {
   "cell_type": "code",
   "execution_count": null,
   "id": "88eb71d8",
   "metadata": {},
   "outputs": [],
   "source": [
    "n=int(input(\"enter number: \"))\n",
    "flag =0\n",
    "for i in range(2,n):\n",
    "    if n%i==0:\n",
    "        flag =1\n",
    "if flag == 0:\n",
    "    print(\"yes it is prime\")\n",
    "else:\n",
    "    print(\"not a prime\")"
   ]
  },
  {
   "cell_type": "code",
   "execution_count": 10,
   "id": "301fdbad",
   "metadata": {},
   "outputs": [
    {
     "name": "stdout",
     "output_type": "stream",
     "text": [
      "2\n",
      "3\n",
      "5\n",
      "7\n",
      "11\n",
      "13\n",
      "17\n",
      "19\n",
      "23\n",
      "29\n",
      "31\n",
      "37\n",
      "41\n",
      "43\n",
      "47\n",
      "53\n",
      "59\n",
      "61\n",
      "67\n",
      "71\n",
      "73\n",
      "79\n",
      "83\n",
      "89\n",
      "97\n"
     ]
    }
   ],
   "source": [
    "for n in range(2,100):\n",
    "    is_prime = True\n",
    "    \n",
    "    for i in range(2,n):\n",
    "        if(n%i)==0:\n",
    "            is_prime=False\n",
    "            break\n",
    "    if is_prime:\n",
    "        print(n)"
   ]
  },
  {
   "cell_type": "code",
   "execution_count": 9,
   "id": "008208d1",
   "metadata": {},
   "outputs": [
    {
     "name": "stdout",
     "output_type": "stream",
     "text": [
      "enter a number3\n",
      "0\n",
      "1\n",
      "1\n",
      "2\n",
      "3\n"
     ]
    }
   ],
   "source": [
    "n = int(input(\"enter a number\"))      #fibnoccci\n",
    "x=0\n",
    "y=1\n",
    "z=0\n",
    "while(z<=n):\n",
    "    print(z)\n",
    "    x=y\n",
    "    y=z\n",
    "    z=x+y"
   ]
  },
  {
   "cell_type": "code",
   "execution_count": 16,
   "id": "fcc44aa5",
   "metadata": {},
   "outputs": [],
   "source": [
    "def fact(t):\n",
    "    if t==0:\n",
    "        return 1\n",
    "    else:\n",
    "        return t*fact(t-1)"
   ]
  },
  {
   "cell_type": "code",
   "execution_count": 17,
   "id": "cd3cfd8e",
   "metadata": {},
   "outputs": [
    {
     "data": {
      "text/plain": [
       "120"
      ]
     },
     "execution_count": 17,
     "metadata": {},
     "output_type": "execute_result"
    }
   ],
   "source": [
    "fact(5)"
   ]
  },
  {
   "cell_type": "code",
   "execution_count": 21,
   "id": "6ce3a34e",
   "metadata": {},
   "outputs": [],
   "source": [
    "name = [\"Benjamin\",\"Liam\" , \"John\", \"Smith\" , \"Warner\", \"David\", \"Micheal\", \"James\", \"Dennis\", \"Rossum\"]\n",
    "Sal=  [25000, 26000, 23000, 27000, 28000, 28500, 24000, 30000, 29000, 24700]"
   ]
  },
  {
   "cell_type": "code",
   "execution_count": 22,
   "id": "465348f3",
   "metadata": {},
   "outputs": [
    {
     "data": {
      "text/plain": [
       "Benjamin    25000\n",
       "Liam        26000\n",
       "John        23000\n",
       "Smith       27000\n",
       "Warner      28000\n",
       "David       28500\n",
       "Micheal     24000\n",
       "James       30000\n",
       "Dennis      29000\n",
       "Rossum      24700\n",
       "dtype: int64"
      ]
     },
     "execution_count": 22,
     "metadata": {},
     "output_type": "execute_result"
    }
   ],
   "source": [
    "Ser = pd.Series(Sal,index=name)\n",
    "Ser"
   ]
  },
  {
   "cell_type": "code",
   "execution_count": 20,
   "id": "5db8c1e3",
   "metadata": {},
   "outputs": [],
   "source": [
    "import pandas as pd\n",
    "import numpy as np\n"
   ]
  },
  {
   "cell_type": "code",
   "execution_count": 23,
   "id": "33d691c8",
   "metadata": {},
   "outputs": [],
   "source": [
    "a=pd.DataFrame(Ser)"
   ]
  },
  {
   "cell_type": "code",
   "execution_count": 24,
   "id": "3c6bbbdb",
   "metadata": {},
   "outputs": [
    {
     "data": {
      "text/html": [
       "<div>\n",
       "<style scoped>\n",
       "    .dataframe tbody tr th:only-of-type {\n",
       "        vertical-align: middle;\n",
       "    }\n",
       "\n",
       "    .dataframe tbody tr th {\n",
       "        vertical-align: top;\n",
       "    }\n",
       "\n",
       "    .dataframe thead th {\n",
       "        text-align: right;\n",
       "    }\n",
       "</style>\n",
       "<table border=\"1\" class=\"dataframe\">\n",
       "  <thead>\n",
       "    <tr style=\"text-align: right;\">\n",
       "      <th></th>\n",
       "      <th>0</th>\n",
       "    </tr>\n",
       "  </thead>\n",
       "  <tbody>\n",
       "    <tr>\n",
       "      <th>Benjamin</th>\n",
       "      <td>25000</td>\n",
       "    </tr>\n",
       "    <tr>\n",
       "      <th>Liam</th>\n",
       "      <td>26000</td>\n",
       "    </tr>\n",
       "    <tr>\n",
       "      <th>John</th>\n",
       "      <td>23000</td>\n",
       "    </tr>\n",
       "    <tr>\n",
       "      <th>Smith</th>\n",
       "      <td>27000</td>\n",
       "    </tr>\n",
       "    <tr>\n",
       "      <th>Warner</th>\n",
       "      <td>28000</td>\n",
       "    </tr>\n",
       "    <tr>\n",
       "      <th>David</th>\n",
       "      <td>28500</td>\n",
       "    </tr>\n",
       "    <tr>\n",
       "      <th>Micheal</th>\n",
       "      <td>24000</td>\n",
       "    </tr>\n",
       "    <tr>\n",
       "      <th>James</th>\n",
       "      <td>30000</td>\n",
       "    </tr>\n",
       "    <tr>\n",
       "      <th>Dennis</th>\n",
       "      <td>29000</td>\n",
       "    </tr>\n",
       "    <tr>\n",
       "      <th>Rossum</th>\n",
       "      <td>24700</td>\n",
       "    </tr>\n",
       "  </tbody>\n",
       "</table>\n",
       "</div>"
      ],
      "text/plain": [
       "              0\n",
       "Benjamin  25000\n",
       "Liam      26000\n",
       "John      23000\n",
       "Smith     27000\n",
       "Warner    28000\n",
       "David     28500\n",
       "Micheal   24000\n",
       "James     30000\n",
       "Dennis    29000\n",
       "Rossum    24700"
      ]
     },
     "execution_count": 24,
     "metadata": {},
     "output_type": "execute_result"
    }
   ],
   "source": [
    "a"
   ]
  },
  {
   "cell_type": "code",
   "execution_count": null,
   "id": "561b141d",
   "metadata": {},
   "outputs": [],
   "source": []
  },
  {
   "cell_type": "code",
   "execution_count": null,
   "id": "e0668234",
   "metadata": {},
   "outputs": [],
   "source": []
  },
  {
   "cell_type": "code",
   "execution_count": null,
   "id": "487cb066",
   "metadata": {},
   "outputs": [],
   "source": []
  }
 ],
 "metadata": {
  "kernelspec": {
   "display_name": "Python 3 (ipykernel)",
   "language": "python",
   "name": "python3"
  },
  "language_info": {
   "codemirror_mode": {
    "name": "ipython",
    "version": 3
   },
   "file_extension": ".py",
   "mimetype": "text/x-python",
   "name": "python",
   "nbconvert_exporter": "python",
   "pygments_lexer": "ipython3",
   "version": "3.11.5"
  }
 },
 "nbformat": 4,
 "nbformat_minor": 5
}
