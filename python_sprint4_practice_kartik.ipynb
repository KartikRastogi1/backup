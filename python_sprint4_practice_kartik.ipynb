{
 "cells": [
  {
   "cell_type": "markdown",
   "id": "1cf0d5fe",
   "metadata": {},
   "source": [
    "Task 1: Factorial of a Number\n",
    "Using \"while\" loop, write a program to calculate the factorial of a number n. Accept the number n as an input from the user.\n",
    "Factorial of a number is the product of all consecutive numbers up to that number.\n",
    "Example:\n",
    "Input: 5\n",
    "Processing: 5! = 5 x 4 x 3 x 2x1\n",
    "Output: 120"
   ]
  },
  {
   "cell_type": "code",
   "execution_count": 8,
   "id": "a5005c0f",
   "metadata": {},
   "outputs": [
    {
     "name": "stdout",
     "output_type": "stream",
     "text": [
      "enter a number:5\n",
      "factorial is 120\n"
     ]
    }
   ],
   "source": [
    "n =int(input(\"enter a number:\"))\n",
    "fact =1\n",
    "while n>0:\n",
    "    fact = fact * n\n",
    "    n = n-1\n",
    "print(\"factorial is\",fact)"
   ]
  },
  {
   "cell_type": "code",
   "execution_count": 7,
   "id": "cd2cfe10",
   "metadata": {},
   "outputs": [
    {
     "name": "stdout",
     "output_type": "stream",
     "text": [
      "number:5\n",
      "Factorial of 5 is 120\n"
     ]
    }
   ],
   "source": [
    "n = int(input(\"number:\"))\n",
    "fact = 1\n",
    "for i in range(1,n+1):\n",
    "    fact = fact*i\n",
    "print(\"Factorial of\",n,\"is\",fact)"
   ]
  },
  {
   "cell_type": "markdown",
   "id": "d562139d",
   "metadata": {},
   "source": [
    "Task 2: Prime Numbers\n",
    "Create a program that uses \"while\" loop to check if 50 and 51 are prime numbers.\n",
    "Note: A prime number is a number that is only divisible by 1 or itself.\n",
    "Eg: 2, 3, 5, 7, 11 etc. are prime numbers."
   ]
  },
  {
   "cell_type": "code",
   "execution_count": 22,
   "id": "77cfe522",
   "metadata": {},
   "outputs": [
    {
     "name": "stdout",
     "output_type": "stream",
     "text": [
      "enter a number:34\n",
      "not prime\n"
     ]
    }
   ],
   "source": [
    "n=int(input(\"enter a number:\"))\n",
    "count=0\n",
    "i=1\n",
    "while(i<=n):\n",
    "    if n%i==0:\n",
    "        count=count+1\n",
    "        \n",
    "    i=i+1\n",
    "if count==2:                                          #if it has only two 2 factors then it is prime number\n",
    "    print(\"yes it is prime number\")\n",
    "else:\n",
    "    print(\"not prime\")\n"
   ]
  },
  {
   "cell_type": "code",
   "execution_count": 1,
   "id": "43998763",
   "metadata": {},
   "outputs": [
    {
     "name": "stdout",
     "output_type": "stream",
     "text": [
      "enter a number:7\n",
      "it is a prime number\n"
     ]
    }
   ],
   "source": [
    "n=int(input(\"enter a number:\"))\n",
    "flag = 0\n",
    "for i in range(2,n):\n",
    "    if n%i==0:\n",
    "        flag=1\n",
    "if flag==0:\n",
    "    print(\"it is a prime number\")\n",
    "        \n",
    "else:\n",
    "    print(\"not a prime number\")\n",
    "    "
   ]
  },
  {
   "cell_type": "markdown",
   "id": "b08896e1",
   "metadata": {},
   "source": [
    "Task 3: Sum of All Digits\n",
    "Take input of a five-digit number from the user. Write a program using the \"while\" loop to calculate the sum of the digits of the number entered by the user.\n",
    "For example:\n",
    "If the number entered by the user is 12345, then the output will be 1+2+3+4+5=15.\n",
    "Note: You may use either the \"for\" loop or the\n",
    "\"while\" loop to perform this task. Using \"for\" loops has a simpler approach to this problem"
   ]
  },
  {
   "cell_type": "code",
   "execution_count": 31,
   "id": "848234f7",
   "metadata": {},
   "outputs": [
    {
     "name": "stdout",
     "output_type": "stream",
     "text": [
      "enter a 5 digit number:12345\n",
      "15\n"
     ]
    }
   ],
   "source": [
    "count = 0\n",
    "\n",
    "n = int(input(\"enter a 5 digit number:\"))\n",
    "while (n>0):\n",
    "    r=n%10\n",
    "    count=count+r\n",
    "    n=n//10\n",
    "print(count)\n",
    "\n",
    "    \n",
    "        \n",
    "    \n",
    "    \n"
   ]
  },
  {
   "cell_type": "markdown",
   "id": "580b70c3",
   "metadata": {},
   "source": [
    "Task 4: Fibonacci Series\n",
    "Using \"while\" loop, write a program to display the Fibonacci series up to 7 values. The output would be as follows: 0, 1, 1, 2, 3, 5, 8\n",
    "Fibonacci series is a sequence of numbers in which each number is the sum of the two preceding numbers, starting from the third number. The first two numbers are always 0 and 1.\n",
    "1 = 0 + 1\n",
    "2 = 1 + 1\n",
    "And so on.."
   ]
  },
  {
   "cell_type": "code",
   "execution_count": 36,
   "id": "dbbef307",
   "metadata": {},
   "outputs": [
    {
     "name": "stdout",
     "output_type": "stream",
     "text": [
      "enter a number:7\n",
      "0 ,1 ,1 ,2 ,3 ,5 ,8 ,"
     ]
    }
   ],
   "source": [
    "a=int(input(\"enter a number:\")) \n",
    "n1=0\n",
    "n2=1\n",
    "\n",
    "print(n1, end=\" ,\")\n",
    "print(n2, end=\" ,\")\n",
    "while a > 2:\n",
    "    n3 = n1 + n2\n",
    "    print(n3, end=\" ,\")\n",
    "    n1=n2\n",
    "    n2 =n3\n",
    "    a= a-1\n"
   ]
  },
  {
   "cell_type": "code",
   "execution_count": 2,
   "id": "0aba45b2",
   "metadata": {},
   "outputs": [
    {
     "name": "stdout",
     "output_type": "stream",
     "text": [
      "enter a number:4\n",
      "0\n",
      "1\n",
      "1\n",
      "2\n",
      "3\n"
     ]
    }
   ],
   "source": [
    "num = int(input(\"enter a number:\"))\n",
    "x=0\n",
    "y=1\n",
    "z=0\n",
    "while(z<=num):\n",
    "    print(z)\n",
    "    x=y\n",
    "    y=z\n",
    "    z=x+y"
   ]
  },
  {
   "cell_type": "markdown",
   "id": "2ad7fb25",
   "metadata": {},
   "source": [
    "Task 5: Adding Two tuples\n",
    "Create two tuples, t1=(1,2,3) and t2=(4,5,6).\n",
    "Display the ids of both tuples.\n",
    "Execute the command t1 = t1 + t2.\n",
    "Display the ids of both tuples after the above operation.\n",
    "Is there any change in the ids of both tuples? Why or why not?\n",
    "Note: The id() function returns the unique identifier of a variable."
   ]
  },
  {
   "cell_type": "code",
   "execution_count": 71,
   "id": "d996cb2d",
   "metadata": {},
   "outputs": [
    {
     "data": {
      "text/plain": [
       "2408222651328"
      ]
     },
     "execution_count": 71,
     "metadata": {},
     "output_type": "execute_result"
    }
   ],
   "source": [
    "t1 = (1,2,3)\n",
    "t2 = (4,5,6)\n",
    "id(t1)\n"
   ]
  },
  {
   "cell_type": "code",
   "execution_count": null,
   "id": "3176d948",
   "metadata": {},
   "outputs": [],
   "source": []
  },
  {
   "cell_type": "code",
   "execution_count": 72,
   "id": "3e15dbfc",
   "metadata": {},
   "outputs": [
    {
     "data": {
      "text/plain": [
       "2408222832320"
      ]
     },
     "execution_count": 72,
     "metadata": {},
     "output_type": "execute_result"
    }
   ],
   "source": [
    "id(t2)"
   ]
  },
  {
   "cell_type": "code",
   "execution_count": 73,
   "id": "8302824d",
   "metadata": {},
   "outputs": [
    {
     "name": "stdout",
     "output_type": "stream",
     "text": [
      "(1, 2, 3, 4, 5, 6)\n"
     ]
    }
   ],
   "source": [
    "t1=t1+t2\n",
    "print(t1)"
   ]
  },
  {
   "cell_type": "code",
   "execution_count": 74,
   "id": "663f2c61",
   "metadata": {},
   "outputs": [
    {
     "data": {
      "text/plain": [
       "2408222773824"
      ]
     },
     "execution_count": 74,
     "metadata": {},
     "output_type": "execute_result"
    }
   ],
   "source": [
    "id(t1)"
   ]
  },
  {
   "cell_type": "code",
   "execution_count": 75,
   "id": "f071450f",
   "metadata": {},
   "outputs": [
    {
     "data": {
      "text/plain": [
       "2408222832320"
      ]
     },
     "execution_count": 75,
     "metadata": {},
     "output_type": "execute_result"
    }
   ],
   "source": [
    "id(t2)"
   ]
  },
  {
   "cell_type": "markdown",
   "id": "06526b30",
   "metadata": {},
   "source": [
    " tuples are immutable, which means their values cannot be changed after creation. After concatinating, new tuple is created, and the variable is then assigned to this new tuple so the id of t2 remain same but id of t1 is changed"
   ]
  },
  {
   "cell_type": "markdown",
   "id": "9ed5890e",
   "metadata": {},
   "source": [
    "Task 6: Inserting Data Into Sets\n",
    "Consider the following data structures: m = ‹10, 20, 30, 40, 50} # m is a set\n",
    "n = [33, 40, 55, 60, 70] # n is a list\n",
    "Insert the elements of list n into set m one by one and print the output.\n",
    "What happened to the elements that were common in the two data structures? Provide explanation.\n",
    "Note: Use the \"add\" function to insert elements into the set. You may use either the \"for\" loop or the \"while\" loop \n",
    "    to perform this task."
   ]
  },
  {
   "cell_type": "code",
   "execution_count": 10,
   "id": "a5b9f215",
   "metadata": {},
   "outputs": [
    {
     "name": "stdout",
     "output_type": "stream",
     "text": [
      "{70, 10, 20, 30, 33, 40, 50, 55, 60}\n"
     ]
    }
   ],
   "source": [
    "m ={10,20,30,40,50}\n",
    "n = [33,40,55,60,70]\n",
    "for i in n:\n",
    "    m.add(i)\n",
    "print(m)"
   ]
  },
  {
   "cell_type": "markdown",
   "id": "720487fe",
   "metadata": {},
   "source": [
    "The set ensures that each element is unique."
   ]
  },
  {
   "cell_type": "markdown",
   "id": "0f0284e8",
   "metadata": {},
   "source": [
    "Task 7: Iterating Over a Dictionary Data\n",
    "Structure\n",
    "Using \"while\" loop, create a program that prints those key-value pairs that contain values which are even numbers.\n",
    "Data_Set = {'Python': 1, Data': 2, 'Excel': 3, 'SQL': 4}\n",
    "Sample output:\n",
    "Data: 2\n",
    "SQL: 4\n",
    "Note: You are recommended to use \"for\" loops to perform this task."
   ]
  },
  {
   "cell_type": "code",
   "execution_count": 3,
   "id": "ea0508ab",
   "metadata": {},
   "outputs": [],
   "source": [
    "Data_Set = {'Python': 1,' Data': 2, 'Excel': 3, 'SQL': 4}\n"
   ]
  },
  {
   "cell_type": "code",
   "execution_count": 6,
   "id": "cb9e75b3",
   "metadata": {},
   "outputs": [
    {
     "name": "stdout",
     "output_type": "stream",
     "text": [
      " Data : 2\n",
      "SQL : 4\n"
     ]
    }
   ],
   "source": [
    "for a,i in Data_Set.items():\n",
    "    if i%2==0:\n",
    "        print(a,\":\",i)\n",
    "    "
   ]
  },
  {
   "cell_type": "markdown",
   "id": "cdac8834",
   "metadata": {},
   "source": [
    "Task 8: Populating a Dictionary Data\n",
    "Structure\n",
    "Write a Python program to create a dictionary where the keys are the integers from 1 to 15 and the values are squares of the keys.\n",
    "Eg. {1:1, 2:4, ...}\n",
    "Once the above dictionary is created, add a new element {100:10000} to this dictionary.\n",
    "Hint: Create an empty dictionary first. Use the \"update\" command to insert data.\n",
    "D=S\n",
    "D.update({key:value})"
   ]
  },
  {
   "cell_type": "code",
   "execution_count": 108,
   "id": "46ff8247",
   "metadata": {},
   "outputs": [
    {
     "name": "stdout",
     "output_type": "stream",
     "text": [
      "{1: 1, 2: 4, 3: 9, 4: 16, 5: 25, 6: 36, 7: 49, 8: 64, 9: 81, 10: 100, 11: 121, 12: 144, 13: 169, 14: 196, 15: 225}\n"
     ]
    }
   ],
   "source": [
    "d1= {x: x**2 for x in range(1,16)}\n",
    "print(d1)"
   ]
  },
  {
   "cell_type": "code",
   "execution_count": 109,
   "id": "f4d9691e",
   "metadata": {},
   "outputs": [
    {
     "name": "stdout",
     "output_type": "stream",
     "text": [
      "{1: 1, 2: 4, 3: 9, 4: 16, 5: 25, 6: 36, 7: 49, 8: 64, 9: 81, 10: 100, 11: 121, 12: 144, 13: 169, 14: 196, 15: 225, 100: 1000}\n"
     ]
    }
   ],
   "source": [
    "d1.update({100:1000})\n",
    "print(d1)"
   ]
  },
  {
   "cell_type": "code",
   "execution_count": null,
   "id": "6bb8b23e",
   "metadata": {},
   "outputs": [],
   "source": []
  }
 ],
 "metadata": {
  "kernelspec": {
   "display_name": "Python 3 (ipykernel)",
   "language": "python",
   "name": "python3"
  },
  "language_info": {
   "codemirror_mode": {
    "name": "ipython",
    "version": 3
   },
   "file_extension": ".py",
   "mimetype": "text/x-python",
   "name": "python",
   "nbconvert_exporter": "python",
   "pygments_lexer": "ipython3",
   "version": "3.11.5"
  }
 },
 "nbformat": 4,
 "nbformat_minor": 5
}
