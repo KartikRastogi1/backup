{
 "cells": [
  {
   "cell_type": "markdown",
   "id": "63b94dd1",
   "metadata": {},
   "source": [
    "Task 1\n",
    "Create a Pandas Series variable to assign unique student\n",
    "IDs to the 40 students. The student IDs must start from the number 1001, increasing by 1 for each student.\n",
    "Display the student IDs of all the students."
   ]
  },
  {
   "cell_type": "code",
   "execution_count": 1,
   "id": "2a73e4ed",
   "metadata": {},
   "outputs": [],
   "source": [
    "import pandas as pd\n",
    "import numpy as np"
   ]
  },
  {
   "cell_type": "code",
   "execution_count": 2,
   "id": "9151f4c9",
   "metadata": {},
   "outputs": [],
   "source": [
    "student_id= np.arange(1001,1041)\n",
    "index = np.arange(1,41)"
   ]
  },
  {
   "cell_type": "code",
   "execution_count": 8,
   "id": "dedc0e32",
   "metadata": {},
   "outputs": [
    {
     "name": "stdout",
     "output_type": "stream",
     "text": [
      "Student IDs of all the students\n"
     ]
    },
    {
     "data": {
      "text/plain": [
       "1     1001\n",
       "2     1002\n",
       "3     1003\n",
       "4     1004\n",
       "5     1005\n",
       "6     1006\n",
       "7     1007\n",
       "8     1008\n",
       "9     1009\n",
       "10    1010\n",
       "11    1011\n",
       "12    1012\n",
       "13    1013\n",
       "14    1014\n",
       "15    1015\n",
       "16    1016\n",
       "17    1017\n",
       "18    1018\n",
       "19    1019\n",
       "20    1020\n",
       "21    1021\n",
       "22    1022\n",
       "23    1023\n",
       "24    1024\n",
       "25    1025\n",
       "26    1026\n",
       "27    1027\n",
       "28    1028\n",
       "29    1029\n",
       "30    1030\n",
       "31    1031\n",
       "32    1032\n",
       "33    1033\n",
       "34    1034\n",
       "35    1035\n",
       "36    1036\n",
       "37    1037\n",
       "38    1038\n",
       "39    1039\n",
       "40    1040\n",
       "dtype: int32"
      ]
     },
     "execution_count": 8,
     "metadata": {},
     "output_type": "execute_result"
    }
   ],
   "source": [
    "series_student =pd.Series(student_id, index=index)\n",
    "print(\"Student IDs of all the students\")\n",
    "series_student"
   ]
  },
  {
   "cell_type": "markdown",
   "id": "8055b1e2",
   "metadata": {},
   "source": [
    "Task 2\n",
    "The physics and mathematics scores of 40 students is provided in the form of a list in the Jupyter notebook.\n",
    "Store the scores in two separate Pandas Series variables and display them.\n",
    "Note: The student IDs generated in Task 1 will become the row index for this task."
   ]
  },
  {
   "cell_type": "code",
   "execution_count": 9,
   "id": "64bba7f4",
   "metadata": {},
   "outputs": [],
   "source": [
    "maths_marks=[35, 86, 63, 90, 50, 63, 15, 72, 15, 54, 72, 83, 58, 70, 92, 40, 59, 63, 53, 59, 55, 85, 18, 83, 67, 85, 46, 59, 77, 71, 77, 56, 79, 61, 82, 76, 60, 52, 88, 78]\n",
    "physics_marks=[85, 94, 63, 59, 76, 64, 87, 55, 51, 71, 54, 94, 33, 72, 75, 67, 85, 15, 50, 50, 19, 55, 59, 65, 76, 13, 57, 70, 51, 94, 55, 50, 71, 91, 75, 51, 90, 70, 87, 56]"
   ]
  },
  {
   "cell_type": "code",
   "execution_count": 10,
   "id": "78a909f7",
   "metadata": {},
   "outputs": [],
   "source": [
    "maths_marks_series = pd.Series(maths_marks,index= student_id)\n",
    "physics_marks_series = pd.Series(physics_marks ,index= student_id)"
   ]
  },
  {
   "cell_type": "code",
   "execution_count": 11,
   "id": "a12012c2",
   "metadata": {},
   "outputs": [
    {
     "data": {
      "text/plain": [
       "1001    35\n",
       "1002    86\n",
       "1003    63\n",
       "1004    90\n",
       "1005    50\n",
       "1006    63\n",
       "1007    15\n",
       "1008    72\n",
       "1009    15\n",
       "1010    54\n",
       "1011    72\n",
       "1012    83\n",
       "1013    58\n",
       "1014    70\n",
       "1015    92\n",
       "1016    40\n",
       "1017    59\n",
       "1018    63\n",
       "1019    53\n",
       "1020    59\n",
       "1021    55\n",
       "1022    85\n",
       "1023    18\n",
       "1024    83\n",
       "1025    67\n",
       "1026    85\n",
       "1027    46\n",
       "1028    59\n",
       "1029    77\n",
       "1030    71\n",
       "1031    77\n",
       "1032    56\n",
       "1033    79\n",
       "1034    61\n",
       "1035    82\n",
       "1036    76\n",
       "1037    60\n",
       "1038    52\n",
       "1039    88\n",
       "1040    78\n",
       "dtype: int64"
      ]
     },
     "execution_count": 11,
     "metadata": {},
     "output_type": "execute_result"
    }
   ],
   "source": [
    "maths_marks_series"
   ]
  },
  {
   "cell_type": "code",
   "execution_count": 12,
   "id": "d8f35982",
   "metadata": {},
   "outputs": [
    {
     "data": {
      "text/plain": [
       "1001    85\n",
       "1002    94\n",
       "1003    63\n",
       "1004    59\n",
       "1005    76\n",
       "1006    64\n",
       "1007    87\n",
       "1008    55\n",
       "1009    51\n",
       "1010    71\n",
       "1011    54\n",
       "1012    94\n",
       "1013    33\n",
       "1014    72\n",
       "1015    75\n",
       "1016    67\n",
       "1017    85\n",
       "1018    15\n",
       "1019    50\n",
       "1020    50\n",
       "1021    19\n",
       "1022    55\n",
       "1023    59\n",
       "1024    65\n",
       "1025    76\n",
       "1026    13\n",
       "1027    57\n",
       "1028    70\n",
       "1029    51\n",
       "1030    94\n",
       "1031    55\n",
       "1032    50\n",
       "1033    71\n",
       "1034    91\n",
       "1035    75\n",
       "1036    51\n",
       "1037    90\n",
       "1038    70\n",
       "1039    87\n",
       "1040    56\n",
       "dtype: int64"
      ]
     },
     "execution_count": 12,
     "metadata": {},
     "output_type": "execute_result"
    }
   ],
   "source": [
    "physics_marks_series"
   ]
  },
  {
   "cell_type": "markdown",
   "id": "05591006",
   "metadata": {},
   "source": [
    "Task 3\n",
    "Create and display Pandas Series variable containing the sum of scores of physics and mathematics, \n",
    "along with the student ID's."
   ]
  },
  {
   "cell_type": "code",
   "execution_count": 13,
   "id": "d7e71124",
   "metadata": {},
   "outputs": [],
   "source": [
    "sum_of_maths_and_physics =maths_marks_series+physics_marks_series"
   ]
  },
  {
   "cell_type": "code",
   "execution_count": 14,
   "id": "0e80ee99",
   "metadata": {},
   "outputs": [],
   "source": [
    "sum_of_maths_and_physics_series = pd.Series(sum_of_maths_and_physics,index=student_id)"
   ]
  },
  {
   "cell_type": "code",
   "execution_count": 12,
   "id": "6651ba74",
   "metadata": {},
   "outputs": [
    {
     "name": "stdout",
     "output_type": "stream",
     "text": [
      "sum of scores of physics and mathematics :\n"
     ]
    },
    {
     "data": {
      "text/plain": [
       "1001    120\n",
       "1002    180\n",
       "1003    126\n",
       "1004    149\n",
       "1005    126\n",
       "1006    127\n",
       "1007    102\n",
       "1008    127\n",
       "1009     66\n",
       "1010    125\n",
       "1011    126\n",
       "1012    177\n",
       "1013     91\n",
       "1014    142\n",
       "1015    167\n",
       "1016    107\n",
       "1017    144\n",
       "1018     78\n",
       "1019    103\n",
       "1020    109\n",
       "1021     74\n",
       "1022    140\n",
       "1023     77\n",
       "1024    148\n",
       "1025    143\n",
       "1026     98\n",
       "1027    103\n",
       "1028    129\n",
       "1029    128\n",
       "1030    165\n",
       "1031    132\n",
       "1032    106\n",
       "1033    150\n",
       "1034    152\n",
       "1035    157\n",
       "1036    127\n",
       "1037    150\n",
       "1038    122\n",
       "1039    175\n",
       "1040    134\n",
       "dtype: int64"
      ]
     },
     "execution_count": 12,
     "metadata": {},
     "output_type": "execute_result"
    }
   ],
   "source": [
    "print(\"sum of scores of physics and mathematics :\")\n",
    "sum_of_maths_and_physics"
   ]
  },
  {
   "cell_type": "markdown",
   "id": "d8b3f67f",
   "metadata": {},
   "source": [
    "Task 4\n",
    "The cut-off score to qualify for round 1 is 120 marks out of a maximum marks of 200. This includes the marks of both mathematics and physics.\n",
    "List down the student IDs of the qualifying students."
   ]
  },
  {
   "cell_type": "code",
   "execution_count": 5,
   "id": "806c0694",
   "metadata": {},
   "outputs": [
    {
     "ename": "NameError",
     "evalue": "name 'sum_of_maths_and_physics' is not defined",
     "output_type": "error",
     "traceback": [
      "\u001b[1;31m---------------------------------------------------------------------------\u001b[0m",
      "\u001b[1;31mNameError\u001b[0m                                 Traceback (most recent call last)",
      "Cell \u001b[1;32mIn[5], line 1\u001b[0m\n\u001b[1;32m----> 1\u001b[0m condition \u001b[38;5;241m=\u001b[39m sum_of_maths_and_physics\u001b[38;5;241m>\u001b[39m\u001b[38;5;241m=\u001b[39m\u001b[38;5;241m120\u001b[39m\n\u001b[0;32m      2\u001b[0m \u001b[38;5;28mprint\u001b[39m(\u001b[38;5;124m\"\u001b[39m\u001b[38;5;124mList of the students IDs of the qualifying students\u001b[39m\u001b[38;5;124m\"\u001b[39m)\n\u001b[0;32m      3\u001b[0m a \u001b[38;5;241m=\u001b[39m sum_of_maths_and_physics[condition]\n",
      "\u001b[1;31mNameError\u001b[0m: name 'sum_of_maths_and_physics' is not defined"
     ]
    }
   ],
   "source": [
    "condition = sum_of_maths_and_physics>=120\n",
    "print(\"List of the students IDs of the qualifying students\")\n",
    "a = sum_of_maths_and_physics[condition]\n",
    "a"
   ]
  },
  {
   "cell_type": "markdown",
   "id": "06e1a670",
   "metadata": {},
   "source": [
    "Task 5\n",
    "Create a data frame containing the sum of math and physics scores of all 40 students, where the sum of score exceeds 120. The column name in this data frame must be \"round 1 qualifiers\"\n",
    "Note: The row index/label must contain the student IDs of the 40 students generated in Task 1."
   ]
  },
  {
   "cell_type": "code",
   "execution_count": 15,
   "id": "64791037",
   "metadata": {
    "collapsed": true
   },
   "outputs": [
    {
     "data": {
      "text/html": [
       "<div>\n",
       "<style scoped>\n",
       "    .dataframe tbody tr th:only-of-type {\n",
       "        vertical-align: middle;\n",
       "    }\n",
       "\n",
       "    .dataframe tbody tr th {\n",
       "        vertical-align: top;\n",
       "    }\n",
       "\n",
       "    .dataframe thead th {\n",
       "        text-align: right;\n",
       "    }\n",
       "</style>\n",
       "<table border=\"1\" class=\"dataframe\">\n",
       "  <thead>\n",
       "    <tr style=\"text-align: right;\">\n",
       "      <th></th>\n",
       "      <th>Round 1 Qualifiers</th>\n",
       "    </tr>\n",
       "  </thead>\n",
       "  <tbody>\n",
       "    <tr>\n",
       "      <th>1001</th>\n",
       "      <td>120</td>\n",
       "    </tr>\n",
       "    <tr>\n",
       "      <th>1002</th>\n",
       "      <td>180</td>\n",
       "    </tr>\n",
       "    <tr>\n",
       "      <th>1003</th>\n",
       "      <td>126</td>\n",
       "    </tr>\n",
       "    <tr>\n",
       "      <th>1004</th>\n",
       "      <td>149</td>\n",
       "    </tr>\n",
       "    <tr>\n",
       "      <th>1005</th>\n",
       "      <td>126</td>\n",
       "    </tr>\n",
       "    <tr>\n",
       "      <th>1006</th>\n",
       "      <td>127</td>\n",
       "    </tr>\n",
       "    <tr>\n",
       "      <th>1008</th>\n",
       "      <td>127</td>\n",
       "    </tr>\n",
       "    <tr>\n",
       "      <th>1010</th>\n",
       "      <td>125</td>\n",
       "    </tr>\n",
       "    <tr>\n",
       "      <th>1011</th>\n",
       "      <td>126</td>\n",
       "    </tr>\n",
       "    <tr>\n",
       "      <th>1012</th>\n",
       "      <td>177</td>\n",
       "    </tr>\n",
       "    <tr>\n",
       "      <th>1014</th>\n",
       "      <td>142</td>\n",
       "    </tr>\n",
       "    <tr>\n",
       "      <th>1015</th>\n",
       "      <td>167</td>\n",
       "    </tr>\n",
       "    <tr>\n",
       "      <th>1017</th>\n",
       "      <td>144</td>\n",
       "    </tr>\n",
       "    <tr>\n",
       "      <th>1022</th>\n",
       "      <td>140</td>\n",
       "    </tr>\n",
       "    <tr>\n",
       "      <th>1024</th>\n",
       "      <td>148</td>\n",
       "    </tr>\n",
       "    <tr>\n",
       "      <th>1025</th>\n",
       "      <td>143</td>\n",
       "    </tr>\n",
       "    <tr>\n",
       "      <th>1028</th>\n",
       "      <td>129</td>\n",
       "    </tr>\n",
       "    <tr>\n",
       "      <th>1029</th>\n",
       "      <td>128</td>\n",
       "    </tr>\n",
       "    <tr>\n",
       "      <th>1030</th>\n",
       "      <td>165</td>\n",
       "    </tr>\n",
       "    <tr>\n",
       "      <th>1031</th>\n",
       "      <td>132</td>\n",
       "    </tr>\n",
       "    <tr>\n",
       "      <th>1033</th>\n",
       "      <td>150</td>\n",
       "    </tr>\n",
       "    <tr>\n",
       "      <th>1034</th>\n",
       "      <td>152</td>\n",
       "    </tr>\n",
       "    <tr>\n",
       "      <th>1035</th>\n",
       "      <td>157</td>\n",
       "    </tr>\n",
       "    <tr>\n",
       "      <th>1036</th>\n",
       "      <td>127</td>\n",
       "    </tr>\n",
       "    <tr>\n",
       "      <th>1037</th>\n",
       "      <td>150</td>\n",
       "    </tr>\n",
       "    <tr>\n",
       "      <th>1038</th>\n",
       "      <td>122</td>\n",
       "    </tr>\n",
       "    <tr>\n",
       "      <th>1039</th>\n",
       "      <td>175</td>\n",
       "    </tr>\n",
       "    <tr>\n",
       "      <th>1040</th>\n",
       "      <td>134</td>\n",
       "    </tr>\n",
       "  </tbody>\n",
       "</table>\n",
       "</div>"
      ],
      "text/plain": [
       "      Round 1 Qualifiers\n",
       "1001                 120\n",
       "1002                 180\n",
       "1003                 126\n",
       "1004                 149\n",
       "1005                 126\n",
       "1006                 127\n",
       "1008                 127\n",
       "1010                 125\n",
       "1011                 126\n",
       "1012                 177\n",
       "1014                 142\n",
       "1015                 167\n",
       "1017                 144\n",
       "1022                 140\n",
       "1024                 148\n",
       "1025                 143\n",
       "1028                 129\n",
       "1029                 128\n",
       "1030                 165\n",
       "1031                 132\n",
       "1033                 150\n",
       "1034                 152\n",
       "1035                 157\n",
       "1036                 127\n",
       "1037                 150\n",
       "1038                 122\n",
       "1039                 175\n",
       "1040                 134"
      ]
     },
     "execution_count": 15,
     "metadata": {},
     "output_type": "execute_result"
    }
   ],
   "source": [
    "df1=pd.DataFrame(a,columns=[\"Round 1 Qualifiers\"])\n",
    "df1"
   ]
  },
  {
   "cell_type": "code",
   "execution_count": null,
   "id": "00b26ff1",
   "metadata": {},
   "outputs": [],
   "source": [
    "pd.DataFrame({\"round 1\":a})"
   ]
  },
  {
   "cell_type": "markdown",
   "id": "9bae7800",
   "metadata": {},
   "source": [
    "Task 6\n",
    "Create a data frame of the students who qualify for round\n",
    "2 The conditions to qualify for round 2 are as follows\n",
    "• Minimum score of 50 in math.\n",
    "• - Minimum score of 50 in physics.\n",
    "• Sum of maths and physics scores is 120.\n",
    "The column name in the data frame should be \"round 2 qualifiers\". The data values in this column should be the student IDs of the qualifying students.\n",
    "Hint: Use the below code to get started\n",
    "x = physics_ser(physics ser >= 50) & (maths_ ser >=50)]\n",
    "Physics_ser is the Pandas Series variable that holds the physics scores of students."
   ]
  },
  {
   "cell_type": "code",
   "execution_count": 20,
   "id": "74c24d87",
   "metadata": {},
   "outputs": [
    {
     "data": {
      "text/html": [
       "<div>\n",
       "<style scoped>\n",
       "    .dataframe tbody tr th:only-of-type {\n",
       "        vertical-align: middle;\n",
       "    }\n",
       "\n",
       "    .dataframe tbody tr th {\n",
       "        vertical-align: top;\n",
       "    }\n",
       "\n",
       "    .dataframe thead th {\n",
       "        text-align: right;\n",
       "    }\n",
       "</style>\n",
       "<table border=\"1\" class=\"dataframe\">\n",
       "  <thead>\n",
       "    <tr style=\"text-align: right;\">\n",
       "      <th></th>\n",
       "      <th>round 2 qualifiers</th>\n",
       "    </tr>\n",
       "  </thead>\n",
       "  <tbody>\n",
       "    <tr>\n",
       "      <th>1002</th>\n",
       "      <td>94</td>\n",
       "    </tr>\n",
       "    <tr>\n",
       "      <th>1003</th>\n",
       "      <td>63</td>\n",
       "    </tr>\n",
       "    <tr>\n",
       "      <th>1004</th>\n",
       "      <td>59</td>\n",
       "    </tr>\n",
       "    <tr>\n",
       "      <th>1005</th>\n",
       "      <td>76</td>\n",
       "    </tr>\n",
       "    <tr>\n",
       "      <th>1006</th>\n",
       "      <td>64</td>\n",
       "    </tr>\n",
       "    <tr>\n",
       "      <th>1008</th>\n",
       "      <td>55</td>\n",
       "    </tr>\n",
       "    <tr>\n",
       "      <th>1010</th>\n",
       "      <td>71</td>\n",
       "    </tr>\n",
       "    <tr>\n",
       "      <th>1011</th>\n",
       "      <td>54</td>\n",
       "    </tr>\n",
       "    <tr>\n",
       "      <th>1012</th>\n",
       "      <td>94</td>\n",
       "    </tr>\n",
       "    <tr>\n",
       "      <th>1014</th>\n",
       "      <td>72</td>\n",
       "    </tr>\n",
       "    <tr>\n",
       "      <th>1015</th>\n",
       "      <td>75</td>\n",
       "    </tr>\n",
       "    <tr>\n",
       "      <th>1017</th>\n",
       "      <td>85</td>\n",
       "    </tr>\n",
       "    <tr>\n",
       "      <th>1022</th>\n",
       "      <td>55</td>\n",
       "    </tr>\n",
       "    <tr>\n",
       "      <th>1024</th>\n",
       "      <td>65</td>\n",
       "    </tr>\n",
       "    <tr>\n",
       "      <th>1025</th>\n",
       "      <td>76</td>\n",
       "    </tr>\n",
       "    <tr>\n",
       "      <th>1028</th>\n",
       "      <td>70</td>\n",
       "    </tr>\n",
       "    <tr>\n",
       "      <th>1029</th>\n",
       "      <td>51</td>\n",
       "    </tr>\n",
       "    <tr>\n",
       "      <th>1030</th>\n",
       "      <td>94</td>\n",
       "    </tr>\n",
       "    <tr>\n",
       "      <th>1031</th>\n",
       "      <td>55</td>\n",
       "    </tr>\n",
       "    <tr>\n",
       "      <th>1033</th>\n",
       "      <td>71</td>\n",
       "    </tr>\n",
       "    <tr>\n",
       "      <th>1034</th>\n",
       "      <td>91</td>\n",
       "    </tr>\n",
       "    <tr>\n",
       "      <th>1035</th>\n",
       "      <td>75</td>\n",
       "    </tr>\n",
       "    <tr>\n",
       "      <th>1036</th>\n",
       "      <td>51</td>\n",
       "    </tr>\n",
       "    <tr>\n",
       "      <th>1037</th>\n",
       "      <td>90</td>\n",
       "    </tr>\n",
       "    <tr>\n",
       "      <th>1038</th>\n",
       "      <td>70</td>\n",
       "    </tr>\n",
       "    <tr>\n",
       "      <th>1039</th>\n",
       "      <td>87</td>\n",
       "    </tr>\n",
       "    <tr>\n",
       "      <th>1040</th>\n",
       "      <td>56</td>\n",
       "    </tr>\n",
       "  </tbody>\n",
       "</table>\n",
       "</div>"
      ],
      "text/plain": [
       "      round 2 qualifiers\n",
       "1002                  94\n",
       "1003                  63\n",
       "1004                  59\n",
       "1005                  76\n",
       "1006                  64\n",
       "1008                  55\n",
       "1010                  71\n",
       "1011                  54\n",
       "1012                  94\n",
       "1014                  72\n",
       "1015                  75\n",
       "1017                  85\n",
       "1022                  55\n",
       "1024                  65\n",
       "1025                  76\n",
       "1028                  70\n",
       "1029                  51\n",
       "1030                  94\n",
       "1031                  55\n",
       "1033                  71\n",
       "1034                  91\n",
       "1035                  75\n",
       "1036                  51\n",
       "1037                  90\n",
       "1038                  70\n",
       "1039                  87\n",
       "1040                  56"
      ]
     },
     "execution_count": 20,
     "metadata": {},
     "output_type": "execute_result"
    }
   ],
   "source": [
    "condition1 = (maths_marks_series>=50) & (physics_marks_series>=50) & ((sum_of_maths_and_physics>120))\n",
    "round_2_qualifiers  = physics_marks_series[condition1]\n",
    "df2 = pd.DataFrame(round_2_qualifiers, columns = [\"round 2 qualifiers\"])\n",
    "df2"
   ]
  },
  {
   "cell_type": "code",
   "execution_count": null,
   "id": "cc5e662b",
   "metadata": {},
   "outputs": [],
   "source": []
  },
  {
   "cell_type": "markdown",
   "id": "fd41e05e",
   "metadata": {},
   "source": [
    "Task 7\n",
    "Display the count of the students who qualify for the round 2"
   ]
  },
  {
   "cell_type": "code",
   "execution_count": 130,
   "id": "82addd66",
   "metadata": {},
   "outputs": [
    {
     "name": "stdout",
     "output_type": "stream",
     "text": [
      "The total count of students who qualified for round 2 are 28\n"
     ]
    }
   ],
   "source": [
    "print(\"The total count of students who qualified for round 2 are\" ,len(df2))"
   ]
  },
  {
   "cell_type": "code",
   "execution_count": null,
   "id": "cc15ef52",
   "metadata": {},
   "outputs": [],
   "source": []
  },
  {
   "cell_type": "code",
   "execution_count": null,
   "id": "3f1c9e1f",
   "metadata": {},
   "outputs": [],
   "source": []
  }
 ],
 "metadata": {
  "kernelspec": {
   "display_name": "Python 3 (ipykernel)",
   "language": "python",
   "name": "python3"
  },
  "language_info": {
   "codemirror_mode": {
    "name": "ipython",
    "version": 3
   },
   "file_extension": ".py",
   "mimetype": "text/x-python",
   "name": "python",
   "nbconvert_exporter": "python",
   "pygments_lexer": "ipython3",
   "version": "3.11.5"
  }
 },
 "nbformat": 4,
 "nbformat_minor": 5
}
