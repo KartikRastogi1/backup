{
 "cells": [
  {
   "cell_type": "markdown",
   "id": "e3cf258c",
   "metadata": {},
   "source": [
    "39). Write a Python program that uses the sorted() function to sort a given list of numbers in ascending order"
   ]
  },
  {
   "cell_type": "code",
   "execution_count": 2,
   "id": "e3b0adc2",
   "metadata": {},
   "outputs": [
    {
     "data": {
      "text/plain": [
       "[3, 6, 12, 36, 67, 90]"
      ]
     },
     "execution_count": 2,
     "metadata": {},
     "output_type": "execute_result"
    }
   ],
   "source": [
    "l2= [36,67,90,12,6,3]            #list\n",
    "sorted(l2)                          #used sorted() function"
   ]
  },
  {
   "cell_type": "code",
   "execution_count": null,
   "id": "bb89d536",
   "metadata": {},
   "outputs": [],
   "source": []
  },
  {
   "cell_type": "code",
   "execution_count": null,
   "id": "c2ad90b3",
   "metadata": {},
   "outputs": [],
   "source": []
  }
 ],
 "metadata": {
  "kernelspec": {
   "display_name": "Python 3 (ipykernel)",
   "language": "python",
   "name": "python3"
  },
  "language_info": {
   "codemirror_mode": {
    "name": "ipython",
    "version": 3
   },
   "file_extension": ".py",
   "mimetype": "text/x-python",
   "name": "python",
   "nbconvert_exporter": "python",
   "pygments_lexer": "ipython3",
   "version": "3.11.5"
  }
 },
 "nbformat": 4,
 "nbformat_minor": 5
}
