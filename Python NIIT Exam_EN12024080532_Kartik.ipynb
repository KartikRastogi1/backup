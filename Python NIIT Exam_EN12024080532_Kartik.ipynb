{
 "cells": [
  {
   "cell_type": "markdown",
   "id": "43507e1f",
   "metadata": {},
   "source": [
    "37).Write a Python program that uses the print() function to display different data types on the console."
   ]
  },
  {
   "cell_type": "code",
   "execution_count": 9,
   "id": "28a07b7e",
   "metadata": {},
   "outputs": [
    {
     "name": "stdout",
     "output_type": "stream",
     "text": [
      "Integer: 2\n",
      "\n",
      "Float: 2.5\n",
      "\n",
      "Boolean: True\n",
      "\n",
      "String: Kartik\n",
      "\n",
      "Dictionary {'kartik': 1, 'harsh': 2, 'aditi': 3}\n",
      "\n",
      "Tuple: (1, 24, 43, 8, 6, 11)\n",
      "\n",
      "set: {1, 3, 4, 5, 6, 7, 8}\n",
      "\n",
      "List: [12, 34, 10, 24, 3, 100, 2]\n",
      "\n"
     ]
    }
   ],
   "source": [
    "int1 = 2\n",
    "float1 = 2.5\n",
    "bool1 = True\n",
    "s = \"Kartik\"\n",
    "list1 = [12, 34, 10, 24,3,100,2]\n",
    "dictionary = {'kartik': 1, 'harsh': 2, 'aditi': 3}\n",
    "tuple1 = (1, 24, 43, 8, 6,11)\n",
    "set1={1,3,4,5,6,7,8}\n",
    "\n",
    "# using the normal print statement\n",
    "print(\"Integer:\", int1)\n",
    "print(\"\")\n",
    "print(\"Float:\", float1)\n",
    "print(\"\")\n",
    "print(\"Boolean:\", bool1)\n",
    "print(\"\")\n",
    "print(\"String:\", s)\n",
    "print(\"\")\n",
    "print(\"Dictionary\",dictionary)\n",
    "print(\"\")\n",
    "print(\"Tuple:\", tuple1)\n",
    "print(\"\")\n",
    "print(\"set:\", set1)\n",
    "print(\"\")\n",
    "print(\"List:\",list1)\n",
    "print(\"\")"
   ]
  },
  {
   "cell_type": "code",
   "execution_count": 10,
   "id": "5ade320a",
   "metadata": {},
   "outputs": [
    {
     "name": "stdout",
     "output_type": "stream",
     "text": [
      "<class 'int'>\n",
      "<class 'float'>\n",
      "<class 'str'>\n",
      "<class 'bool'>\n",
      "<class 'list'>\n",
      "<class 'tuple'>\n",
      "<class 'dict'>\n"
     ]
    }
   ],
   "source": [
    "n = 2\n",
    "print(type(n))\n",
    "n=2.2\n",
    "print(type(n))\n",
    "s=\"program\"\n",
    "print(type(s))\n",
    "bool = True\n",
    "print(type(bool))\n",
    "l1 = [1,2,3,4,\"harsh\",\"rahul\"]\n",
    "print(type(l1))\n",
    "t1 = (\"book\",\"food\",\"phone\",1,3)\n",
    "print(type(t1))\n",
    "d1 = {\"kartik\":2 ,\"harsh\":5, \"sourabh\":6}\n",
    "print(type(d1))"
   ]
  },
  {
   "cell_type": "markdown",
   "id": "2dc102f9",
   "metadata": {},
   "source": [
    "38). Write a Python program that uses the range() function to generate a list of numbers from 1 to 10."
   ]
  },
  {
   "cell_type": "code",
   "execution_count": 11,
   "id": "484288d7",
   "metadata": {},
   "outputs": [
    {
     "data": {
      "text/plain": [
       "[1, 2, 3, 4, 5, 6, 7, 8, 9, 10]"
      ]
     },
     "execution_count": 11,
     "metadata": {},
     "output_type": "execute_result"
    }
   ],
   "source": [
    "list1=[]  # declaring empty list\n",
    "for i in range(1,11):\n",
    "    list1.append(i)\n",
    "list1   "
   ]
  },
  {
   "cell_type": "markdown",
   "id": "c655bea1",
   "metadata": {},
   "source": [
    "39). Write a Python program that uses the sorted() function to sort a given list of numbers in ascending \n",
    "order."
   ]
  },
  {
   "cell_type": "code",
   "execution_count": 12,
   "id": "86f1870a",
   "metadata": {},
   "outputs": [
    {
     "data": {
      "text/plain": [
       "[3, 6, 12, 36, 67, 90]"
      ]
     },
     "execution_count": 12,
     "metadata": {},
     "output_type": "execute_result"
    }
   ],
   "source": [
    "l2= [36,67,90,12,6,3]\n",
    "sorted(l2)"
   ]
  },
  {
   "cell_type": "markdown",
   "id": "e0d2f3be",
   "metadata": {},
   "source": [
    "40). Write a Python program that generates a random number between 1 and 100 and asks the user to \n",
    "guess it.\n"
   ]
  },
  {
   "cell_type": "code",
   "execution_count": 13,
   "id": "a21b62f6",
   "metadata": {},
   "outputs": [
    {
     "name": "stdout",
     "output_type": "stream",
     "text": [
      "Guess the number between 1 and 100: 67\n",
      "Too high! The number was: 2\n"
     ]
    }
   ],
   "source": [
    "import random                        #imported random\n",
    "\n",
    "number = random.randint(1, 100)            # Generate a random number between 1 and 100\n",
    "\n",
    "guess = int(input(\"Guess the number between 1 and 100: \"))\n",
    "\n",
    "# Check if the guess is correct\n",
    "if guess == number:\n",
    "    print(\"Congratulations! You guessed it right!\")\n",
    "elif guess < number:\n",
    "    print(\"Too low! The number was:\",number)\n",
    "else:\n",
    "    print(\"Too high! The number was:\",number)"
   ]
  },
  {
   "cell_type": "markdown",
   "id": "b9909dbf",
   "metadata": {},
   "source": [
    "41).Write a Python program that calculates the discount for a product based on its original price and a \n",
    "discount percentage."
   ]
  },
  {
   "cell_type": "code",
   "execution_count": 14,
   "id": "da219687",
   "metadata": {},
   "outputs": [
    {
     "name": "stdout",
     "output_type": "stream",
     "text": [
      "Enter total bill amount:345\n",
      "Enter the discount percentage:19\n",
      "this is discount amount 65.55\n",
      "This is discount price 279.45\n"
     ]
    }
   ],
   "source": [
    "Total_price = int(input(\"Enter total bill amount:\")) \n",
    "discount_per = float(input(\"Enter the discount percentage:\"))\n",
    "discount_amount = Total_price * (discount_per / 100)\n",
    "discounted_price = Total_price - discount_amount\n",
    "print(\"this is discount amount\",discount_amount)\n",
    "print(\"This is discount price\",discounted_price)\n",
    "    "
   ]
  },
  {
   "cell_type": "code",
   "execution_count": 15,
   "id": "5a34f555",
   "metadata": {},
   "outputs": [
    {
     "name": "stdout",
     "output_type": "stream",
     "text": [
      "enter total bill amount2000\n",
      "congrats you'll get 10% discount on your purchase \n",
      "Your discount is 200.0\n",
      "Your total bill after deducting the discount 1800.0 $\n"
     ]
    }
   ],
   "source": [
    "Total_bill = int(input(\"enter total bill amount\"))\n",
    "print(\"congrats you'll get 10% discount on your purchase \")\n",
    "discount=Total_bill * (10/100)\n",
    "print(\"Your discount is\",discount)\n",
    "print(\"Your total bill after deducting the discount\",Total_bill-discount,'$')"
   ]
  },
  {
   "cell_type": "markdown",
   "id": "728b94e6",
   "metadata": {},
   "source": [
    "42). Write a Python program that uses a for loop to iterate over a list of numbers and find the largest \n",
    "number in the list."
   ]
  },
  {
   "cell_type": "code",
   "execution_count": 16,
   "id": "6d34839a",
   "metadata": {},
   "outputs": [
    {
     "name": "stdout",
     "output_type": "stream",
     "text": [
      "Largest number is 100\n"
     ]
    }
   ],
   "source": [
    "n = [12,23,45,65,78,98,100]       #list\n",
    "largest = n[0]                    #to compare the largest number, first assign largest number is 12\n",
    "for i in n:\n",
    "    if i > largest:\n",
    "        largest=i\n",
    "print(\"Largest number is\",largest)\n",
    "    "
   ]
  },
  {
   "cell_type": "markdown",
   "id": "5565ab56",
   "metadata": {},
   "source": [
    "43). Write a Python program that uses a for loop to iterate over a list of words and count the number of \n",
    "words that start with the letter 'a'."
   ]
  },
  {
   "cell_type": "code",
   "execution_count": 17,
   "id": "6fb09bdd",
   "metadata": {},
   "outputs": [
    {
     "name": "stdout",
     "output_type": "stream",
     "text": [
      " the number of words that start with the letter 'a' is 3\n"
     ]
    }
   ],
   "source": [
    "word = [\"apple\",\"air\",\"and\",\"hello\",\"book\"]\n",
    "count= 0\n",
    "for i in word:\n",
    "    if i[0]=='a':\n",
    "        count=count+1\n",
    "print(\" the number of words that start with the letter 'a' is\",count)"
   ]
  },
  {
   "cell_type": "markdown",
   "id": "fa7c4fb5",
   "metadata": {},
   "source": [
    "44). Write a Python program that uses a for loop to iterate over a list of words and reverse the order of \n",
    "the words in the list."
   ]
  },
  {
   "cell_type": "code",
   "execution_count": 19,
   "id": "f3e702f2",
   "metadata": {},
   "outputs": [
    {
     "name": "stdout",
     "output_type": "stream",
     "text": [
      "['neeraj', 'ishika', 'anika', 'sourabh', 'harsh']\n"
     ]
    }
   ],
   "source": [
    "l = [\"harsh\", \"sourabh\", \"anika\", \"ishika\", \"neeraj\"]\n",
    "reverse_l = []\n",
    "for i in range(len(l)):\n",
    "    reverse_l.append(i)\n",
    "print(l[::-1])"
   ]
  },
  {
   "cell_type": "code",
   "execution_count": null,
   "id": "80a3f793",
   "metadata": {},
   "outputs": [],
   "source": []
  }
 ],
 "metadata": {
  "kernelspec": {
   "display_name": "Python 3 (ipykernel)",
   "language": "python",
   "name": "python3"
  },
  "language_info": {
   "codemirror_mode": {
    "name": "ipython",
    "version": 3
   },
   "file_extension": ".py",
   "mimetype": "text/x-python",
   "name": "python",
   "nbconvert_exporter": "python",
   "pygments_lexer": "ipython3",
   "version": "3.11.5"
  }
 },
 "nbformat": 4,
 "nbformat_minor": 5
}
