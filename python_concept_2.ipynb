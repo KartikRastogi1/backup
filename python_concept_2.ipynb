{
 "cells": [
  {
   "cell_type": "code",
   "execution_count": 10,
   "id": "a89ddc10",
   "metadata": {},
   "outputs": [
    {
     "name": "stdout",
     "output_type": "stream",
     "text": [
      "the radius of circle is 5 the value of pi is 3.14\n",
      "the area of circle is 78.5\n"
     ]
    }
   ],
   "source": [
    "r = 5\n",
    "pi= 3.14\n",
    "area = pi*r**2\n",
    "print(\"the radius of circle is\",r,end = ' ')\n",
    "print(\"the value of pi is\",pi)\n",
    "print(\"the area of circle is\",area)"
   ]
  },
  {
   "cell_type": "code",
   "execution_count": 12,
   "id": "4305d2b3",
   "metadata": {},
   "outputs": [
    {
     "name": "stdout",
     "output_type": "stream",
     "text": [
      " operation      shape      value\n",
      "      area     circle    78.5000\n"
     ]
    }
   ],
   "source": [
    "print(\"%10s %10s %10s\" %(\"operation\", \"shape\", \"value\"))                #important\n",
    "print(\"%10s %10s %10.4f\" %(\"area\", \"circle\", area))                 "
   ]
  },
  {
   "cell_type": "code",
   "execution_count": 8,
   "id": "5f51a56a",
   "metadata": {},
   "outputs": [
    {
     "name": "stdout",
     "output_type": "stream",
     "text": [
      "34\n",
      "23\n"
     ]
    }
   ],
   "source": [
    "x=int(input())\n",
    "y=int(input())\n"
   ]
  },
  {
   "cell_type": "code",
   "execution_count": 9,
   "id": "8b08247f",
   "metadata": {},
   "outputs": [
    {
     "data": {
      "text/plain": [
       "34"
      ]
     },
     "execution_count": 9,
     "metadata": {},
     "output_type": "execute_result"
    }
   ],
   "source": [
    "x\n"
   ]
  },
  {
   "cell_type": "code",
   "execution_count": 10,
   "id": "d7007afe",
   "metadata": {},
   "outputs": [
    {
     "data": {
      "text/plain": [
       "23"
      ]
     },
     "execution_count": 10,
     "metadata": {},
     "output_type": "execute_result"
    }
   ],
   "source": [
    "y"
   ]
  },
  {
   "cell_type": "code",
   "execution_count": 11,
   "id": "96227b89",
   "metadata": {},
   "outputs": [
    {
     "data": {
      "text/plain": [
       "57"
      ]
     },
     "execution_count": 11,
     "metadata": {},
     "output_type": "execute_result"
    }
   ],
   "source": [
    "x+y"
   ]
  },
  {
   "cell_type": "code",
   "execution_count": 13,
   "id": "198eb07b",
   "metadata": {},
   "outputs": [],
   "source": [
    "a= 90"
   ]
  },
  {
   "cell_type": "code",
   "execution_count": 14,
   "id": "385e0f00",
   "metadata": {},
   "outputs": [
    {
     "data": {
      "text/plain": [
       "int"
      ]
     },
     "execution_count": 14,
     "metadata": {},
     "output_type": "execute_result"
    }
   ],
   "source": [
    "type(a)"
   ]
  },
  {
   "cell_type": "code",
   "execution_count": 15,
   "id": "252618e5",
   "metadata": {},
   "outputs": [],
   "source": [
    "a=str(a)"
   ]
  },
  {
   "cell_type": "code",
   "execution_count": 16,
   "id": "578cde29",
   "metadata": {},
   "outputs": [
    {
     "data": {
      "text/plain": [
       "str"
      ]
     },
     "execution_count": 16,
     "metadata": {},
     "output_type": "execute_result"
    }
   ],
   "source": [
    "type(a)"
   ]
  },
  {
   "cell_type": "code",
   "execution_count": 17,
   "id": "7ef06739",
   "metadata": {},
   "outputs": [],
   "source": [
    "s=\"harsh\""
   ]
  },
  {
   "cell_type": "code",
   "execution_count": 18,
   "id": "e4042f27",
   "metadata": {},
   "outputs": [
    {
     "data": {
      "text/plain": [
       "str"
      ]
     },
     "execution_count": 18,
     "metadata": {},
     "output_type": "execute_result"
    }
   ],
   "source": [
    "type(s)"
   ]
  },
  {
   "cell_type": "code",
   "execution_count": 19,
   "id": "cdda85e5",
   "metadata": {},
   "outputs": [
    {
     "ename": "ValueError",
     "evalue": "invalid literal for int() with base 10: 'harsh'",
     "output_type": "error",
     "traceback": [
      "\u001b[1;31m---------------------------------------------------------------------------\u001b[0m",
      "\u001b[1;31mValueError\u001b[0m                                Traceback (most recent call last)",
      "Cell \u001b[1;32mIn[19], line 1\u001b[0m\n\u001b[1;32m----> 1\u001b[0m \u001b[38;5;28mint\u001b[39m(s)\n",
      "\u001b[1;31mValueError\u001b[0m: invalid literal for int() with base 10: 'harsh'"
     ]
    }
   ],
   "source": [
    "int(s)"
   ]
  },
  {
   "cell_type": "code",
   "execution_count": 2,
   "id": "d85efd00",
   "metadata": {},
   "outputs": [
    {
     "data": {
      "text/plain": [
       "708"
      ]
     },
     "execution_count": 2,
     "metadata": {},
     "output_type": "execute_result"
    }
   ],
   "source": [
    "s=\"708\"\n",
    "int(s)"
   ]
  },
  {
   "cell_type": "code",
   "execution_count": 3,
   "id": "b764c91a",
   "metadata": {},
   "outputs": [
    {
     "data": {
      "text/plain": [
       "708.0"
      ]
     },
     "execution_count": 3,
     "metadata": {},
     "output_type": "execute_result"
    }
   ],
   "source": [
    "s=\"708\"\n",
    "float(s)"
   ]
  },
  {
   "cell_type": "code",
   "execution_count": 4,
   "id": "a06a35f1",
   "metadata": {},
   "outputs": [],
   "source": [
    "a=10\n",
    "b=89.12"
   ]
  },
  {
   "cell_type": "code",
   "execution_count": 5,
   "id": "1a0fcc12",
   "metadata": {},
   "outputs": [
    {
     "data": {
      "text/plain": [
       "int"
      ]
     },
     "execution_count": 5,
     "metadata": {},
     "output_type": "execute_result"
    }
   ],
   "source": [
    "type(a)"
   ]
  },
  {
   "cell_type": "code",
   "execution_count": 6,
   "id": "762a8386",
   "metadata": {},
   "outputs": [
    {
     "data": {
      "text/plain": [
       "float"
      ]
     },
     "execution_count": 6,
     "metadata": {},
     "output_type": "execute_result"
    }
   ],
   "source": [
    "type(b)"
   ]
  },
  {
   "cell_type": "code",
   "execution_count": 7,
   "id": "5d1d73c6",
   "metadata": {},
   "outputs": [
    {
     "data": {
      "text/plain": [
       "99.12"
      ]
     },
     "execution_count": 7,
     "metadata": {},
     "output_type": "execute_result"
    }
   ],
   "source": [
    "c=a+b        #implicit typecasting\n",
    "c"
   ]
  },
  {
   "cell_type": "code",
   "execution_count": 8,
   "id": "ccc0eb2a",
   "metadata": {},
   "outputs": [
    {
     "data": {
      "text/plain": [
       "float"
      ]
     },
     "execution_count": 8,
     "metadata": {},
     "output_type": "execute_result"
    }
   ],
   "source": [
    "type(c)"
   ]
  },
  {
   "cell_type": "code",
   "execution_count": 8,
   "id": "9e12a5af",
   "metadata": {},
   "outputs": [
    {
     "data": {
      "text/plain": [
       "10.0"
      ]
     },
     "execution_count": 8,
     "metadata": {},
     "output_type": "execute_result"
    }
   ],
   "source": [
    "100/10             #implicit typecasting\n"
   ]
  },
  {
   "cell_type": "code",
   "execution_count": null,
   "id": "46239077",
   "metadata": {},
   "outputs": [],
   "source": [
    "#conditional statement\n",
    "#if\n",
    "#if else\n",
    "#if elif else"
   ]
  },
  {
   "cell_type": "code",
   "execution_count": 25,
   "id": "2c14289d",
   "metadata": {},
   "outputs": [],
   "source": [
    "marks_eng = 56\n"
   ]
  },
  {
   "cell_type": "code",
   "execution_count": 30,
   "id": "0e36863f",
   "metadata": {},
   "outputs": [
    {
     "name": "stdout",
     "output_type": "stream",
     "text": [
      "pass\n",
      "i am happy\n"
     ]
    }
   ],
   "source": [
    "if marks_eng>35:\n",
    "    print('pass')            #inside the if statement(indentation)\n",
    "print('i am happy')          #outside \n",
    "#print('happy')"
   ]
  },
  {
   "cell_type": "code",
   "execution_count": 33,
   "id": "54ca08a8",
   "metadata": {},
   "outputs": [
    {
     "name": "stdout",
     "output_type": "stream",
     "text": [
      "failed\n",
      "sad\n"
     ]
    }
   ],
   "source": [
    "if marks_eng<35:\n",
    "    print('pass')               #if else\n",
    "    print('i am happy')  \n",
    "else:\n",
    "    print(\"failed\")\n",
    "    print('sad')"
   ]
  },
  {
   "cell_type": "code",
   "execution_count": null,
   "id": "0f341dea",
   "metadata": {},
   "outputs": [],
   "source": [
    "0-35 failed\n",
    "36 to 60 second class\n",
    "60 - 79 first class\n",
    "80 above distinction"
   ]
  },
  {
   "cell_type": "code",
   "execution_count": 1,
   "id": "fde05d92",
   "metadata": {},
   "outputs": [
    {
     "name": "stdout",
     "output_type": "stream",
     "text": [
      "Enter the marks:45\n",
      "second class\n"
     ]
    }
   ],
   "source": [
    "marks = int(input(\"Enter the marks:\"))             #if elif else\n",
    "if marks< 35:\n",
    "    print('failed')\n",
    "elif marks >=35 and marks<=60:\n",
    "    print('second class')\n",
    "elif marks >=60 and marks <80:\n",
    "    print(\"first class\")\n",
    "else:\n",
    "    print('distinction')\n",
    "    "
   ]
  },
  {
   "cell_type": "code",
   "execution_count": 3,
   "id": "24c55f89",
   "metadata": {},
   "outputs": [
    {
     "name": "stdout",
     "output_type": "stream",
     "text": [
      "enter a number67\n",
      "not divisible\n"
     ]
    }
   ],
   "source": [
    "a=int(input('enter a number'))\n",
    "if a%7==0:\n",
    "    print('YES, it is divisble by 7')\n",
    "else:\n",
    "    print('not divisible')"
   ]
  },
  {
   "cell_type": "code",
   "execution_count": 6,
   "id": "6feeba6d",
   "metadata": {},
   "outputs": [
    {
     "name": "stdout",
     "output_type": "stream",
     "text": [
      "enter a number:56\n",
      "even\n"
     ]
    }
   ],
   "source": [
    "num = int(input(\"enter a number:\"))\n",
    "if num % 2==0:\n",
    "    print(\"even\")\n",
    "else:\n",
    "    print(\"odd\")"
   ]
  },
  {
   "cell_type": "code",
   "execution_count": null,
   "id": "6878d3fa",
   "metadata": {},
   "outputs": [],
   "source": []
  },
  {
   "cell_type": "code",
   "execution_count": null,
   "id": "69924442",
   "metadata": {},
   "outputs": [],
   "source": []
  }
 ],
 "metadata": {
  "kernelspec": {
   "display_name": "Python 3 (ipykernel)",
   "language": "python",
   "name": "python3"
  },
  "language_info": {
   "codemirror_mode": {
    "name": "ipython",
    "version": 3
   },
   "file_extension": ".py",
   "mimetype": "text/x-python",
   "name": "python",
   "nbconvert_exporter": "python",
   "pygments_lexer": "ipython3",
   "version": "3.11.5"
  }
 },
 "nbformat": 4,
 "nbformat_minor": 5
}
