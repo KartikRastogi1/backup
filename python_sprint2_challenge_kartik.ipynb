{
 "cells": [
  {
   "cell_type": "code",
   "execution_count": null,
   "id": "3f1e21a4",
   "metadata": {},
   "outputs": [],
   "source": [
    "#task 1\n",
    "#Accept an integer between 1900 and 2100 from the user.\n",
    "Display whether the integer is a leap year or not. The program should display an error if the integer entered lies outside \n",
    "the specified range."
   ]
  },
  {
   "cell_type": "code",
   "execution_count": 4,
   "id": "ca7ba3e4",
   "metadata": {},
   "outputs": [
    {
     "name": "stdout",
     "output_type": "stream",
     "text": [
      "enter a integer between 1900-2100:2026\n",
      "2026 not a leap year\n"
     ]
    }
   ],
   "source": [
    "year = int(input('enter a integer between 1900-2100:'))\n",
    "if year>=1900 and year<=2100:\n",
    "    if (year%400==0) or (year%100!=0) and (year%4==0):                                 #If a year can be evenly divided by 4, it's a leap year.\n",
    "        print(year,\"leap year\")\n",
    "    elif (year%400!=0) or (year%100==0) and (year%4!=0): \n",
    "        print(year,\"not a leap year\")\n",
    "else:\n",
    "    print(\"error\")"
   ]
  },
  {
   "cell_type": "code",
   "execution_count": null,
   "id": "d0d99019",
   "metadata": {},
   "outputs": [],
   "source": [
    "#Accept an integer between 1 and 12. Write a Python program to display the name of the month and the number of days in that\n",
    "#month. The program must display an error for any number entered outside this range.\n",
    "#Note: Ignore the exception of an extra day in the month of February during a leap year."
   ]
  },
  {
   "cell_type": "code",
   "execution_count": 16,
   "id": "4faf1381",
   "metadata": {},
   "outputs": [
    {
     "name": "stdout",
     "output_type": "stream",
     "text": [
      "Enter a integer between 1 and 12:23\n",
      "Error, the number is entered outside of the specified range\n"
     ]
    }
   ],
   "source": [
    "month = int(input(\"Enter a integer between 1 and 12:\"))\n",
    "if(month==1):\n",
    "    print('January is the month and the number of days are 31')\n",
    "elif(month==2):\n",
    "    print('February is the month and the number of days are 28')\n",
    "elif(month==3):\n",
    "    print('March is the month and the number of days are 31')\n",
    "elif(month==4):\n",
    "    print('April is the month and the number of days are 30')\n",
    "elif(month==5):\n",
    "    print('May is the month and the number of days are 31')\n",
    "elif(month==6):\n",
    "    print('June is the month and the number of days are 30')\n",
    "elif(month==7):\n",
    "    print('July is the month and the number of days are 31')\n",
    "elif(month==8):\n",
    "    print('August is the month and the number of days are 31')\n",
    "elif(month==9):\n",
    "    print('September is the month and the number of days are 30')\n",
    "elif(month==10):\n",
    "    print('Octuber is the month and the number of days are 31')\n",
    "elif(month==11):\n",
    "    print('November is the month and the number of days are 30')\n",
    "elif(month==12):\n",
    "    print('December is the month and the number of days are 31')\n",
    "else:\n",
    "    print('Error, the number is entered outside of the specified range')"
   ]
  },
  {
   "cell_type": "code",
   "execution_count": null,
   "id": "6891f0b3",
   "metadata": {},
   "outputs": [],
   "source": [
    "#Accept the total bill amount from the user. Calculate the discount (if any) and display the total bill, \n",
    "#the discount calculated, and bill amount after deducting the discount.\n",
    "#Total bill amount (in $)\n",
    "Discount offered    discount\n",
    "Less than 100 :       0\n",
    "\n",
    "Between 100 and 150 : 10%\n",
    "Between 150 and 250 : 15%\n",
    "Above 250           : 25%"
   ]
  },
  {
   "cell_type": "code",
   "execution_count": 12,
   "id": "1e5345c4",
   "metadata": {},
   "outputs": [
    {
     "name": "stdout",
     "output_type": "stream",
     "text": [
      "enter total bill amount:$456\n",
      "congrats you'll get 25% discount on your purchase \n",
      "Your discount is 114.0\n",
      "Your total bill after deducting the discount 342.0 $\n"
     ]
    }
   ],
   "source": [
    "Total_bill= int(input(\"enter total bill amount:$\"))\n",
    "if Total_bill < 100:\n",
    "    print(\"sorry No discount!\",Total_bill,'$')\n",
    "elif Total_bill>=100 and Total_bill<=150:\n",
    "    print(\"congrats you'll get 10% discount on your purchase \")\n",
    "    discount=Total_bill * (10/100)\n",
    "    print(\"Your discount is\",discount)\n",
    "    print(\"Your total bill after deducting the discount\",Total_bill-discount,'$')\n",
    "elif Total_bill>=150 and Total_bill<=250:\n",
    "    print(\"congrats you'll get 15% discount on your purchase \")\n",
    "    discount=Total_bill * (15/100)\n",
    "    print(\"Your discount is\",discount)\n",
    "    print(\"Your total bill after deducting the discount\",Total_bill-discount,'$')\n",
    "elif Total_bill > 250:\n",
    "    print(\"congrats you'll get 25% discount on your purchase \")\n",
    "    discount=Total_bill * (25/100)\n",
    "    print(\"Your discount is\",discount)\n",
    "    print(\"Your total bill after deducting the discount\",Total_bill-discount,'$')\n",
    "    \n",
    "\n",
    "          \n",
    "          "
   ]
  },
  {
   "cell_type": "code",
   "execution_count": null,
   "id": "c3933669",
   "metadata": {},
   "outputs": [],
   "source": [
    "#task4As you probably know, Rock-Paper-Scissors is a hand game for two or more players. Participants say \"rock, paper, scissors\" and then simultaneously form their hands into one of these shapes: a rock (a fist), a piece of paper (palm facing downward), or a pair of scissors (two fingers extended).\n",
    "#The rules are straightforward:\n",
    "#• Rock smashes scissors.\n",
    "#• Paper covers rock.\n",
    "#• Scissors cut paper.\n",
    "#Think about how the rules of the game can be translated to Python code and build the Rock-Paper-Scissors game using Python. \n",
    "#Player 1 is the computer (random event generator) in the Rock-Paper-Scissors game"
   ]
  },
  {
   "cell_type": "code",
   "execution_count": 28,
   "id": "21a33df6",
   "metadata": {},
   "outputs": [
    {
     "name": "stdout",
     "output_type": "stream",
     "text": [
      "Welcome to the Rock-Paper-Scissors game\n",
      "Rules are straightforward\n",
      "*Players can enter one choice at a time, else invalid choice\n",
      "*Rock smashes scissors\n",
      "*Paper covers rock\n",
      "*Scissors cut paper\n",
      "*If both player's choice is same, Then it is draw\n",
      "You are Player 2 and Computer is PLayer 1\n",
      " \n",
      "Get ready to play\n",
      "\n",
      "enter your choice(player2):rock\n",
      "Your choice rock\n",
      "Player 1 choice was rock\n",
      " \n",
      "DRAW!!!. Same choice.Play again\n",
      " \n",
      "THANK YOU FOR PLAYING\n"
     ]
    }
   ],
   "source": [
    "import random                                                        #library to give random result\n",
    "print(\"Welcome to the Rock-Paper-Scissors game\")\n",
    "print(\"Rules are straightforward\")\n",
    "print(\"*Players can enter one choice at a time, else invalid choice\")\n",
    "print(\"*Rock smashes scissors\")\n",
    "print(\"*Paper covers rock\")\n",
    "print(\"*Scissors cut paper\")\n",
    "print(\"*If both player's choice is same, Then it is draw\")\n",
    "print(\"You are Player 2 and Computer is PLayer 1\")\n",
    "print(\" \")\n",
    "print(\"Get ready to play\")\n",
    "print(\"\")\n",
    "user=input('enter your choice(player2):')\n",
    "c=['rock','paper','scissors']                                          #list of choices\n",
    "comp=random.choice(c)                                                  #the random choices willl stored in comp variable\n",
    "if comp=='rock' and user=='paper':\n",
    "    print('Your choice',user)\n",
    "    print('Player 1 choice was',comp)\n",
    "    print(\"paper covers rock.Player 2 won Yayyyy!!!! CONGRATS\")\n",
    "elif comp=='paper' and user=='scissors':\n",
    "    print('Your choice',user)\n",
    "    print('Player 1 choice was',comp)\n",
    "    print(\"Scissors cut Paper.Player 2 won Yayyyy!!!! CONGRATS\")\n",
    "elif comp=='scissors' and user=='rock':\n",
    "    print('Your choice',user)\n",
    "    print('Player 1 choice was',comp)\n",
    "    print(\"rock smashes scissors.Player 2 won Yayyyy!!!! CONGRATS\")\n",
    "elif comp=='rock' and user=='scissors':\n",
    "    print(\"your choice\",user)\n",
    "    print(\"player 2 choice was:\",comp)\n",
    "    print(\"rock smashes scissors.Player 1 won.Better luck next time\")\n",
    "elif comp=='scissors' and user=='paper':\n",
    "    print('Your choice',user)\n",
    "    print('Player 1 choice was',comp)\n",
    "    print(\"Scissors cut Paper.Player 1 won.Better luck next time\")\n",
    "elif comp=='paper' and user=='rock':\n",
    "    print('Your choice',user)\n",
    "    print('Player 1 choice was',comp)\n",
    "    print(\"paper covers rock.Player 1 won.Better luck next time\")\n",
    "elif comp==user:\n",
    "    print('Your choice',user)\n",
    "    print('Player 1 choice was',comp)\n",
    "    print(\" \")\n",
    "    print(\"DRAW!!!. Same choice.Play again\")\n",
    "else:\n",
    "    print(\"Invalid choice.Please enter rock, paper, scissors only, Please read the rules again.\")\n",
    "\n",
    "print(\" \")    \n",
    "\n",
    "print('THANK YOU FOR PLAYING')\n",
    "    "
   ]
  },
  {
   "cell_type": "code",
   "execution_count": 1,
   "id": "69670fc8",
   "metadata": {},
   "outputs": [],
   "source": []
  },
  {
   "cell_type": "code",
   "execution_count": null,
   "id": "33f68221",
   "metadata": {},
   "outputs": [],
   "source": []
  }
 ],
 "metadata": {
  "kernelspec": {
   "display_name": "Python 3 (ipykernel)",
   "language": "python",
   "name": "python3"
  },
  "language_info": {
   "codemirror_mode": {
    "name": "ipython",
    "version": 3
   },
   "file_extension": ".py",
   "mimetype": "text/x-python",
   "name": "python",
   "nbconvert_exporter": "python",
   "pygments_lexer": "ipython3",
   "version": "3.11.5"
  }
 },
 "nbformat": 4,
 "nbformat_minor": 5
}
