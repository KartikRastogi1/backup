{
 "cells": [
  {
   "cell_type": "markdown",
   "id": "00550203",
   "metadata": {},
   "source": [
    "41).Write a Python program that calculates the discount for a product based on its original price and a \n",
    "discount percentage."
   ]
  },
  {
   "cell_type": "code",
   "execution_count": 1,
   "id": "f658bbd3",
   "metadata": {},
   "outputs": [
    {
     "name": "stdout",
     "output_type": "stream",
     "text": [
      "Enter total bill amount:2000\n",
      "Enter the discount percentage:10\n",
      "this is discount amount 200.0\n",
      "This is discount price 1800.0\n"
     ]
    }
   ],
   "source": [
    "Total_price = int(input(\"Enter total bill amount:\")) \n",
    "discount_per = float(input(\"Enter the discount percentage:\"))\n",
    "discount_amount = Total_price * (discount_per / 100)\n",
    "discounted_price = Total_price - discount_amount\n",
    "print(\"this is discount amount\",discount_amount)\n",
    "print(\"This is discount price\",discounted_price)"
   ]
  },
  {
   "cell_type": "code",
   "execution_count": 2,
   "id": "e36c3b09",
   "metadata": {},
   "outputs": [],
   "source": [
    "#second method\n"
   ]
  },
  {
   "cell_type": "code",
   "execution_count": 3,
   "id": "ca0c4c2a",
   "metadata": {},
   "outputs": [
    {
     "name": "stdout",
     "output_type": "stream",
     "text": [
      "enter total bill amount2000\n",
      "congrats you'll get 10% discount on your purchase \n",
      "Your discount is 200.0\n",
      "Your total bill after deducting the discount 1800.0 $\n"
     ]
    }
   ],
   "source": [
    "Total_bill = int(input(\"enter total bill amount\"))\n",
    "print(\"congrats you'll get 10% discount on your purchase \")\n",
    "discount=Total_bill * (10/100)\n",
    "print(\"Your discount is\",discount)\n",
    "print(\"Your total bill after deducting the discount\",Total_bill-discount,'$')"
   ]
  },
  {
   "cell_type": "code",
   "execution_count": null,
   "id": "ded2ce15",
   "metadata": {},
   "outputs": [],
   "source": []
  }
 ],
 "metadata": {
  "kernelspec": {
   "display_name": "Python 3 (ipykernel)",
   "language": "python",
   "name": "python3"
  },
  "language_info": {
   "codemirror_mode": {
    "name": "ipython",
    "version": 3
   },
   "file_extension": ".py",
   "mimetype": "text/x-python",
   "name": "python",
   "nbconvert_exporter": "python",
   "pygments_lexer": "ipython3",
   "version": "3.11.5"
  }
 },
 "nbformat": 4,
 "nbformat_minor": 5
}
