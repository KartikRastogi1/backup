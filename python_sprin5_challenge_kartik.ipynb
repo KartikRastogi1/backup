{
 "cells": [
  {
   "cell_type": "markdown",
   "id": "f7454654",
   "metadata": {},
   "source": [
    "ABC Tech, USA has the practice of providing its employees a $100 gift voucher on birthdays. The company also provides gift vouchers to its employees on three specific US federal holidays, namely Independence Day, Veterans Day, and Christmas.\n",
    "If any of the three federal holidays falls in the birthday month of an employee, then the company wants to send a combined gift voucher at the beginning of the month along with employee name and voucher details.\n",
    "Use functions to write a program in Python that combines the birthday voucher and holiday voucher of an employee if the holiday falls in the birthday month of the employee.\n",
    "There is a helper code provided for you to get started with this challenge. The helper code includes sample employee details of 5 employees in a dictionary format. Click here to access the helper code.\n",
    "Refer to the following slides to see the sample input and output."
   ]
  },
  {
   "cell_type": "code",
   "execution_count": 2,
   "id": "3783cc46",
   "metadata": {},
   "outputs": [],
   "source": [
    "emp_details={\"John Lee\":\"12-12-1976\",\n",
    "             \"Tim Brooks\":\"11-04-1980\",\n",
    "             \"Alice Cook\":\"07-1-1978\",\n",
    "             \"Joshua John\":\"05-02-1991\",\n",
    "             \"Alisa Matt\":\"03-04-1990\"}\n"
   ]
  },
  {
   "cell_type": "code",
   "execution_count": 16,
   "id": "c95afb7b",
   "metadata": {},
   "outputs": [
    {
     "name": "stdout",
     "output_type": "stream",
     "text": [
      "enter your name:Alisa Matt\n",
      "enter birth date in MM-DD-YYYY FORMAt: 12-12-1976\n",
      "Dear Alisa Matt ,\n",
      "wishing you a very Happy Birthday!\n",
      "On behalf of your birthday and upcoming christmas season\n",
      "We offered you a gift vouhcher valued $250\n",
      "BIRTHDAY = $100\n",
      "Christmas =$150\n"
     ]
    }
   ],
   "source": [
    "def holiday_voucher():\n",
    "    name=input(\"enter your name:\")\n",
    "    \n",
    "    christmas=\"12-25-2024\"\n",
    "    chris=christmas.split('-')            \n",
    "    christ_month = chris[0]\n",
    "    \n",
    "    veterans = \"11-11-2024\"\n",
    "    vet=veterans.split('-')\n",
    "    vet_month= vet[0]\n",
    "    \n",
    "    indep =\"7-4-2024\"\n",
    "    ind = indep.split('-')\n",
    "    ind_month = ind[0]\n",
    "    \n",
    "    \n",
    "    \n",
    "    if name in emp_details:\n",
    "        birth_date = emp_details[name]\n",
    "        birth_mon == emp_details.split('-')\n",
    "        birth_month ==birth_mon[0]\n",
    "        \n",
    "    \n",
    "          d_o_b = input(\"enter birth date in MM-DD-YYYY FORMAt: \")\n",
    "    dob_year = d_o_b.split('-')\n",
    "    birth_month=dob_year[0]\n",
    "    \n",
    "    if birth_month == christ_month:\n",
    "        print(\"Dear\",name,\",\")\n",
    "        print(\"wishing you a very Happy Birthday!\")\n",
    "        print(\"On behalf of your birthday and upcoming christmas season\")\n",
    "        print(\"We offered you a gift vouhcher valued $250\")\n",
    "        print(\"BIRTHDAY = $100\")\n",
    "        print(\"Christmas =$150\")\n",
    "        \n",
    "    elif birth_month ==  vet_month:\n",
    "        print(\"Dear\",name,\",\")\n",
    "        print(\"wishing you a very Happy Birthday!\")\n",
    "        print(\"On behalf of your birthday and upcoming Veterans season\")\n",
    "        print(\"We offered you a gift vouhcher valued $200\")\n",
    "        print(\"BIRTH DAY = $100\")\n",
    "        print(\"Veterans day=$100\")\n",
    "        \n",
    "    elif birth_month == ind_month:\n",
    "        print(\"Dear\",name,\",\")\n",
    "        print(\"wishing you a very Happy Birthday!\")\n",
    "        print(\"On behalf of your birthday and upcoming Independence Day\")\n",
    "        print(\"We offered you a gift vouhcher valued $150\")\n",
    "        print(\"BIRTH DAY = $100\")\n",
    "        print(\"Independence day=$50\")\n",
    "    else:\n",
    "        print(\"Dear\",name,\",\")\n",
    "        print(\"wishing you a very Happy Birthday!\")\n",
    "        print(\"On behalf of your birthday \")\n",
    "        print(\"We offered you a gift vouhcher valued $100\")\n",
    "holiday_voucher()        "
   ]
  },
  {
   "cell_type": "code",
   "execution_count": 15,
   "id": "09d76fbb",
   "metadata": {},
   "outputs": [
    {
     "name": "stdout",
     "output_type": "stream",
     "text": [
      "enter your name:Alice Cook\n",
      "enter birth date in MM-DD-YYYY FORMAt: 07-1-1978\n",
      "Dear Alice Cook ,\n",
      "wishing you a very Happy Birthday!\n",
      "On behalf of your birthday \n",
      "We offered you a gift vouhcher valued $100\n"
     ]
    }
   ],
   "source": [
    "holiday_voucher()"
   ]
  },
  {
   "cell_type": "code",
   "execution_count": 3,
   "id": "62ead7d1",
   "metadata": {},
   "outputs": [
    {
     "name": "stdout",
     "output_type": "stream",
     "text": [
      "enter your name:Tim Brooks\n",
      "Dear Tim Brooks ,\n",
      "wishing you a very Happy Birthday!\n",
      "On behalf of your birthday and upcoming Veterans season\n",
      "We offered you a gift vouhcher valued $200\n",
      "BIRTH DAY = $100\n",
      "Veterans day=$100\n"
     ]
    }
   ],
   "source": [
    "def holiday_voucher_1():\n",
    "    name=input(\"enter your name:\")\n",
    "    \n",
    "    christmas=\"12-25-2024\"\n",
    "    chris=christmas.split('-')            \n",
    "    christ_month = chris[0]\n",
    "    \n",
    "    veterans = \"11-11-2024\"\n",
    "    vet=veterans.split('-')\n",
    "    vet_month= vet[0]\n",
    "    \n",
    "    indep =\"7-4-2024\"\n",
    "    ind = indep.split('-')\n",
    "    ind_month = ind[0]\n",
    "    \n",
    "    \n",
    "    \n",
    "    if name in emp_details:\n",
    "        \n",
    "        birth_date = emp_details[name]\n",
    "        birth = birth_date.split('-')[0]\n",
    "        #birth_month =birth[0]\n",
    "        \n",
    "        if birth== christ_month:\n",
    "            print(\"Dear\",name,\",\")\n",
    "            print(\"wishing you a very Happy Birthday!\")\n",
    "            print(\"On behalf of your birthday and upcoming christmas season\")\n",
    "            print(\"We offered you a gift vouhcher valued $250\")\n",
    "            print(\"BIRTHDAY = $100\")\n",
    "            print(\"Christmas =$150\")\n",
    "        \n",
    "        elif birth==  vet_month:\n",
    "            print(\"Dear\",name,\",\")\n",
    "            print(\"wishing you a very Happy Birthday!\")\n",
    "            print(\"On behalf of your birthday and upcoming Veterans season\")\n",
    "            print(\"We offered you a gift vouhcher valued $200\")\n",
    "            print(\"BIRTH DAY = $100\")\n",
    "            print(\"Veterans day=$100\")\n",
    "        \n",
    "        elif birth == ind_month:\n",
    "            print(\"Dear\",name,\",\")\n",
    "            print(\"wishing you a very Happy Birthday!\")\n",
    "            print(\"On behalf of your birthday and upcoming Independence Day\")\n",
    "            print(\"We offered you a gift vouhcher valued $150\")\n",
    "            print(\"BIRTH DAY = $100\")\n",
    "            print(\"Independence day=$50\")\n",
    "        else:\n",
    "            print(\"Dear\",name,\",\")\n",
    "            print(\"wishing you a very Happy Birthday!\")\n",
    "            print(\"On behalf of your birthday \")\n",
    "            print(\"We offered you a gift vouhcher valued $100\")\n",
    "    else:\n",
    "        print(\"employee name not found in the list\")\n",
    "holiday_voucher_1()        "
   ]
  },
  {
   "cell_type": "code",
   "execution_count": null,
   "id": "1186eee8",
   "metadata": {},
   "outputs": [],
   "source": []
  },
  {
   "cell_type": "code",
   "execution_count": null,
   "id": "aac1dec4",
   "metadata": {},
   "outputs": [],
   "source": []
  },
  {
   "cell_type": "code",
   "execution_count": null,
   "id": "c01687aa",
   "metadata": {},
   "outputs": [],
   "source": []
  },
  {
   "cell_type": "code",
   "execution_count": null,
   "id": "a9f024f0",
   "metadata": {},
   "outputs": [],
   "source": []
  }
 ],
 "metadata": {
  "kernelspec": {
   "display_name": "Python 3 (ipykernel)",
   "language": "python",
   "name": "python3"
  },
  "language_info": {
   "codemirror_mode": {
    "name": "ipython",
    "version": 3
   },
   "file_extension": ".py",
   "mimetype": "text/x-python",
   "name": "python",
   "nbconvert_exporter": "python",
   "pygments_lexer": "ipython3",
   "version": "3.11.5"
  }
 },
 "nbformat": 4,
 "nbformat_minor": 5
}
