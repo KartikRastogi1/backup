{
 "cells": [
  {
   "cell_type": "code",
   "execution_count": 41,
   "id": "2a05f5a4",
   "metadata": {},
   "outputs": [],
   "source": [
    "import numpy as np"
   ]
  },
  {
   "cell_type": "code",
   "execution_count": 42,
   "id": "ccbfbe17",
   "metadata": {},
   "outputs": [],
   "source": [
    "from numpy import genfromtxt"
   ]
  },
  {
   "cell_type": "code",
   "execution_count": 43,
   "id": "e74d62b8",
   "metadata": {},
   "outputs": [
    {
     "data": {
      "text/plain": [
       "array([[ 1., 22.],\n",
       "       [ 2., 27.],\n",
       "       [ 3., 31.],\n",
       "       [ 4., 29.],\n",
       "       [ 5., 27.],\n",
       "       [ 6., 26.],\n",
       "       [ 7., 27.],\n",
       "       [ 8., 23.],\n",
       "       [ 9., 27.],\n",
       "       [10., 32.],\n",
       "       [11., 28.],\n",
       "       [12., 27.],\n",
       "       [13., 22.],\n",
       "       [14., 27.],\n",
       "       [15., 35.],\n",
       "       [16., 33.],\n",
       "       [17., 28.],\n",
       "       [18., 22.],\n",
       "       [19., 25.],\n",
       "       [20., 27.],\n",
       "       [21., 37.],\n",
       "       [22., 27.],\n",
       "       [23., 24.],\n",
       "       [24., 27.],\n",
       "       [25., 28.],\n",
       "       [26., 26.],\n",
       "       [27., 27.],\n",
       "       [28., 27.],\n",
       "       [29., 29.],\n",
       "       [30., 49.],\n",
       "       [31., 26.],\n",
       "       [32., 32.],\n",
       "       [33., 26.],\n",
       "       [34., 24.],\n",
       "       [35., 24.],\n",
       "       [36., 23.],\n",
       "       [37., 28.],\n",
       "       [38., 28.],\n",
       "       [39., 22.],\n",
       "       [40., 26.],\n",
       "       [41., 32.],\n",
       "       [42., 35.],\n",
       "       [43., 33.],\n",
       "       [44., 31.],\n",
       "       [45., 30.],\n",
       "       [46., 36.],\n",
       "       [47., 22.],\n",
       "       [48., 23.],\n",
       "       [49., 32.],\n",
       "       [50., 34.]])"
      ]
     },
     "execution_count": 43,
     "metadata": {},
     "output_type": "execute_result"
    }
   ],
   "source": [
    "data = genfromtxt(\"DS1_C4_S1_Employee_Data_Challenge.csv \",delimiter = \",\",skip_header = 1)\n",
    "data"
   ]
  },
  {
   "cell_type": "markdown",
   "id": "defe3649",
   "metadata": {},
   "source": [
    "Task 1 \n",
    "Calculate the average age of the employees in the IT firm"
   ]
  },
  {
   "cell_type": "code",
   "execution_count": 44,
   "id": "744ed0e3",
   "metadata": {},
   "outputs": [
    {
     "data": {
      "text/plain": [
       "28.26"
      ]
     },
     "execution_count": 44,
     "metadata": {},
     "output_type": "execute_result"
    }
   ],
   "source": [
    "np.mean(data[:,1])"
   ]
  },
  {
   "cell_type": "markdown",
   "id": "9b2df0d2",
   "metadata": {},
   "source": [
    "Task 2\n",
    "Display the employee IDs/code of those employees who are over 25 years of age .Find the count of these employees"
   ]
  },
  {
   "cell_type": "code",
   "execution_count": 45,
   "id": "5f29e042",
   "metadata": {},
   "outputs": [
    {
     "data": {
      "text/plain": [
       "array([22., 27., 31., 29., 27., 26., 27., 23., 27., 32., 28., 27., 22.,\n",
       "       27., 35., 33., 28., 22., 25., 27., 37., 27., 24., 27., 28., 26.,\n",
       "       27., 27., 29., 49., 26., 32., 26., 24., 24., 23., 28., 28., 22.,\n",
       "       26., 32., 35., 33., 31., 30., 36., 22., 23., 32., 34.])"
      ]
     },
     "execution_count": 45,
     "metadata": {},
     "output_type": "execute_result"
    }
   ],
   "source": [
    "data[:,1]                  #age "
   ]
  },
  {
   "cell_type": "code",
   "execution_count": 46,
   "id": "d9a5c959",
   "metadata": {},
   "outputs": [
    {
     "data": {
      "text/plain": [
       "array([False,  True,  True,  True,  True,  True,  True, False,  True,\n",
       "        True,  True,  True, False,  True,  True,  True,  True, False,\n",
       "       False,  True,  True,  True, False,  True,  True,  True,  True,\n",
       "        True,  True,  True,  True,  True,  True, False, False, False,\n",
       "        True,  True, False,  True,  True,  True,  True,  True,  True,\n",
       "        True, False, False,  True,  True])"
      ]
     },
     "execution_count": 46,
     "metadata": {},
     "output_type": "execute_result"
    }
   ],
   "source": [
    "ind=data[:,1]>25\n",
    "ind"
   ]
  },
  {
   "cell_type": "code",
   "execution_count": 47,
   "id": "e22c3b2f",
   "metadata": {},
   "outputs": [],
   "source": [
    "emp_id = data[ind][:,0]"
   ]
  },
  {
   "cell_type": "code",
   "execution_count": 48,
   "id": "af5a1974",
   "metadata": {},
   "outputs": [
    {
     "data": {
      "text/plain": [
       "array([ 2.,  3.,  4.,  5.,  6.,  7.,  9., 10., 11., 12., 14., 15., 16.,\n",
       "       17., 20., 21., 22., 24., 25., 26., 27., 28., 29., 30., 31., 32.,\n",
       "       33., 37., 38., 40., 41., 42., 43., 44., 45., 46., 49., 50.])"
      ]
     },
     "execution_count": 48,
     "metadata": {},
     "output_type": "execute_result"
    }
   ],
   "source": [
    "emp_id"
   ]
  },
  {
   "cell_type": "code",
   "execution_count": 49,
   "id": "3307c2bf",
   "metadata": {},
   "outputs": [
    {
     "data": {
      "text/plain": [
       "38"
      ]
     },
     "execution_count": 49,
     "metadata": {},
     "output_type": "execute_result"
    }
   ],
   "source": [
    "len(emp_id)"
   ]
  },
  {
   "cell_type": "code",
   "execution_count": 50,
   "id": "782ad899",
   "metadata": {},
   "outputs": [],
   "source": [
    "#task 3\n",
    "#Calculate the total number of employees who are in the age group of 30-35 years.\n",
    "#Display the employee IDs/codes of these employees."
   ]
  },
  {
   "cell_type": "code",
   "execution_count": 51,
   "id": "f3c84a80",
   "metadata": {},
   "outputs": [
    {
     "data": {
      "text/plain": [
       "array([False, False,  True, False, False, False, False, False, False,\n",
       "        True, False, False, False, False,  True,  True, False, False,\n",
       "       False, False, False, False, False, False, False, False, False,\n",
       "       False, False, False, False,  True, False, False, False, False,\n",
       "       False, False, False, False,  True,  True,  True,  True,  True,\n",
       "       False, False, False,  True,  True])"
      ]
     },
     "execution_count": 51,
     "metadata": {},
     "output_type": "execute_result"
    }
   ],
   "source": [
    "indx=(data[:,1]>=30) & (data[:,1]<=35)\n",
    "indx"
   ]
  },
  {
   "cell_type": "code",
   "execution_count": 52,
   "id": "a12797f0",
   "metadata": {},
   "outputs": [],
   "source": [
    "count_emp =data[indx][:,0]                    #employee codes who are in the age group of 30-35"
   ]
  },
  {
   "cell_type": "code",
   "execution_count": 53,
   "id": "5c009668",
   "metadata": {},
   "outputs": [
    {
     "name": "stdout",
     "output_type": "stream",
     "text": [
      "Employee codes who are in age group of 30-35 years are  [ 3. 10. 15. 16. 32. 41. 42. 43. 44. 45. 49. 50.]\n"
     ]
    }
   ],
   "source": [
    "print(\"Employee codes who are in age group of 30-35 years are \",count_emp)           #employee ids"
   ]
  },
  {
   "cell_type": "code",
   "execution_count": 54,
   "id": "293feacb",
   "metadata": {
    "scrolled": true
   },
   "outputs": [
    {
     "name": "stdout",
     "output_type": "stream",
     "text": [
      "Total number of employees who are in the age group of 30-35 are : 12\n"
     ]
    }
   ],
   "source": [
    "print(\"Total number of employees who are in the age group of 30-35 are :\",len(count_emp))"
   ]
  },
  {
   "cell_type": "code",
   "execution_count": 72,
   "id": "5df108b2",
   "metadata": {},
   "outputs": [
    {
     "data": {
      "text/plain": [
       "array([[  1.,  19.,  15.,  39.],\n",
       "       [  2.,  21.,  15.,  81.],\n",
       "       [  3.,  20.,  16.,   6.],\n",
       "       [  4.,  23.,  16.,  77.],\n",
       "       [  5.,  31.,  17.,  40.],\n",
       "       [  6.,  22.,  17.,  76.],\n",
       "       [  7.,  35.,  18.,   6.],\n",
       "       [  8.,  23.,  18.,  94.],\n",
       "       [  9.,  64.,  19.,   3.],\n",
       "       [ 10.,  30.,  19.,  72.],\n",
       "       [ 11.,  67.,  19.,  14.],\n",
       "       [ 12.,  35.,  19.,  99.],\n",
       "       [ 13.,  58.,  20.,  15.],\n",
       "       [ 14.,  24.,  20.,  77.],\n",
       "       [ 15.,  37.,  20.,  13.],\n",
       "       [ 16.,  22.,  20.,  79.],\n",
       "       [ 17.,  35.,  21.,  35.],\n",
       "       [ 18.,  20.,  21.,  66.],\n",
       "       [ 19.,  52.,  23.,  29.],\n",
       "       [ 20.,  35.,  23.,  98.],\n",
       "       [ 21.,  35.,  24.,  35.],\n",
       "       [ 22.,  25.,  24.,  73.],\n",
       "       [ 23.,  46.,  25.,   5.],\n",
       "       [ 24.,  31.,  25.,  73.],\n",
       "       [ 25.,  54.,  28.,  14.],\n",
       "       [ 26.,  29.,  28.,  82.],\n",
       "       [ 27.,  45.,  28.,  32.],\n",
       "       [ 28.,  35.,  28.,  61.],\n",
       "       [ 29.,  40.,  29.,  31.],\n",
       "       [ 30.,  23.,  29.,  87.],\n",
       "       [ 31.,  60.,  30.,   4.],\n",
       "       [ 32.,  21.,  30.,  73.],\n",
       "       [ 33.,  53.,  33.,   4.],\n",
       "       [ 34.,  18.,  33.,  92.],\n",
       "       [ 35.,  49.,  33.,  14.],\n",
       "       [ 36.,  21.,  33.,  81.],\n",
       "       [ 37.,  42.,  34.,  17.],\n",
       "       [ 38.,  30.,  34.,  73.],\n",
       "       [ 39.,  36.,  37.,  26.],\n",
       "       [ 40.,  20.,  37.,  75.],\n",
       "       [ 41.,  65.,  38.,  35.],\n",
       "       [ 42.,  24.,  38.,  92.],\n",
       "       [ 43.,  48.,  39.,  36.],\n",
       "       [ 44.,  31.,  39.,  61.],\n",
       "       [ 45.,  49.,  39.,  28.],\n",
       "       [ 46.,  24.,  39.,  65.],\n",
       "       [ 47.,  50.,  40.,  55.],\n",
       "       [ 48.,  27.,  40.,  47.],\n",
       "       [ 49.,  29.,  40.,  42.],\n",
       "       [ 50.,  31.,  40.,  42.],\n",
       "       [ 51.,  49.,  42.,  52.],\n",
       "       [ 52.,  33.,  42.,  60.],\n",
       "       [ 53.,  31.,  43.,  54.],\n",
       "       [ 54.,  59.,  43.,  60.],\n",
       "       [ 55.,  50.,  43.,  45.],\n",
       "       [ 56.,  47.,  43.,  41.],\n",
       "       [ 57.,  51.,  44.,  50.],\n",
       "       [ 58.,  69.,  44.,  46.],\n",
       "       [ 59.,  27.,  46.,  51.],\n",
       "       [ 60.,  53.,  46.,  46.],\n",
       "       [ 61.,  70.,  46.,  56.],\n",
       "       [ 62.,  19.,  46.,  55.],\n",
       "       [ 63.,  67.,  47.,  52.],\n",
       "       [ 64.,  54.,  47.,  59.],\n",
       "       [ 65.,  63.,  48.,  51.],\n",
       "       [ 66.,  18.,  48.,  59.],\n",
       "       [ 67.,  43.,  48.,  50.],\n",
       "       [ 68.,  68.,  48.,  48.],\n",
       "       [ 69.,  19.,  48.,  59.],\n",
       "       [ 70.,  32.,  48.,  47.],\n",
       "       [ 71.,  70.,  49.,  55.],\n",
       "       [ 72.,  47.,  49.,  42.],\n",
       "       [ 73.,  60.,  50.,  49.],\n",
       "       [ 74.,  60.,  50.,  56.],\n",
       "       [ 75.,  59.,  54.,  47.],\n",
       "       [ 76.,  26.,  54.,  54.],\n",
       "       [ 77.,  45.,  54.,  53.],\n",
       "       [ 78.,  40.,  54.,  48.],\n",
       "       [ 79.,  23.,  54.,  52.],\n",
       "       [ 80.,  49.,  54.,  42.],\n",
       "       [ 81.,  57.,  54.,  51.],\n",
       "       [ 82.,  38.,  54.,  55.],\n",
       "       [ 83.,  67.,  54.,  41.],\n",
       "       [ 84.,  46.,  54.,  44.],\n",
       "       [ 85.,  21.,  54.,  57.],\n",
       "       [ 86.,  48.,  54.,  46.],\n",
       "       [ 87.,  55.,  57.,  58.],\n",
       "       [ 88.,  22.,  57.,  55.],\n",
       "       [ 89.,  34.,  58.,  60.],\n",
       "       [ 90.,  50.,  58.,  46.],\n",
       "       [ 91.,  68.,  59.,  55.],\n",
       "       [ 92.,  18.,  59.,  41.],\n",
       "       [ 93.,  48.,  60.,  49.],\n",
       "       [ 94.,  40.,  60.,  40.],\n",
       "       [ 95.,  32.,  60.,  42.],\n",
       "       [ 96.,  24.,  60.,  52.],\n",
       "       [ 97.,  47.,  60.,  47.],\n",
       "       [ 98.,  27.,  60.,  50.],\n",
       "       [ 99.,  48.,  61.,  42.],\n",
       "       [100.,  20.,  61.,  49.],\n",
       "       [101.,  23.,  62.,  41.],\n",
       "       [102.,  49.,  62.,  48.],\n",
       "       [103.,  67.,  62.,  59.],\n",
       "       [104.,  26.,  62.,  55.],\n",
       "       [105.,  49.,  62.,  56.],\n",
       "       [106.,  21.,  62.,  42.],\n",
       "       [107.,  66.,  63.,  50.],\n",
       "       [108.,  54.,  63.,  46.],\n",
       "       [109.,  68.,  63.,  43.],\n",
       "       [110.,  66.,  63.,  48.],\n",
       "       [111.,  65.,  63.,  52.],\n",
       "       [112.,  19.,  63.,  54.],\n",
       "       [113.,  38.,  64.,  42.],\n",
       "       [114.,  19.,  64.,  46.],\n",
       "       [115.,  18.,  65.,  48.],\n",
       "       [116.,  19.,  65.,  50.],\n",
       "       [117.,  63.,  65.,  43.],\n",
       "       [118.,  49.,  65.,  59.],\n",
       "       [119.,  51.,  67.,  43.],\n",
       "       [120.,  50.,  67.,  57.],\n",
       "       [121.,  27.,  67.,  56.],\n",
       "       [122.,  38.,  67.,  40.],\n",
       "       [123.,  40.,  69.,  58.],\n",
       "       [124.,  39.,  69.,  91.],\n",
       "       [125.,  23.,  70.,  29.],\n",
       "       [126.,  31.,  70.,  77.],\n",
       "       [127.,  43.,  71.,  35.],\n",
       "       [128.,  40.,  71.,  95.],\n",
       "       [129.,  59.,  71.,  11.],\n",
       "       [130.,  38.,  71.,  75.],\n",
       "       [131.,  47.,  71.,   9.],\n",
       "       [132.,  39.,  71.,  75.],\n",
       "       [133.,  25.,  72.,  34.],\n",
       "       [134.,  31.,  72.,  71.],\n",
       "       [135.,  20.,  73.,   5.],\n",
       "       [136.,  29.,  73.,  88.],\n",
       "       [137.,  44.,  73.,   7.],\n",
       "       [138.,  32.,  73.,  73.],\n",
       "       [139.,  19.,  74.,  10.],\n",
       "       [140.,  35.,  74.,  72.],\n",
       "       [141.,  57.,  75.,   5.],\n",
       "       [142.,  32.,  75.,  93.],\n",
       "       [143.,  28.,  76.,  40.],\n",
       "       [144.,  32.,  76.,  87.],\n",
       "       [145.,  25.,  77.,  12.],\n",
       "       [146.,  28.,  77.,  97.],\n",
       "       [147.,  48.,  77.,  36.],\n",
       "       [148.,  32.,  77.,  74.],\n",
       "       [149.,  34.,  78.,  22.],\n",
       "       [150.,  34.,  78.,  90.],\n",
       "       [151.,  43.,  78.,  17.],\n",
       "       [152.,  39.,  78.,  88.],\n",
       "       [153.,  44.,  78.,  20.],\n",
       "       [154.,  38.,  78.,  76.],\n",
       "       [155.,  47.,  78.,  16.],\n",
       "       [156.,  27.,  78.,  89.],\n",
       "       [157.,  37.,  78.,   1.],\n",
       "       [158.,  30.,  78.,  78.],\n",
       "       [159.,  34.,  78.,   1.],\n",
       "       [160.,  30.,  78.,  73.],\n",
       "       [161.,  56.,  79.,  35.],\n",
       "       [162.,  29.,  79.,  83.],\n",
       "       [163.,  19.,  81.,   5.],\n",
       "       [164.,  31.,  81.,  93.],\n",
       "       [165.,  50.,  85.,  26.],\n",
       "       [166.,  36.,  85.,  75.],\n",
       "       [167.,  42.,  86.,  20.],\n",
       "       [168.,  33.,  86.,  95.],\n",
       "       [169.,  36.,  87.,  27.],\n",
       "       [170.,  32.,  87.,  63.],\n",
       "       [171.,  40.,  87.,  13.],\n",
       "       [172.,  28.,  87.,  75.],\n",
       "       [173.,  36.,  87.,  10.],\n",
       "       [174.,  36.,  87.,  92.],\n",
       "       [175.,  52.,  88.,  13.],\n",
       "       [176.,  30.,  88.,  86.],\n",
       "       [177.,  58.,  88.,  15.],\n",
       "       [178.,  27.,  88.,  69.],\n",
       "       [179.,  59.,  93.,  14.],\n",
       "       [180.,  35.,  93.,  90.],\n",
       "       [181.,  37.,  97.,  32.],\n",
       "       [182.,  32.,  97.,  86.],\n",
       "       [183.,  46.,  98.,  15.],\n",
       "       [184.,  29.,  98.,  88.],\n",
       "       [185.,  41.,  99.,  39.],\n",
       "       [186.,  30.,  99.,  97.],\n",
       "       [187.,  54., 101.,  24.],\n",
       "       [188.,  28., 101.,  68.],\n",
       "       [189.,  41., 103.,  17.],\n",
       "       [190.,  36., 103.,  85.],\n",
       "       [191.,  34., 103.,  23.],\n",
       "       [192.,  32., 103.,  69.],\n",
       "       [193.,  33., 113.,   8.],\n",
       "       [194.,  38., 113.,  91.],\n",
       "       [195.,  47., 120.,  16.],\n",
       "       [196.,  35., 120.,  79.],\n",
       "       [197.,  45., 126.,  28.],\n",
       "       [198.,  32., 126.,  74.],\n",
       "       [199.,  32., 137.,  18.],\n",
       "       [200.,  30., 137.,  83.]])"
      ]
     },
     "execution_count": 72,
     "metadata": {},
     "output_type": "execute_result"
    }
   ],
   "source": [
    "from numpy import genfromtxt\n",
    "shopping = genfromtxt(\"DS1_C4_S1_Shopping_Data_Challenge.csv\",delimiter= \",\",skip_header=1)\n",
    "shopping"
   ]
  },
  {
   "cell_type": "code",
   "execution_count": 56,
   "id": "7dff947b",
   "metadata": {},
   "outputs": [],
   "source": [
    "#Task1\n",
    "#Display the details of the customers whose spending score is greater than 80. Also, display the total count of these customers."
   ]
  },
  {
   "cell_type": "code",
   "execution_count": 74,
   "id": "e0be64fa",
   "metadata": {},
   "outputs": [],
   "source": [
    "indx = shopping[:,3]>80"
   ]
  },
  {
   "cell_type": "code",
   "execution_count": 75,
   "id": "f05739e3",
   "metadata": {},
   "outputs": [
    {
     "data": {
      "text/plain": [
       "(array([  1,   7,  11,  19,  25,  29,  33,  35,  41, 123, 127, 135, 141,\n",
       "        143, 145, 149, 151, 155, 161, 163, 167, 173, 175, 179, 181, 183,\n",
       "        185, 189, 193, 199], dtype=int64),)"
      ]
     },
     "execution_count": 75,
     "metadata": {},
     "output_type": "execute_result"
    }
   ],
   "source": [
    "spending_score = np.where(indx)\n",
    "spending_score"
   ]
  },
  {
   "cell_type": "code",
   "execution_count": 76,
   "id": "9bcd76cb",
   "metadata": {},
   "outputs": [
    {
     "name": "stdout",
     "output_type": "stream",
     "text": [
      "Details of the customers whose spending score is greater than 80: \n",
      " [[  2.  21.  15.  81.]\n",
      " [  8.  23.  18.  94.]\n",
      " [ 12.  35.  19.  99.]\n",
      " [ 20.  35.  23.  98.]\n",
      " [ 26.  29.  28.  82.]\n",
      " [ 30.  23.  29.  87.]\n",
      " [ 34.  18.  33.  92.]\n",
      " [ 36.  21.  33.  81.]\n",
      " [ 42.  24.  38.  92.]\n",
      " [124.  39.  69.  91.]\n",
      " [128.  40.  71.  95.]\n",
      " [136.  29.  73.  88.]\n",
      " [142.  32.  75.  93.]\n",
      " [144.  32.  76.  87.]\n",
      " [146.  28.  77.  97.]\n",
      " [150.  34.  78.  90.]\n",
      " [152.  39.  78.  88.]\n",
      " [156.  27.  78.  89.]\n",
      " [162.  29.  79.  83.]\n",
      " [164.  31.  81.  93.]\n",
      " [168.  33.  86.  95.]\n",
      " [174.  36.  87.  92.]\n",
      " [176.  30.  88.  86.]\n",
      " [180.  35.  93.  90.]\n",
      " [182.  32.  97.  86.]\n",
      " [184.  29.  98.  88.]\n",
      " [186.  30.  99.  97.]\n",
      " [190.  36. 103.  85.]\n",
      " [194.  38. 113.  91.]\n",
      " [200.  30. 137.  83.]]\n"
     ]
    }
   ],
   "source": [
    "details = shopping[spending_score]\n",
    "print(\"Details of the customers whose spending score is greater than 80: \\n\",details)"
   ]
  },
  {
   "cell_type": "code",
   "execution_count": 60,
   "id": "43179670",
   "metadata": {},
   "outputs": [
    {
     "name": "stdout",
     "output_type": "stream",
     "text": [
      "The total count of these customers whose spending is greater than 80 is : 30\n"
     ]
    }
   ],
   "source": [
    "print(\"The total count of these customers whose spending is greater than 80 is :\",len(details))"
   ]
  },
  {
   "cell_type": "code",
   "execution_count": 61,
   "id": "0b3127cc",
   "metadata": {},
   "outputs": [],
   "source": [
    "#Task 2\n",
    "#Extract and display the data of the customers who are 20 to 24 years of age.\n",
    "#Note: This data helps analyze age-related expenditures."
   ]
  },
  {
   "cell_type": "code",
   "execution_count": 62,
   "id": "171bfd48",
   "metadata": {},
   "outputs": [
    {
     "name": "stdout",
     "output_type": "stream",
     "text": [
      "Data of the customers who are 20 to 24 years of age:\n",
      " [[  2.  21.  15.  81.]\n",
      " [  3.  20.  16.   6.]\n",
      " [  4.  23.  16.  77.]\n",
      " [  6.  22.  17.  76.]\n",
      " [  8.  23.  18.  94.]\n",
      " [ 14.  24.  20.  77.]\n",
      " [ 16.  22.  20.  79.]\n",
      " [ 18.  20.  21.  66.]\n",
      " [ 30.  23.  29.  87.]\n",
      " [ 32.  21.  30.  73.]\n",
      " [ 36.  21.  33.  81.]\n",
      " [ 40.  20.  37.  75.]\n",
      " [ 42.  24.  38.  92.]\n",
      " [ 46.  24.  39.  65.]\n",
      " [ 79.  23.  54.  52.]\n",
      " [ 85.  21.  54.  57.]\n",
      " [ 88.  22.  57.  55.]\n",
      " [ 96.  24.  60.  52.]\n",
      " [100.  20.  61.  49.]\n",
      " [101.  23.  62.  41.]\n",
      " [106.  21.  62.  42.]\n",
      " [125.  23.  70.  29.]\n",
      " [135.  20.  73.   5.]]\n"
     ]
    }
   ],
   "source": [
    "index = (shopping[:,1]>=20) & (shopping[:,1]<=24)\n",
    "age = np.where(index)\n",
    "print(\"Data of the customers who are 20 to 24 years of age:\\n\",shopping[age])"
   ]
  },
  {
   "cell_type": "code",
   "execution_count": 63,
   "id": "a7759132",
   "metadata": {},
   "outputs": [],
   "source": [
    "#task 3\n",
    "#Display the IDs of the customers with the lowest annual incomes) and the highest annual income."
   ]
  },
  {
   "cell_type": "code",
   "execution_count": 77,
   "id": "67373e70",
   "metadata": {},
   "outputs": [
    {
     "data": {
      "text/plain": [
       "15.0"
      ]
     },
     "execution_count": 77,
     "metadata": {},
     "output_type": "execute_result"
    }
   ],
   "source": [
    "lowest_income = np.min(shopping[:,2])\n",
    "lowest_income\n",
    "\n"
   ]
  },
  {
   "cell_type": "code",
   "execution_count": 78,
   "id": "2bcb6639",
   "metadata": {},
   "outputs": [],
   "source": [
    "index = shopping[:,2]==15"
   ]
  },
  {
   "cell_type": "code",
   "execution_count": 79,
   "id": "4b9f0503",
   "metadata": {},
   "outputs": [
    {
     "data": {
      "text/plain": [
       "(array([0, 1], dtype=int64),)"
      ]
     },
     "execution_count": 79,
     "metadata": {},
     "output_type": "execute_result"
    }
   ],
   "source": [
    "np.where(index)"
   ]
  },
  {
   "cell_type": "code",
   "execution_count": 80,
   "id": "6a691d43",
   "metadata": {},
   "outputs": [
    {
     "name": "stdout",
     "output_type": "stream",
     "text": [
      "IDs of the customers with the lowest annual incomes is [1. 2.]\n"
     ]
    }
   ],
   "source": [
    "id_of_lowest_income = shopping[index][:,0]\n",
    "print(\"IDs of the customers with the lowest annual incomes is\",id_of_lowest_income)"
   ]
  },
  {
   "cell_type": "code",
   "execution_count": 81,
   "id": "8935a4df",
   "metadata": {},
   "outputs": [
    {
     "data": {
      "text/plain": [
       "137.0"
      ]
     },
     "execution_count": 81,
     "metadata": {},
     "output_type": "execute_result"
    }
   ],
   "source": [
    "highest_income = np.max(shopping[:,2])\n",
    "highest_income"
   ]
  },
  {
   "cell_type": "code",
   "execution_count": 82,
   "id": "70db718d",
   "metadata": {},
   "outputs": [],
   "source": [
    "index2 = shopping[:,2]==137"
   ]
  },
  {
   "cell_type": "code",
   "execution_count": 83,
   "id": "b6e4aadf",
   "metadata": {},
   "outputs": [
    {
     "data": {
      "text/plain": [
       "(array([198, 199], dtype=int64),)"
      ]
     },
     "execution_count": 83,
     "metadata": {},
     "output_type": "execute_result"
    }
   ],
   "source": [
    "np.where(index2)"
   ]
  },
  {
   "cell_type": "code",
   "execution_count": 84,
   "id": "b0d09fef",
   "metadata": {},
   "outputs": [
    {
     "name": "stdout",
     "output_type": "stream",
     "text": [
      "IDs of the customers with the highest annual incomes is  [199. 200.]\n"
     ]
    }
   ],
   "source": [
    "id_of_highest_income = shopping[index2][:,0]\n",
    "print(\"IDs of the customers with the highest annual incomes is \",id_of_highest_income)"
   ]
  },
  {
   "cell_type": "code",
   "execution_count": 32,
   "id": "b4f5a464",
   "metadata": {},
   "outputs": [],
   "source": [
    "#Task 4\n",
    "#Display the details of the customers who are less than 45 years of age, have an annual income greater than $35K, and \n",
    "#have a spending score greater than 75. How many such customers are there in the given data?"
   ]
  },
  {
   "cell_type": "code",
   "execution_count": 85,
   "id": "83a9ee4a",
   "metadata": {},
   "outputs": [
    {
     "data": {
      "text/plain": [
       "array([False, False, False, False, False, False, False, False, False,\n",
       "       False, False, False, False, False, False, False, False, False,\n",
       "       False, False, False, False, False, False, False, False, False,\n",
       "       False, False, False, False, False, False, False, False, False,\n",
       "       False, False, False, False, False,  True, False, False, False,\n",
       "       False, False, False, False, False, False, False, False, False,\n",
       "       False, False, False, False, False, False, False, False, False,\n",
       "       False, False, False, False, False, False, False, False, False,\n",
       "       False, False, False, False, False, False, False, False, False,\n",
       "       False, False, False, False, False, False, False, False, False,\n",
       "       False, False, False, False, False, False, False, False, False,\n",
       "       False, False, False, False, False, False, False, False, False,\n",
       "       False, False, False, False, False, False, False, False, False,\n",
       "       False, False, False, False, False, False,  True, False,  True,\n",
       "       False,  True, False, False, False, False, False, False, False,\n",
       "        True, False, False, False, False, False,  True, False,  True,\n",
       "       False,  True, False, False, False,  True, False,  True, False,\n",
       "        True, False,  True, False,  True, False, False, False,  True,\n",
       "       False,  True, False, False, False,  True, False, False, False,\n",
       "       False, False,  True, False,  True, False, False, False,  True,\n",
       "       False,  True, False,  True, False,  True, False, False, False,\n",
       "        True, False, False, False,  True, False,  True, False, False,\n",
       "       False,  True])"
      ]
     },
     "execution_count": 85,
     "metadata": {},
     "output_type": "execute_result"
    }
   ],
   "source": [
    "ind = (shopping[:,1] < 45) & (shopping[:,2] > 35) & (shopping[:,3] > 75)\n",
    "ind"
   ]
  },
  {
   "cell_type": "code",
   "execution_count": 86,
   "id": "44fd7ad4",
   "metadata": {},
   "outputs": [
    {
     "name": "stdout",
     "output_type": "stream",
     "text": [
      "Details of the customers who are less than 45 years of age, have an annual income greaterthan $35K  and have a spending score greater than 75 are \n",
      " [[ 42.  24.  38.  92.]\n",
      " [124.  39.  69.  91.]\n",
      " [126.  31.  70.  77.]\n",
      " [128.  40.  71.  95.]\n",
      " [136.  29.  73.  88.]\n",
      " [142.  32.  75.  93.]\n",
      " [144.  32.  76.  87.]\n",
      " [146.  28.  77.  97.]\n",
      " [150.  34.  78.  90.]\n",
      " [152.  39.  78.  88.]\n",
      " [154.  38.  78.  76.]\n",
      " [156.  27.  78.  89.]\n",
      " [158.  30.  78.  78.]\n",
      " [162.  29.  79.  83.]\n",
      " [164.  31.  81.  93.]\n",
      " [168.  33.  86.  95.]\n",
      " [174.  36.  87.  92.]\n",
      " [176.  30.  88.  86.]\n",
      " [180.  35.  93.  90.]\n",
      " [182.  32.  97.  86.]\n",
      " [184.  29.  98.  88.]\n",
      " [186.  30.  99.  97.]\n",
      " [190.  36. 103.  85.]\n",
      " [194.  38. 113.  91.]\n",
      " [196.  35. 120.  79.]\n",
      " [200.  30. 137.  83.]]\n"
     ]
    }
   ],
   "source": [
    "print(\"Details of the customers who are less than 45 years of age, have an annual income greater\"\n",
    "      \"than $35K  and have a spending score greater than 75 are \\n\",shopping[ind])"
   ]
  },
  {
   "cell_type": "code",
   "execution_count": 35,
   "id": "afccf6c8",
   "metadata": {},
   "outputs": [
    {
     "data": {
      "text/plain": [
       "(array([ 41, 123, 125, 127, 135, 141, 143, 145, 149, 151, 153, 155, 157,\n",
       "        161, 163, 167, 173, 175, 179, 181, 183, 185, 189, 193, 195, 199],\n",
       "       dtype=int64),)"
      ]
     },
     "execution_count": 35,
     "metadata": {},
     "output_type": "execute_result"
    }
   ],
   "source": [
    "index3 = np.where(ind)\n",
    "index3"
   ]
  },
  {
   "cell_type": "code",
   "execution_count": 87,
   "id": "897cace6",
   "metadata": {},
   "outputs": [
    {
     "data": {
      "text/plain": [
       "26"
      ]
     },
     "execution_count": 87,
     "metadata": {},
     "output_type": "execute_result"
    }
   ],
   "source": [
    "len(shopping[ind])"
   ]
  },
  {
   "cell_type": "code",
   "execution_count": 37,
   "id": "11c4828f",
   "metadata": {},
   "outputs": [],
   "source": [
    "#Task 5\n",
    "#During the Christmas season, the company wishes to offer random gift coupons valued between $10 and $50 to all its customers.\n",
    "#Add a new column for the gift coupons in the existing data.\n",
    "#Display the details of the customers after adding the new column."
   ]
  },
  {
   "cell_type": "code",
   "execution_count": 39,
   "id": "d2a470dc",
   "metadata": {},
   "outputs": [
    {
     "data": {
      "text/plain": [
       "(200, 4)"
      ]
     },
     "execution_count": 39,
     "metadata": {},
     "output_type": "execute_result"
    }
   ],
   "source": [
    "shopping.shape"
   ]
  },
  {
   "cell_type": "code",
   "execution_count": null,
   "id": "75592d5d",
   "metadata": {},
   "outputs": [],
   "source": []
  },
  {
   "cell_type": "code",
   "execution_count": 88,
   "id": "ed52df84",
   "metadata": {},
   "outputs": [
    {
     "name": "stdout",
     "output_type": "stream",
     "text": [
      "[[  1.  19.  15.  39.  23.]\n",
      " [  2.  21.  15.  81.  22.]\n",
      " [  3.  20.  16.   6.  44.]\n",
      " [  4.  23.  16.  77.  27.]\n",
      " [  5.  31.  17.  40.  27.]\n",
      " [  6.  22.  17.  76.  13.]\n",
      " [  7.  35.  18.   6.  20.]\n",
      " [  8.  23.  18.  94.  42.]\n",
      " [  9.  64.  19.   3.  15.]\n",
      " [ 10.  30.  19.  72.  26.]\n",
      " [ 11.  67.  19.  14.  34.]\n",
      " [ 12.  35.  19.  99.  21.]\n",
      " [ 13.  58.  20.  15.  27.]\n",
      " [ 14.  24.  20.  77.  30.]\n",
      " [ 15.  37.  20.  13.  48.]\n",
      " [ 16.  22.  20.  79.  49.]\n",
      " [ 17.  35.  21.  35.  33.]\n",
      " [ 18.  20.  21.  66.  16.]\n",
      " [ 19.  52.  23.  29.  47.]\n",
      " [ 20.  35.  23.  98.  30.]\n",
      " [ 21.  35.  24.  35.  27.]\n",
      " [ 22.  25.  24.  73.  29.]\n",
      " [ 23.  46.  25.   5.  35.]\n",
      " [ 24.  31.  25.  73.  42.]\n",
      " [ 25.  54.  28.  14.  13.]\n",
      " [ 26.  29.  28.  82.  41.]\n",
      " [ 27.  45.  28.  32.  18.]\n",
      " [ 28.  35.  28.  61.  46.]\n",
      " [ 29.  40.  29.  31.  30.]\n",
      " [ 30.  23.  29.  87.  45.]\n",
      " [ 31.  60.  30.   4.  39.]\n",
      " [ 32.  21.  30.  73.  13.]\n",
      " [ 33.  53.  33.   4.  42.]\n",
      " [ 34.  18.  33.  92.  31.]\n",
      " [ 35.  49.  33.  14.  50.]\n",
      " [ 36.  21.  33.  81.  47.]\n",
      " [ 37.  42.  34.  17.  40.]\n",
      " [ 38.  30.  34.  73.  11.]\n",
      " [ 39.  36.  37.  26.  15.]\n",
      " [ 40.  20.  37.  75.  44.]\n",
      " [ 41.  65.  38.  35.  39.]\n",
      " [ 42.  24.  38.  92.  46.]\n",
      " [ 43.  48.  39.  36.  18.]\n",
      " [ 44.  31.  39.  61.  41.]\n",
      " [ 45.  49.  39.  28.  32.]\n",
      " [ 46.  24.  39.  65.  46.]\n",
      " [ 47.  50.  40.  55.  48.]\n",
      " [ 48.  27.  40.  47.  37.]\n",
      " [ 49.  29.  40.  42.  48.]\n",
      " [ 50.  31.  40.  42.  34.]\n",
      " [ 51.  49.  42.  52.  19.]\n",
      " [ 52.  33.  42.  60.  11.]\n",
      " [ 53.  31.  43.  54.  33.]\n",
      " [ 54.  59.  43.  60.  47.]\n",
      " [ 55.  50.  43.  45.  21.]\n",
      " [ 56.  47.  43.  41.  13.]\n",
      " [ 57.  51.  44.  50.  45.]\n",
      " [ 58.  69.  44.  46.  12.]\n",
      " [ 59.  27.  46.  51.  21.]\n",
      " [ 60.  53.  46.  46.  46.]\n",
      " [ 61.  70.  46.  56.  14.]\n",
      " [ 62.  19.  46.  55.  47.]\n",
      " [ 63.  67.  47.  52.  18.]\n",
      " [ 64.  54.  47.  59.  35.]\n",
      " [ 65.  63.  48.  51.  18.]\n",
      " [ 66.  18.  48.  59.  26.]\n",
      " [ 67.  43.  48.  50.  46.]\n",
      " [ 68.  68.  48.  48.  12.]\n",
      " [ 69.  19.  48.  59.  25.]\n",
      " [ 70.  32.  48.  47.  23.]\n",
      " [ 71.  70.  49.  55.  43.]\n",
      " [ 72.  47.  49.  42.  44.]\n",
      " [ 73.  60.  50.  49.  17.]\n",
      " [ 74.  60.  50.  56.  42.]\n",
      " [ 75.  59.  54.  47.  26.]\n",
      " [ 76.  26.  54.  54.  39.]\n",
      " [ 77.  45.  54.  53.  21.]\n",
      " [ 78.  40.  54.  48.  10.]\n",
      " [ 79.  23.  54.  52.  46.]\n",
      " [ 80.  49.  54.  42.  16.]\n",
      " [ 81.  57.  54.  51.  17.]\n",
      " [ 82.  38.  54.  55.  28.]\n",
      " [ 83.  67.  54.  41.  23.]\n",
      " [ 84.  46.  54.  44.  39.]\n",
      " [ 85.  21.  54.  57.  33.]\n",
      " [ 86.  48.  54.  46.  50.]\n",
      " [ 87.  55.  57.  58.  48.]\n",
      " [ 88.  22.  57.  55.  17.]\n",
      " [ 89.  34.  58.  60.  41.]\n",
      " [ 90.  50.  58.  46.  46.]\n",
      " [ 91.  68.  59.  55.  44.]\n",
      " [ 92.  18.  59.  41.  22.]\n",
      " [ 93.  48.  60.  49.  49.]\n",
      " [ 94.  40.  60.  40.  27.]\n",
      " [ 95.  32.  60.  42.  41.]\n",
      " [ 96.  24.  60.  52.  15.]\n",
      " [ 97.  47.  60.  47.  42.]\n",
      " [ 98.  27.  60.  50.  21.]\n",
      " [ 99.  48.  61.  42.  37.]\n",
      " [100.  20.  61.  49.  23.]\n",
      " [101.  23.  62.  41.  25.]\n",
      " [102.  49.  62.  48.  43.]\n",
      " [103.  67.  62.  59.  10.]\n",
      " [104.  26.  62.  55.  26.]\n",
      " [105.  49.  62.  56.  48.]\n",
      " [106.  21.  62.  42.  28.]\n",
      " [107.  66.  63.  50.  24.]\n",
      " [108.  54.  63.  46.  31.]\n",
      " [109.  68.  63.  43.  24.]\n",
      " [110.  66.  63.  48.  23.]\n",
      " [111.  65.  63.  52.  21.]\n",
      " [112.  19.  63.  54.  38.]\n",
      " [113.  38.  64.  42.  46.]\n",
      " [114.  19.  64.  46.  45.]\n",
      " [115.  18.  65.  48.  21.]\n",
      " [116.  19.  65.  50.  34.]\n",
      " [117.  63.  65.  43.  24.]\n",
      " [118.  49.  65.  59.  25.]\n",
      " [119.  51.  67.  43.  23.]\n",
      " [120.  50.  67.  57.  17.]\n",
      " [121.  27.  67.  56.  20.]\n",
      " [122.  38.  67.  40.  14.]\n",
      " [123.  40.  69.  58.  29.]\n",
      " [124.  39.  69.  91.  14.]\n",
      " [125.  23.  70.  29.  38.]\n",
      " [126.  31.  70.  77.  47.]\n",
      " [127.  43.  71.  35.  35.]\n",
      " [128.  40.  71.  95.  45.]\n",
      " [129.  59.  71.  11.  11.]\n",
      " [130.  38.  71.  75.  48.]\n",
      " [131.  47.  71.   9.  12.]\n",
      " [132.  39.  71.  75.  42.]\n",
      " [133.  25.  72.  34.  16.]\n",
      " [134.  31.  72.  71.  20.]\n",
      " [135.  20.  73.   5.  37.]\n",
      " [136.  29.  73.  88.  19.]\n",
      " [137.  44.  73.   7.  15.]\n",
      " [138.  32.  73.  73.  22.]\n",
      " [139.  19.  74.  10.  50.]\n",
      " [140.  35.  74.  72.  46.]\n",
      " [141.  57.  75.   5.  40.]\n",
      " [142.  32.  75.  93.  32.]\n",
      " [143.  28.  76.  40.  40.]\n",
      " [144.  32.  76.  87.  39.]\n",
      " [145.  25.  77.  12.  14.]\n",
      " [146.  28.  77.  97.  49.]\n",
      " [147.  48.  77.  36.  37.]\n",
      " [148.  32.  77.  74.  32.]\n",
      " [149.  34.  78.  22.  22.]\n",
      " [150.  34.  78.  90.  22.]\n",
      " [151.  43.  78.  17.  35.]\n",
      " [152.  39.  78.  88.  26.]\n",
      " [153.  44.  78.  20.  13.]\n",
      " [154.  38.  78.  76.  10.]\n",
      " [155.  47.  78.  16.  39.]\n",
      " [156.  27.  78.  89.  17.]\n",
      " [157.  37.  78.   1.  40.]\n",
      " [158.  30.  78.  78.  13.]\n",
      " [159.  34.  78.   1.  24.]\n",
      " [160.  30.  78.  73.  10.]\n",
      " [161.  56.  79.  35.  16.]\n",
      " [162.  29.  79.  83.  22.]\n",
      " [163.  19.  81.   5.  35.]\n",
      " [164.  31.  81.  93.  46.]\n",
      " [165.  50.  85.  26.  18.]\n",
      " [166.  36.  85.  75.  40.]\n",
      " [167.  42.  86.  20.  17.]\n",
      " [168.  33.  86.  95.  41.]\n",
      " [169.  36.  87.  27.  45.]\n",
      " [170.  32.  87.  63.  25.]\n",
      " [171.  40.  87.  13.  17.]\n",
      " [172.  28.  87.  75.  33.]\n",
      " [173.  36.  87.  10.  45.]\n",
      " [174.  36.  87.  92.  17.]\n",
      " [175.  52.  88.  13.  12.]\n",
      " [176.  30.  88.  86.  30.]\n",
      " [177.  58.  88.  15.  41.]\n",
      " [178.  27.  88.  69.  19.]\n",
      " [179.  59.  93.  14.  43.]\n",
      " [180.  35.  93.  90.  10.]\n",
      " [181.  37.  97.  32.  22.]\n",
      " [182.  32.  97.  86.  26.]\n",
      " [183.  46.  98.  15.  16.]\n",
      " [184.  29.  98.  88.  30.]\n",
      " [185.  41.  99.  39.  48.]\n",
      " [186.  30.  99.  97.  32.]\n",
      " [187.  54. 101.  24.  40.]\n",
      " [188.  28. 101.  68.  46.]\n",
      " [189.  41. 103.  17.  29.]\n",
      " [190.  36. 103.  85.  31.]\n",
      " [191.  34. 103.  23.  11.]\n",
      " [192.  32. 103.  69.  23.]\n",
      " [193.  33. 113.   8.  19.]\n",
      " [194.  38. 113.  91.  10.]\n",
      " [195.  47. 120.  16.  25.]\n",
      " [196.  35. 120.  79.  49.]\n",
      " [197.  45. 126.  28.  47.]\n",
      " [198.  32. 126.  74.  40.]\n",
      " [199.  32. 137.  18.  15.]\n",
      " [200.  30. 137.  83.  13.]]\n"
     ]
    }
   ],
   "source": [
    "gift_coupons = np.random.randint(10, 51, size=shopping.shape[0])\n",
    "\n",
    "# Reshape the gift_coupons array to match the shape of the shopping array\n",
    "gift_coupons = gift_coupons.reshape(-1, 1)\n",
    "\n",
    "# Append the gift_coupons array as a new column to the shopping array\n",
    "shopping = np.append(shopping, gift_coupons, axis=1)\n",
    "\n",
    "print(shopping)"
   ]
  },
  {
   "cell_type": "code",
   "execution_count": null,
   "id": "f85e31e3",
   "metadata": {},
   "outputs": [],
   "source": []
  },
  {
   "cell_type": "code",
   "execution_count": null,
   "id": "0fef3442",
   "metadata": {},
   "outputs": [],
   "source": []
  },
  {
   "cell_type": "code",
   "execution_count": null,
   "id": "3bc35863",
   "metadata": {},
   "outputs": [],
   "source": []
  },
  {
   "cell_type": "code",
   "execution_count": null,
   "id": "0b545334",
   "metadata": {},
   "outputs": [],
   "source": []
  },
  {
   "cell_type": "code",
   "execution_count": null,
   "id": "20a6d95d",
   "metadata": {},
   "outputs": [],
   "source": []
  },
  {
   "cell_type": "code",
   "execution_count": null,
   "id": "3cd4c163",
   "metadata": {},
   "outputs": [],
   "source": []
  },
  {
   "cell_type": "code",
   "execution_count": null,
   "id": "8f320f74",
   "metadata": {},
   "outputs": [],
   "source": []
  },
  {
   "cell_type": "code",
   "execution_count": null,
   "id": "ef713cf2",
   "metadata": {},
   "outputs": [],
   "source": []
  },
  {
   "cell_type": "code",
   "execution_count": null,
   "id": "892d46c9",
   "metadata": {},
   "outputs": [],
   "source": []
  },
  {
   "cell_type": "code",
   "execution_count": null,
   "id": "04310fa0",
   "metadata": {},
   "outputs": [],
   "source": []
  },
  {
   "cell_type": "code",
   "execution_count": null,
   "id": "bbef98b8",
   "metadata": {},
   "outputs": [],
   "source": []
  }
 ],
 "metadata": {
  "kernelspec": {
   "display_name": "Python 3 (ipykernel)",
   "language": "python",
   "name": "python3"
  },
  "language_info": {
   "codemirror_mode": {
    "name": "ipython",
    "version": 3
   },
   "file_extension": ".py",
   "mimetype": "text/x-python",
   "name": "python",
   "nbconvert_exporter": "python",
   "pygments_lexer": "ipython3",
   "version": "3.11.5"
  }
 },
 "nbformat": 4,
 "nbformat_minor": 5
}
