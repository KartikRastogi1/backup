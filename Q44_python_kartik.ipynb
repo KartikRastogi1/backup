{
 "cells": [
  {
   "cell_type": "markdown",
   "id": "e6e112f5",
   "metadata": {},
   "source": [
    "44). Write a Python program that uses a for loop to iterate over a list of words and reverse the order of \n",
    "the words in the list."
   ]
  },
  {
   "cell_type": "code",
   "execution_count": 1,
   "id": "c33db687",
   "metadata": {},
   "outputs": [
    {
     "name": "stdout",
     "output_type": "stream",
     "text": [
      "['neeraj', 'ishika', 'anika', 'sourabh', 'harsh']\n"
     ]
    }
   ],
   "source": [
    "l = [\"harsh\", \"sourabh\", \"anika\", \"ishika\", \"neeraj\"]\n",
    "reverse_l = []                    #new list to store revered list \n",
    "for i in range(len(l)):\n",
    "    reverse_l.append(i)           #append() to add elements of l \n",
    "print(l[::-1])                    #slicing"
   ]
  },
  {
   "cell_type": "code",
   "execution_count": null,
   "id": "91666378",
   "metadata": {},
   "outputs": [],
   "source": []
  }
 ],
 "metadata": {
  "kernelspec": {
   "display_name": "Python 3 (ipykernel)",
   "language": "python",
   "name": "python3"
  },
  "language_info": {
   "codemirror_mode": {
    "name": "ipython",
    "version": 3
   },
   "file_extension": ".py",
   "mimetype": "text/x-python",
   "name": "python",
   "nbconvert_exporter": "python",
   "pygments_lexer": "ipython3",
   "version": "3.11.5"
  }
 },
 "nbformat": 4,
 "nbformat_minor": 5
}
