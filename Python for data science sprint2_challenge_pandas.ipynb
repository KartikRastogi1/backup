{
 "cells": [
  {
   "cell_type": "code",
   "execution_count": null,
   "id": "401911e5",
   "metadata": {},
   "outputs": [],
   "source": [
    "#Task1"
   ]
  },
  {
   "cell_type": "code",
   "execution_count": 1,
   "id": "057f4b88",
   "metadata": {},
   "outputs": [],
   "source": [
    "price = [80121, 48483, 37077, 30660, 68536, 52666, 78703, 51036, 55643, 56990, 39967, 93822, 51406, 93947, 78373, 62765, 47536, 40528, 58780, 83197]"
   ]
  },
  {
   "cell_type": "code",
   "execution_count": 2,
   "id": "e50f1f18",
   "metadata": {},
   "outputs": [
    {
     "name": "stdout",
     "output_type": "stream",
     "text": [
      "prices of the cars:\n"
     ]
    },
    {
     "data": {
      "text/plain": [
       "101    80121\n",
       "102    48483\n",
       "103    37077\n",
       "104    30660\n",
       "105    68536\n",
       "106    52666\n",
       "107    78703\n",
       "108    51036\n",
       "109    55643\n",
       "110    56990\n",
       "111    39967\n",
       "112    93822\n",
       "113    51406\n",
       "114    93947\n",
       "115    78373\n",
       "116    62765\n",
       "117    47536\n",
       "118    40528\n",
       "119    58780\n",
       "120    83197\n",
       "dtype: int64"
      ]
     },
     "execution_count": 2,
     "metadata": {},
     "output_type": "execute_result"
    }
   ],
   "source": [
    "import pandas as pd\n",
    "import numpy as np\n",
    "index_ser=  np.arange(101,121)\n",
    "price_ser = pd.Series(price,index=index_ser)\n",
    "print(\"prices of the cars:\")\n",
    "price_ser"
   ]
  },
  {
   "cell_type": "code",
   "execution_count": 4,
   "id": "2ce5b6ae",
   "metadata": {},
   "outputs": [],
   "source": [
    "#TAsk2 identify the row indexes and prices of the cars with the highest price and the lowest price"
   ]
  },
  {
   "cell_type": "code",
   "execution_count": 3,
   "id": "e68499d4",
   "metadata": {},
   "outputs": [
    {
     "name": "stdout",
     "output_type": "stream",
     "text": [
      "prices of the cars with the highest price\n",
      " 114    93947\n",
      "dtype: int64\n"
     ]
    }
   ],
   "source": [
    "x=price_ser.sort_values(ascending = False)\n",
    "print(\"prices of the cars with the highest price\\n\",x[:1])"
   ]
  },
  {
   "cell_type": "code",
   "execution_count": 4,
   "id": "eb415d4a",
   "metadata": {},
   "outputs": [
    {
     "name": "stdout",
     "output_type": "stream",
     "text": [
      "prices of the cars with the lowest price\n",
      " 104    30660\n",
      "dtype: int64\n"
     ]
    }
   ],
   "source": [
    "y=price_ser.sort_values()\n",
    "print(\"prices of the cars with the lowest price\\n\",y[:1])"
   ]
  },
  {
   "cell_type": "code",
   "execution_count": 5,
   "id": "ec2da89f",
   "metadata": {},
   "outputs": [],
   "source": [
    "#task3 Display the price of the top 5 cars with highest value, along with their row index"
   ]
  },
  {
   "cell_type": "code",
   "execution_count": 6,
   "id": "eadb1edf",
   "metadata": {},
   "outputs": [
    {
     "name": "stdout",
     "output_type": "stream",
     "text": [
      "Top 5 cars with the highest value, along with their row index\n"
     ]
    },
    {
     "data": {
      "text/plain": [
       "114    93947\n",
       "112    93822\n",
       "120    83197\n",
       "101    80121\n",
       "107    78703\n",
       "dtype: int64"
      ]
     },
     "execution_count": 6,
     "metadata": {},
     "output_type": "execute_result"
    }
   ],
   "source": [
    "import pandas as pd\n",
    "import numpy as np\n",
    "top_5_cars =price_ser.sort_values(ascending = False)\n",
    "print(\"Top 5 cars with the highest value, along with their row index\")\n",
    "top_5_cars[:5]\n"
   ]
  },
  {
   "cell_type": "code",
   "execution_count": 7,
   "id": "0e04c470",
   "metadata": {},
   "outputs": [],
   "source": [
    "#Task 4\n",
    "#Display the prices of all cars priced between $30-40k along with the row indexes. \n",
    "#Calculate and display the count of these cars."
   ]
  },
  {
   "cell_type": "code",
   "execution_count": 8,
   "id": "6a0a19a2",
   "metadata": {},
   "outputs": [
    {
     "name": "stdout",
     "output_type": "stream",
     "text": [
      "Prices of all cars priced between $30-40k along with row indexes\n"
     ]
    },
    {
     "data": {
      "text/plain": [
       "103    37077\n",
       "104    30660\n",
       "111    39967\n",
       "dtype: int64"
      ]
     },
     "execution_count": 8,
     "metadata": {},
     "output_type": "execute_result"
    }
   ],
   "source": [
    "prices_between_30_40 = price_ser.between(30000, 40000, inclusive= 'both')\n",
    "print(\"Prices of all cars priced between $30-40k along with row indexes\")\n",
    "price_ser[prices_between_30_40]"
   ]
  },
  {
   "cell_type": "code",
   "execution_count": 11,
   "id": "6b29bb6a",
   "metadata": {},
   "outputs": [
    {
     "name": "stdout",
     "output_type": "stream",
     "text": [
      "Total number of cars between $30k-40k: 3\n"
     ]
    }
   ],
   "source": [
    "print(\"Total number of cars between $30k-40k:\",len(price_ser[prices_between_30_40]))\n"
   ]
  },
  {
   "cell_type": "code",
   "execution_count": 12,
   "id": "32c63dcf",
   "metadata": {},
   "outputs": [],
   "source": [
    "#Task 5\n",
    "#Display the prices and row indexes of those cars that are priced above the average price of all cars. \n",
    "#Display the count of such cars."
   ]
  },
  {
   "cell_type": "code",
   "execution_count": 13,
   "id": "9795ed5b",
   "metadata": {},
   "outputs": [
    {
     "data": {
      "text/plain": [
       "101     True\n",
       "102    False\n",
       "103    False\n",
       "104    False\n",
       "105     True\n",
       "106    False\n",
       "107     True\n",
       "108    False\n",
       "109    False\n",
       "110    False\n",
       "111    False\n",
       "112     True\n",
       "113    False\n",
       "114     True\n",
       "115     True\n",
       "116     True\n",
       "117    False\n",
       "118    False\n",
       "119    False\n",
       "120     True\n",
       "dtype: bool"
      ]
     },
     "execution_count": 13,
     "metadata": {},
     "output_type": "execute_result"
    }
   ],
   "source": [
    "condition = np.mean(price_ser)<price_ser\n",
    "condition"
   ]
  },
  {
   "cell_type": "code",
   "execution_count": 14,
   "id": "3f2277fc",
   "metadata": {},
   "outputs": [
    {
     "name": "stdout",
     "output_type": "stream",
     "text": [
      "Prices of cars that are priced above the average price\n"
     ]
    },
    {
     "data": {
      "text/plain": [
       "101    80121\n",
       "105    68536\n",
       "107    78703\n",
       "112    93822\n",
       "114    93947\n",
       "115    78373\n",
       "116    62765\n",
       "120    83197\n",
       "dtype: int64"
      ]
     },
     "execution_count": 14,
     "metadata": {},
     "output_type": "execute_result"
    }
   ],
   "source": [
    "print(\"Prices of cars that are priced above the average price\")\n",
    "b = price_ser[condition]\n",
    "b"
   ]
  },
  {
   "cell_type": "code",
   "execution_count": 15,
   "id": "870288f9",
   "metadata": {},
   "outputs": [
    {
     "name": "stdout",
     "output_type": "stream",
     "text": [
      "Total number of cars: 8\n"
     ]
    }
   ],
   "source": [
    "print(\"Total number of cars:\",len(b))"
   ]
  },
  {
   "cell_type": "code",
   "execution_count": 16,
   "id": "37f1fb22",
   "metadata": {},
   "outputs": [],
   "source": [
    "#Task 6\n",
    "#The car dealer needs to add three new cars with the row indexes 201, 202, and 203 priced at $34,000, \n",
    "#$45,000, and $54,000, respectively. Update the existing data and display the prices along with the row indexes for all cars."
   ]
  },
  {
   "cell_type": "code",
   "execution_count": 17,
   "id": "2f904ac7",
   "metadata": {},
   "outputs": [
    {
     "data": {
      "text/plain": [
       "201    34000\n",
       "202    45000\n",
       "203    54000\n",
       "dtype: int64"
      ]
     },
     "execution_count": 17,
     "metadata": {},
     "output_type": "execute_result"
    }
   ],
   "source": [
    "new_price_ser = pd.Series([34000,45000, 54000], index=[201,202,203])\n",
    "new_price_ser"
   ]
  },
  {
   "cell_type": "code",
   "execution_count": 18,
   "id": "a49626e9",
   "metadata": {},
   "outputs": [
    {
     "data": {
      "text/plain": [
       "101    80121\n",
       "102    48483\n",
       "103    37077\n",
       "104    30660\n",
       "105    68536\n",
       "106    52666\n",
       "107    78703\n",
       "108    51036\n",
       "109    55643\n",
       "110    56990\n",
       "111    39967\n",
       "112    93822\n",
       "113    51406\n",
       "114    93947\n",
       "115    78373\n",
       "116    62765\n",
       "117    47536\n",
       "118    40528\n",
       "119    58780\n",
       "120    83197\n",
       "201    34000\n",
       "202    45000\n",
       "203    54000\n",
       "dtype: int64"
      ]
     },
     "execution_count": 18,
     "metadata": {},
     "output_type": "execute_result"
    }
   ],
   "source": [
    "price_ser=pd.concat([price_ser,new_price_ser])\n",
    "price_ser"
   ]
  },
  {
   "cell_type": "code",
   "execution_count": 19,
   "id": "486e86c8",
   "metadata": {},
   "outputs": [],
   "source": [
    "#Task 7\n",
    "#The car dealer is offering a discount of 20% on the cars priced above $60,000.\n",
    "#Display the row indexes along with the original and discounted prices of all such cars."
   ]
  },
  {
   "cell_type": "code",
   "execution_count": 20,
   "id": "6ac22271",
   "metadata": {},
   "outputs": [
    {
     "data": {
      "text/plain": [
       "101     True\n",
       "102    False\n",
       "103    False\n",
       "104    False\n",
       "105     True\n",
       "106    False\n",
       "107     True\n",
       "108    False\n",
       "109    False\n",
       "110    False\n",
       "111    False\n",
       "112     True\n",
       "113    False\n",
       "114     True\n",
       "115     True\n",
       "116     True\n",
       "117    False\n",
       "118    False\n",
       "119    False\n",
       "120     True\n",
       "201    False\n",
       "202    False\n",
       "203    False\n",
       "dtype: bool"
      ]
     },
     "execution_count": 20,
     "metadata": {},
     "output_type": "execute_result"
    }
   ],
   "source": [
    "condition = price_ser>60000\n",
    "condition"
   ]
  },
  {
   "cell_type": "code",
   "execution_count": 21,
   "id": "4657b805",
   "metadata": {},
   "outputs": [
    {
     "data": {
      "text/plain": [
       "101    80121\n",
       "105    68536\n",
       "107    78703\n",
       "112    93822\n",
       "114    93947\n",
       "115    78373\n",
       "116    62765\n",
       "120    83197\n",
       "dtype: int64"
      ]
     },
     "execution_count": 21,
     "metadata": {},
     "output_type": "execute_result"
    }
   ],
   "source": [
    "original_price = price_ser[condition]\n",
    "original_price\n"
   ]
  },
  {
   "cell_type": "code",
   "execution_count": 22,
   "id": "8797bf65",
   "metadata": {},
   "outputs": [
    {
     "data": {
      "text/plain": [
       "101    64096.8\n",
       "105    54828.8\n",
       "107    62962.4\n",
       "112    75057.6\n",
       "114    75157.6\n",
       "115    62698.4\n",
       "116    50212.0\n",
       "120    66557.6\n",
       "dtype: float64"
      ]
     },
     "execution_count": 22,
     "metadata": {},
     "output_type": "execute_result"
    }
   ],
   "source": [
    "price_after_discount = original_price*0.8\n",
    "price_after_discount"
   ]
  },
  {
   "cell_type": "code",
   "execution_count": 23,
   "id": "24d154de",
   "metadata": {},
   "outputs": [],
   "source": [
    "updated_price = pd.DataFrame({\"Discounted Price\":price_after_discount})"
   ]
  },
  {
   "cell_type": "code",
   "execution_count": 24,
   "id": "efa77ce1",
   "metadata": {},
   "outputs": [
    {
     "data": {
      "text/html": [
       "<div>\n",
       "<style scoped>\n",
       "    .dataframe tbody tr th:only-of-type {\n",
       "        vertical-align: middle;\n",
       "    }\n",
       "\n",
       "    .dataframe tbody tr th {\n",
       "        vertical-align: top;\n",
       "    }\n",
       "\n",
       "    .dataframe thead th {\n",
       "        text-align: right;\n",
       "    }\n",
       "</style>\n",
       "<table border=\"1\" class=\"dataframe\">\n",
       "  <thead>\n",
       "    <tr style=\"text-align: right;\">\n",
       "      <th></th>\n",
       "      <th>Discounted Price</th>\n",
       "    </tr>\n",
       "  </thead>\n",
       "  <tbody>\n",
       "    <tr>\n",
       "      <th>101</th>\n",
       "      <td>64096.8</td>\n",
       "    </tr>\n",
       "    <tr>\n",
       "      <th>105</th>\n",
       "      <td>54828.8</td>\n",
       "    </tr>\n",
       "    <tr>\n",
       "      <th>107</th>\n",
       "      <td>62962.4</td>\n",
       "    </tr>\n",
       "    <tr>\n",
       "      <th>112</th>\n",
       "      <td>75057.6</td>\n",
       "    </tr>\n",
       "    <tr>\n",
       "      <th>114</th>\n",
       "      <td>75157.6</td>\n",
       "    </tr>\n",
       "    <tr>\n",
       "      <th>115</th>\n",
       "      <td>62698.4</td>\n",
       "    </tr>\n",
       "    <tr>\n",
       "      <th>116</th>\n",
       "      <td>50212.0</td>\n",
       "    </tr>\n",
       "    <tr>\n",
       "      <th>120</th>\n",
       "      <td>66557.6</td>\n",
       "    </tr>\n",
       "  </tbody>\n",
       "</table>\n",
       "</div>"
      ],
      "text/plain": [
       "     Discounted Price\n",
       "101           64096.8\n",
       "105           54828.8\n",
       "107           62962.4\n",
       "112           75057.6\n",
       "114           75157.6\n",
       "115           62698.4\n",
       "116           50212.0\n",
       "120           66557.6"
      ]
     },
     "execution_count": 24,
     "metadata": {},
     "output_type": "execute_result"
    }
   ],
   "source": [
    "updated_price"
   ]
  },
  {
   "cell_type": "code",
   "execution_count": 25,
   "id": "b767294c",
   "metadata": {},
   "outputs": [
    {
     "data": {
      "text/html": [
       "<div>\n",
       "<style scoped>\n",
       "    .dataframe tbody tr th:only-of-type {\n",
       "        vertical-align: middle;\n",
       "    }\n",
       "\n",
       "    .dataframe tbody tr th {\n",
       "        vertical-align: top;\n",
       "    }\n",
       "\n",
       "    .dataframe thead th {\n",
       "        text-align: right;\n",
       "    }\n",
       "</style>\n",
       "<table border=\"1\" class=\"dataframe\">\n",
       "  <thead>\n",
       "    <tr style=\"text-align: right;\">\n",
       "      <th></th>\n",
       "      <th>Original Price</th>\n",
       "      <th>Discounted Price</th>\n",
       "    </tr>\n",
       "  </thead>\n",
       "  <tbody>\n",
       "    <tr>\n",
       "      <th>101</th>\n",
       "      <td>80121</td>\n",
       "      <td>64096.8</td>\n",
       "    </tr>\n",
       "    <tr>\n",
       "      <th>105</th>\n",
       "      <td>68536</td>\n",
       "      <td>54828.8</td>\n",
       "    </tr>\n",
       "    <tr>\n",
       "      <th>107</th>\n",
       "      <td>78703</td>\n",
       "      <td>62962.4</td>\n",
       "    </tr>\n",
       "    <tr>\n",
       "      <th>112</th>\n",
       "      <td>93822</td>\n",
       "      <td>75057.6</td>\n",
       "    </tr>\n",
       "    <tr>\n",
       "      <th>114</th>\n",
       "      <td>93947</td>\n",
       "      <td>75157.6</td>\n",
       "    </tr>\n",
       "    <tr>\n",
       "      <th>115</th>\n",
       "      <td>78373</td>\n",
       "      <td>62698.4</td>\n",
       "    </tr>\n",
       "    <tr>\n",
       "      <th>116</th>\n",
       "      <td>62765</td>\n",
       "      <td>50212.0</td>\n",
       "    </tr>\n",
       "    <tr>\n",
       "      <th>120</th>\n",
       "      <td>83197</td>\n",
       "      <td>66557.6</td>\n",
       "    </tr>\n",
       "  </tbody>\n",
       "</table>\n",
       "</div>"
      ],
      "text/plain": [
       "     Original Price  Discounted Price\n",
       "101           80121           64096.8\n",
       "105           68536           54828.8\n",
       "107           78703           62962.4\n",
       "112           93822           75057.6\n",
       "114           93947           75157.6\n",
       "115           78373           62698.4\n",
       "116           62765           50212.0\n",
       "120           83197           66557.6"
      ]
     },
     "execution_count": 25,
     "metadata": {},
     "output_type": "execute_result"
    }
   ],
   "source": [
    "original_and_discounted_price = pd.DataFrame({\"Original Price\":original_price,\"Discounted Price\":price_after_discount,})\n",
    "original_and_discounted_price"
   ]
  },
  {
   "cell_type": "markdown",
   "id": "018c40b8",
   "metadata": {},
   "source": [
    "Task 8\n",
    "The cars priced above $60,000 are now sold due to the 20 %   discount offered by the dealer. Update the data by deleting the details of the cars sold and print the updated data. Display the count of cars before and after the updating of the data"
   ]
  },
  {
   "cell_type": "code",
   "execution_count": 10,
   "id": "8c8bb4f7",
   "metadata": {},
   "outputs": [
    {
     "data": {
      "text/html": [
       "<div>\n",
       "<style scoped>\n",
       "    .dataframe tbody tr th:only-of-type {\n",
       "        vertical-align: middle;\n",
       "    }\n",
       "\n",
       "    .dataframe tbody tr th {\n",
       "        vertical-align: top;\n",
       "    }\n",
       "\n",
       "    .dataframe thead th {\n",
       "        text-align: right;\n",
       "    }\n",
       "</style>\n",
       "<table border=\"1\" class=\"dataframe\">\n",
       "  <thead>\n",
       "    <tr style=\"text-align: right;\">\n",
       "      <th></th>\n",
       "      <th>original price</th>\n",
       "    </tr>\n",
       "  </thead>\n",
       "  <tbody>\n",
       "    <tr>\n",
       "      <th>101</th>\n",
       "      <td>80121</td>\n",
       "    </tr>\n",
       "    <tr>\n",
       "      <th>102</th>\n",
       "      <td>48483</td>\n",
       "    </tr>\n",
       "    <tr>\n",
       "      <th>103</th>\n",
       "      <td>37077</td>\n",
       "    </tr>\n",
       "    <tr>\n",
       "      <th>104</th>\n",
       "      <td>30660</td>\n",
       "    </tr>\n",
       "    <tr>\n",
       "      <th>105</th>\n",
       "      <td>68536</td>\n",
       "    </tr>\n",
       "    <tr>\n",
       "      <th>106</th>\n",
       "      <td>52666</td>\n",
       "    </tr>\n",
       "    <tr>\n",
       "      <th>107</th>\n",
       "      <td>78703</td>\n",
       "    </tr>\n",
       "    <tr>\n",
       "      <th>108</th>\n",
       "      <td>51036</td>\n",
       "    </tr>\n",
       "    <tr>\n",
       "      <th>109</th>\n",
       "      <td>55643</td>\n",
       "    </tr>\n",
       "    <tr>\n",
       "      <th>110</th>\n",
       "      <td>56990</td>\n",
       "    </tr>\n",
       "    <tr>\n",
       "      <th>111</th>\n",
       "      <td>39967</td>\n",
       "    </tr>\n",
       "    <tr>\n",
       "      <th>112</th>\n",
       "      <td>93822</td>\n",
       "    </tr>\n",
       "    <tr>\n",
       "      <th>113</th>\n",
       "      <td>51406</td>\n",
       "    </tr>\n",
       "    <tr>\n",
       "      <th>114</th>\n",
       "      <td>93947</td>\n",
       "    </tr>\n",
       "    <tr>\n",
       "      <th>115</th>\n",
       "      <td>78373</td>\n",
       "    </tr>\n",
       "    <tr>\n",
       "      <th>116</th>\n",
       "      <td>62765</td>\n",
       "    </tr>\n",
       "    <tr>\n",
       "      <th>117</th>\n",
       "      <td>47536</td>\n",
       "    </tr>\n",
       "    <tr>\n",
       "      <th>118</th>\n",
       "      <td>40528</td>\n",
       "    </tr>\n",
       "    <tr>\n",
       "      <th>119</th>\n",
       "      <td>58780</td>\n",
       "    </tr>\n",
       "    <tr>\n",
       "      <th>120</th>\n",
       "      <td>83197</td>\n",
       "    </tr>\n",
       "  </tbody>\n",
       "</table>\n",
       "</div>"
      ],
      "text/plain": [
       "     original price\n",
       "101           80121\n",
       "102           48483\n",
       "103           37077\n",
       "104           30660\n",
       "105           68536\n",
       "106           52666\n",
       "107           78703\n",
       "108           51036\n",
       "109           55643\n",
       "110           56990\n",
       "111           39967\n",
       "112           93822\n",
       "113           51406\n",
       "114           93947\n",
       "115           78373\n",
       "116           62765\n",
       "117           47536\n",
       "118           40528\n",
       "119           58780\n",
       "120           83197"
      ]
     },
     "execution_count": 10,
     "metadata": {},
     "output_type": "execute_result"
    }
   ],
   "source": [
    "df_cars_price_original= pd.DataFrame({\"original price\":price_ser})\n",
    "df_cars_price_original"
   ]
  },
  {
   "cell_type": "code",
   "execution_count": 11,
   "id": "7dff8aa2",
   "metadata": {},
   "outputs": [
    {
     "name": "stdout",
     "output_type": "stream",
     "text": [
      "count of cars before updating the data is 20\n"
     ]
    }
   ],
   "source": [
    "print(\"count of cars before updating the data is\",len(df_cars_price_original))"
   ]
  },
  {
   "cell_type": "code",
   "execution_count": 12,
   "id": "0338f456",
   "metadata": {},
   "outputs": [],
   "source": [
    "condition4 = price_ser<=60000"
   ]
  },
  {
   "cell_type": "code",
   "execution_count": 13,
   "id": "083006f7",
   "metadata": {},
   "outputs": [
    {
     "data": {
      "text/plain": [
       "101    False\n",
       "102     True\n",
       "103     True\n",
       "104     True\n",
       "105    False\n",
       "106     True\n",
       "107    False\n",
       "108     True\n",
       "109     True\n",
       "110     True\n",
       "111     True\n",
       "112    False\n",
       "113     True\n",
       "114    False\n",
       "115    False\n",
       "116    False\n",
       "117     True\n",
       "118     True\n",
       "119     True\n",
       "120    False\n",
       "dtype: bool"
      ]
     },
     "execution_count": 13,
     "metadata": {},
     "output_type": "execute_result"
    }
   ],
   "source": [
    "condition4"
   ]
  },
  {
   "cell_type": "code",
   "execution_count": 14,
   "id": "90d00828",
   "metadata": {},
   "outputs": [],
   "source": [
    "unsold_cars = price_ser[condition4]"
   ]
  },
  {
   "cell_type": "code",
   "execution_count": 15,
   "id": "02074e5f",
   "metadata": {},
   "outputs": [
    {
     "data": {
      "text/plain": [
       "102    48483\n",
       "103    37077\n",
       "104    30660\n",
       "106    52666\n",
       "108    51036\n",
       "109    55643\n",
       "110    56990\n",
       "111    39967\n",
       "113    51406\n",
       "117    47536\n",
       "118    40528\n",
       "119    58780\n",
       "dtype: int64"
      ]
     },
     "execution_count": 15,
     "metadata": {},
     "output_type": "execute_result"
    }
   ],
   "source": [
    "unsold_cars"
   ]
  },
  {
   "cell_type": "code",
   "execution_count": 16,
   "id": "bddbab39",
   "metadata": {},
   "outputs": [
    {
     "data": {
      "text/plain": [
       "12"
      ]
     },
     "execution_count": 16,
     "metadata": {},
     "output_type": "execute_result"
    }
   ],
   "source": [
    "len(unsold_cars)"
   ]
  },
  {
   "cell_type": "code",
   "execution_count": null,
   "id": "f5193441",
   "metadata": {},
   "outputs": [],
   "source": []
  },
  {
   "cell_type": "code",
   "execution_count": null,
   "id": "05962b7c",
   "metadata": {},
   "outputs": [],
   "source": []
  },
  {
   "cell_type": "code",
   "execution_count": null,
   "id": "f6341c4b",
   "metadata": {},
   "outputs": [],
   "source": []
  },
  {
   "cell_type": "code",
   "execution_count": null,
   "id": "5023832a",
   "metadata": {},
   "outputs": [],
   "source": []
  },
  {
   "cell_type": "code",
   "execution_count": null,
   "id": "ef53f9d2",
   "metadata": {},
   "outputs": [],
   "source": []
  },
  {
   "cell_type": "code",
   "execution_count": null,
   "id": "1ed7a4d4",
   "metadata": {},
   "outputs": [],
   "source": []
  },
  {
   "cell_type": "code",
   "execution_count": null,
   "id": "1fb2e54b",
   "metadata": {},
   "outputs": [],
   "source": []
  },
  {
   "cell_type": "code",
   "execution_count": null,
   "id": "17d1d7bf",
   "metadata": {},
   "outputs": [],
   "source": []
  }
 ],
 "metadata": {
  "kernelspec": {
   "display_name": "Python 3 (ipykernel)",
   "language": "python",
   "name": "python3"
  },
  "language_info": {
   "codemirror_mode": {
    "name": "ipython",
    "version": 3
   },
   "file_extension": ".py",
   "mimetype": "text/x-python",
   "name": "python",
   "nbconvert_exporter": "python",
   "pygments_lexer": "ipython3",
   "version": "3.11.5"
  }
 },
 "nbformat": 4,
 "nbformat_minor": 5
}
