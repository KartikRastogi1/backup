{
 "cells": [
  {
   "cell_type": "code",
   "execution_count": 1,
   "id": "61e2d2d3",
   "metadata": {},
   "outputs": [],
   "source": [
    "import numpy as np"
   ]
  },
  {
   "cell_type": "markdown",
   "id": "8087a4c3",
   "metadata": {},
   "source": [
    "Task 1\n",
    "The company has hired 30 candidates recently. Assign the employee IDs to these 30 candidates as per the details below. Save the employee IDs in separate 1D arrays, one for each department, and print them.\n",
    "\n",
    "\n",
    " Dept     No.of employees        Range of emp IDS\n",
    " HR           3                       1-3\n",
    " IT           15                      4-18\n",
    " Finance      5                       19-23\n",
    " sales        7                       24-30"
   ]
  },
  {
   "cell_type": "code",
   "execution_count": 2,
   "id": "ac2f2956",
   "metadata": {},
   "outputs": [
    {
     "data": {
      "text/plain": [
       "array([1, 2, 3])"
      ]
     },
     "execution_count": 2,
     "metadata": {},
     "output_type": "execute_result"
    }
   ],
   "source": [
    "HR_id=np.arange(1,4)\n",
    "HR_id\n"
   ]
  },
  {
   "cell_type": "code",
   "execution_count": 3,
   "id": "bb7d3735",
   "metadata": {},
   "outputs": [
    {
     "data": {
      "text/plain": [
       "array([ 4,  5,  6,  7,  8,  9, 10, 11, 12, 13, 14, 15, 16, 17, 18])"
      ]
     },
     "execution_count": 3,
     "metadata": {},
     "output_type": "execute_result"
    }
   ],
   "source": [
    "IT_id = np.arange(4,19)\n",
    "IT_id"
   ]
  },
  {
   "cell_type": "code",
   "execution_count": 4,
   "id": "eb1bd03d",
   "metadata": {},
   "outputs": [
    {
     "data": {
      "text/plain": [
       "array([19, 20, 21, 22, 23])"
      ]
     },
     "execution_count": 4,
     "metadata": {},
     "output_type": "execute_result"
    }
   ],
   "source": [
    "Finance_id =np.arange(19,24)\n",
    "Finance_id"
   ]
  },
  {
   "cell_type": "code",
   "execution_count": 5,
   "id": "97b4d652",
   "metadata": {},
   "outputs": [
    {
     "data": {
      "text/plain": [
       "array([24, 25, 26, 27, 28, 29, 30])"
      ]
     },
     "execution_count": 5,
     "metadata": {},
     "output_type": "execute_result"
    }
   ],
   "source": [
    "sales_id = np.arange(24,31)\n",
    "sales_id "
   ]
  },
  {
   "cell_type": "markdown",
   "id": "49970bcc",
   "metadata": {},
   "source": [
    "Task 2\n",
    "Create four different 1D arrays to hold only the salaries of the employees as per the details below and print them."
   ]
  },
  {
   "cell_type": "code",
   "execution_count": 6,
   "id": "7be167bc",
   "metadata": {},
   "outputs": [
    {
     "data": {
      "text/plain": [
       "array([50000, 60000, 57000])"
      ]
     },
     "execution_count": 6,
     "metadata": {},
     "output_type": "execute_result"
    }
   ],
   "source": [
    "hr_sal = [50000,60000,57000]\n",
    "Hr_salary = np.array(hr_sal)\n",
    "Hr_salary"
   ]
  },
  {
   "cell_type": "code",
   "execution_count": 7,
   "id": "e24a7904",
   "metadata": {},
   "outputs": [
    {
     "data": {
      "text/plain": [
       "array([67000, 67000, 67000, 67000, 67000, 67000, 67000, 67000, 67000,\n",
       "       67000, 67000, 67000, 67000, 67000, 67000])"
      ]
     },
     "execution_count": 7,
     "metadata": {},
     "output_type": "execute_result"
    }
   ],
   "source": [
    "IT_sal = [67000,67000,67000,67000,67000,67000,67000,67000,67000,67000,67000,67000,67000,67000,67000]\n",
    "IT_salary =np.array(IT_sal)\n",
    "IT_salary"
   ]
  },
  {
   "cell_type": "code",
   "execution_count": 8,
   "id": "0730bec0",
   "metadata": {},
   "outputs": [
    {
     "data": {
      "text/plain": [
       "array([60000, 65000, 50000, 70000, 87000])"
      ]
     },
     "execution_count": 8,
     "metadata": {},
     "output_type": "execute_result"
    }
   ],
   "source": [
    "finance_sal = [60000,65000,50000,70000,87000]\n",
    "finance_salary = np.array(finance_sal)\n",
    "finance_salary"
   ]
  },
  {
   "cell_type": "code",
   "execution_count": 9,
   "id": "cea3e1f8",
   "metadata": {},
   "outputs": [
    {
     "data": {
      "text/plain": [
       "array([50000, 60000, 65000, 90000, 56000, 65000, 71000])"
      ]
     },
     "execution_count": 9,
     "metadata": {},
     "output_type": "execute_result"
    }
   ],
   "source": [
    "sales_sal = [50000, 60000, 65000, 90000, 56000, 65000, 71000]\n",
    "sales_salary = np.array(sales_sal)\n",
    "sales_salary"
   ]
  },
  {
   "cell_type": "markdown",
   "id": "907b494e",
   "metadata": {},
   "source": [
    "Task 3\n",
    "\n",
    "Calculate the department-wise average salary expenses on the 30 employees. Also, determine the department with the highest average salary expense on the employees"
   ]
  },
  {
   "cell_type": "code",
   "execution_count": 10,
   "id": "6415b9db",
   "metadata": {},
   "outputs": [
    {
     "name": "stdout",
     "output_type": "stream",
     "text": [
      "avergae salary of HR dept:  55666.666666666664\n",
      "avergae salary of IT dept:  67000.0\n",
      "avergae salary of finance dept:  66400.0\n",
      "avergae salary of sales dept:  65285.71428571428\n"
     ]
    }
   ],
   "source": [
    "avg_hr_salary =np.mean(Hr_salary)\n",
    "print(\"avergae salary of HR dept: \",avg_hr_salary)\n",
    "avg_IT_salary =np.mean(IT_salary)\n",
    "print(\"avergae salary of IT dept: \",avg_IT_salary)\n",
    "avg_finance_salary = np.mean(finance_salary)\n",
    "print(\"avergae salary of finance dept: \",avg_finance_salary)\n",
    "avg_sales_salary = np.mean(sales_salary)\n",
    "print(\"avergae salary of sales dept: \",avg_sales_salary)"
   ]
  },
  {
   "cell_type": "code",
   "execution_count": 11,
   "id": "61b58d9e",
   "metadata": {},
   "outputs": [],
   "source": [
    " #IT department has the Highest avergae salary "
   ]
  },
  {
   "cell_type": "markdown",
   "id": "df9043ef",
   "metadata": {},
   "source": [
    "Task4:\n",
    "\n",
    "List the highest salaries in HR and finance departments"
   ]
  },
  {
   "cell_type": "code",
   "execution_count": 12,
   "id": "d4f134b9",
   "metadata": {},
   "outputs": [
    {
     "name": "stdout",
     "output_type": "stream",
     "text": [
      "highest salary in HR and finance departments are :  60000 and 87000\n"
     ]
    }
   ],
   "source": [
    "max_sal_HR = np.max(Hr_salary)\n",
    "max_sal_finance =np.max(finance_salary)\n",
    "\n",
    "print(\"highest salary in HR and finance departments are : \",max_sal_HR ,'and', max_sal_finance )"
   ]
  },
  {
   "cell_type": "markdown",
   "id": "b9e4fbaa",
   "metadata": {},
   "source": [
    "Task 5 \n",
    "\n",
    "The company has decided to give a joining/signing bonus worth 5% of the gross salary to those employees whose employees who belong to the IT department. Update the salary of such employees after adding the bonus. Display the updated salaries."
   ]
  },
  {
   "cell_type": "code",
   "execution_count": 13,
   "id": "b415d11e",
   "metadata": {},
   "outputs": [
    {
     "name": "stdout",
     "output_type": "stream",
     "text": [
      "IT salary with Bonus :  [70350. 70350. 70350. 70350. 70350. 70350. 70350. 70350. 70350. 70350.\n",
      " 70350. 70350. 70350. 70350. 70350.]\n"
     ]
    }
   ],
   "source": [
    "update_salary_IT = IT_salary*(0.05)\n",
    "\n",
    "IT_bonus = update_salary_IT+IT_salary\n",
    "\n",
    "print(\"IT salary with Bonus : \",IT_bonus) "
   ]
  },
  {
   "cell_type": "code",
   "execution_count": null,
   "id": "a89d72c4",
   "metadata": {},
   "outputs": [],
   "source": []
  },
  {
   "cell_type": "markdown",
   "id": "e81da97c",
   "metadata": {},
   "source": [
    "Task 1 "
   ]
  },
  {
   "cell_type": "code",
   "execution_count": 14,
   "id": "cdf2f8fb",
   "metadata": {},
   "outputs": [],
   "source": [
    "from numpy import genfromtxt"
   ]
  },
  {
   "cell_type": "code",
   "execution_count": 15,
   "id": "641b97ae",
   "metadata": {},
   "outputs": [
    {
     "data": {
      "text/plain": [
       "array([[  1.  , 337.  , 118.  , ...,   9.65,   1.  ,   0.92],\n",
       "       [  2.  , 324.  , 107.  , ...,   8.87,   1.  ,   0.76],\n",
       "       [  3.  , 316.  , 104.  , ...,   8.  ,   1.  ,   0.72],\n",
       "       ...,\n",
       "       [398.  , 330.  , 116.  , ...,   9.45,   1.  ,   0.91],\n",
       "       [399.  , 312.  , 103.  , ...,   8.78,   0.  ,   0.67],\n",
       "       [400.  , 333.  , 117.  , ...,   9.66,   1.  ,   0.95]])"
      ]
     },
     "execution_count": 15,
     "metadata": {},
     "output_type": "execute_result"
    }
   ],
   "source": [
    "addmis_data = genfromtxt('DS1_C4_S1_AdmissionPredict_Data_Practice.csv',delimiter=',',skip_header = 1)\n",
    "addmis_data"
   ]
  },
  {
   "cell_type": "markdown",
   "id": "ad36d08e",
   "metadata": {},
   "source": [
    "Task 2 Display the GRE score of all the students.\n"
   ]
  },
  {
   "cell_type": "code",
   "execution_count": 16,
   "id": "d8f3ac00",
   "metadata": {},
   "outputs": [
    {
     "data": {
      "text/plain": [
       "array([337., 324., 316., 322., 314., 330., 321., 308., 302., 323., 325.,\n",
       "       327., 328., 307., 311., 314., 317., 319., 318., 303., 312., 325.,\n",
       "       328., 334., 336., 340., 322., 298., 295., 310., 300., 327., 338.,\n",
       "       340., 331., 320., 299., 300., 304., 307., 308., 316., 313., 332.,\n",
       "       326., 322., 329., 339., 321., 327., 313., 312., 334., 324., 322.,\n",
       "       320., 316., 298., 300., 311., 309., 307., 304., 315., 325., 325.,\n",
       "       327., 316., 318., 328., 332., 336., 321., 314., 314., 329., 327.,\n",
       "       301., 296., 294., 312., 340., 320., 322., 340., 319., 315., 317.,\n",
       "       314., 316., 318., 299., 298., 301., 303., 304., 306., 331., 332.,\n",
       "       323., 322., 312., 314., 317., 326., 316., 329., 338., 331., 304.,\n",
       "       305., 321., 301., 320., 311., 310., 299., 290., 296., 327., 335.,\n",
       "       334., 310., 308., 301., 300., 323., 319., 326., 333., 339., 303.,\n",
       "       309., 323., 333., 314., 312., 316., 326., 318., 329., 332., 331.,\n",
       "       340., 325., 320., 315., 326., 339., 311., 334., 332., 321., 324.,\n",
       "       326., 312., 315., 309., 306., 297., 315., 298., 318., 317., 329.,\n",
       "       322., 302., 313., 293., 311., 312., 334., 322., 323., 321., 320.,\n",
       "       329., 319., 309., 307., 300., 305., 299., 314., 316., 327., 317.,\n",
       "       335., 331., 324., 324., 323., 322., 336., 316., 307., 306., 310.,\n",
       "       311., 313., 317., 315., 340., 334., 298., 295., 315., 310., 305.,\n",
       "       301., 325., 328., 338., 333., 331., 330., 322., 321., 324., 312.,\n",
       "       313., 316., 324., 308., 305., 296., 306., 312., 318., 324., 313.,\n",
       "       319., 312., 304., 330., 326., 325., 329., 310., 299., 296., 317.,\n",
       "       324., 325., 314., 328., 316., 311., 324., 321., 320., 316., 318.,\n",
       "       335., 321., 307., 309., 324., 326., 331., 327., 312., 308., 324.,\n",
       "       325., 313., 312., 314., 327., 308., 306., 299., 294., 312., 315.,\n",
       "       322., 329., 320., 308., 304., 311., 317., 312., 321., 340., 331.,\n",
       "       336., 324., 314., 313., 307., 300., 302., 312., 316., 317., 310.,\n",
       "       320., 330., 305., 309., 319., 322., 323., 313., 321., 323., 325.,\n",
       "       312., 308., 320., 328., 311., 301., 305., 308., 298., 300., 324.,\n",
       "       327., 317., 323., 314., 305., 315., 326., 299., 295., 324., 297.,\n",
       "       327., 311., 308., 319., 312., 325., 319., 332., 323., 324., 312.,\n",
       "       326., 308., 305., 295., 316., 304., 299., 302., 313., 318., 325.,\n",
       "       303., 300., 297., 317., 327., 301., 314., 321., 322., 334., 338.,\n",
       "       306., 313., 330., 320., 311., 298., 301., 310., 324., 336., 321.,\n",
       "       315., 304., 297., 290., 303., 311., 322., 319., 324., 300., 340.,\n",
       "       335., 302., 307., 296., 320., 314., 318., 326., 317., 329., 324.,\n",
       "       325., 330., 312., 333.])"
      ]
     },
     "execution_count": 16,
     "metadata": {},
     "output_type": "execute_result"
    }
   ],
   "source": [
    "addmis_data[:,1]"
   ]
  },
  {
   "cell_type": "markdown",
   "id": "54227528",
   "metadata": {},
   "source": [
    "Task 3 \n",
    "Find the total number of  students who have a GRE score greater than 320"
   ]
  },
  {
   "cell_type": "code",
   "execution_count": 17,
   "id": "aaa5f92a",
   "metadata": {},
   "outputs": [
    {
     "data": {
      "text/plain": [
       "(array([  0,   1,   3,   5,   6,   9,  10,  11,  12,  21,  22,  23,  24,\n",
       "         25,  26,  31,  32,  33,  34,  43,  44,  45,  46,  47,  48,  49,\n",
       "         52,  53,  54,  64,  65,  66,  69,  70,  71,  72,  75,  76,  81,\n",
       "         83,  84,  97,  98,  99, 100, 104, 106, 107, 108, 111, 119, 120,\n",
       "        121, 126, 128, 129, 130, 133, 134, 138, 140, 141, 142, 143, 144,\n",
       "        147, 148, 150, 151, 152, 153, 154, 164, 165, 171, 172, 173, 174,\n",
       "        176, 185, 187, 188, 189, 190, 191, 192, 193, 202, 203, 210, 211,\n",
       "        212, 213, 214, 215, 216, 217, 218, 222, 229, 234, 235, 236, 237,\n",
       "        242, 243, 245, 248, 249, 253, 254, 257, 258, 259, 260, 263, 264,\n",
       "        268, 275, 276, 283, 284, 285, 286, 287, 298, 302, 303, 305, 306,\n",
       "        307, 311, 318, 319, 321, 325, 328, 330, 335, 337, 338, 339, 341,\n",
       "        351, 356, 359, 360, 361, 362, 365, 371, 372, 373, 380, 382, 384,\n",
       "        385, 392, 394, 395, 396, 397, 399], dtype=int64),)"
      ]
     },
     "execution_count": 17,
     "metadata": {},
     "output_type": "execute_result"
    }
   ],
   "source": [
    "index = np.where(addmis_data[:,1]>320)\n",
    "index"
   ]
  },
  {
   "cell_type": "code",
   "execution_count": 18,
   "id": "fb02b0be",
   "metadata": {},
   "outputs": [
    {
     "data": {
      "text/plain": [
       "1467"
      ]
     },
     "execution_count": 18,
     "metadata": {},
     "output_type": "execute_result"
    }
   ],
   "source": [
    "addmis_data[index].size"
   ]
  },
  {
   "cell_type": "code",
   "execution_count": 19,
   "id": "f9a490be",
   "metadata": {},
   "outputs": [
    {
     "data": {
      "text/plain": [
       "163"
      ]
     },
     "execution_count": 19,
     "metadata": {},
     "output_type": "execute_result"
    }
   ],
   "source": [
    "len(addmis_data[index])"
   ]
  },
  {
   "cell_type": "markdown",
   "id": "b64f6f6c",
   "metadata": {},
   "source": [
    "Task 4 : What is the chance of admission of the students who have a TOEFL score greater than 110? Display the admission chance as a percentage number by multiplying each value in the output by 100."
   ]
  },
  {
   "cell_type": "code",
   "execution_count": 20,
   "id": "0eb8aeb6",
   "metadata": {},
   "outputs": [
    {
     "data": {
      "text/plain": [
       "array([118., 107., 104., 110., 103., 115., 109., 101., 102., 108., 106.,\n",
       "       111., 112., 109., 104., 105., 107., 106., 110., 102., 107., 114.,\n",
       "       116., 119., 119., 120., 109.,  98.,  93.,  99.,  97., 103., 118.,\n",
       "       114., 112., 110., 106., 105., 105., 108., 110., 105., 107., 117.,\n",
       "       113., 110., 114., 119., 110., 111.,  98., 100., 116., 112., 110.,\n",
       "       103., 102.,  99.,  99., 104., 100., 101., 105., 107., 111., 112.,\n",
       "       114., 107., 109., 115., 118., 112., 111., 108., 106., 114., 112.,\n",
       "        99.,  95.,  93., 105., 120., 110., 115., 115., 103., 106., 107.,\n",
       "       108., 109., 106.,  97.,  98.,  97.,  99., 100., 100., 120., 119.,\n",
       "       113., 107., 105., 106., 104., 112., 110., 111., 117., 116., 103.,\n",
       "       108., 109., 107., 110., 105., 106., 102., 104.,  99., 104., 117.,\n",
       "       119., 106., 108., 106., 100., 113., 112., 112., 118., 114., 105.,\n",
       "       105., 112., 113., 109., 103., 100., 116., 109., 110., 118., 115.,\n",
       "       120., 112., 113., 105., 114., 116., 106., 114., 116., 112., 105.,\n",
       "       108., 109., 105., 104., 106., 100., 103.,  99., 109., 105., 111.,\n",
       "       110., 102., 102.,  97.,  99., 101., 117., 110., 113., 111., 111.,\n",
       "       119., 110., 108., 102., 104., 107., 100., 110., 106., 113., 107.,\n",
       "       118., 115., 112., 111., 110., 114., 118., 109., 107., 105., 106.,\n",
       "       104., 107., 103., 110., 120., 120., 105.,  99.,  99., 102., 106.,\n",
       "       104., 108., 110., 120., 119., 117., 116., 112., 109., 110., 104.,\n",
       "       103., 110., 113., 109., 105.,  99., 110., 110., 112., 111., 104.,\n",
       "       106., 107., 100., 113., 111., 112., 114., 104., 100., 101., 103.,\n",
       "       115., 114., 107., 110., 105., 104., 110., 111., 104.,  99., 100.,\n",
       "       115., 114., 110.,  99., 100., 102., 119., 108., 104., 103., 111.,\n",
       "       110., 102., 105., 107., 113., 108., 105.,  96.,  95.,  99., 100.,\n",
       "       110., 113., 101., 103., 102., 102., 110., 106., 111., 112., 116.,\n",
       "       118., 114., 104., 109., 105., 102.,  99.,  98., 101., 100., 107.,\n",
       "       120., 114., 112., 106., 108., 105., 107., 106., 109., 110., 112.,\n",
       "       108., 110., 104., 108., 107., 100., 105., 104., 101.,  99., 111.,\n",
       "       113., 106., 104., 107., 102., 104., 116., 100., 101., 112.,  96.,\n",
       "       113., 105., 106., 108., 107., 111., 110., 118., 108., 107., 107.,\n",
       "       110., 106., 103.,  96.,  98.,  97.,  94.,  99., 101., 107., 110.,\n",
       "       100., 102.,  98., 106., 109., 104., 105., 107., 110., 116., 115.,\n",
       "       103., 102., 114., 104.,  98.,  92.,  98., 103., 110., 119., 109.,\n",
       "       105., 101.,  96., 100.,  98.,  99., 104., 105., 110., 100., 113.,\n",
       "       117., 101., 105.,  97., 108., 102., 106., 112., 104., 111., 110.,\n",
       "       107., 116., 103., 117.])"
      ]
     },
     "execution_count": 20,
     "metadata": {},
     "output_type": "execute_result"
    }
   ],
   "source": [
    "addmis_data[:,2]\n"
   ]
  },
  {
   "cell_type": "code",
   "execution_count": 21,
   "id": "e1d3035f",
   "metadata": {},
   "outputs": [
    {
     "data": {
      "text/plain": [
       "(array([  0,   5,  11,  12,  21,  22,  23,  24,  25,  32,  33,  34,  43,\n",
       "         44,  46,  47,  49,  52,  53,  64,  65,  66,  69,  70,  71,  72,\n",
       "         75,  76,  81,  83,  84,  97,  98,  99, 104, 106, 107, 108, 120,\n",
       "        121, 126, 127, 128, 129, 130, 133, 134, 138, 141, 142, 143, 144,\n",
       "        145, 147, 148, 150, 151, 152, 164, 171, 173, 174, 175, 176, 185,\n",
       "        187, 188, 189, 190, 192, 193, 202, 203, 212, 213, 214, 215, 216,\n",
       "        222, 228, 229, 234, 235, 236, 237, 242, 243, 249, 253, 254, 259,\n",
       "        263, 268, 276, 283, 284, 285, 286, 287, 297, 298, 299, 307, 318,\n",
       "        319, 325, 328, 330, 335, 337, 361, 362, 365, 372, 384, 385, 392,\n",
       "        394, 397, 399], dtype=int64),)"
      ]
     },
     "execution_count": 21,
     "metadata": {},
     "output_type": "execute_result"
    }
   ],
   "source": [
    "index = np.where(addmis_data[:,2]>110)\n",
    "index"
   ]
  },
  {
   "cell_type": "code",
   "execution_count": 22,
   "id": "15958c18",
   "metadata": {},
   "outputs": [
    {
     "data": {
      "text/plain": [
       "array([92., 90., 84., 78., 70., 94., 95., 97., 94., 91., 90., 94., 87.,\n",
       "       91., 86., 89., 78., 78., 72., 52., 55., 61., 78., 94., 96., 93.,\n",
       "       72., 74., 96., 92., 94., 86., 90., 79., 74., 87., 91., 93., 94.,\n",
       "       94., 85., 78., 84., 92., 96., 79., 89., 80., 90., 92., 97., 80.,\n",
       "       81., 83., 96., 93., 94., 86., 81., 89., 89., 87., 85., 90., 89.,\n",
       "       93., 93., 88., 90., 86., 94., 97., 97., 95., 96., 94., 93., 91.,\n",
       "       76., 71., 82., 91., 88., 85., 86., 70., 76., 77., 93., 85., 90.,\n",
       "       70., 83., 89., 80., 94., 93., 92., 89., 86., 90., 71., 80., 79.,\n",
       "       80., 81., 80., 80., 83., 94., 93., 91., 86., 95., 96., 96., 84.,\n",
       "       89., 91., 95.])"
      ]
     },
     "execution_count": 22,
     "metadata": {},
     "output_type": "execute_result"
    }
   ],
   "source": [
    "addmis_data[:,8][index]*100"
   ]
  },
  {
   "cell_type": "markdown",
   "id": "c65b5c44",
   "metadata": {},
   "source": [
    "Task 5 The university decides to offer a scholarship worth $1,000 to all those students who have a GRE score greater than 315, a TOEFL score greater than 115, and have some research experience.\n",
    "Determine the total number of students eligible for this scholarship. Also, display the serial number of these students."
   ]
  },
  {
   "cell_type": "code",
   "execution_count": 23,
   "id": "647f8a94",
   "metadata": {},
   "outputs": [
    {
     "data": {
      "text/plain": [
       "array([ True, False, False, False, False, False, False, False, False,\n",
       "       False, False, False, False, False, False, False, False, False,\n",
       "       False, False, False, False,  True,  True,  True,  True, False,\n",
       "       False, False, False, False, False,  True, False, False, False,\n",
       "       False, False, False, False, False, False, False, False, False,\n",
       "       False, False, False, False, False, False, False,  True, False,\n",
       "       False, False, False, False, False, False, False, False, False,\n",
       "       False, False, False, False, False, False, False,  True, False,\n",
       "       False, False, False, False, False, False, False, False, False,\n",
       "        True, False, False, False, False, False, False, False, False,\n",
       "       False, False, False, False, False, False, False,  True,  True,\n",
       "       False, False, False, False, False, False, False, False,  True,\n",
       "        True, False, False, False, False, False, False, False, False,\n",
       "       False, False, False,  True,  True, False, False, False, False,\n",
       "       False, False, False,  True, False, False, False, False, False,\n",
       "       False, False, False,  True, False, False,  True, False,  True,\n",
       "       False, False, False, False,  True, False, False,  True, False,\n",
       "       False, False, False, False, False, False, False, False, False,\n",
       "       False, False, False, False, False, False, False, False, False,\n",
       "        True, False, False, False, False,  True, False, False, False,\n",
       "       False, False, False, False, False, False, False,  True, False,\n",
       "       False, False, False, False,  True, False, False, False, False,\n",
       "       False, False, False, False,  True,  True, False, False, False,\n",
       "       False, False, False, False, False,  True,  True,  True,  True,\n",
       "       False, False, False, False, False, False, False, False, False,\n",
       "       False, False, False, False, False, False, False, False, False,\n",
       "       False, False, False, False, False, False, False, False, False,\n",
       "       False, False, False, False, False, False, False, False, False,\n",
       "       False, False, False, False, False, False, False,  True, False,\n",
       "       False, False, False, False, False, False, False, False, False,\n",
       "       False, False, False, False, False, False, False, False, False,\n",
       "       False, False, False, False, False, False,  True,  True, False,\n",
       "       False, False, False, False, False, False, False, False, False,\n",
       "       False, False, False, False, False, False, False, False, False,\n",
       "       False, False, False, False, False, False, False, False, False,\n",
       "       False, False, False, False, False, False, False, False, False,\n",
       "       False,  True, False, False, False, False, False, False, False,\n",
       "       False, False, False, False,  True, False, False, False, False,\n",
       "       False, False, False, False, False, False, False, False, False,\n",
       "       False, False, False, False, False, False, False, False, False,\n",
       "       False,  True, False, False, False, False, False, False, False,\n",
       "       False, False, False,  True, False, False, False, False, False,\n",
       "       False, False, False, False, False, False, False,  True, False,\n",
       "       False, False, False, False, False, False, False, False, False,\n",
       "       False,  True, False,  True])"
      ]
     },
     "execution_count": 23,
     "metadata": {},
     "output_type": "execute_result"
    }
   ],
   "source": [
    "indx = (addmis_data[:,1]>315) & (addmis_data[:,2]>115) &(addmis_data[:,7]==1)\n",
    "indx\n"
   ]
  },
  {
   "cell_type": "code",
   "execution_count": 24,
   "id": "b9b4df89",
   "metadata": {},
   "outputs": [
    {
     "data": {
      "text/plain": [
       "array([[  1.  , 337.  , 118.  ,   4.  ,   4.5 ,   4.5 ,   9.65,   1.  ,\n",
       "          0.92],\n",
       "       [ 23.  , 328.  , 116.  ,   5.  ,   5.  ,   5.  ,   9.5 ,   1.  ,\n",
       "          0.94],\n",
       "       [ 24.  , 334.  , 119.  ,   5.  ,   5.  ,   4.5 ,   9.7 ,   1.  ,\n",
       "          0.95],\n",
       "       [ 25.  , 336.  , 119.  ,   5.  ,   4.  ,   3.5 ,   9.8 ,   1.  ,\n",
       "          0.97],\n",
       "       [ 26.  , 340.  , 120.  ,   5.  ,   4.5 ,   4.5 ,   9.6 ,   1.  ,\n",
       "          0.94],\n",
       "       [ 33.  , 338.  , 118.  ,   4.  ,   3.  ,   4.5 ,   9.4 ,   1.  ,\n",
       "          0.91],\n",
       "       [ 53.  , 334.  , 116.  ,   4.  ,   4.  ,   3.  ,   8.  ,   1.  ,\n",
       "          0.78],\n",
       "       [ 71.  , 332.  , 118.  ,   5.  ,   5.  ,   5.  ,   9.64,   1.  ,\n",
       "          0.94],\n",
       "       [ 82.  , 340.  , 120.  ,   4.  ,   5.  ,   5.  ,   9.5 ,   1.  ,\n",
       "          0.96],\n",
       "       [ 98.  , 331.  , 120.  ,   3.  ,   4.  ,   4.  ,   8.96,   1.  ,\n",
       "          0.86],\n",
       "       [ 99.  , 332.  , 119.  ,   4.  ,   5.  ,   4.5 ,   9.24,   1.  ,\n",
       "          0.9 ],\n",
       "       [108.  , 338.  , 117.  ,   4.  ,   3.5 ,   4.5 ,   9.46,   1.  ,\n",
       "          0.91],\n",
       "       [109.  , 331.  , 116.  ,   5.  ,   5.  ,   5.  ,   9.38,   1.  ,\n",
       "          0.93],\n",
       "       [121.  , 335.  , 117.  ,   5.  ,   5.  ,   5.  ,   9.56,   1.  ,\n",
       "          0.94],\n",
       "       [122.  , 334.  , 119.  ,   5.  ,   4.5 ,   4.5 ,   9.48,   1.  ,\n",
       "          0.94],\n",
       "       [130.  , 333.  , 118.  ,   5.  ,   5.  ,   5.  ,   9.35,   1.  ,\n",
       "          0.92],\n",
       "       [139.  , 326.  , 116.  ,   2.  ,   4.5 ,   3.  ,   9.08,   1.  ,\n",
       "          0.8 ],\n",
       "       [142.  , 332.  , 118.  ,   2.  ,   4.5 ,   3.5 ,   9.36,   1.  ,\n",
       "          0.9 ],\n",
       "       [144.  , 340.  , 120.  ,   4.  ,   4.5 ,   4.  ,   9.92,   1.  ,\n",
       "          0.97],\n",
       "       [149.  , 339.  , 116.  ,   4.  ,   4.  ,   3.5 ,   9.8 ,   1.  ,\n",
       "          0.96],\n",
       "       [152.  , 332.  , 116.  ,   5.  ,   5.  ,   5.  ,   9.28,   1.  ,\n",
       "          0.94],\n",
       "       [172.  , 334.  , 117.  ,   5.  ,   4.  ,   4.5 ,   9.07,   1.  ,\n",
       "          0.89],\n",
       "       [177.  , 329.  , 119.  ,   4.  ,   4.5 ,   4.5 ,   9.16,   1.  ,\n",
       "          0.9 ],\n",
       "       [188.  , 335.  , 118.  ,   5.  ,   4.5 ,   3.5 ,   9.44,   1.  ,\n",
       "          0.93],\n",
       "       [194.  , 336.  , 118.  ,   5.  ,   4.5 ,   5.  ,   9.53,   1.  ,\n",
       "          0.94],\n",
       "       [203.  , 340.  , 120.  ,   5.  ,   4.5 ,   4.5 ,   9.91,   1.  ,\n",
       "          0.97],\n",
       "       [204.  , 334.  , 120.  ,   5.  ,   4.  ,   5.  ,   9.87,   1.  ,\n",
       "          0.97],\n",
       "       [213.  , 338.  , 120.  ,   4.  ,   5.  ,   5.  ,   9.66,   1.  ,\n",
       "          0.95],\n",
       "       [214.  , 333.  , 119.  ,   5.  ,   5.  ,   4.5 ,   9.78,   1.  ,\n",
       "          0.96],\n",
       "       [215.  , 331.  , 117.  ,   4.  ,   4.5 ,   5.  ,   9.42,   1.  ,\n",
       "          0.94],\n",
       "       [216.  , 330.  , 116.  ,   5.  ,   5.  ,   4.5 ,   9.36,   1.  ,\n",
       "          0.93],\n",
       "       [260.  , 331.  , 119.  ,   4.  ,   5.  ,   4.5 ,   9.34,   1.  ,\n",
       "          0.9 ],\n",
       "       [286.  , 331.  , 116.  ,   5.  ,   4.  ,   4.  ,   9.26,   1.  ,\n",
       "          0.93],\n",
       "       [287.  , 336.  , 118.  ,   5.  ,   4.5 ,   4.  ,   9.19,   1.  ,\n",
       "          0.92],\n",
       "       [326.  , 326.  , 116.  ,   3.  ,   3.5 ,   4.  ,   9.14,   1.  ,\n",
       "          0.81],\n",
       "       [338.  , 332.  , 118.  ,   5.  ,   5.  ,   5.  ,   9.47,   1.  ,\n",
       "          0.94],\n",
       "       [362.  , 334.  , 116.  ,   4.  ,   4.  ,   3.5 ,   9.54,   1.  ,\n",
       "          0.93],\n",
       "       [373.  , 336.  , 119.  ,   4.  ,   4.5 ,   4.  ,   9.62,   1.  ,\n",
       "          0.95],\n",
       "       [386.  , 335.  , 117.  ,   5.  ,   5.  ,   5.  ,   9.82,   1.  ,\n",
       "          0.96],\n",
       "       [398.  , 330.  , 116.  ,   4.  ,   5.  ,   4.5 ,   9.45,   1.  ,\n",
       "          0.91],\n",
       "       [400.  , 333.  , 117.  ,   4.  ,   5.  ,   4.  ,   9.66,   1.  ,\n",
       "          0.95]])"
      ]
     },
     "execution_count": 24,
     "metadata": {},
     "output_type": "execute_result"
    }
   ],
   "source": [
    "addmis_data[indx]"
   ]
  },
  {
   "cell_type": "code",
   "execution_count": 25,
   "id": "83fdb0e9",
   "metadata": {},
   "outputs": [
    {
     "data": {
      "text/plain": [
       "array([  1.,  23.,  24.,  25.,  26.,  33.,  53.,  71.,  82.,  98.,  99.,\n",
       "       108., 109., 121., 122., 130., 139., 142., 144., 149., 152., 172.,\n",
       "       177., 188., 194., 203., 204., 213., 214., 215., 216., 260., 286.,\n",
       "       287., 326., 338., 362., 373., 386., 398., 400.])"
      ]
     },
     "execution_count": 25,
     "metadata": {},
     "output_type": "execute_result"
    }
   ],
   "source": [
    "scholarship  =addmis_data[indx][:,0]\n",
    "scholarship                                                     #serial number of the students eligible for scholarship\n"
   ]
  },
  {
   "cell_type": "code",
   "execution_count": 26,
   "id": "dadcd187",
   "metadata": {},
   "outputs": [
    {
     "data": {
      "text/plain": [
       "41"
      ]
     },
     "execution_count": 26,
     "metadata": {},
     "output_type": "execute_result"
    }
   ],
   "source": [
    "scholarship.size       #total number of students eligible for scholarship\n"
   ]
  },
  {
   "cell_type": "code",
   "execution_count": null,
   "id": "62a0c8fb",
   "metadata": {},
   "outputs": [],
   "source": []
  },
  {
   "cell_type": "code",
   "execution_count": null,
   "id": "b793feba",
   "metadata": {},
   "outputs": [],
   "source": []
  }
 ],
 "metadata": {
  "kernelspec": {
   "display_name": "Python 3 (ipykernel)",
   "language": "python",
   "name": "python3"
  },
  "language_info": {
   "codemirror_mode": {
    "name": "ipython",
    "version": 3
   },
   "file_extension": ".py",
   "mimetype": "text/x-python",
   "name": "python",
   "nbconvert_exporter": "python",
   "pygments_lexer": "ipython3",
   "version": "3.11.5"
  }
 },
 "nbformat": 4,
 "nbformat_minor": 5
}
