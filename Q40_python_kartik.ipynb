{
 "cells": [
  {
   "cell_type": "markdown",
   "id": "b984b5a1",
   "metadata": {},
   "source": [
    "40). Write a Python program that generates a random number between 1 and 100 and asks the user to guess it."
   ]
  },
  {
   "cell_type": "code",
   "execution_count": 3,
   "id": "793fceb4",
   "metadata": {},
   "outputs": [
    {
     "name": "stdout",
     "output_type": "stream",
     "text": [
      "Guess the number between 1 and 100: 99\n",
      "Too high! The number was: 81\n"
     ]
    }
   ],
   "source": [
    "import random                        #imported random\n",
    "number = random.randint(1, 100)            # Generate a random number between 1 and 100\n",
    "\n",
    "guess = int(input(\"Guess the number between 1 and 100: \"))\n",
    "\n",
    "# Check if the guess is correct\n",
    "if guess == number:\n",
    "    print(\"You guessed it right\",number)\n",
    "elif guess < number:\n",
    "    print(\"Too low! The number was:\",number)\n",
    "else:\n",
    "    print(\"Too high! The number was:\",number)"
   ]
  },
  {
   "cell_type": "code",
   "execution_count": null,
   "id": "8ca8f04a",
   "metadata": {},
   "outputs": [],
   "source": []
  }
 ],
 "metadata": {
  "kernelspec": {
   "display_name": "Python 3 (ipykernel)",
   "language": "python",
   "name": "python3"
  },
  "language_info": {
   "codemirror_mode": {
    "name": "ipython",
    "version": 3
   },
   "file_extension": ".py",
   "mimetype": "text/x-python",
   "name": "python",
   "nbconvert_exporter": "python",
   "pygments_lexer": "ipython3",
   "version": "3.11.5"
  }
 },
 "nbformat": 4,
 "nbformat_minor": 5
}
