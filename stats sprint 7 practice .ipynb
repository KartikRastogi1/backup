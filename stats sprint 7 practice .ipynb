{
 "cells": [
  {
   "cell_type": "code",
   "execution_count": 1,
   "id": "dc205e4a",
   "metadata": {},
   "outputs": [],
   "source": [
    "import pandas as pd\n",
    "import statistics as st"
   ]
  },
  {
   "cell_type": "code",
   "execution_count": 2,
   "id": "0a11c25d",
   "metadata": {},
   "outputs": [
    {
     "data": {
      "text/html": [
       "<div>\n",
       "<style scoped>\n",
       "    .dataframe tbody tr th:only-of-type {\n",
       "        vertical-align: middle;\n",
       "    }\n",
       "\n",
       "    .dataframe tbody tr th {\n",
       "        vertical-align: top;\n",
       "    }\n",
       "\n",
       "    .dataframe thead th {\n",
       "        text-align: right;\n",
       "    }\n",
       "</style>\n",
       "<table border=\"1\" class=\"dataframe\">\n",
       "  <thead>\n",
       "    <tr style=\"text-align: right;\">\n",
       "      <th></th>\n",
       "      <th>Statistics</th>\n",
       "      <th>Python</th>\n",
       "      <th>Tableau</th>\n",
       "    </tr>\n",
       "  </thead>\n",
       "  <tbody>\n",
       "    <tr>\n",
       "      <th>0</th>\n",
       "      <td>61</td>\n",
       "      <td>86</td>\n",
       "      <td>66</td>\n",
       "    </tr>\n",
       "    <tr>\n",
       "      <th>1</th>\n",
       "      <td>54</td>\n",
       "      <td>86</td>\n",
       "      <td>72</td>\n",
       "    </tr>\n",
       "    <tr>\n",
       "      <th>2</th>\n",
       "      <td>56</td>\n",
       "      <td>80</td>\n",
       "      <td>78</td>\n",
       "    </tr>\n",
       "    <tr>\n",
       "      <th>3</th>\n",
       "      <td>54</td>\n",
       "      <td>85</td>\n",
       "      <td>45</td>\n",
       "    </tr>\n",
       "    <tr>\n",
       "      <th>4</th>\n",
       "      <td>53</td>\n",
       "      <td>84</td>\n",
       "      <td>68</td>\n",
       "    </tr>\n",
       "    <tr>\n",
       "      <th>...</th>\n",
       "      <td>...</td>\n",
       "      <td>...</td>\n",
       "      <td>...</td>\n",
       "    </tr>\n",
       "    <tr>\n",
       "      <th>95</th>\n",
       "      <td>60</td>\n",
       "      <td>76</td>\n",
       "      <td>64</td>\n",
       "    </tr>\n",
       "    <tr>\n",
       "      <th>96</th>\n",
       "      <td>59</td>\n",
       "      <td>89</td>\n",
       "      <td>70</td>\n",
       "    </tr>\n",
       "    <tr>\n",
       "      <th>97</th>\n",
       "      <td>62</td>\n",
       "      <td>80</td>\n",
       "      <td>46</td>\n",
       "    </tr>\n",
       "    <tr>\n",
       "      <th>98</th>\n",
       "      <td>58</td>\n",
       "      <td>89</td>\n",
       "      <td>74</td>\n",
       "    </tr>\n",
       "    <tr>\n",
       "      <th>99</th>\n",
       "      <td>67</td>\n",
       "      <td>77</td>\n",
       "      <td>70</td>\n",
       "    </tr>\n",
       "  </tbody>\n",
       "</table>\n",
       "<p>100 rows × 3 columns</p>\n",
       "</div>"
      ],
      "text/plain": [
       "    Statistics  Python  Tableau\n",
       "0           61      86       66\n",
       "1           54      86       72\n",
       "2           56      80       78\n",
       "3           54      85       45\n",
       "4           53      84       68\n",
       "..         ...     ...      ...\n",
       "95          60      76       64\n",
       "96          59      89       70\n",
       "97          62      80       46\n",
       "98          58      89       74\n",
       "99          67      77       70\n",
       "\n",
       "[100 rows x 3 columns]"
      ]
     },
     "execution_count": 2,
     "metadata": {},
     "output_type": "execute_result"
    }
   ],
   "source": [
    "score_df = pd.read_csv(\"DS1_C4_S7_Students_Scores_Data_Practice.csv\") \n",
    "score_df"
   ]
  },
  {
   "cell_type": "markdown",
   "id": "5557fd30",
   "metadata": {},
   "source": [
    "Task 1\n",
    "Use the measures of central tendency to identify the subject in which the students have shown the best performance.\n",
    "While comparing the performance of three different subjects, one might just look at the average score in each subject and compare which subject has the highest average score and declare that subject as the one in which students have performed the best. Here, you need to look beyond the mean.\n",
    "Hint: Use the measures of mean, median, and mode to perform this task."
   ]
  },
  {
   "cell_type": "code",
   "execution_count": 3,
   "id": "e2154c4b",
   "metadata": {},
   "outputs": [
    {
     "data": {
      "text/plain": [
       "60.89"
      ]
     },
     "execution_count": 3,
     "metadata": {},
     "output_type": "execute_result"
    }
   ],
   "source": [
    "Statistics_mean = score_df[\"Statistics\"].mean()\n",
    "Statistics_mean"
   ]
  },
  {
   "cell_type": "code",
   "execution_count": 4,
   "id": "78fb125d",
   "metadata": {},
   "outputs": [
    {
     "data": {
      "text/plain": [
       "81.84"
      ]
     },
     "execution_count": 4,
     "metadata": {},
     "output_type": "execute_result"
    }
   ],
   "source": [
    "Python_mean = score_df[\"Python\"].mean()\n",
    "Python_mean"
   ]
  },
  {
   "cell_type": "code",
   "execution_count": 5,
   "id": "5ad2e7d7",
   "metadata": {},
   "outputs": [
    {
     "data": {
      "text/plain": [
       "68.02"
      ]
     },
     "execution_count": 5,
     "metadata": {},
     "output_type": "execute_result"
    }
   ],
   "source": [
    "Tableau_mean = score_df[\"Tableau\"].mean()\n",
    "Tableau_mean"
   ]
  },
  {
   "cell_type": "code",
   "execution_count": 6,
   "id": "c041b87f",
   "metadata": {},
   "outputs": [
    {
     "name": "stdout",
     "output_type": "stream",
     "text": [
      "Mean of the subjects \n",
      "statistics= 60.89 \n",
      "Python= 81.84 \n",
      "Tableau= 68.02\n"
     ]
    }
   ],
   "source": [
    "print(\"Mean of the subjects \\nstatistics=\",Statistics_mean,\"\\n\" \"Python=\",Python_mean,\"\\n\" \"Tableau=\",Tableau_mean)"
   ]
  },
  {
   "cell_type": "code",
   "execution_count": 7,
   "id": "40292297",
   "metadata": {},
   "outputs": [
    {
     "data": {
      "text/plain": [
       "[60.89, 81.84, 68.02]"
      ]
     },
     "execution_count": 7,
     "metadata": {},
     "output_type": "execute_result"
    }
   ],
   "source": [
    "sub_mean = [Statistics_mean, Python_mean, Tableau_mean]\n",
    "sub_mean"
   ]
  },
  {
   "cell_type": "code",
   "execution_count": 8,
   "id": "00aacf1b",
   "metadata": {},
   "outputs": [
    {
     "data": {
      "text/plain": [
       "60.0"
      ]
     },
     "execution_count": 8,
     "metadata": {},
     "output_type": "execute_result"
    }
   ],
   "source": [
    "Statistics_median = score_df[\"Statistics\"].median()\n",
    "Statistics_median"
   ]
  },
  {
   "cell_type": "code",
   "execution_count": 9,
   "id": "4b085c81",
   "metadata": {},
   "outputs": [
    {
     "data": {
      "text/plain": [
       "82.0"
      ]
     },
     "execution_count": 9,
     "metadata": {},
     "output_type": "execute_result"
    }
   ],
   "source": [
    "Python_median = score_df[\"Python\"].median()\n",
    "Python_median"
   ]
  },
  {
   "cell_type": "code",
   "execution_count": 10,
   "id": "c3ae8b30",
   "metadata": {},
   "outputs": [
    {
     "data": {
      "text/plain": [
       "69.0"
      ]
     },
     "execution_count": 10,
     "metadata": {},
     "output_type": "execute_result"
    }
   ],
   "source": [
    "Tableau_median = score_df[\"Tableau\"].median()\n",
    "Tableau_median"
   ]
  },
  {
   "cell_type": "code",
   "execution_count": 11,
   "id": "78c8322b",
   "metadata": {},
   "outputs": [
    {
     "name": "stdout",
     "output_type": "stream",
     "text": [
      "Median of the subjects \n",
      "statistics= 60.0 \n",
      "Python= 82.0 \n",
      "Tableau= 69.0\n"
     ]
    }
   ],
   "source": [
    "print(\"Median of the subjects \\nstatistics=\",Statistics_median,\"\\n\" \"Python=\",Python_median,\"\\n\" \"Tableau=\",Tableau_median)"
   ]
  },
  {
   "cell_type": "code",
   "execution_count": 12,
   "id": "1f5576cd",
   "metadata": {},
   "outputs": [
    {
     "data": {
      "text/plain": [
       "[60.0, 82.0, 69.0]"
      ]
     },
     "execution_count": 12,
     "metadata": {},
     "output_type": "execute_result"
    }
   ],
   "source": [
    "sub_median = [Statistics_median, Python_median, Tableau_median]\n",
    "sub_median"
   ]
  },
  {
   "cell_type": "code",
   "execution_count": 13,
   "id": "1af70934",
   "metadata": {},
   "outputs": [
    {
     "data": {
      "text/plain": [
       "0    55\n",
       "Name: Statistics, dtype: int64"
      ]
     },
     "execution_count": 13,
     "metadata": {},
     "output_type": "execute_result"
    }
   ],
   "source": [
    "Statistics_mode= score_df[\"Statistics\"].mode()\n",
    "Statistics_mode"
   ]
  },
  {
   "cell_type": "code",
   "execution_count": 14,
   "id": "d0630e6d",
   "metadata": {},
   "outputs": [
    {
     "data": {
      "text/plain": [
       "0    86\n",
       "Name: Python, dtype: int64"
      ]
     },
     "execution_count": 14,
     "metadata": {},
     "output_type": "execute_result"
    }
   ],
   "source": [
    "Python_mode = score_df[\"Python\"].mode()\n",
    "Python_mode"
   ]
  },
  {
   "cell_type": "code",
   "execution_count": 15,
   "id": "8a0df505",
   "metadata": {},
   "outputs": [
    {
     "data": {
      "text/plain": [
       "0    65\n",
       "Name: Tableau, dtype: int64"
      ]
     },
     "execution_count": 15,
     "metadata": {},
     "output_type": "execute_result"
    }
   ],
   "source": [
    "Tableau_mode= score_df[\"Tableau\"].mode()\n",
    "Tableau_mode"
   ]
  },
  {
   "cell_type": "code",
   "execution_count": 16,
   "id": "9273c43a",
   "metadata": {},
   "outputs": [
    {
     "data": {
      "text/plain": [
       "[55, 86, 65]"
      ]
     },
     "execution_count": 16,
     "metadata": {},
     "output_type": "execute_result"
    }
   ],
   "source": [
    "sub_mode = [Statistics_mode[0], Python_mode[0], Tableau_mode[0]]\n",
    "sub_mode"
   ]
  },
  {
   "cell_type": "code",
   "execution_count": 17,
   "id": "a955f0fe",
   "metadata": {},
   "outputs": [
    {
     "data": {
      "text/html": [
       "<div>\n",
       "<style scoped>\n",
       "    .dataframe tbody tr th:only-of-type {\n",
       "        vertical-align: middle;\n",
       "    }\n",
       "\n",
       "    .dataframe tbody tr th {\n",
       "        vertical-align: top;\n",
       "    }\n",
       "\n",
       "    .dataframe thead th {\n",
       "        text-align: right;\n",
       "    }\n",
       "</style>\n",
       "<table border=\"1\" class=\"dataframe\">\n",
       "  <thead>\n",
       "    <tr style=\"text-align: right;\">\n",
       "      <th></th>\n",
       "      <th>Mean</th>\n",
       "      <th>Median</th>\n",
       "      <th>Mode</th>\n",
       "    </tr>\n",
       "  </thead>\n",
       "  <tbody>\n",
       "    <tr>\n",
       "      <th>Statistics</th>\n",
       "      <td>60.89</td>\n",
       "      <td>60.0</td>\n",
       "      <td>55</td>\n",
       "    </tr>\n",
       "    <tr>\n",
       "      <th>Python</th>\n",
       "      <td>81.84</td>\n",
       "      <td>82.0</td>\n",
       "      <td>86</td>\n",
       "    </tr>\n",
       "    <tr>\n",
       "      <th>Tableau</th>\n",
       "      <td>68.02</td>\n",
       "      <td>69.0</td>\n",
       "      <td>65</td>\n",
       "    </tr>\n",
       "  </tbody>\n",
       "</table>\n",
       "</div>"
      ],
      "text/plain": [
       "             Mean  Median  Mode\n",
       "Statistics  60.89    60.0    55\n",
       "Python      81.84    82.0    86\n",
       "Tableau     68.02    69.0    65"
      ]
     },
     "execution_count": 17,
     "metadata": {},
     "output_type": "execute_result"
    }
   ],
   "source": [
    "pd.DataFrame({\"Mean\":sub_mean, \"Median\":sub_median, \"Mode\":sub_mode }, index = [\"Statistics\",\"Python\",\"Tableau\"])"
   ]
  },
  {
   "cell_type": "code",
   "execution_count": 18,
   "id": "8ed8afff",
   "metadata": {},
   "outputs": [],
   "source": [
    "#from the analyis :\n",
    "#python is the subject in which students have shown best performance as compared to other two subjects"
   ]
  },
  {
   "cell_type": "markdown",
   "id": "4fa799cf",
   "metadata": {},
   "source": [
    "Task 2\n",
    "Measure variability to identify the subject that shows the best performance for the class.\n",
    "Hint: Calculate the variance, coefficient of variation, and mean to perform the above task."
   ]
  },
  {
   "cell_type": "markdown",
   "id": "fb725329",
   "metadata": {},
   "source": [
    "# std"
   ]
  },
  {
   "cell_type": "code",
   "execution_count": 19,
   "id": "0794d5c5",
   "metadata": {},
   "outputs": [
    {
     "data": {
      "text/plain": [
       "7.236125700367231"
      ]
     },
     "execution_count": 19,
     "metadata": {},
     "output_type": "execute_result"
    }
   ],
   "source": [
    "Statistics_std = st.stdev(score_df[\"Statistics\"])\n",
    "Statistics_std"
   ]
  },
  {
   "cell_type": "code",
   "execution_count": 20,
   "id": "ac374f27",
   "metadata": {},
   "outputs": [
    {
     "data": {
      "text/plain": [
       "4.345484129902251"
      ]
     },
     "execution_count": 20,
     "metadata": {},
     "output_type": "execute_result"
    }
   ],
   "source": [
    "Python_std = st.stdev(score_df[\"Python\"])\n",
    "Python_std"
   ]
  },
  {
   "cell_type": "code",
   "execution_count": 21,
   "id": "e0634230",
   "metadata": {},
   "outputs": [
    {
     "data": {
      "text/plain": [
       "7.32089854837202"
      ]
     },
     "execution_count": 21,
     "metadata": {},
     "output_type": "execute_result"
    }
   ],
   "source": [
    "Tableau_std = st.stdev(score_df[\"Tableau\"])\n",
    "Tableau_std"
   ]
  },
  {
   "cell_type": "code",
   "execution_count": 22,
   "id": "c881c201",
   "metadata": {},
   "outputs": [
    {
     "data": {
      "text/plain": [
       "[7.236125700367231, 4.345484129902251, 7.32089854837202]"
      ]
     },
     "execution_count": 22,
     "metadata": {},
     "output_type": "execute_result"
    }
   ],
   "source": [
    "sub_std = [Statistics_std,Python_std,Tableau_std]\n",
    "sub_std "
   ]
  },
  {
   "cell_type": "markdown",
   "id": "2f9b302d",
   "metadata": {},
   "source": [
    "# variance"
   ]
  },
  {
   "cell_type": "code",
   "execution_count": 23,
   "id": "29793293",
   "metadata": {},
   "outputs": [
    {
     "data": {
      "text/plain": [
       "52.361515151515164"
      ]
     },
     "execution_count": 23,
     "metadata": {},
     "output_type": "execute_result"
    }
   ],
   "source": [
    "Statistics_var =score_df[\"Statistics\"].var()  \n",
    "Statistics_var"
   ]
  },
  {
   "cell_type": "code",
   "execution_count": 24,
   "id": "d00420cc",
   "metadata": {},
   "outputs": [
    {
     "data": {
      "text/plain": [
       "18.883232323232335"
      ]
     },
     "execution_count": 24,
     "metadata": {},
     "output_type": "execute_result"
    }
   ],
   "source": [
    "Python_var =score_df[\"Python\"].var()\n",
    "Python_var"
   ]
  },
  {
   "cell_type": "code",
   "execution_count": 25,
   "id": "91be2dd7",
   "metadata": {},
   "outputs": [
    {
     "data": {
      "text/plain": [
       "53.595555555555556"
      ]
     },
     "execution_count": 25,
     "metadata": {},
     "output_type": "execute_result"
    }
   ],
   "source": [
    "Tableau_var =score_df[\"Tableau\"].var()\n",
    "Tableau_var\n"
   ]
  },
  {
   "cell_type": "code",
   "execution_count": 26,
   "id": "843159cb",
   "metadata": {},
   "outputs": [
    {
     "data": {
      "text/plain": [
       "[52.361515151515164, 18.883232323232335, 53.595555555555556]"
      ]
     },
     "execution_count": 26,
     "metadata": {},
     "output_type": "execute_result"
    }
   ],
   "source": [
    "sub_var = [Statistics_var, Python_var, Tableau_var]\n",
    "sub_var"
   ]
  },
  {
   "cell_type": "markdown",
   "id": "a6d899be",
   "metadata": {},
   "source": [
    "# coefficient of variation"
   ]
  },
  {
   "cell_type": "code",
   "execution_count": 27,
   "id": "629d09f1",
   "metadata": {},
   "outputs": [
    {
     "data": {
      "text/plain": [
       "11.883931187990198"
      ]
     },
     "execution_count": 27,
     "metadata": {},
     "output_type": "execute_result"
    }
   ],
   "source": [
    "Statistics_cov = Statistics_std*100/Statistics_mean\n",
    "Statistics_cov"
   ]
  },
  {
   "cell_type": "code",
   "execution_count": 28,
   "id": "f190ad79",
   "metadata": {},
   "outputs": [
    {
     "data": {
      "text/plain": [
       "5.309731341522789"
      ]
     },
     "execution_count": 28,
     "metadata": {},
     "output_type": "execute_result"
    }
   ],
   "source": [
    "Python_cov = Python_std*100/Python_mean\n",
    "Python_cov"
   ]
  },
  {
   "cell_type": "code",
   "execution_count": 29,
   "id": "2429024d",
   "metadata": {},
   "outputs": [
    {
     "data": {
      "text/plain": [
       "10.762861729450192"
      ]
     },
     "execution_count": 29,
     "metadata": {},
     "output_type": "execute_result"
    }
   ],
   "source": [
    "Tableau_cov = Tableau_std*100/Tableau_mean\n",
    "Tableau_cov"
   ]
  },
  {
   "cell_type": "code",
   "execution_count": 30,
   "id": "9ac8f6aa",
   "metadata": {},
   "outputs": [
    {
     "data": {
      "text/plain": [
       "[11.883931187990198, 5.309731341522789, 10.762861729450192]"
      ]
     },
     "execution_count": 30,
     "metadata": {},
     "output_type": "execute_result"
    }
   ],
   "source": [
    "sub_cov = [Statistics_cov, Python_cov, Tableau_cov]\n",
    "sub_cov"
   ]
  },
  {
   "cell_type": "code",
   "execution_count": 31,
   "id": "012f2123",
   "metadata": {},
   "outputs": [
    {
     "data": {
      "text/html": [
       "<div>\n",
       "<style scoped>\n",
       "    .dataframe tbody tr th:only-of-type {\n",
       "        vertical-align: middle;\n",
       "    }\n",
       "\n",
       "    .dataframe tbody tr th {\n",
       "        vertical-align: top;\n",
       "    }\n",
       "\n",
       "    .dataframe thead th {\n",
       "        text-align: right;\n",
       "    }\n",
       "</style>\n",
       "<table border=\"1\" class=\"dataframe\">\n",
       "  <thead>\n",
       "    <tr style=\"text-align: right;\">\n",
       "      <th></th>\n",
       "      <th>Mean</th>\n",
       "      <th>Variance</th>\n",
       "      <th>coefficient of variation</th>\n",
       "    </tr>\n",
       "  </thead>\n",
       "  <tbody>\n",
       "    <tr>\n",
       "      <th>Statistics</th>\n",
       "      <td>60.89</td>\n",
       "      <td>52.361515</td>\n",
       "      <td>11.883931</td>\n",
       "    </tr>\n",
       "    <tr>\n",
       "      <th>Python</th>\n",
       "      <td>81.84</td>\n",
       "      <td>18.883232</td>\n",
       "      <td>5.309731</td>\n",
       "    </tr>\n",
       "    <tr>\n",
       "      <th>Tableau</th>\n",
       "      <td>68.02</td>\n",
       "      <td>53.595556</td>\n",
       "      <td>10.762862</td>\n",
       "    </tr>\n",
       "  </tbody>\n",
       "</table>\n",
       "</div>"
      ],
      "text/plain": [
       "             Mean   Variance  coefficient of variation\n",
       "Statistics  60.89  52.361515                 11.883931\n",
       "Python      81.84  18.883232                  5.309731\n",
       "Tableau     68.02  53.595556                 10.762862"
      ]
     },
     "execution_count": 31,
     "metadata": {},
     "output_type": "execute_result"
    }
   ],
   "source": [
    "pd.DataFrame({\"Mean\":sub_mean, \"Variance\":sub_var, \"coefficient of variation\":sub_cov}, index = [\"Statistics\", \"Python\", \"Tableau\"])"
   ]
  },
  {
   "cell_type": "code",
   "execution_count": null,
   "id": "0caf0faf",
   "metadata": {},
   "outputs": [],
   "source": []
  },
  {
   "cell_type": "code",
   "execution_count": null,
   "id": "9f7560b0",
   "metadata": {},
   "outputs": [],
   "source": []
  },
  {
   "cell_type": "markdown",
   "id": "3757e3f3",
   "metadata": {},
   "source": [
    "Task 3\n",
    "Identify the subject in which the scores are the most skewed.\n",
    "Hint: Calculate the outliers to identify skewness."
   ]
  },
  {
   "cell_type": "code",
   "execution_count": 32,
   "id": "08f7189a",
   "metadata": {},
   "outputs": [],
   "source": [
    "subject_series = pd.Series()"
   ]
  },
  {
   "cell_type": "code",
   "execution_count": 33,
   "id": "671df854",
   "metadata": {},
   "outputs": [
    {
     "data": {
      "text/html": [
       "<div>\n",
       "<style scoped>\n",
       "    .dataframe tbody tr th:only-of-type {\n",
       "        vertical-align: middle;\n",
       "    }\n",
       "\n",
       "    .dataframe tbody tr th {\n",
       "        vertical-align: top;\n",
       "    }\n",
       "\n",
       "    .dataframe thead th {\n",
       "        text-align: right;\n",
       "    }\n",
       "</style>\n",
       "<table border=\"1\" class=\"dataframe\">\n",
       "  <thead>\n",
       "    <tr style=\"text-align: right;\">\n",
       "      <th></th>\n",
       "      <th>subject</th>\n",
       "      <th>Min</th>\n",
       "      <th>Max</th>\n",
       "      <th>Range</th>\n",
       "      <th>Q1</th>\n",
       "      <th>Q3</th>\n",
       "      <th>IQR</th>\n",
       "      <th>Lower Fence</th>\n",
       "      <th>Upper Fence</th>\n",
       "      <th>Outliers</th>\n",
       "    </tr>\n",
       "  </thead>\n",
       "  <tbody>\n",
       "    <tr>\n",
       "      <th>0</th>\n",
       "      <td>Statistics</td>\n",
       "      <td>50</td>\n",
       "      <td>74</td>\n",
       "      <td>24</td>\n",
       "      <td>54.0</td>\n",
       "      <td>67.00</td>\n",
       "      <td>13.00</td>\n",
       "      <td>34.500</td>\n",
       "      <td>86.500</td>\n",
       "      <td>[[], []]</td>\n",
       "    </tr>\n",
       "    <tr>\n",
       "      <th>1</th>\n",
       "      <td>Python</td>\n",
       "      <td>75</td>\n",
       "      <td>89</td>\n",
       "      <td>14</td>\n",
       "      <td>78.0</td>\n",
       "      <td>86.00</td>\n",
       "      <td>8.00</td>\n",
       "      <td>66.000</td>\n",
       "      <td>98.000</td>\n",
       "      <td>[[], []]</td>\n",
       "    </tr>\n",
       "    <tr>\n",
       "      <th>2</th>\n",
       "      <td>Tableau</td>\n",
       "      <td>45</td>\n",
       "      <td>79</td>\n",
       "      <td>34</td>\n",
       "      <td>64.0</td>\n",
       "      <td>73.25</td>\n",
       "      <td>9.25</td>\n",
       "      <td>50.125</td>\n",
       "      <td>87.125</td>\n",
       "      <td>[[45, 50, 50, 50, 46, 46], []]</td>\n",
       "    </tr>\n",
       "  </tbody>\n",
       "</table>\n",
       "</div>"
      ],
      "text/plain": [
       "      subject  Min  Max  Range    Q1     Q3    IQR  Lower Fence  Upper Fence  \\\n",
       "0  Statistics   50   74     24  54.0  67.00  13.00       34.500       86.500   \n",
       "1      Python   75   89     14  78.0  86.00   8.00       66.000       98.000   \n",
       "2     Tableau   45   79     34  64.0  73.25   9.25       50.125       87.125   \n",
       "\n",
       "                         Outliers  \n",
       "0                        [[], []]  \n",
       "1                        [[], []]  \n",
       "2  [[45, 50, 50, 50, 46, 46], []]  "
      ]
     },
     "execution_count": 33,
     "metadata": {},
     "output_type": "execute_result"
    }
   ],
   "source": [
    "for subject in score_df.columns:\n",
    "    LO=[]#Lower Outliers list\n",
    "    UO=[]#Upper Outliers list\n",
    "    subject_series = score_df[subject]\n",
    "    subject_series=pd.Series(score_df[subject]) #Converting each column values into pandas series\n",
    "    \n",
    "    Min=min(subject_series) \n",
    "    Max=max(subject_series) \n",
    "    Range=Max-Min \n",
    "    Q1=subject_series.quantile(0.25)             #Calculating quartile 1\n",
    "    Q3=subject_series.quantile(0.75)           #Calculating quartile 3\n",
    "    IQR=Q3-Q1                           #Calculating inter quartile range\n",
    "    UF=Q3+1.5*IQR                    #Calculating upper fence\n",
    "    LF=Q1-1.5*IQR                      #Calculating lower fence\n",
    "    \n",
    " \n",
    "    for i in score_df[subject]:\n",
    "        if(i<LF):\n",
    "            LO.append(i)\n",
    "        if(i>UF):\n",
    "            UO.append(i)\n",
    "    \n",
    "\n",
    "    if(subject==\"Statistics\"):\n",
    "        Statistics=['Statistics',Min, Max, Range, Q1, Q3, IQR, LF, UF,[LO,UO]]\n",
    "    elif(subject==\"Python\"):\n",
    "        Python=['Python',Min, Max, Range, Q1, Q3, IQR, LF, UF,[LO,UO]]\n",
    "    else:\n",
    "        Tableau=['Tableau',Min, Max, Range, Q1, Q3, IQR, LF, UF,[LO,UO]] \n",
    "        \n",
    "col_names=['subject','Min','Max','Range','Q1','Q3','IQR','Lower Fence', 'Upper Fence','Outliers']\n",
    "#Creating a new dataframe with all calculated values of 3 companies\n",
    "d_data=pd.DataFrame([Statistics, Python ,Tableau],columns=col_names) \n",
    "d_data"
   ]
  },
  {
   "cell_type": "code",
   "execution_count": 34,
   "id": "9c310cac",
   "metadata": {},
   "outputs": [
    {
     "data": {
      "image/png": "[encoded data removed]",
      "text/plain": [
       "<Figure size 600x400 with 1 Axes>"
      ]
     },
     "metadata": {},
     "output_type": "display_data"
    }
   ],
   "source": [
    "import matplotlib.pyplot as plt\n",
    "\n",
    "\n",
    "Statistics_data=score_df['Statistics'].tolist()\n",
    "Python_data=score_df['Python'].tolist()\n",
    "Tableau_data=score_df['Tableau'].tolist()  \n",
    "fig = plt.figure(figsize =(6, 4))                 #Setting figure size\n",
    " \n",
    "# Creating axes instance\n",
    "ax = fig.add_axes([0, 0, 1, 1])           #it gives us places to draw the chart\n",
    "\n",
    "#Creating boxplots of 3 groups of salaries\n",
    "plt.boxplot([Statistics_data, Python_data, Tableau_data],vert=0)\n",
    "\n",
    "#Setting y-axis label\n",
    "ax.set_yticklabels(['Statistics', 'Python','Tableau'])          #for y-axis\n",
    "\n",
    "#Showing the final plot\n",
    "plt.show()"
   ]
  },
  {
   "cell_type": "code",
   "execution_count": 1,
   "id": "67a568f6",
   "metadata": {},
   "outputs": [
    {
     "name": "stdout",
     "output_type": "stream",
     "text": [
      "Statistics is more distributed as compared to python and tableau, so Statistics is most skewed\n"
     ]
    }
   ],
   "source": [
    "print(\"Statistics is more distributed as compared to python and tableau, so Statistics is most skewed\")"
   ]
  },
  {
   "cell_type": "code",
   "execution_count": null,
   "id": "1e191127",
   "metadata": {},
   "outputs": [],
   "source": []
  },
  {
   "cell_type": "markdown",
   "id": "974323c6",
   "metadata": {},
   "source": [
    "Task 4\n",
    "Visually present the distribution of scores obtained by the students in different subjects using box plots.\n",
    "Identify the subject for which the scores are the most skewed."
   ]
  },
  {
   "cell_type": "code",
   "execution_count": 35,
   "id": "d097f250",
   "metadata": {},
   "outputs": [
    {
     "data": {
      "image/png": "[encoded data removed]",
      "text/plain": [
       "<Figure size 600x400 with 1 Axes>"
      ]
     },
     "metadata": {},
     "output_type": "display_data"
    }
   ],
   "source": [
    "import matplotlib.pyplot as plt\n",
    "\n",
    "\n",
    "Statistics_data=score_df['Statistics'].tolist()\n",
    "Python_data=score_df['Python'].tolist()\n",
    "Tableau_data=score_df['Tableau'].tolist()  \n",
    "fig = plt.figure(figsize =(6, 4))                 #Setting figure size\n",
    " \n",
    "# Creating axes instance\n",
    "ax = fig.add_axes([0, 0, 1, 1])           #it gives us places to draw the chart\n",
    "\n",
    "#Creating boxplots of 3 groups of salaries\n",
    "plt.boxplot([Statistics_data, Python_data, Tableau_data],vert=0)\n",
    "\n",
    "#Setting y-axis label\n",
    "ax.set_yticklabels(['Statistics', 'Python','Tableau'])          #for y-axis\n",
    "\n",
    "#Showing the final plot\n",
    "plt.show()"
   ]
  },
  {
   "cell_type": "markdown",
   "id": "b3417714",
   "metadata": {},
   "source": [
    "Statistics is more distributed as compared to python and tableau, so Statistics is most skewed\n"
   ]
  },
  {
   "cell_type": "markdown",
   "id": "78816344",
   "metadata": {},
   "source": [
    "Task 5\n",
    "Present the distribution of data for each subject using normal distribution curves (bell curves). Observe and report the Kurtosis analysis for every subject."
   ]
  },
  {
   "cell_type": "code",
   "execution_count": 36,
   "id": "4e451b99",
   "metadata": {},
   "outputs": [],
   "source": [
    "import seaborn as sns\n",
    "import warnings\n",
    "warnings.filterwarnings('ignore')"
   ]
  },
  {
   "cell_type": "code",
   "execution_count": 37,
   "id": "fd2a213d",
   "metadata": {},
   "outputs": [
    {
     "data": {
      "image/png": "[encoded data removed]",
      "text/plain": [
       "<Figure size 640x480 with 1 Axes>"
      ]
     },
     "metadata": {},
     "output_type": "display_data"
    }
   ],
   "source": [
    "from scipy.stats import norm\n",
    "plt.plot(sorted(score_df[\"Statistics\"]), norm.pdf(sorted(score_df[\"Statistics\"]), Statistics_mean, Statistics_std), color = \"black\", label =\"Statistics\" )\n",
    "plt.plot(sorted(score_df[\"Python\"]), norm.pdf(sorted(score_df[\"Python\"]), Python_mean, Python_std) ,color = \"r\",label = \"Python\")\n",
    "plt.plot(sorted(score_df[\"Tableau\"]), norm.pdf(sorted(score_df[\"Tableau\"]), Tableau_mean, Tableau_std) ,color = \"b\",label=\"Tableau\" )\n",
    "plt.legend()\n",
    "plt.show()"
   ]
  },
  {
   "cell_type": "code",
   "execution_count": 38,
   "id": "c5e56cb0",
   "metadata": {},
   "outputs": [],
   "source": [
    "from scipy.stats import kurtosis\n"
   ]
  },
  {
   "cell_type": "code",
   "execution_count": 39,
   "id": "4a7af02e",
   "metadata": {},
   "outputs": [
    {
     "data": {
      "text/plain": [
       "-1.2890343729055107"
      ]
     },
     "execution_count": 39,
     "metadata": {},
     "output_type": "execute_result"
    }
   ],
   "source": [
    "kurtosis(sorted(score_df[\"Statistics\"]))        "
   ]
  },
  {
   "cell_type": "code",
   "execution_count": 40,
   "id": "c7289cc5",
   "metadata": {},
   "outputs": [
    {
     "data": {
      "text/plain": [
       "-1.2748529079288784"
      ]
     },
     "execution_count": 40,
     "metadata": {},
     "output_type": "execute_result"
    }
   ],
   "source": [
    "kurtosis(sorted(score_df[\"Python\"]))                "
   ]
  },
  {
   "cell_type": "code",
   "execution_count": 41,
   "id": "217798b0",
   "metadata": {},
   "outputs": [
    {
     "data": {
      "text/plain": [
       "1.442459054422362"
      ]
     },
     "execution_count": 41,
     "metadata": {},
     "output_type": "execute_result"
    }
   ],
   "source": [
    "kurtosis(sorted(score_df[\"Tableau\"]))                    "
   ]
  },
  {
   "cell_type": "code",
   "execution_count": 2,
   "id": "9e4ada4f",
   "metadata": {},
   "outputs": [
    {
     "name": "stdout",
     "output_type": "stream",
     "text": [
      "Statistics is Mesokurtic\n",
      "Python is  leptokurtic\n",
      "Tableau is Mesokurtic \n"
     ]
    }
   ],
   "source": [
    "print(\"Statistics is Mesokurtic\")\n",
    "print(\"Python is  leptokurtic\")\n",
    "print(\"Tableau is Mesokurtic \")"
   ]
  },
  {
   "cell_type": "code",
   "execution_count": null,
   "id": "d9c289f3",
   "metadata": {},
   "outputs": [],
   "source": []
  },
  {
   "cell_type": "code",
   "execution_count": null,
   "id": "38d2957a",
   "metadata": {},
   "outputs": [],
   "source": []
  },
  {
   "cell_type": "code",
   "execution_count": null,
   "id": "57980dc0",
   "metadata": {},
   "outputs": [],
   "source": []
  },
  {
   "cell_type": "code",
   "execution_count": null,
   "id": "18275dbc",
   "metadata": {},
   "outputs": [],
   "source": []
  },
  {
   "cell_type": "code",
   "execution_count": null,
   "id": "95adc87b",
   "metadata": {},
   "outputs": [],
   "source": []
  },
  {
   "cell_type": "code",
   "execution_count": null,
   "id": "78aa252b",
   "metadata": {},
   "outputs": [],
   "source": []
  },
  {
   "cell_type": "code",
   "execution_count": null,
   "id": "dfbb38cd",
   "metadata": {},
   "outputs": [],
   "source": []
  },
  {
   "cell_type": "code",
   "execution_count": null,
   "id": "66663ae2",
   "metadata": {},
   "outputs": [],
   "source": []
  },
  {
   "cell_type": "code",
   "execution_count": null,
   "id": "636ff3d7",
   "metadata": {},
   "outputs": [],
   "source": []
  },
  {
   "cell_type": "code",
   "execution_count": null,
   "id": "31529353",
   "metadata": {},
   "outputs": [],
   "source": []
  },
  {
   "cell_type": "code",
   "execution_count": null,
   "id": "e333fe9e",
   "metadata": {},
   "outputs": [],
   "source": []
  },
  {
   "cell_type": "code",
   "execution_count": null,
   "id": "d27beaac",
   "metadata": {},
   "outputs": [],
   "source": []
  },
  {
   "cell_type": "code",
   "execution_count": null,
   "id": "b8029de6",
   "metadata": {},
   "outputs": [],
   "source": []
  },
  {
   "cell_type": "code",
   "execution_count": null,
   "id": "d1260c6b",
   "metadata": {},
   "outputs": [],
   "source": []
  },
  {
   "cell_type": "code",
   "execution_count": null,
   "id": "47c00246",
   "metadata": {},
   "outputs": [],
   "source": []
  },
  {
   "cell_type": "code",
   "execution_count": null,
   "id": "f8e78a14",
   "metadata": {},
   "outputs": [],
   "source": []
  },
  {
   "cell_type": "code",
   "execution_count": null,
   "id": "f9c16cfa",
   "metadata": {},
   "outputs": [],
   "source": []
  },
  {
   "cell_type": "code",
   "execution_count": null,
   "id": "78f604b5",
   "metadata": {},
   "outputs": [],
   "source": []
  },
  {
   "cell_type": "code",
   "execution_count": null,
   "id": "a4eb8818",
   "metadata": {},
   "outputs": [],
   "source": []
  },
  {
   "cell_type": "code",
   "execution_count": null,
   "id": "d7a43fee",
   "metadata": {},
   "outputs": [],
   "source": []
  },
  {
   "cell_type": "code",
   "execution_count": null,
   "id": "8108ce21",
   "metadata": {},
   "outputs": [],
   "source": []
  },
  {
   "cell_type": "code",
   "execution_count": null,
   "id": "8e3f798b",
   "metadata": {},
   "outputs": [],
   "source": []
  },
  {
   "cell_type": "code",
   "execution_count": null,
   "id": "3e804830",
   "metadata": {},
   "outputs": [],
   "source": []
  },
  {
   "cell_type": "code",
   "execution_count": null,
   "id": "5c1b7d38",
   "metadata": {},
   "outputs": [],
   "source": []
  },
  {
   "cell_type": "code",
   "execution_count": null,
   "id": "a05db79d",
   "metadata": {},
   "outputs": [],
   "source": []
  },
  {
   "cell_type": "code",
   "execution_count": null,
   "id": "2018eb1f",
   "metadata": {},
   "outputs": [],
   "source": []
  },
  {
   "cell_type": "code",
   "execution_count": null,
   "id": "16e22046",
   "metadata": {},
   "outputs": [],
   "source": []
  },
  {
   "cell_type": "code",
   "execution_count": null,
   "id": "316cc47c",
   "metadata": {},
   "outputs": [],
   "source": []
  },
  {
   "cell_type": "code",
   "execution_count": null,
   "id": "24d69211",
   "metadata": {},
   "outputs": [],
   "source": []
  },
  {
   "cell_type": "code",
   "execution_count": null,
   "id": "a479dcd7",
   "metadata": {},
   "outputs": [],
   "source": []
  },
  {
   "cell_type": "code",
   "execution_count": null,
   "id": "25057b8b",
   "metadata": {},
   "outputs": [],
   "source": []
  },
  {
   "cell_type": "code",
   "execution_count": null,
   "id": "74490c02",
   "metadata": {},
   "outputs": [],
   "source": []
  },
  {
   "cell_type": "code",
   "execution_count": null,
   "id": "fe6b1ba7",
   "metadata": {},
   "outputs": [],
   "source": []
  }
 ],
 "metadata": {
  "kernelspec": {
   "display_name": "Python 3 (ipykernel)",
   "language": "python",
   "name": "python3"
  },
  "language_info": {
   "codemirror_mode": {
    "name": "ipython",
    "version": 3
   },
   "file_extension": ".py",
   "mimetype": "text/x-python",
   "name": "python",
   "nbconvert_exporter": "python",
   "pygments_lexer": "ipython3",
   "version": "3.11.5"
  }
 },
 "nbformat": 4,
 "nbformat_minor": 5
}
