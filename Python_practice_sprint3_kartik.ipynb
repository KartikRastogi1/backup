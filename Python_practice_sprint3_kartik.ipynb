{
 "cells": [
  {
   "cell_type": "code",
   "execution_count": null,
   "id": "e97f1964",
   "metadata": {},
   "outputs": [],
   "source": [
    "#Task 1: Searching a List\n",
    "#In the list below, how would you check for the presence of the data item USA?\n",
    "#mynames = [\"Joe\", \"Zoe\", \"world\", \"Brad\", \"Angelina\", \"world\", \"Zuki\", \"Tom\", \"Paris\", \"w orld\", \"magic\"]\n",
    "#The output should be \"TRUE\" if the data item UsA is present and \"FALSE\" if not present"
   ]
  },
  {
   "cell_type": "code",
   "execution_count": 3,
   "id": "62a01be5",
   "metadata": {},
   "outputs": [],
   "source": [
    "mynames = [\"Joe\", \"Zoe\", \"world\", \"Brad\", \"Angelina\", \"world\", \"Zuki\", \"Tom\", \"Paris\", \"world\", \"magic\"]"
   ]
  },
  {
   "cell_type": "code",
   "execution_count": 5,
   "id": "49eb57d6",
   "metadata": {},
   "outputs": [
    {
     "name": "stdout",
     "output_type": "stream",
     "text": [
      "FALSE\n"
     ]
    }
   ],
   "source": [
    "if \"USA\" in mynames:\n",
    "    print(\"TRUE\")\n",
    "else:\n",
    "    print(\"FALSE\")"
   ]
  },
  {
   "cell_type": "code",
   "execution_count": null,
   "id": "a38015d3",
   "metadata": {},
   "outputs": [],
   "source": [
    "#Task 2: Frequency Counts of Elements in a List\n",
    "#How would you identify the number of times the data item world is present in the following data?\n",
    "#mynames =[\"Joe\", \"Zoe\", \"world\", \"Brad\", \"Angelina\", \" world\", \"Zuki\", \"Tom\", \"Paris\", \"world\", \"magic\"]"
   ]
  },
  {
   "cell_type": "code",
   "execution_count": 7,
   "id": "86b4ee2a",
   "metadata": {},
   "outputs": [
    {
     "data": {
      "text/plain": [
       "3"
      ]
     },
     "execution_count": 7,
     "metadata": {},
     "output_type": "execute_result"
    }
   ],
   "source": [
    "mynames.count('world')"
   ]
  },
  {
   "cell_type": "code",
   "execution_count": 8,
   "id": "c43571a6",
   "metadata": {},
   "outputs": [],
   "source": [
    "#Task 3: Looping Over a List\n",
    "#Write a program to count the total number of even and odd numbers in the list defined below.\n",
    "#numlist = list (range (1, 30))\n",
    "#The logic should be implemented using a single \"for\" loop."
   ]
  },
  {
   "cell_type": "code",
   "execution_count": 5,
   "id": "3efd0ef3",
   "metadata": {},
   "outputs": [],
   "source": [
    "numlist = list (range(1,30))"
   ]
  },
  {
   "cell_type": "code",
   "execution_count": 6,
   "id": "c66f2077",
   "metadata": {},
   "outputs": [
    {
     "name": "stdout",
     "output_type": "stream",
     "text": [
      "even count: 14\n",
      "odd count: 15\n"
     ]
    }
   ],
   "source": [
    "ec=0                                 #even count\n",
    "oc=0                                 #odd count\n",
    "for i in numlist:\n",
    "    if i%2==0:\n",
    "        ec=ec+1                       #even count increment by 1\n",
    "        \n",
    "    elif i%2!=0:\n",
    "        oc=oc+1                          #odd count increment by 1\n",
    "print(\"even count:\",ec)\n",
    "print(\"odd count:\",oc)\n",
    "\n",
    "        "
   ]
  },
  {
   "cell_type": "code",
   "execution_count": null,
   "id": "b95812be",
   "metadata": {},
   "outputs": [],
   "source": [
    "#Task 4: Appending Elements to a List\n",
    "#Select the first 5 even numbers from numlist, store them in a new list, and display the contents of the new list.\n",
    "numlist = list (range (1, 30))\n",
    "Hint:el = [ ] # el is an empty list\n",
    "Use the append() function to add elements to the new empty list."
   ]
  },
  {
   "cell_type": "code",
   "execution_count": 7,
   "id": "de7ba9ff",
   "metadata": {},
   "outputs": [
    {
     "name": "stdout",
     "output_type": "stream",
     "text": [
      "[2, 4, 6, 8, 10]\n"
     ]
    }
   ],
   "source": [
    "el = [ ]                                #empty list\n",
    "for i in numlist:\n",
    "    if i%2==0:\n",
    "        el.append(i) \n",
    "        if len(el)==5:                    #used len(), putting length of the el should be 5\n",
    "            break                       \n",
    "            \n",
    "print(el)"
   ]
  },
  {
   "cell_type": "code",
   "execution_count": null,
   "id": "0aafa0b7",
   "metadata": {},
   "outputs": [],
   "source": [
    "#Task 5: Arithmetic Operations on List Elements\n",
    "#Print the last two odd numbers from numlist.\n",
    "#numlist = list (range (1,30))\n",
    "#Note: Do not reverse the list and do not use a new list."
   ]
  },
  {
   "cell_type": "code",
   "execution_count": 2,
   "id": "2faa36e8",
   "metadata": {},
   "outputs": [
    {
     "name": "stdout",
     "output_type": "stream",
     "text": [
      "27\n",
      "29\n"
     ]
    }
   ],
   "source": [
    "numlist =list(range(1,30,2))\n",
    "for i in numlist:\n",
    "        if i%2 != 0:\n",
    "            print(numlist[-2])\n",
    "            print(numlist[-1])\n",
    "            break"
   ]
  },
  {
   "cell_type": "code",
   "execution_count": 9,
   "id": "15e7fdb2",
   "metadata": {},
   "outputs": [
    {
     "name": "stdout",
     "output_type": "stream",
     "text": [
      "The last two odd numbers from numlist are: [29, 27]\n"
     ]
    }
   ],
   "source": [
    "numlist = list(range(1, 30))\n",
    "\n",
    "count_odd_numbers = 0\n",
    "last_two_odd_numbers = []\n",
    "\n",
    "for num in reversed(numlist):\n",
    "    if num % 2 != 0:\n",
    "        last_two_odd_numbers.append(num)\n",
    "        count_odd_numbers += 1\n",
    "    if count_odd_numbers == 2:\n",
    "        break\n",
    "\n",
    "\n",
    "if count_odd_numbers >= 2:\n",
    "    print(\"The last two odd numbers from numlist are:\", last_two_odd_numbers)\n",
    "else:\n",
    "    print(\"not present\")"
   ]
  },
  {
   "cell_type": "code",
   "execution_count": null,
   "id": "b36ebf0c",
   "metadata": {},
   "outputs": [],
   "source": [
    "#Task 6: Appending Two Lists\n",
    "#Create two empty lists, x and y. Accept 5 strings from the user and store them in list x. Accept 3 numbers from the user\n",
    "#and store them in list y. Append the contents of list y to the contents of list x and print the output."
   ]
  },
  {
   "cell_type": "code",
   "execution_count": 25,
   "id": "16f75ba8",
   "metadata": {},
   "outputs": [
    {
     "name": "stdout",
     "output_type": "stream",
     "text": [
      "enter 5 string value:sd\n",
      "enter 5 string value:f\n",
      "enter 5 string value:gh\n",
      "enter 5 string value:t\n",
      "enter 5 string value:e\n",
      "Enter three numbers: 2\n",
      "Enter three numbers: 4\n",
      "Enter three numbers: 5\n",
      "['sd', 'f', 'gh', 't', 'e', '2', '4', '5']\n"
     ]
    }
   ],
   "source": [
    "x=[]\n",
    "y=[]\n",
    "\n",
    "for i in range(5):\n",
    "    a=input('enter 5 string value:')\n",
    "    x.append(a)\n",
    "    \n",
    "for i in range(3):\n",
    "        b = int(input(\"Enter three numbers: \"))\n",
    "        y.append(str(b))\n",
    "    \n",
    "x.extend(y)\n",
    "\n",
    "print(x)\n"
   ]
  },
  {
   "cell_type": "code",
   "execution_count": null,
   "id": "f362c2fa",
   "metadata": {},
   "outputs": [],
   "source": [
    "#Task 7: Populating Elements in a List\n",
    "#Create two lists as defined below and print them one after the other. list_a = squares of all the numbers from 1 to 10\n",
    "#list_b=squares of all the numbers from 30 to 40"
   ]
  },
  {
   "cell_type": "code",
   "execution_count": 5,
   "id": "d6eac226",
   "metadata": {},
   "outputs": [
    {
     "name": "stdout",
     "output_type": "stream",
     "text": [
      "[1, 4, 9, 16, 25, 36, 49, 64, 81, 100]\n",
      "[900, 961, 1024, 1089, 1156, 1225, 1296, 1369, 1444, 1521, 1600]\n",
      "[1, 4, 9, 16, 25, 36, 49, 64, 81, 100, 900, 961, 1024, 1089, 1156, 1225, 1296, 1369, 1444, 1521, 1600]\n"
     ]
    }
   ],
   "source": [
    "list_a = []\n",
    "list_b = []\n",
    "for i in range(1,11):\n",
    "    list_a.append(i*i)\n",
    "    \n",
    "for i in range(30,41):\n",
    "    list_b.append(i*i)\n",
    "    \n",
    "print(list_a) \n",
    "print(list_b)\n",
    "print(list_a+list_b)\n",
    "    "
   ]
  },
  {
   "cell_type": "code",
   "execution_count": null,
   "id": "6d8319af",
   "metadata": {},
   "outputs": [],
   "source": [
    "#task8"
   ]
  },
  {
   "cell_type": "code",
   "execution_count": 4,
   "id": "7f5be93d",
   "metadata": {},
   "outputs": [
    {
     "name": "stdout",
     "output_type": "stream",
     "text": [
      "enter number4\n",
      "4 x 1 = 4\n",
      "4 x 2 = 8\n",
      "4 x 3 = 12\n",
      "4 x 4 = 16\n",
      "4 x 5 = 20\n",
      "4 x 6 = 24\n",
      "4 x 7 = 28\n",
      "4 x 8 = 32\n",
      "4 x 9 = 36\n",
      "4 x 10 = 40\n"
     ]
    }
   ],
   "source": [
    "n=int(input('enter number'))\n",
    "for i in range(1,11):\n",
    "    print(n, \"x\",i,'=',n*i)"
   ]
  },
  {
   "cell_type": "code",
   "execution_count": null,
   "id": "755b28e7",
   "metadata": {},
   "outputs": [],
   "source": []
  }
 ],
 "metadata": {
  "kernelspec": {
   "display_name": "Python 3 (ipykernel)",
   "language": "python",
   "name": "python3"
  },
  "language_info": {
   "codemirror_mode": {
    "name": "ipython",
    "version": 3
   },
   "file_extension": ".py",
   "mimetype": "text/x-python",
   "name": "python",
   "nbconvert_exporter": "python",
   "pygments_lexer": "ipython3",
   "version": "3.11.5"
  }
 },
 "nbformat": 4,
 "nbformat_minor": 5
}
