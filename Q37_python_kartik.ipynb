{
 "cells": [
  {
   "cell_type": "markdown",
   "id": "e810ff59",
   "metadata": {},
   "source": [
    "37).Write a Python program that uses the print() function to display different data types on the console."
   ]
  },
  {
   "cell_type": "code",
   "execution_count": 3,
   "id": "feb2e5c5",
   "metadata": {},
   "outputs": [
    {
     "name": "stdout",
     "output_type": "stream",
     "text": [
      "Integer: 2\n",
      "\n",
      "Float: 2.5\n",
      "\n",
      "Boolean: True\n",
      "\n",
      "String: Kartik\n",
      "\n",
      "Dictionary {'kartik': 1, 'harsh': 2, 'aditi': 3}\n",
      "\n",
      "Tuple: (1, 24, 43, 8, 6, 11)\n",
      "\n",
      "set: {1, 3, 4, 5, 6, 7, 8}\n",
      "\n",
      "List: [12, 34, 10, 24, 3, 100, 2]\n",
      "\n"
     ]
    }
   ],
   "source": [
    "int1 = 2\n",
    "float1 = 2.5\n",
    "bool1 = True\n",
    "s = \"Kartik\"\n",
    "list1 = [12, 34, 10, 24,3,100,2]\n",
    "dictionary = {'kartik': 1, 'harsh': 2, 'aditi': 3}\n",
    "tuple1 = (1, 24, 43, 8, 6,11)\n",
    "set1={1,3,4,5,6,7,8}\n",
    "\n",
    "# using the normal print statement\n",
    "print(\"Integer:\", int1)\n",
    "print(\"\")\n",
    "print(\"Float:\", float1)\n",
    "print(\"\")\n",
    "print(\"Boolean:\", bool1)\n",
    "print(\"\")\n",
    "print(\"String:\", s)\n",
    "print(\"\")\n",
    "print(\"Dictionary\",dictionary)\n",
    "print(\"\")\n",
    "print(\"Tuple:\", tuple1)\n",
    "print(\"\")\n",
    "print(\"set:\", set1)\n",
    "print(\"\")\n",
    "print(\"List:\",list1)\n",
    "print(\"\")"
   ]
  },
  {
   "cell_type": "code",
   "execution_count": 1,
   "id": "f8aebe8f",
   "metadata": {},
   "outputs": [],
   "source": [
    "#second method"
   ]
  },
  {
   "cell_type": "code",
   "execution_count": 2,
   "id": "0c22d423",
   "metadata": {},
   "outputs": [
    {
     "name": "stdout",
     "output_type": "stream",
     "text": [
      "<class 'int'>\n",
      "<class 'float'>\n",
      "<class 'str'>\n",
      "<class 'bool'>\n",
      "<class 'list'>\n",
      "<class 'tuple'>\n",
      "<class 'dict'>\n"
     ]
    }
   ],
   "source": [
    "n = 2\n",
    "print(type(n))\n",
    "n=2.2\n",
    "print(type(n))\n",
    "s=\"program\"\n",
    "print(type(s))\n",
    "bool = True\n",
    "print(type(bool))\n",
    "l1 = [1,2,3,4,\"harsh\",\"rahul\"]\n",
    "print(type(l1))\n",
    "t1 = (\"book\",\"food\",\"phone\",1,3)\n",
    "print(type(t1))\n",
    "d1 = {\"kartik\":2 ,\"harsh\":5, \"sourabh\":6}\n",
    "print(type(d1))"
   ]
  },
  {
   "cell_type": "code",
   "execution_count": null,
   "id": "523467ee",
   "metadata": {},
   "outputs": [],
   "source": []
  },
  {
   "cell_type": "code",
   "execution_count": null,
   "id": "5f59d9d4",
   "metadata": {},
   "outputs": [],
   "source": []
  },
  {
   "cell_type": "code",
   "execution_count": null,
   "id": "39511a54",
   "metadata": {},
   "outputs": [],
   "source": []
  },
  {
   "cell_type": "code",
   "execution_count": null,
   "id": "24e7f031",
   "metadata": {},
   "outputs": [],
   "source": []
  },
  {
   "cell_type": "code",
   "execution_count": null,
   "id": "5e2d6109",
   "metadata": {},
   "outputs": [],
   "source": []
  },
  {
   "cell_type": "code",
   "execution_count": null,
   "id": "40d372b8",
   "metadata": {},
   "outputs": [],
   "source": []
  },
  {
   "cell_type": "code",
   "execution_count": null,
   "id": "57f1f095",
   "metadata": {},
   "outputs": [],
   "source": []
  },
  {
   "cell_type": "code",
   "execution_count": null,
   "id": "70d08b0f",
   "metadata": {},
   "outputs": [],
   "source": []
  },
  {
   "cell_type": "code",
   "execution_count": null,
   "id": "a37e98b6",
   "metadata": {},
   "outputs": [],
   "source": []
  }
 ],
 "metadata": {
  "kernelspec": {
   "display_name": "Python 3 (ipykernel)",
   "language": "python",
   "name": "python3"
  },
  "language_info": {
   "codemirror_mode": {
    "name": "ipython",
    "version": 3
   },
   "file_extension": ".py",
   "mimetype": "text/x-python",
   "name": "python",
   "nbconvert_exporter": "python",
   "pygments_lexer": "ipython3",
   "version": "3.11.5"
  }
 },
 "nbformat": 4,
 "nbformat_minor": 5
}
