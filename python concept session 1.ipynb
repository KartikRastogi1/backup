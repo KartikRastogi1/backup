{
 "cells": [
  {
   "cell_type": "code",
   "execution_count": 1,
   "id": "20c4f47c",
   "metadata": {},
   "outputs": [
    {
     "data": {
      "text/plain": [
       "19"
      ]
     },
     "execution_count": 1,
     "metadata": {},
     "output_type": "execute_result"
    }
   ],
   "source": [
    "10+9   #addition\n"
   ]
  },
  {
   "cell_type": "code",
   "execution_count": null,
   "id": "4f0ea72b",
   "metadata": {},
   "outputs": [],
   "source": []
  },
  {
   "cell_type": "code",
   "execution_count": 2,
   "id": "a40c01b6",
   "metadata": {},
   "outputs": [
    {
     "data": {
      "text/plain": [
       "1"
      ]
     },
     "execution_count": 2,
     "metadata": {},
     "output_type": "execute_result"
    }
   ],
   "source": [
    "10-9  #substraction"
   ]
  },
  {
   "cell_type": "code",
   "execution_count": 3,
   "id": "5498c5b5",
   "metadata": {},
   "outputs": [
    {
     "data": {
      "text/plain": [
       "90"
      ]
     },
     "execution_count": 3,
     "metadata": {},
     "output_type": "execute_result"
    }
   ],
   "source": [
    "10*9 #multiplication"
   ]
  },
  {
   "cell_type": "code",
   "execution_count": 4,
   "id": "97f9c6b0",
   "metadata": {},
   "outputs": [
    {
     "data": {
      "text/plain": [
       "1.1111111111111112"
      ]
     },
     "execution_count": 4,
     "metadata": {},
     "output_type": "execute_result"
    }
   ],
   "source": [
    "10/9  #division"
   ]
  },
  {
   "cell_type": "code",
   "execution_count": 5,
   "id": "5d20350b",
   "metadata": {},
   "outputs": [
    {
     "data": {
      "text/plain": [
       "1"
      ]
     },
     "execution_count": 5,
     "metadata": {},
     "output_type": "execute_result"
    }
   ],
   "source": [
    "10//9  #floor "
   ]
  },
  {
   "cell_type": "code",
   "execution_count": 6,
   "id": "c63cf926",
   "metadata": {},
   "outputs": [
    {
     "data": {
      "text/plain": [
       "1"
      ]
     },
     "execution_count": 6,
     "metadata": {},
     "output_type": "execute_result"
    }
   ],
   "source": [
    "10%9  #modulus"
   ]
  },
  {
   "cell_type": "code",
   "execution_count": 7,
   "id": "3ef25180",
   "metadata": {},
   "outputs": [
    {
     "data": {
      "text/plain": [
       "False"
      ]
     },
     "execution_count": 7,
     "metadata": {},
     "output_type": "execute_result"
    }
   ],
   "source": [
    "10==9  #test equality"
   ]
  },
  {
   "cell_type": "code",
   "execution_count": 8,
   "id": "19798560",
   "metadata": {},
   "outputs": [
    {
     "data": {
      "text/plain": [
       "True"
      ]
     },
     "execution_count": 8,
     "metadata": {},
     "output_type": "execute_result"
    }
   ],
   "source": [
    "10>9  #comparision "
   ]
  },
  {
   "cell_type": "code",
   "execution_count": 9,
   "id": "941a4e19",
   "metadata": {},
   "outputs": [
    {
     "data": {
      "text/plain": [
       "False"
      ]
     },
     "execution_count": 9,
     "metadata": {},
     "output_type": "execute_result"
    }
   ],
   "source": [
    "10<9  #comparision"
   ]
  },
  {
   "cell_type": "code",
   "execution_count": 10,
   "id": "430ab917",
   "metadata": {},
   "outputs": [
    {
     "data": {
      "text/plain": [
       "True"
      ]
     },
     "execution_count": 10,
     "metadata": {},
     "output_type": "execute_result"
    }
   ],
   "source": [
    "10!=9  #notequalto"
   ]
  },
  {
   "cell_type": "code",
   "execution_count": 11,
   "id": "bddcc9ca",
   "metadata": {},
   "outputs": [
    {
     "name": "stdout",
     "output_type": "stream",
     "text": [
      "hello world\n"
     ]
    }
   ],
   "source": [
    "print(\"hello world\")  #use of print function"
   ]
  },
  {
   "cell_type": "code",
   "execution_count": 12,
   "id": "78da168a",
   "metadata": {},
   "outputs": [
    {
     "name": "stdout",
     "output_type": "stream",
     "text": [
      "this is my first program\n"
     ]
    }
   ],
   "source": [
    "print(\"this is my first program\")"
   ]
  },
  {
   "cell_type": "code",
   "execution_count": null,
   "id": "15cfd8ec",
   "metadata": {},
   "outputs": [],
   "source": [
    "#variables\n",
    "\n",
    "variables are names given to data. there are certain rules and conventions to follow when choosing a name for a variable. Variablr"
   ]
  },
  {
   "cell_type": "code",
   "execution_count": null,
   "id": "b63507ea",
   "metadata": {},
   "outputs": [],
   "source": [
    "num1= 10\n",
    "num2 = 109876"
   ]
  },
  {
   "cell_type": "code",
   "execution_count": null,
   "id": "c280d9e5",
   "metadata": {},
   "outputs": [],
   "source": [
    "1num = 7 #cannot use numbers before variable"
   ]
  },
  {
   "cell_type": "code",
   "execution_count": 18,
   "id": "94b35510",
   "metadata": {},
   "outputs": [],
   "source": [
    "a= 10\n",
    "b= 40"
   ]
  },
  {
   "cell_type": "code",
   "execution_count": 21,
   "id": "9a92a0e8",
   "metadata": {},
   "outputs": [
    {
     "name": "stdout",
     "output_type": "stream",
     "text": [
      "addition = 50\n",
      "substraction = -30\n",
      "multiplication = 400\n",
      "divison = 0.25\n",
      "floor division = 0\n",
      "modulus = 10\n"
     ]
    }
   ],
   "source": [
    "print(\"addition\",\"=\",a+b)\n",
    "print(\"substraction\",\"=\",a-b)\n",
    "print(\"multiplication\",\"=\",a*b)\n",
    "print(\"divison\",\"=\",a/b)\n",
    "print(\"floor division\",\"=\",a//b)\n",
    "print(\"modulus\",\"=\", a%b)"
   ]
  },
  {
   "cell_type": "code",
   "execution_count": 22,
   "id": "d07d8248",
   "metadata": {},
   "outputs": [
    {
     "data": {
      "text/plain": [
       "140726648738888"
      ]
     },
     "execution_count": 22,
     "metadata": {},
     "output_type": "execute_result"
    }
   ],
   "source": [
    "id(a) # tells the id of the variable"
   ]
  },
  {
   "cell_type": "code",
   "execution_count": 23,
   "id": "fa239c71",
   "metadata": {},
   "outputs": [
    {
     "data": {
      "text/plain": [
       "140726648739848"
      ]
     },
     "execution_count": 23,
     "metadata": {},
     "output_type": "execute_result"
    }
   ],
   "source": [
    "id(b)"
   ]
  },
  {
   "cell_type": "code",
   "execution_count": 24,
   "id": "b688db02",
   "metadata": {},
   "outputs": [
    {
     "data": {
      "text/plain": [
       "int"
      ]
     },
     "execution_count": 24,
     "metadata": {},
     "output_type": "execute_result"
    }
   ],
   "source": [
    "type(a) #tells the datatype of variable"
   ]
  },
  {
   "cell_type": "code",
   "execution_count": 25,
   "id": "ba6c1d26",
   "metadata": {},
   "outputs": [],
   "source": [
    "b=\"hello\""
   ]
  },
  {
   "cell_type": "code",
   "execution_count": 26,
   "id": "d2493ac8",
   "metadata": {},
   "outputs": [
    {
     "data": {
      "text/plain": [
       "str"
      ]
     },
     "execution_count": 26,
     "metadata": {},
     "output_type": "execute_result"
    }
   ],
   "source": [
    "type(b)"
   ]
  },
  {
   "cell_type": "code",
   "execution_count": 27,
   "id": "eeca4348",
   "metadata": {},
   "outputs": [],
   "source": [
    "e=9+9j"
   ]
  },
  {
   "cell_type": "code",
   "execution_count": 28,
   "id": "fe7e90f9",
   "metadata": {},
   "outputs": [
    {
     "data": {
      "text/plain": [
       "complex"
      ]
     },
     "execution_count": 28,
     "metadata": {},
     "output_type": "execute_result"
    }
   ],
   "source": [
    "type(e)"
   ]
  },
  {
   "cell_type": "code",
   "execution_count": 29,
   "id": "f7200f45",
   "metadata": {},
   "outputs": [],
   "source": [
    "d= 9.40"
   ]
  },
  {
   "cell_type": "code",
   "execution_count": 30,
   "id": "4c77503f",
   "metadata": {},
   "outputs": [
    {
     "data": {
      "text/plain": [
       "float"
      ]
     },
     "execution_count": 30,
     "metadata": {},
     "output_type": "execute_result"
    }
   ],
   "source": [
    "type(d)"
   ]
  },
  {
   "cell_type": "code",
   "execution_count": 31,
   "id": "a7894a37",
   "metadata": {},
   "outputs": [
    {
     "data": {
      "text/plain": [
       "54"
      ]
     },
     "execution_count": 31,
     "metadata": {},
     "output_type": "execute_result"
    }
   ],
   "source": [
    "50+(7-3)"
   ]
  },
  {
   "cell_type": "code",
   "execution_count": 32,
   "id": "f1cd989b",
   "metadata": {},
   "outputs": [
    {
     "data": {
      "text/plain": [
       "8"
      ]
     },
     "execution_count": 32,
     "metadata": {},
     "output_type": "execute_result"
    }
   ],
   "source": [
    "2**3"
   ]
  },
  {
   "cell_type": "code",
   "execution_count": 33,
   "id": "55e0396b",
   "metadata": {},
   "outputs": [
    {
     "data": {
      "text/plain": [
       "64"
      ]
     },
     "execution_count": 33,
     "metadata": {},
     "output_type": "execute_result"
    }
   ],
   "source": [
    "4**(5-2)"
   ]
  },
  {
   "cell_type": "code",
   "execution_count": 34,
   "id": "e4dc5ea3",
   "metadata": {},
   "outputs": [
    {
     "data": {
      "text/plain": [
       "6.0"
      ]
     },
     "execution_count": 34,
     "metadata": {},
     "output_type": "execute_result"
    }
   ],
   "source": [
    "4+3**2/3-1 #PEMDAS"
   ]
  },
  {
   "cell_type": "code",
   "execution_count": 38,
   "id": "1b222c8d",
   "metadata": {},
   "outputs": [
    {
     "data": {
      "text/plain": [
       "[2, 3, 7, 8, 4, 2, 2, 3, 90]"
      ]
     },
     "execution_count": 38,
     "metadata": {},
     "output_type": "execute_result"
    }
   ],
   "source": [
    "l1 = [2,3,7,8,4,2,2,3,90]\n",
    "l1"
   ]
  },
  {
   "cell_type": "code",
   "execution_count": 39,
   "id": "967a951e",
   "metadata": {},
   "outputs": [
    {
     "data": {
      "text/plain": [
       "list"
      ]
     },
     "execution_count": 39,
     "metadata": {},
     "output_type": "execute_result"
    }
   ],
   "source": [
    "type(l1)"
   ]
  },
  {
   "cell_type": "code",
   "execution_count": 40,
   "id": "82068b75",
   "metadata": {},
   "outputs": [
    {
     "data": {
      "text/plain": [
       "(1, 2, 3, 4, 5, 6, 7, 8, 8, 1)"
      ]
     },
     "execution_count": 40,
     "metadata": {},
     "output_type": "execute_result"
    }
   ],
   "source": [
    "t1 = (1,2,3,4,5,6,7,8,8,1)\n",
    "t1"
   ]
  },
  {
   "cell_type": "code",
   "execution_count": 41,
   "id": "8a3831f0",
   "metadata": {},
   "outputs": [
    {
     "data": {
      "text/plain": [
       "tuple"
      ]
     },
     "execution_count": 41,
     "metadata": {},
     "output_type": "execute_result"
    }
   ],
   "source": [
    "type(t1)"
   ]
  },
  {
   "cell_type": "code",
   "execution_count": 42,
   "id": "280f5019",
   "metadata": {},
   "outputs": [
    {
     "data": {
      "text/plain": [
       "{2, 3, 4, 6, 7, 8, 9, 12}"
      ]
     },
     "execution_count": 42,
     "metadata": {},
     "output_type": "execute_result"
    }
   ],
   "source": [
    "s1 = {2,3,4,2,2,6,7,8,9,12}\n",
    "s1"
   ]
  },
  {
   "cell_type": "code",
   "execution_count": 43,
   "id": "6ef10302",
   "metadata": {},
   "outputs": [
    {
     "data": {
      "text/plain": [
       "set"
      ]
     },
     "execution_count": 43,
     "metadata": {},
     "output_type": "execute_result"
    }
   ],
   "source": [
    "type(s1)"
   ]
  },
  {
   "cell_type": "code",
   "execution_count": 44,
   "id": "6bd0db1a",
   "metadata": {},
   "outputs": [],
   "source": [
    "A = 'PYTHON'\n",
    "B = 'PROGRAMMING'"
   ]
  },
  {
   "cell_type": "code",
   "execution_count": 45,
   "id": "88decf95",
   "metadata": {},
   "outputs": [],
   "source": [
    "full_name = A+ ' '+B"
   ]
  },
  {
   "cell_type": "code",
   "execution_count": 46,
   "id": "f195accc",
   "metadata": {},
   "outputs": [
    {
     "data": {
      "text/plain": [
       "'PYTHON PROGRAMMING'"
      ]
     },
     "execution_count": 46,
     "metadata": {},
     "output_type": "execute_result"
    }
   ],
   "source": [
    "full_name"
   ]
  },
  {
   "cell_type": "code",
   "execution_count": 47,
   "id": "13316743",
   "metadata": {},
   "outputs": [
    {
     "data": {
      "text/plain": [
       "True"
      ]
     },
     "execution_count": 47,
     "metadata": {},
     "output_type": "execute_result"
    }
   ],
   "source": [
    "A in full_name  #membership operator (in)"
   ]
  },
  {
   "cell_type": "code",
   "execution_count": 48,
   "id": "6d6e7bfb",
   "metadata": {},
   "outputs": [
    {
     "data": {
      "text/plain": [
       "False"
      ]
     },
     "execution_count": 48,
     "metadata": {},
     "output_type": "execute_result"
    }
   ],
   "source": [
    "A is full_name   #identity operator(is)"
   ]
  },
  {
   "cell_type": "code",
   "execution_count": 49,
   "id": "90b73ae9",
   "metadata": {},
   "outputs": [
    {
     "data": {
      "text/plain": [
       "True"
      ]
     },
     "execution_count": 49,
     "metadata": {},
     "output_type": "execute_result"
    }
   ],
   "source": [
    "A is A"
   ]
  },
  {
   "cell_type": "code",
   "execution_count": null,
   "id": "91991cba",
   "metadata": {},
   "outputs": [],
   "source": []
  }
 ],
 "metadata": {
  "kernelspec": {
   "display_name": "Python 3 (ipykernel)",
   "language": "python",
   "name": "python3"
  },
  "language_info": {
   "codemirror_mode": {
    "name": "ipython",
    "version": 3
   },
   "file_extension": ".py",
   "mimetype": "text/x-python",
   "name": "python",
   "nbconvert_exporter": "python",
   "pygments_lexer": "ipython3",
   "version": "3.11.5"
  }
 },
 "nbformat": 4,
 "nbformat_minor": 5
}
