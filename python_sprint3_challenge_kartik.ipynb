{
 "cells": [
  {
   "cell_type": "markdown",
   "id": "6ec8c0a5",
   "metadata": {},
   "source": [
    "Task 1: Spell Bee Competition\n",
    "Later, 5 more students approached Julia to participate in the Spell Bee competition. Help Julia add these 5 names in the existing list of 15 students, one by one.\n",
    "Note: Accept the names of the 5 students as an input from the user. Do not use a pre-populated list of names."
   ]
  },
  {
   "cell_type": "code",
   "execution_count": 1,
   "id": "77be38cd",
   "metadata": {},
   "outputs": [
    {
     "name": "stdout",
     "output_type": "stream",
     "text": [
      "enter names kartik\n",
      "enter names harsh\n",
      "enter names rahul\n",
      "enter names zoya\n",
      "enter names anika\n",
      "['Mark Antony', 'John Chan', 'Bret Lee', 'Jim Nick', 'Janice Ken', 'Florida Thomson', 'Lily Jason', 'Matt Antony', 'Mark Thomas', 'Kenny Peterson', 'Joe Cook', 'Alexander Thomas', 'Katy Perry', 'Alexanderia Peterson', 'Mark Antony', 'kartik', 'harsh', 'rahul', 'zoya', 'anika']\n"
     ]
    }
   ],
   "source": [
    "data= [\"Mark Antony\",\"John Chan\",\"Bret Lee\",\"Jim Nick\",\"Janice Ken\",\"Florida Thomson\",\"Lily Jason\",\"Matt Antony\",\"Mark Thomas\",\n",
    "      \"Kenny Peterson\",\"Joe Cook\",\"Alexander Thomas\",\"Katy Perry\",\"Alexanderia Peterson\",\"Mark Antony\"]\n",
    "for i in range(5):\n",
    "    new_names = input(\"enter names \")\n",
    "    data.append(new_names)\n",
    "    \n",
    "    \n",
    "print(data)"
   ]
  },
  {
   "cell_type": "markdown",
   "id": "82f542b1",
   "metadata": {},
   "source": [
    "Task 2: Spell Bee Competition (contd.)\n",
    "Julia wants to check the names of the last 5 students who signed up later. Help Julia print the names of all students in the list in reverse order."
   ]
  },
  {
   "cell_type": "code",
   "execution_count": 2,
   "id": "c65a9503",
   "metadata": {},
   "outputs": [
    {
     "name": "stdout",
     "output_type": "stream",
     "text": [
      "enter names kartik\n",
      "enter names harsh\n",
      "enter names rahul\n",
      "enter names zoya\n",
      "enter names anika\n",
      "list of names in revere order: ['anika', 'zoya', 'rahul', 'harsh', 'kartik', 'Mark Antony', 'Alexanderia Peterson', 'Katy Perry', 'Alexander Thomas', 'Joe Cook', 'Kenny Peterson', 'Mark Thomas', 'Matt Antony', 'Lily Jason', 'Florida Thomson', 'Janice Ken', 'Jim Nick', 'Bret Lee', 'John Chan', 'Mark Antony']\n"
     ]
    }
   ],
   "source": [
    "data= [\"Mark Antony\",\"John Chan\",\"Bret Lee\",\"Jim Nick\",\"Janice Ken\",\"Florida Thomson\",\"Lily Jason\",\"Matt Antony\",\"Mark Thomas\",\n",
    "      \"Kenny Peterson\",\"Joe Cook\",\"Alexander Thomas\",\"Katy Perry\",\"Alexanderia Peterson\",\"Mark Antony\"]\n",
    "for i in range(5):\n",
    "    new_names = input(\"enter names \")\n",
    "    data.append(new_names)\n",
    "print(\"list of names in revere order:\",data[::-1])"
   ]
  },
  {
   "cell_type": "code",
   "execution_count": 5,
   "id": "f2a71763",
   "metadata": {},
   "outputs": [
    {
     "name": "stdout",
     "output_type": "stream",
     "text": [
      "enter names kartik\n",
      "enter names harsh\n",
      "enter names anika\n",
      "enter names zoya\n",
      "enter names arjun\n",
      "list of names in revere order: ['arjun', 'zoya', 'anika', 'harsh', 'kartik', 'Mark Antony', 'Alexanderia Peterson', 'Katy Perry', 'Alexander Thomas', 'Joe Cook', 'Kenny Peterson', 'Mark Thomas', 'Matt Antony', 'Lily Jason', 'Florida Thomson', 'Janice Ken', 'Jim Nick', 'Bret Lee', 'John Chan', 'Mark Antony']\n"
     ]
    }
   ],
   "source": [
    "data= [\"Mark Antony\",\"John Chan\",\"Bret Lee\",\"Jim Nick\",\"Janice Ken\",\"Florida Thomson\",\"Lily Jason\",\"Matt Antony\",\"Mark Thomas\",\n",
    "      \"Kenny Peterson\",\"Joe Cook\",\"Alexander Thomas\",\"Katy Perry\",\"Alexanderia Peterson\",\"Mark Antony\"]\n",
    "for i in range(5):\n",
    "    new_names = input(\"enter names \")\n",
    "    data.append(new_names)\n",
    "data.reverse()                                 #used reverse() \n",
    "print(\"list of names in revere order:\",data)"
   ]
  },
  {
   "cell_type": "markdown",
   "id": "a8e8bd2a",
   "metadata": {},
   "source": [
    "Task 3: Spell Bee Competition (contd.)\n",
    "Perform Task 2 again, without using the built-in method for reversal in Python"
   ]
  },
  {
   "cell_type": "code",
   "execution_count": 3,
   "id": "97af15e9",
   "metadata": {},
   "outputs": [
    {
     "name": "stdout",
     "output_type": "stream",
     "text": [
      "enter names kartik\n",
      "enter names harsh\n",
      "enter names rahul\n",
      "enter names zoya\n",
      "enter names anika\n",
      "list of names in revere order: ['anika', 'zoya', 'rahul', 'harsh', 'kartik', 'Mark Antony', 'Alexanderia Peterson', 'Katy Perry', 'Alexander Thomas', 'Joe Cook', 'Kenny Peterson', 'Mark Thomas', 'Matt Antony', 'Lily Jason', 'Florida Thomson', 'Janice Ken', 'Jim Nick', 'Bret Lee', 'John Chan', 'Mark Antony']\n"
     ]
    }
   ],
   "source": [
    "data= [\"Mark Antony\",\"John Chan\",\"Bret Lee\",\"Jim Nick\",\"Janice Ken\",\"Florida Thomson\",\"Lily Jason\",\"Matt Antony\",\"Mark Thomas\",\n",
    "      \"Kenny Peterson\",\"Joe Cook\",\"Alexander Thomas\",\"Katy Perry\",\"Alexanderia Peterson\",\"Mark Antony\"]\n",
    "for i in range(5):\n",
    "    new_names = input(\"enter names \")\n",
    "    data.append(new_names)\n",
    "print(\"list of names in revere order:\",data[::-1])"
   ]
  },
  {
   "cell_type": "markdown",
   "id": "f36d3bba",
   "metadata": {},
   "source": [
    "Task 4: Spell Bee Competition (contd.)\n",
    "Help Julia check for any duplicate entries in the list of 20 students' names. Create a new list named final_list that does not have any names repeated."
   ]
  },
  {
   "cell_type": "code",
   "execution_count": 10,
   "id": "7a0bbcc6",
   "metadata": {},
   "outputs": [
    {
     "name": "stdout",
     "output_type": "stream",
     "text": [
      "Enter a name: anika\n",
      "Enter a name: harsh\n",
      "Enter a name: kartik\n",
      "Enter a name: rahul\n",
      "Enter a name: zoya\n",
      "final_list: {'Alexanderia Peterson', 'Florida Thomson', 'Mark Antony', 'John Chan', 'kartik', 'Matt Antony', 'Alexander Thomas', 'Lily Jason', 'Janice Ken', 'zoya', 'Jim Nick', 'Kenny Peterson', 'anika', 'Joe Cook', 'Katy Perry', 'Bret Lee', 'harsh', 'Mark Thomas', 'rahul'}\n"
     ]
    }
   ],
   "source": [
    "data = [\"Mark Antony\", \"John Chan\", \"Bret Lee\", \"Jim Nick\", \"Janice Ken\", \"Florida Thomson\", \"Lily Jason\", \"Matt Antony\",\n",
    "        \"Mark Thomas\", \"Kenny Peterson\", \"Joe Cook\", \"Alexander Thomas\", \"Katy Perry\", \"Alexanderia Peterson\",\n",
    "        \"Mark Antony\"]\n",
    "\n",
    "for i in range(5):\n",
    "    new_name = input(\"Enter a name: \")\n",
    "    data=set(data)                                           #converted into set to remove duplicate values\n",
    "    data.add(new_name)                                       #to add value in set\n",
    "    \n",
    "print(\"final_list:\",data)\n"
   ]
  },
  {
   "cell_type": "markdown",
   "id": "b1e231a3",
   "metadata": {},
   "source": [
    "Task 5: Spell Bee Competition (contd.)\n",
    "Help Julia display the names of the students from final list, in alphabetical order"
   ]
  },
  {
   "cell_type": "code",
   "execution_count": 3,
   "id": "9126cd8c",
   "metadata": {},
   "outputs": [],
   "source": [
    "final_list =  {'Alexanderia Peterson', 'Florida Thomson', 'Mark Antony', 'John Chan', 'kartik', 'Matt Antony', \n",
    "               'Alexander Thomas','Lily Jason', 'Janice Ken', 'zoya', 'Jim Nick', 'Kenny Peterson', 'anika', 'Joe Cook', \n",
    "               'Katy Perry','Bret Lee', 'harsh', 'Mark Thomas', 'rahul'}\n",
    "\n"
   ]
  },
  {
   "cell_type": "code",
   "execution_count": 4,
   "id": "baff5ec7",
   "metadata": {},
   "outputs": [
    {
     "name": "stdout",
     "output_type": "stream",
     "text": [
      "['Alexander Thomas', 'Alexanderia Peterson', 'Bret Lee', 'Florida Thomson', 'Janice Ken', 'Jim Nick', 'Joe Cook', 'John Chan', 'Katy Perry', 'Kenny Peterson', 'Lily Jason', 'Mark Antony', 'Mark Thomas', 'Matt Antony', 'anika', 'harsh', 'kartik', 'rahul', 'zoya']\n"
     ]
    },
    {
     "data": {
      "text/plain": [
       "list"
      ]
     },
     "execution_count": 4,
     "metadata": {},
     "output_type": "execute_result"
    }
   ],
   "source": [
    "sorted_list = sorted(list(final_list))\n",
    "print(sorted_list)\n",
    "type(sorted_list)"
   ]
  },
  {
   "cell_type": "markdown",
   "id": "f7418362",
   "metadata": {},
   "source": [
    "Task 6: The students at the 2nd, 12th, and the last position in final_list got selected in the Spell Bee competition. \n",
    "Help Julia save the names of these students in a different list and display them separately.\n",
    "Note: The list index begins at 0. The 2nd student would be at index location 1."
   ]
  },
  {
   "cell_type": "code",
   "execution_count": 1,
   "id": "5ffef5ae",
   "metadata": {},
   "outputs": [
    {
     "name": "stdout",
     "output_type": "stream",
     "text": [
      "['Mark Thomas', 'Alexanderia Peterson', 'Lily Jason']\n"
     ]
    }
   ],
   "source": [
    "final_list = ['Janice Ken', 'Mark Thomas', 'John Chan', 'Katy Perry', 'ravi', 'Kenny Peterson', 'harsh', 'rahul', 'Bret Lee', \n",
    "        'Alexander Thomas', 'Mark Antony', 'Alexanderia Peterson', 'ramesh ', 'Joe Cook', 'Jim Nick', 'Florida Thomson',\n",
    "        'Matt Antony', 'sourabh', 'Lily Jason']\n",
    "\n",
    "selected_list = [final_list[1], final_list[11], final_list[-1]]\n",
    "\n",
    "print(selected_list)"
   ]
  },
  {
   "cell_type": "markdown",
   "id": "3b48fba8",
   "metadata": {},
   "source": [
    "Task 7: Spell Bee Competition (contd.)\n",
    "Write a program to count the number of integers between 555 and 678 that are divisible by 7.\n",
    "Note: Exclude 555 and 678."
   ]
  },
  {
   "cell_type": "code",
   "execution_count": 7,
   "id": "8e634c0d",
   "metadata": {},
   "outputs": [
    {
     "name": "stdout",
     "output_type": "stream",
     "text": [
      "enter number:7\n",
      "17\n"
     ]
    }
   ],
   "source": [
    "count=0\n",
    "n=int(input(\"enter number:\"))\n",
    "for i in range(556,678,1):\n",
    "    if i%n==0:\n",
    "        count=count+1\n",
    "print(count)"
   ]
  },
  {
   "cell_type": "markdown",
   "id": "0fbcf0db",
   "metadata": {},
   "source": [
    "Task 8: Spell Bee Competition (contd.)\n",
    "Write a Python program that prints the first 30 natural numbers but skips all numbers that are multiples of n. Accept the value of n as an input from the user.\n",
    "Note: Natural numbers are positive integers (1, 2, 3, etc.)."
   ]
  },
  {
   "cell_type": "code",
   "execution_count": 15,
   "id": "2c0529de",
   "metadata": {},
   "outputs": [
    {
     "name": "stdout",
     "output_type": "stream",
     "text": [
      "Enter the number:3\n",
      "1\n",
      "2\n",
      "4\n",
      "5\n",
      "7\n",
      "8\n",
      "10\n",
      "11\n",
      "13\n",
      "14\n",
      "16\n",
      "17\n",
      "19\n",
      "20\n",
      "22\n",
      "23\n",
      "25\n",
      "26\n",
      "28\n",
      "29\n"
     ]
    }
   ],
   "source": [
    "n=int(input(\"Enter the number:\"))\n",
    "for i in range(0,31,1):\n",
    "    if i%n !=0:\n",
    "        print(i)\n",
    "        \n",
    "        \n",
    "        "
   ]
  },
  {
   "cell_type": "code",
   "execution_count": 10,
   "id": "7851e8b7",
   "metadata": {},
   "outputs": [
    {
     "name": "stdout",
     "output_type": "stream",
     "text": [
      "Enter the number:3\n",
      "1 2 4 5 7 8 10 11 13 14 16 17 19 20 22 23 25 26 28 29 "
     ]
    }
   ],
   "source": [
    "n = int(input(\"Enter the number:\"))\n",
    "count = 0\n",
    "\n",
    "for i in range(1, 31):\n",
    "    if i % n != 0:\n",
    "        print(i, end=' ')\n",
    "        count += 1\n",
    "\n",
    "        if count == 30:\n",
    "            break"
   ]
  },
  {
   "cell_type": "markdown",
   "id": "40722866",
   "metadata": {},
   "source": [
    "Task 9: Spell Bee Competition (contd.)\n",
    "Consider the lists below:\n",
    "firstlist = [1, 21, 3, 4,5, 6, 7,18, 4]\n",
    "secondlist = [19, 1,17, 6, 15,14, 13, 2,11]\n",
    "Find the sum of the corresponding elements of firstlist and secondlist, store them in a list named thirdlist, and print the result.\n",
    "Sample input:\n",
    "First = [1, 2, 3]\n",
    "Second = [10, 20, 30]\n",
    "Sample output: [11, 22, 33]"
   ]
  },
  {
   "cell_type": "code",
   "execution_count": 78,
   "id": "814485c2",
   "metadata": {},
   "outputs": [
    {
     "name": "stdout",
     "output_type": "stream",
     "text": [
      "[20, 22, 20, 10, 20, 20, 20, 20, 15]\n"
     ]
    }
   ],
   "source": [
    "firstlist = [1, 21, 3, 4, 5, 6, 7, 18, 4]\n",
    "secondlist = [19, 1, 17, 6, 15, 14, 13, 2, 11]\n",
    "thirdlist = []\n",
    "l = len(firstlist)                                 #len(firstlist) returns the number of elements in the firstlist as the length\n",
    "for i in range(l):\n",
    "    thirdlist.append(firstlist[i] + secondlist[i])\n",
    "\n",
    "print(thirdlist)"
   ]
  },
  {
   "cell_type": "code",
   "execution_count": 19,
   "id": "fc777ebe",
   "metadata": {},
   "outputs": [
    {
     "name": "stdout",
     "output_type": "stream",
     "text": [
      "[20, 22, 20, 10, 20, 20, 20, 20, 15]\n"
     ]
    }
   ],
   "source": [
    "firstlist = [1, 21, 3, 4, 5, 6, 7, 18, 4]\n",
    "secondlist = [19, 1, 17, 6, 15, 14, 13, 2, 11]\n",
    "thirdlist = []\n",
    "                           \n",
    "for i in range(len(firstlist)):\n",
    "    thirdlist.append(firstlist[i] + secondlist[i])\n",
    "\n",
    "print(thirdlist)"
   ]
  },
  {
   "cell_type": "code",
   "execution_count": null,
   "id": "20d85408",
   "metadata": {},
   "outputs": [],
   "source": []
  }
 ],
 "metadata": {
  "kernelspec": {
   "display_name": "Python 3 (ipykernel)",
   "language": "python",
   "name": "python3"
  },
  "language_info": {
   "codemirror_mode": {
    "name": "ipython",
    "version": 3
   },
   "file_extension": ".py",
   "mimetype": "text/x-python",
   "name": "python",
   "nbconvert_exporter": "python",
   "pygments_lexer": "ipython3",
   "version": "3.11.5"
  }
 },
 "nbformat": 4,
 "nbformat_minor": 5
}
