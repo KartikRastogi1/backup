{
 "cells": [
  {
   "cell_type": "markdown",
   "id": "332a26f2",
   "metadata": {},
   "source": [
    "Write a program to generate a dictionary after taking input from user\n",
    "The dictionary must have keys as student id and values as the student names"
   ]
  },
  {
   "cell_type": "code",
   "execution_count": 1,
   "id": "5e5f9b10",
   "metadata": {},
   "outputs": [
    {
     "name": "stdout",
     "output_type": "stream",
     "text": [
      "enter number of students 2\n",
      "enter student id:23\n",
      "enter student name:kartik\n",
      "enter student id:34\n",
      "enter student name:anika\n",
      "{'kartik': '23', 'anika': '34'}\n"
     ]
    }
   ],
   "source": [
    "di = {}\n",
    "n=int(input(\"enter number of students \"))\n",
    "for i in range(n):\n",
    "    st_id= input(\"enter student id:\")\n",
    "    st_name = input(\"enter student name:\")\n",
    "    di[st_name]=st_id                                           # key=value\n",
    "print(di)\n",
    "    "
   ]
  },
  {
   "cell_type": "code",
   "execution_count": 1,
   "id": "55550705",
   "metadata": {},
   "outputs": [
    {
     "name": "stdout",
     "output_type": "stream",
     "text": [
      "enter number of students2\n",
      "enter student ID25\n",
      "Enter nameskartik\n",
      "enter student ID78\n",
      "Enter namesanika\n",
      "{25: 'kartik', 78: 'anika'}\n"
     ]
    }
   ],
   "source": [
    "d1 = {}\n",
    "num = int(input(\"enter number of students\"))\n",
    "for i in range(num):\n",
    "    keys = int(input(\"enter student ID\"))\n",
    "    values = input(\"Enter names\")\n",
    "    d1[keys] = values\n",
    "print(d1)"
   ]
  },
  {
   "cell_type": "markdown",
   "id": "f27562d3",
   "metadata": {},
   "source": [
    "#functions"
   ]
  },
  {
   "cell_type": "code",
   "execution_count": 9,
   "id": "7ef296a8",
   "metadata": {},
   "outputs": [],
   "source": [
    "def greet():                             #create a function using def\n",
    "    print('hii good morning')\n",
    "    print(\"have a good day\")"
   ]
  },
  {
   "cell_type": "code",
   "execution_count": 10,
   "id": "6038e64e",
   "metadata": {},
   "outputs": [
    {
     "name": "stdout",
     "output_type": "stream",
     "text": [
      "hii good morning\n",
      "have a good day\n"
     ]
    }
   ],
   "source": [
    "greet()                                  #using the created function"
   ]
  },
  {
   "cell_type": "code",
   "execution_count": 11,
   "id": "45834183",
   "metadata": {},
   "outputs": [
    {
     "name": "stdout",
     "output_type": "stream",
     "text": [
      "hii good morning\n",
      "have a good day\n",
      "hii good morning\n",
      "have a good day\n",
      "hii good morning\n",
      "have a good day\n",
      "hii good morning\n",
      "have a good day\n",
      "hii good morning\n",
      "have a good day\n",
      "hii good morning\n",
      "have a good day\n",
      "hii good morning\n",
      "have a good day\n",
      "hii good morning\n",
      "have a good day\n",
      "hii good morning\n",
      "have a good day\n",
      "hii good morning\n",
      "have a good day\n"
     ]
    }
   ],
   "source": [
    "for i in range(10):                         #using for and function together\n",
    "    greet()"
   ]
  },
  {
   "cell_type": "code",
   "execution_count": 12,
   "id": "ac846de9",
   "metadata": {},
   "outputs": [],
   "source": [
    "def hello():\n",
    "    print(\"welcome to programing\")"
   ]
  },
  {
   "cell_type": "code",
   "execution_count": 13,
   "id": "6bbe9f88",
   "metadata": {},
   "outputs": [
    {
     "name": "stdout",
     "output_type": "stream",
     "text": [
      "welcome to programing\n"
     ]
    }
   ],
   "source": [
    "hello()"
   ]
  },
  {
   "cell_type": "code",
   "execution_count": 6,
   "id": "2add1b21",
   "metadata": {},
   "outputs": [],
   "source": [
    "def add_two_numbers(m,n):                    #passing default arguments in the function these are local variables\n",
    "    print(m+n)"
   ]
  },
  {
   "cell_type": "code",
   "execution_count": 10,
   "id": "6c1991de",
   "metadata": {},
   "outputs": [],
   "source": [
    "m=5\n",
    "n=6"
   ]
  },
  {
   "cell_type": "code",
   "execution_count": 11,
   "id": "581414e6",
   "metadata": {},
   "outputs": [
    {
     "name": "stdout",
     "output_type": "stream",
     "text": [
      "11\n"
     ]
    }
   ],
   "source": [
    "add_two_numbers(m,n)"
   ]
  },
  {
   "cell_type": "code",
   "execution_count": 14,
   "id": "2f640e0b",
   "metadata": {},
   "outputs": [
    {
     "ename": "TypeError",
     "evalue": "unsupported operand type(s) for +: 'int' and 'str'",
     "output_type": "error",
     "traceback": [
      "\u001b[1;31m---------------------------------------------------------------------------\u001b[0m",
      "\u001b[1;31mTypeError\u001b[0m                                 Traceback (most recent call last)",
      "Cell \u001b[1;32mIn[14], line 1\u001b[0m\n\u001b[1;32m----> 1\u001b[0m add_two_numbers(\u001b[38;5;241m180\u001b[39m,\u001b[38;5;124m'\u001b[39m\u001b[38;5;124mkites\u001b[39m\u001b[38;5;124m'\u001b[39m)\n",
      "Cell \u001b[1;32mIn[6], line 2\u001b[0m, in \u001b[0;36madd_two_numbers\u001b[1;34m(m, n)\u001b[0m\n\u001b[0;32m      1\u001b[0m \u001b[38;5;28;01mdef\u001b[39;00m \u001b[38;5;21madd_two_numbers\u001b[39m(m,n):                    \u001b[38;5;66;03m#passing default arguments in the function these are local variables\u001b[39;00m\n\u001b[1;32m----> 2\u001b[0m     \u001b[38;5;28mprint\u001b[39m(m\u001b[38;5;241m+\u001b[39mn)\n",
      "\u001b[1;31mTypeError\u001b[0m: unsupported operand type(s) for +: 'int' and 'str'"
     ]
    }
   ],
   "source": [
    "add_two_numbers(180,'kites')                          #cannot add int data type and string data type"
   ]
  },
  {
   "cell_type": "code",
   "execution_count": 13,
   "id": "df5f0269",
   "metadata": {},
   "outputs": [],
   "source": [
    "def divide_num():\n",
    "    l = int(input(\"enter l:\"))\n",
    "    b= int(input(\"enter b:\"))\n",
    "    return l//b"
   ]
  },
  {
   "cell_type": "code",
   "execution_count": 14,
   "id": "171ad607",
   "metadata": {},
   "outputs": [
    {
     "name": "stdout",
     "output_type": "stream",
     "text": [
      "enter l:34\n",
      "enter b:2\n"
     ]
    },
    {
     "data": {
      "text/plain": [
       "17"
      ]
     },
     "execution_count": 14,
     "metadata": {},
     "output_type": "execute_result"
    }
   ],
   "source": [
    "divide_num()"
   ]
  },
  {
   "cell_type": "code",
   "execution_count": 18,
   "id": "13607b77",
   "metadata": {},
   "outputs": [
    {
     "name": "stdout",
     "output_type": "stream",
     "text": [
      "harsh plays kites\n"
     ]
    }
   ],
   "source": [
    "add_two_numbers('harsh plays ', 'kites')                #adding two strings is called concatination"
   ]
  },
  {
   "cell_type": "code",
   "execution_count": 19,
   "id": "6de61819",
   "metadata": {},
   "outputs": [],
   "source": [
    "def add_default(a=10,b=5):\n",
    "    print(a+b)"
   ]
  },
  {
   "cell_type": "code",
   "execution_count": 20,
   "id": "80091bee",
   "metadata": {},
   "outputs": [
    {
     "name": "stdout",
     "output_type": "stream",
     "text": [
      "15\n"
     ]
    }
   ],
   "source": [
    "add_default()"
   ]
  },
  {
   "cell_type": "code",
   "execution_count": 22,
   "id": "5bc972e9",
   "metadata": {},
   "outputs": [
    {
     "name": "stdout",
     "output_type": "stream",
     "text": [
      "51\n"
     ]
    }
   ],
   "source": [
    "add_default(45,6)"
   ]
  },
  {
   "cell_type": "code",
   "execution_count": 23,
   "id": "38219b5c",
   "metadata": {},
   "outputs": [
    {
     "name": "stdout",
     "output_type": "stream",
     "text": [
      "50\n"
     ]
    }
   ],
   "source": [
    "add_default(45)         "
   ]
  },
  {
   "cell_type": "code",
   "execution_count": 24,
   "id": "fb42b136",
   "metadata": {},
   "outputs": [
    {
     "name": "stdout",
     "output_type": "stream",
     "text": [
      "70\n"
     ]
    }
   ],
   "source": [
    "add_default(b=60)   "
   ]
  },
  {
   "cell_type": "code",
   "execution_count": 39,
   "id": "8734ec7e",
   "metadata": {},
   "outputs": [],
   "source": [
    "def area_of_circle(r):\n",
    "    c= 3.14*r*r\n",
    "    print(\"area of circle\",c)                           #or return c"
   ]
  },
  {
   "cell_type": "code",
   "execution_count": 40,
   "id": "e89be4d2",
   "metadata": {},
   "outputs": [
    {
     "name": "stdout",
     "output_type": "stream",
     "text": [
      "area of circle 78.5\n"
     ]
    }
   ],
   "source": [
    "r=5\n",
    "area_of_circle(r)\n"
   ]
  },
  {
   "cell_type": "code",
   "execution_count": 7,
   "id": "d7ad6de2",
   "metadata": {},
   "outputs": [],
   "source": [
    "def area_of_rec(l,w):\n",
    "    c=x*y\n",
    "    print(c,\"is the area of rectangle\")"
   ]
  },
  {
   "cell_type": "code",
   "execution_count": 11,
   "id": "30b3f6a8",
   "metadata": {},
   "outputs": [
    {
     "name": "stdout",
     "output_type": "stream",
     "text": [
      "12 is the area of rectangle\n"
     ]
    }
   ],
   "source": [
    "x=3\n",
    "y=4\n",
    "area_of_rec(l,w)"
   ]
  },
  {
   "cell_type": "code",
   "execution_count": 31,
   "id": "ad6e850c",
   "metadata": {},
   "outputs": [],
   "source": [
    "def greet_friend(name=\"friend\"):\n",
    "    print(\"happy birthday\",name)"
   ]
  },
  {
   "cell_type": "code",
   "execution_count": 32,
   "id": "c5c08951",
   "metadata": {},
   "outputs": [
    {
     "name": "stdout",
     "output_type": "stream",
     "text": [
      "happy birthday friend\n"
     ]
    }
   ],
   "source": [
    "greet_friend()"
   ]
  },
  {
   "cell_type": "code",
   "execution_count": 33,
   "id": "fb93fe58",
   "metadata": {},
   "outputs": [
    {
     "name": "stdout",
     "output_type": "stream",
     "text": [
      "happy birthday harsh\n"
     ]
    }
   ],
   "source": [
    "greet_friend('harsh')"
   ]
  },
  {
   "cell_type": "code",
   "execution_count": 35,
   "id": "0c90070f",
   "metadata": {},
   "outputs": [
    {
     "name": "stdout",
     "output_type": "stream",
     "text": [
      "7\n"
     ]
    }
   ],
   "source": [
    "val1=add_two_numbers(4,3)"
   ]
  },
  {
   "cell_type": "code",
   "execution_count": 37,
   "id": "1fb2d1ec",
   "metadata": {},
   "outputs": [
    {
     "data": {
      "text/plain": [
       "NoneType"
      ]
     },
     "execution_count": 37,
     "metadata": {},
     "output_type": "execute_result"
    }
   ],
   "source": [
    "type(val1)"
   ]
  },
  {
   "cell_type": "code",
   "execution_count": 41,
   "id": "dcf70003",
   "metadata": {},
   "outputs": [],
   "source": [
    "def add_return(m,n):\n",
    "    return m+n"
   ]
  },
  {
   "cell_type": "code",
   "execution_count": 44,
   "id": "f29568be",
   "metadata": {},
   "outputs": [],
   "source": [
    "val2=add_return(11,2)"
   ]
  },
  {
   "cell_type": "code",
   "execution_count": 45,
   "id": "3a391522",
   "metadata": {},
   "outputs": [
    {
     "data": {
      "text/plain": [
       "13"
      ]
     },
     "execution_count": 45,
     "metadata": {},
     "output_type": "execute_result"
    }
   ],
   "source": [
    "val2"
   ]
  },
  {
   "cell_type": "code",
   "execution_count": null,
   "id": "950cbb4f",
   "metadata": {},
   "outputs": [],
   "source": []
  },
  {
   "cell_type": "code",
   "execution_count": null,
   "id": "acde75c9",
   "metadata": {},
   "outputs": [],
   "source": [
    "#write two functions to multiply three numbers 1st function will show output and second one will return"
   ]
  },
  {
   "cell_type": "code",
   "execution_count": 27,
   "id": "abb96346",
   "metadata": {},
   "outputs": [],
   "source": [
    "def mul_num(a,b,c):\n",
    "    print(a*b*c)"
   ]
  },
  {
   "cell_type": "code",
   "execution_count": 28,
   "id": "0bdbf4b9",
   "metadata": {},
   "outputs": [
    {
     "name": "stdout",
     "output_type": "stream",
     "text": [
      "24\n"
     ]
    }
   ],
   "source": [
    "mul_num(2,3,4)"
   ]
  },
  {
   "cell_type": "code",
   "execution_count": 29,
   "id": "2d81b866",
   "metadata": {},
   "outputs": [],
   "source": [
    "def multy_num(x,y,z):\n",
    "    return x*y*z"
   ]
  },
  {
   "cell_type": "code",
   "execution_count": 30,
   "id": "90f38c1c",
   "metadata": {},
   "outputs": [
    {
     "data": {
      "text/plain": [
       "60"
      ]
     },
     "execution_count": 30,
     "metadata": {},
     "output_type": "execute_result"
    }
   ],
   "source": [
    "multy_num(4,3,5)"
   ]
  },
  {
   "cell_type": "code",
   "execution_count": 32,
   "id": "3f78919d",
   "metadata": {},
   "outputs": [],
   "source": [
    "val3=multy_num(4,3,5)"
   ]
  },
  {
   "cell_type": "code",
   "execution_count": 33,
   "id": "9bce3055",
   "metadata": {},
   "outputs": [
    {
     "data": {
      "text/plain": [
       "60"
      ]
     },
     "execution_count": 33,
     "metadata": {},
     "output_type": "execute_result"
    }
   ],
   "source": [
    "val3"
   ]
  },
  {
   "cell_type": "code",
   "execution_count": null,
   "id": "fa28446a",
   "metadata": {},
   "outputs": [],
   "source": []
  },
  {
   "cell_type": "code",
   "execution_count": null,
   "id": "fb82537c",
   "metadata": {},
   "outputs": [],
   "source": []
  },
  {
   "cell_type": "code",
   "execution_count": null,
   "id": "45bee500",
   "metadata": {},
   "outputs": [],
   "source": []
  },
  {
   "cell_type": "code",
   "execution_count": 34,
   "id": "341c5485",
   "metadata": {},
   "outputs": [],
   "source": [
    "li=[12,4,5,6,7,3,5,8,9,10,8,20]"
   ]
  },
  {
   "cell_type": "code",
   "execution_count": 15,
   "id": "f94f7301",
   "metadata": {},
   "outputs": [],
   "source": [
    "def check_even(num):\n",
    "    n = int(input(\"enter a number\"))\n",
    "    if n%2==0:\n",
    "        print(n,\"even\")\n",
    "    else:\n",
    "        print(n,\"odd\")"
   ]
  },
  {
   "cell_type": "code",
   "execution_count": 18,
   "id": "20296624",
   "metadata": {},
   "outputs": [
    {
     "name": "stdout",
     "output_type": "stream",
     "text": [
      "enter a number4\n",
      "4 even\n"
     ]
    }
   ],
   "source": [
    "check_even(num)"
   ]
  },
  {
   "cell_type": "code",
   "execution_count": 36,
   "id": "0d4e0d2e",
   "metadata": {},
   "outputs": [
    {
     "name": "stdout",
     "output_type": "stream",
     "text": [
      "100 even\n"
     ]
    }
   ],
   "source": [
    "check_even(100)"
   ]
  },
  {
   "cell_type": "code",
   "execution_count": 37,
   "id": "7a784054",
   "metadata": {},
   "outputs": [
    {
     "name": "stdout",
     "output_type": "stream",
     "text": [
      "101 odd\n"
     ]
    }
   ],
   "source": [
    "check_even(101)"
   ]
  },
  {
   "cell_type": "code",
   "execution_count": 38,
   "id": "3b5a0200",
   "metadata": {},
   "outputs": [
    {
     "name": "stdout",
     "output_type": "stream",
     "text": [
      "12 even\n",
      "4 even\n",
      "5 odd\n",
      "6 even\n",
      "7 odd\n",
      "3 odd\n",
      "5 odd\n",
      "8 even\n",
      "9 odd\n",
      "10 even\n",
      "8 even\n",
      "20 even\n"
     ]
    }
   ],
   "source": [
    "for i in li:\n",
    "    check_even(i)"
   ]
  },
  {
   "cell_type": "code",
   "execution_count": 3,
   "id": "82a0b473",
   "metadata": {},
   "outputs": [
    {
     "data": {
      "text/plain": [
       "['rahul', 'Anil', 'surya', 'nisha', 'vinita', 'kumar', 'pradeep']"
      ]
     },
     "execution_count": 3,
     "metadata": {},
     "output_type": "execute_result"
    }
   ],
   "source": [
    "list_of_names=[\"rahul\",\"Anil\",\"surya\",\"nisha\",\"vinita\",\"kumar\",\"pradeep\"]\n",
    "list_of_names\n"
   ]
  },
  {
   "cell_type": "code",
   "execution_count": 4,
   "id": "b841405c",
   "metadata": {},
   "outputs": [],
   "source": [
    "def reverse_string(s):\n",
    "    return s[::-1], len(s), s[-1]"
   ]
  },
  {
   "cell_type": "code",
   "execution_count": 5,
   "id": "b72b0481",
   "metadata": {},
   "outputs": [
    {
     "data": {
      "text/plain": [
       "'luhar'"
      ]
     },
     "execution_count": 5,
     "metadata": {},
     "output_type": "execute_result"
    }
   ],
   "source": [
    "string = \"rahul\"\n",
    "string[::-1]"
   ]
  },
  {
   "cell_type": "code",
   "execution_count": 6,
   "id": "bb8cbc89",
   "metadata": {},
   "outputs": [],
   "source": [
    "rev, size, last = reverse_string(string)"
   ]
  },
  {
   "cell_type": "code",
   "execution_count": 7,
   "id": "d589b058",
   "metadata": {},
   "outputs": [
    {
     "data": {
      "text/plain": [
       "'luhar'"
      ]
     },
     "execution_count": 7,
     "metadata": {},
     "output_type": "execute_result"
    }
   ],
   "source": [
    "rev"
   ]
  },
  {
   "cell_type": "code",
   "execution_count": 8,
   "id": "5ab7b883",
   "metadata": {},
   "outputs": [
    {
     "data": {
      "text/plain": [
       "5"
      ]
     },
     "execution_count": 8,
     "metadata": {},
     "output_type": "execute_result"
    }
   ],
   "source": [
    "size"
   ]
  },
  {
   "cell_type": "code",
   "execution_count": 9,
   "id": "69276e8b",
   "metadata": {},
   "outputs": [
    {
     "data": {
      "text/plain": [
       "'l'"
      ]
     },
     "execution_count": 9,
     "metadata": {},
     "output_type": "execute_result"
    }
   ],
   "source": [
    "last"
   ]
  },
  {
   "cell_type": "code",
   "execution_count": 10,
   "id": "5bba2f73",
   "metadata": {},
   "outputs": [
    {
     "data": {
      "text/plain": [
       "(['pradeep', 'kumar', 'vinita', 'nisha', 'surya', 'Anil', 'rahul'],\n",
       " 7,\n",
       " 'pradeep')"
      ]
     },
     "execution_count": 10,
     "metadata": {},
     "output_type": "execute_result"
    }
   ],
   "source": [
    "reverse_string(list_of_names)"
   ]
  },
  {
   "cell_type": "code",
   "execution_count": 11,
   "id": "90bbc4f4",
   "metadata": {},
   "outputs": [
    {
     "name": "stdout",
     "output_type": "stream",
     "text": [
      "('luhar', 5, 'l')\n",
      "('linA', 4, 'l')\n",
      "('ayrus', 5, 'a')\n",
      "('ahsin', 5, 'a')\n",
      "('atiniv', 6, 'a')\n",
      "('ramuk', 5, 'r')\n",
      "('peedarp', 7, 'p')\n"
     ]
    }
   ],
   "source": [
    "for i in list_of_names:\n",
    "    print(reverse_string(i))"
   ]
  },
  {
   "cell_type": "code",
   "execution_count": 48,
   "id": "20a14cad",
   "metadata": {},
   "outputs": [],
   "source": [
    "list_of_number= [112,452,674,787,8980,6979,89999,7745,773]"
   ]
  },
  {
   "cell_type": "code",
   "execution_count": 49,
   "id": "761b8eb8",
   "metadata": {},
   "outputs": [
    {
     "data": {
      "text/plain": [
       "[773, 7745, 89999, 6979, 8980, 787, 674, 452, 112]"
      ]
     },
     "execution_count": 49,
     "metadata": {},
     "output_type": "execute_result"
    }
   ],
   "source": [
    "list_of_number[::-1]"
   ]
  },
  {
   "cell_type": "code",
   "execution_count": 50,
   "id": "e1af71d2",
   "metadata": {},
   "outputs": [],
   "source": [
    "def reverse_num(s):\n",
    "    return s[::-1], len(str(s))"
   ]
  },
  {
   "cell_type": "code",
   "execution_count": 51,
   "id": "352590ab",
   "metadata": {},
   "outputs": [],
   "source": [
    " reverse,size=reverse_num(list_of_number)"
   ]
  },
  {
   "cell_type": "code",
   "execution_count": 52,
   "id": "5f11f1c1",
   "metadata": {},
   "outputs": [
    {
     "data": {
      "text/plain": [
       "[773, 7745, 89999, 6979, 8980, 787, 674, 452, 112]"
      ]
     },
     "execution_count": 52,
     "metadata": {},
     "output_type": "execute_result"
    }
   ],
   "source": [
    "reverse"
   ]
  },
  {
   "cell_type": "code",
   "execution_count": 53,
   "id": "b7d170b1",
   "metadata": {},
   "outputs": [
    {
     "data": {
      "text/plain": [
       "50"
      ]
     },
     "execution_count": 53,
     "metadata": {},
     "output_type": "execute_result"
    }
   ],
   "source": [
    "size"
   ]
  },
  {
   "cell_type": "code",
   "execution_count": 54,
   "id": "a4b194e3",
   "metadata": {},
   "outputs": [
    {
     "name": "stdout",
     "output_type": "stream",
     "text": [
      "('211', 3)\n",
      "('254', 3)\n",
      "('476', 3)\n",
      "('787', 3)\n",
      "('0898', 4)\n",
      "('9796', 4)\n",
      "('99998', 5)\n",
      "('5477', 4)\n",
      "('377', 3)\n"
     ]
    }
   ],
   "source": [
    "for i in list_of_number:\n",
    "    print(reverse_num(str(i)))"
   ]
  },
  {
   "cell_type": "code",
   "execution_count": null,
   "id": "e39fd293",
   "metadata": {},
   "outputs": [],
   "source": [
    "#string_checker()"
   ]
  },
  {
   "cell_type": "code",
   "execution_count": 21,
   "id": "a31d9d6a",
   "metadata": {},
   "outputs": [
    {
     "data": {
      "text/plain": [
       "['rahul sharma',\n",
       " 'Anil kumar',\n",
       " 'amit A',\n",
       " 'surya',\n",
       " 'nisha',\n",
       " 'vinita',\n",
       " 'kumar',\n",
       " 'pradeep']"
      ]
     },
     "execution_count": 21,
     "metadata": {},
     "output_type": "execute_result"
    }
   ],
   "source": [
    "list_of_names=[\"rahul sharma\", \"Anil kumar\" ,\"amit A\", \"surya\", \"nisha\", \"vinita\", \"kumar\", \"pradeep\"]\n",
    "list_of_names\n"
   ]
  },
  {
   "cell_type": "code",
   "execution_count": 24,
   "id": "f7f0ecee",
   "metadata": {},
   "outputs": [],
   "source": [
    "def string_checker(s):\n",
    "    if len(s)>8:\n",
    "        print(s,\"is a fullname\")\n",
    "    else:\n",
    "        print(s,\"not a fullname\")"
   ]
  },
  {
   "cell_type": "code",
   "execution_count": 25,
   "id": "f4007ff1",
   "metadata": {},
   "outputs": [
    {
     "name": "stdout",
     "output_type": "stream",
     "text": [
      "rahul sharma is a fullname\n",
      "Anil kumar is a fullname\n",
      "amit A not a fullname\n",
      "surya not a fullname\n",
      "nisha not a fullname\n",
      "vinita not a fullname\n",
      "kumar not a fullname\n",
      "pradeep not a fullname\n"
     ]
    }
   ],
   "source": [
    "for i in list_of_names:\n",
    "    string_checker(i)"
   ]
  },
  {
   "cell_type": "code",
   "execution_count": null,
   "id": "700685f4",
   "metadata": {},
   "outputs": [],
   "source": [
    "number_checker()"
   ]
  },
  {
   "cell_type": "code",
   "execution_count": 27,
   "id": "ea0750d2",
   "metadata": {},
   "outputs": [],
   "source": [
    "list_of_number= [112,452,674,787,8980,6979,89999,7745,773]"
   ]
  },
  {
   "cell_type": "code",
   "execution_count": 17,
   "id": "217f3386",
   "metadata": {},
   "outputs": [],
   "source": [
    "def number_checker(num):\n",
    "    if num%3==0 or num%7==0:\n",
    "        print(\"divisible\")\n",
    "    else:\n",
    "        print(\"not divisible\")"
   ]
  },
  {
   "cell_type": "code",
   "execution_count": 20,
   "id": "26f3d1f3",
   "metadata": {},
   "outputs": [
    {
     "name": "stdout",
     "output_type": "stream",
     "text": [
      "divisible\n",
      "not divisible\n",
      "not divisible\n",
      "not divisible\n",
      "not divisible\n",
      "divisible\n",
      "divisible\n",
      "not divisible\n",
      "not divisible\n"
     ]
    }
   ],
   "source": [
    "for i in list_of_number:\n",
    "     number_checker(i)"
   ]
  },
  {
   "cell_type": "code",
   "execution_count": null,
   "id": "470d5290",
   "metadata": {},
   "outputs": [],
   "source": []
  },
  {
   "cell_type": "code",
   "execution_count": null,
   "id": "44370455",
   "metadata": {},
   "outputs": [],
   "source": [
    "#in-built functions"
   ]
  },
  {
   "cell_type": "code",
   "execution_count": 29,
   "id": "7025a4ff",
   "metadata": {},
   "outputs": [
    {
     "data": {
      "text/plain": [
       "9"
      ]
     },
     "execution_count": 29,
     "metadata": {},
     "output_type": "execute_result"
    }
   ],
   "source": [
    "len(list_of_number)"
   ]
  },
  {
   "cell_type": "code",
   "execution_count": 30,
   "id": "fdf59f0e",
   "metadata": {},
   "outputs": [
    {
     "data": {
      "text/plain": [
       "116501"
      ]
     },
     "execution_count": 30,
     "metadata": {},
     "output_type": "execute_result"
    }
   ],
   "source": [
    "sum(list_of_number)"
   ]
  },
  {
   "cell_type": "code",
   "execution_count": 31,
   "id": "3658acc9",
   "metadata": {},
   "outputs": [],
   "source": [
    "s=\"Python Programming language\""
   ]
  },
  {
   "cell_type": "code",
   "execution_count": 32,
   "id": "366aae99",
   "metadata": {},
   "outputs": [
    {
     "data": {
      "text/plain": [
       "'PYTHON PROGRAMMING LANGUAGE'"
      ]
     },
     "execution_count": 32,
     "metadata": {},
     "output_type": "execute_result"
    }
   ],
   "source": [
    "s.upper()"
   ]
  },
  {
   "cell_type": "code",
   "execution_count": 33,
   "id": "4dd8739e",
   "metadata": {},
   "outputs": [
    {
     "data": {
      "text/plain": [
       "'python programming language'"
      ]
     },
     "execution_count": 33,
     "metadata": {},
     "output_type": "execute_result"
    }
   ],
   "source": [
    "s.lower()"
   ]
  },
  {
   "cell_type": "code",
   "execution_count": 34,
   "id": "7e36f89f",
   "metadata": {},
   "outputs": [
    {
     "data": {
      "text/plain": [
       "'Python Programming Language'"
      ]
     },
     "execution_count": 34,
     "metadata": {},
     "output_type": "execute_result"
    }
   ],
   "source": [
    "s.title()"
   ]
  },
  {
   "cell_type": "code",
   "execution_count": 35,
   "id": "f13494ef",
   "metadata": {},
   "outputs": [
    {
     "data": {
      "text/plain": [
       "'Python programming language'"
      ]
     },
     "execution_count": 35,
     "metadata": {},
     "output_type": "execute_result"
    }
   ],
   "source": [
    "s.capitalize()"
   ]
  },
  {
   "cell_type": "code",
   "execution_count": 36,
   "id": "681f269b",
   "metadata": {},
   "outputs": [
    {
     "data": {
      "text/plain": [
       "['Python', 'Programming', 'language']"
      ]
     },
     "execution_count": 36,
     "metadata": {},
     "output_type": "execute_result"
    }
   ],
   "source": [
    "s.split()"
   ]
  },
  {
   "cell_type": "code",
   "execution_count": 39,
   "id": "0abcbf16",
   "metadata": {},
   "outputs": [
    {
     "data": {
      "text/plain": [
       "4"
      ]
     },
     "execution_count": 39,
     "metadata": {},
     "output_type": "execute_result"
    }
   ],
   "source": [
    "s.count('g')"
   ]
  },
  {
   "cell_type": "code",
   "execution_count": 40,
   "id": "482f3058",
   "metadata": {},
   "outputs": [
    {
     "data": {
      "text/plain": [
       "'Python Prodrammind landuade'"
      ]
     },
     "execution_count": 40,
     "metadata": {},
     "output_type": "execute_result"
    }
   ],
   "source": [
    "s.replace('g','d')"
   ]
  },
  {
   "cell_type": "code",
   "execution_count": 41,
   "id": "412ba247",
   "metadata": {},
   "outputs": [
    {
     "data": {
      "text/plain": [
       "True"
      ]
     },
     "execution_count": 41,
     "metadata": {},
     "output_type": "execute_result"
    }
   ],
   "source": [
    "\"  \".isspace()"
   ]
  },
  {
   "cell_type": "code",
   "execution_count": 42,
   "id": "d03799dc",
   "metadata": {},
   "outputs": [
    {
     "data": {
      "text/plain": [
       "'Python Programming language'"
      ]
     },
     "execution_count": 42,
     "metadata": {},
     "output_type": "execute_result"
    }
   ],
   "source": [
    "s.strip()                       #removes extra or special characters if it is present in the string"
   ]
  },
  {
   "cell_type": "code",
   "execution_count": 43,
   "id": "f471f7cd",
   "metadata": {},
   "outputs": [],
   "source": [
    "s=\"Python Programming language     \""
   ]
  },
  {
   "cell_type": "code",
   "execution_count": 44,
   "id": "a8ecc0a3",
   "metadata": {},
   "outputs": [
    {
     "data": {
      "text/plain": [
       "'Python Programming language     '"
      ]
     },
     "execution_count": 44,
     "metadata": {},
     "output_type": "execute_result"
    }
   ],
   "source": [
    "s"
   ]
  },
  {
   "cell_type": "code",
   "execution_count": 45,
   "id": "6e557d6a",
   "metadata": {},
   "outputs": [
    {
     "data": {
      "text/plain": [
       "'Python Programming language'"
      ]
     },
     "execution_count": 45,
     "metadata": {},
     "output_type": "execute_result"
    }
   ],
   "source": [
    "s.strip()"
   ]
  },
  {
   "cell_type": "code",
   "execution_count": 46,
   "id": "71652ccb",
   "metadata": {},
   "outputs": [
    {
     "data": {
      "text/plain": [
       "[112, 452, 674, 787, 8980, 6979, 89999, 7745, 773]"
      ]
     },
     "execution_count": 46,
     "metadata": {},
     "output_type": "execute_result"
    }
   ],
   "source": [
    "list_of_number"
   ]
  },
  {
   "cell_type": "code",
   "execution_count": 47,
   "id": "7e2547a6",
   "metadata": {},
   "outputs": [
    {
     "data": {
      "text/plain": [
       "[112, 452, 674, 773, 787, 6979, 7745, 8980, 89999]"
      ]
     },
     "execution_count": 47,
     "metadata": {},
     "output_type": "execute_result"
    }
   ],
   "source": [
    "sorted(list_of_number)"
   ]
  },
  {
   "cell_type": "code",
   "execution_count": 55,
   "id": "6a23a0f4",
   "metadata": {},
   "outputs": [
    {
     "data": {
      "text/plain": [
       "[773, 7745, 89999, 6979, 8980, 787, 674, 452, 112]"
      ]
     },
     "execution_count": 55,
     "metadata": {},
     "output_type": "execute_result"
    }
   ],
   "source": [
    "list(reversed(list_of_number))"
   ]
  },
  {
   "cell_type": "code",
   "execution_count": 56,
   "id": "43eca2ed",
   "metadata": {},
   "outputs": [
    {
     "data": {
      "text/plain": [
       "['rahul sharma',\n",
       " 'Anil kumar',\n",
       " 'amit A',\n",
       " 'surya',\n",
       " 'nisha',\n",
       " 'vinita',\n",
       " 'kumar',\n",
       " 'pradeep']"
      ]
     },
     "execution_count": 56,
     "metadata": {},
     "output_type": "execute_result"
    }
   ],
   "source": [
    "list_of_names"
   ]
  },
  {
   "cell_type": "code",
   "execution_count": 59,
   "id": "082b26b7",
   "metadata": {},
   "outputs": [
    {
     "data": {
      "text/plain": [
       "'rahul sharma@@@@@Anil kumar@@@@@amit A@@@@@surya@@@@@nisha@@@@@vinita@@@@@kumar@@@@@pradeep'"
      ]
     },
     "execution_count": 59,
     "metadata": {},
     "output_type": "execute_result"
    }
   ],
   "source": [
    "\"@@@@@\".join(list_of_names)"
   ]
  },
  {
   "cell_type": "code",
   "execution_count": 60,
   "id": "e0671ea1",
   "metadata": {},
   "outputs": [],
   "source": [
    "m=\"@@@@@\".join(list_of_names)"
   ]
  },
  {
   "cell_type": "code",
   "execution_count": 61,
   "id": "6a857aa0",
   "metadata": {},
   "outputs": [
    {
     "data": {
      "text/plain": [
       "str"
      ]
     },
     "execution_count": 61,
     "metadata": {},
     "output_type": "execute_result"
    }
   ],
   "source": [
    "type(m)"
   ]
  },
  {
   "cell_type": "code",
   "execution_count": 67,
   "id": "d7a9b9ec",
   "metadata": {},
   "outputs": [],
   "source": [
    "d1={\"harsh\":80,\"diya\":56,\"anuj\":45}"
   ]
  },
  {
   "cell_type": "code",
   "execution_count": 68,
   "id": "e9dc779a",
   "metadata": {},
   "outputs": [
    {
     "data": {
      "text/plain": [
       "dict_values([80, 56, 45])"
      ]
     },
     "execution_count": 68,
     "metadata": {},
     "output_type": "execute_result"
    }
   ],
   "source": [
    "d1.values()"
   ]
  },
  {
   "cell_type": "code",
   "execution_count": 69,
   "id": "47ee555a",
   "metadata": {},
   "outputs": [
    {
     "data": {
      "text/plain": [
       "181"
      ]
     },
     "execution_count": 69,
     "metadata": {},
     "output_type": "execute_result"
    }
   ],
   "source": [
    "sum(d1.values())"
   ]
  },
  {
   "cell_type": "code",
   "execution_count": 72,
   "id": "eacbf47b",
   "metadata": {},
   "outputs": [
    {
     "data": {
      "text/plain": [
       "[45, 56, 80]"
      ]
     },
     "execution_count": 72,
     "metadata": {},
     "output_type": "execute_result"
    }
   ],
   "source": [
    "list(reversed(d1.values()))"
   ]
  },
  {
   "cell_type": "code",
   "execution_count": 73,
   "id": "c78d29ac",
   "metadata": {},
   "outputs": [
    {
     "data": {
      "text/plain": [
       "{'harsh': 80, 'diya': 56, 'anuj': 45}"
      ]
     },
     "execution_count": 73,
     "metadata": {},
     "output_type": "execute_result"
    }
   ],
   "source": [
    "d1"
   ]
  },
  {
   "cell_type": "code",
   "execution_count": 74,
   "id": "d5a8b001",
   "metadata": {},
   "outputs": [
    {
     "data": {
      "text/plain": [
       "['anuj', 'diya', 'harsh']"
      ]
     },
     "execution_count": 74,
     "metadata": {},
     "output_type": "execute_result"
    }
   ],
   "source": [
    "sorted(d1)"
   ]
  },
  {
   "cell_type": "code",
   "execution_count": 75,
   "id": "cb4eea15",
   "metadata": {},
   "outputs": [
    {
     "data": {
      "text/plain": [
       "[45, 56, 80]"
      ]
     },
     "execution_count": 75,
     "metadata": {},
     "output_type": "execute_result"
    }
   ],
   "source": [
    "sorted(d1.values())"
   ]
  },
  {
   "cell_type": "code",
   "execution_count": null,
   "id": "385f5143",
   "metadata": {},
   "outputs": [],
   "source": [
    "#nameless function"
   ]
  },
  {
   "cell_type": "code",
   "execution_count": 84,
   "id": "23524d6f",
   "metadata": {},
   "outputs": [],
   "source": [
    "my_fun = lambda a,b:a*b"
   ]
  },
  {
   "cell_type": "code",
   "execution_count": 85,
   "id": "30e5aada",
   "metadata": {},
   "outputs": [
    {
     "data": {
      "text/plain": [
       "6"
      ]
     },
     "execution_count": 85,
     "metadata": {},
     "output_type": "execute_result"
    }
   ],
   "source": [
    "my_fun(2,3)"
   ]
  },
  {
   "cell_type": "code",
   "execution_count": 86,
   "id": "08a1aa83",
   "metadata": {},
   "outputs": [
    {
     "data": {
      "text/plain": [
       "[112, 452, 674, 787, 8980, 6979, 89999, 7745, 773]"
      ]
     },
     "execution_count": 86,
     "metadata": {},
     "output_type": "execute_result"
    }
   ],
   "source": [
    "list_of_number"
   ]
  },
  {
   "cell_type": "code",
   "execution_count": 94,
   "id": "8aa62ec1",
   "metadata": {},
   "outputs": [],
   "source": [
    "z=lambda n:n%2==0 "
   ]
  },
  {
   "cell_type": "code",
   "execution_count": 95,
   "id": "38eb6eb0",
   "metadata": {},
   "outputs": [
    {
     "data": {
      "text/plain": [
       "False"
      ]
     },
     "execution_count": 95,
     "metadata": {},
     "output_type": "execute_result"
    }
   ],
   "source": [
    "z(5)"
   ]
  },
  {
   "cell_type": "code",
   "execution_count": 96,
   "id": "745cfa98",
   "metadata": {},
   "outputs": [
    {
     "data": {
      "text/plain": [
       "True"
      ]
     },
     "execution_count": 96,
     "metadata": {},
     "output_type": "execute_result"
    }
   ],
   "source": [
    "z(6)"
   ]
  },
  {
   "cell_type": "code",
   "execution_count": 97,
   "id": "ca54c404",
   "metadata": {},
   "outputs": [
    {
     "data": {
      "text/plain": [
       "True"
      ]
     },
     "execution_count": 97,
     "metadata": {},
     "output_type": "execute_result"
    }
   ],
   "source": [
    "z(50)"
   ]
  },
  {
   "cell_type": "code",
   "execution_count": 98,
   "id": "afe66d0c",
   "metadata": {},
   "outputs": [],
   "source": [
    "num_list= [19,23,24,56,78,87,12,13,32,1,2]"
   ]
  },
  {
   "cell_type": "code",
   "execution_count": 103,
   "id": "adc2052e",
   "metadata": {},
   "outputs": [
    {
     "data": {
      "text/plain": [
       "[23, 24, 56, 78, 87, 32]"
      ]
     },
     "execution_count": 103,
     "metadata": {},
     "output_type": "execute_result"
    }
   ],
   "source": [
    "list(filter(lambda num:num>20,num_list))                          #it will print only the number which is greater than 20"
   ]
  },
  {
   "cell_type": "code",
   "execution_count": null,
   "id": "56b276a5",
   "metadata": {},
   "outputs": [],
   "source": [
    "#MAP"
   ]
  },
  {
   "cell_type": "code",
   "execution_count": 117,
   "id": "620619fa",
   "metadata": {},
   "outputs": [],
   "source": [
    "def increase_values(a):\n",
    "    return a+1                                            #will increase by 1"
   ]
  },
  {
   "cell_type": "code",
   "execution_count": 118,
   "id": "b9c3bbce",
   "metadata": {},
   "outputs": [
    {
     "data": {
      "text/plain": [
       "24"
      ]
     },
     "execution_count": 118,
     "metadata": {},
     "output_type": "execute_result"
    }
   ],
   "source": [
    "increase_values(23)"
   ]
  },
  {
   "cell_type": "code",
   "execution_count": 119,
   "id": "d3c89d7e",
   "metadata": {},
   "outputs": [
    {
     "data": {
      "text/plain": [
       "[20, 24, 25, 57, 79, 88, 13, 14, 33, 2, 3]"
      ]
     },
     "execution_count": 119,
     "metadata": {},
     "output_type": "execute_result"
    }
   ],
   "source": [
    "list(map(increase_values, num_list))                           #map function"
   ]
  },
  {
   "cell_type": "code",
   "execution_count": 122,
   "id": "75f49d88",
   "metadata": {},
   "outputs": [
    {
     "data": {
      "text/plain": [
       "347"
      ]
     },
     "execution_count": 122,
     "metadata": {},
     "output_type": "execute_result"
    }
   ],
   "source": [
    "sum(num_list)"
   ]
  },
  {
   "cell_type": "code",
   "execution_count": 127,
   "id": "fa19e41f",
   "metadata": {},
   "outputs": [],
   "source": [
    "from functools import reduce"
   ]
  },
  {
   "cell_type": "code",
   "execution_count": 128,
   "id": "feb37a25",
   "metadata": {},
   "outputs": [],
   "source": []
  },
  {
   "cell_type": "code",
   "execution_count": 140,
   "id": "5239e814",
   "metadata": {},
   "outputs": [],
   "source": [
    "product = reduce((lambda x,y:x+y), num_list)"
   ]
  },
  {
   "cell_type": "code",
   "execution_count": 141,
   "id": "ebe86fc0",
   "metadata": {},
   "outputs": [
    {
     "data": {
      "text/plain": [
       "347"
      ]
     },
     "execution_count": 141,
     "metadata": {},
     "output_type": "execute_result"
    }
   ],
   "source": [
    "product"
   ]
  },
  {
   "cell_type": "code",
   "execution_count": 4,
   "id": "e4c5928e",
   "metadata": {},
   "outputs": [],
   "source": [
    "color = [('black', 4), ('green', 1), ('red', 5), ('blue', 2), ('yellow', 3)]"
   ]
  },
  {
   "cell_type": "code",
   "execution_count": 5,
   "id": "126c4e78",
   "metadata": {},
   "outputs": [
    {
     "data": {
      "text/plain": [
       "[('green', 1), ('blue', 2), ('yellow', 3), ('black', 4), ('red', 5)]"
      ]
     },
     "execution_count": 5,
     "metadata": {},
     "output_type": "execute_result"
    }
   ],
   "source": [
    "sorted(color,key=lambda x:x[1])                                 #using indexing [1] because we have to sort it using the indexing"
   ]
  },
  {
   "cell_type": "code",
   "execution_count": 13,
   "id": "be2beb5e",
   "metadata": {},
   "outputs": [],
   "source": [
    "l = [('black', 4,8,5), ('green', 1,45,56), ('red',5,3,6), ('blue',2,42,34), ('yellow',3,56,123)]"
   ]
  },
  {
   "cell_type": "code",
   "execution_count": 15,
   "id": "3ee29790",
   "metadata": {},
   "outputs": [
    {
     "data": {
      "text/plain": [
       "[('black', 4, 8, 5),\n",
       " ('red', 5, 3, 6),\n",
       " ('blue', 2, 42, 34),\n",
       " ('green', 1, 45, 56),\n",
       " ('yellow', 3, 56, 123)]"
      ]
     },
     "execution_count": 15,
     "metadata": {},
     "output_type": "execute_result"
    }
   ],
   "source": [
    "sorted(l,key=lambda x:x[3])"
   ]
  },
  {
   "cell_type": "code",
   "execution_count": 7,
   "id": "fc68955b",
   "metadata": {},
   "outputs": [
    {
     "ename": "TypeError",
     "evalue": "'key' is an invalid keyword argument for sum()",
     "output_type": "error",
     "traceback": [
      "\u001b[1;31m---------------------------------------------------------------------------\u001b[0m",
      "\u001b[1;31mTypeError\u001b[0m                                 Traceback (most recent call last)",
      "Cell \u001b[1;32mIn[7], line 1\u001b[0m\n\u001b[1;32m----> 1\u001b[0m \u001b[38;5;28msum\u001b[39m(color,key\u001b[38;5;241m=\u001b[39m\u001b[38;5;28;01mlambda\u001b[39;00m x:x)\n",
      "\u001b[1;31mTypeError\u001b[0m: 'key' is an invalid keyword argument for sum()"
     ]
    }
   ],
   "source": [
    "sum(color,key=lambda x:x) "
   ]
  },
  {
   "cell_type": "code",
   "execution_count": 9,
   "id": "662de5db",
   "metadata": {},
   "outputs": [
    {
     "name": "stdout",
     "output_type": "stream",
     "text": [
      "Sum of numbers: 15\n"
     ]
    }
   ],
   "source": [
    "color = [('black', 4), ('green', 1), ('red', 5), ('blue', 2), ('yellow', 3)]\n",
    "\n",
    "# Initialize the sum variable\n",
    "sum_of_numbers = 0\n",
    "\n",
    "# Loop through each tuple and add the second element (number) to the sum\n",
    "for _, number in color:\n",
    "    sum_of_numbers = sum_of_numbers+number\n",
    "\n",
    "print(\"Sum of numbers:\", sum_of_numbers)"
   ]
  },
  {
   "cell_type": "code",
   "execution_count": null,
   "id": "b64e81d8",
   "metadata": {},
   "outputs": [],
   "source": []
  }
 ],
 "metadata": {
  "kernelspec": {
   "display_name": "Python 3 (ipykernel)",
   "language": "python",
   "name": "python3"
  },
  "language_info": {
   "codemirror_mode": {
    "name": "ipython",
    "version": 3
   },
   "file_extension": ".py",
   "mimetype": "text/x-python",
   "name": "python",
   "nbconvert_exporter": "python",
   "pygments_lexer": "ipython3",
   "version": "3.11.5"
  }
 },
 "nbformat": 4,
 "nbformat_minor": 5
}
