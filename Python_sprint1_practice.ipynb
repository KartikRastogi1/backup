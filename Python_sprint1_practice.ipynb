{
 "cells": [
  {
   "cell_type": "code",
   "execution_count": null,
   "id": "80d4cdb4",
   "metadata": {},
   "outputs": [],
   "source": [
    "# a)Create a variable rollno and assign an integer value it. Print the value of rollno, the id, and the data type.\n"
   ]
  },
  {
   "cell_type": "code",
   "execution_count": 4,
   "id": "a4ae7189",
   "metadata": {},
   "outputs": [
    {
     "name": "stdout",
     "output_type": "stream",
     "text": [
      "4\n",
      "140726753072008\n",
      "<class 'int'>\n"
     ]
    }
   ],
   "source": [
    "roll_no= 4\n",
    "print(roll_no)\n",
    "print(id(roll_no))\n",
    "print(type(roll_no))\n"
   ]
  },
  {
   "cell_type": "code",
   "execution_count": null,
   "id": "437c8048",
   "metadata": {},
   "outputs": [],
   "source": [
    "# b)Create a variable firstname and assign a string value to it. Print the value of firstname, the id, and the data type.\n"
   ]
  },
  {
   "cell_type": "code",
   "execution_count": 76,
   "id": "c8207315",
   "metadata": {},
   "outputs": [
    {
     "name": "stdout",
     "output_type": "stream",
     "text": [
      "harsh\n",
      "1612986489328\n",
      "<class 'str'>\n"
     ]
    }
   ],
   "source": [
    "first_name = \"harsh\"\n",
    "print(first_name)\n",
    "print(id(first_name))\n",
    "print(type(first_name))"
   ]
  },
  {
   "cell_type": "code",
   "execution_count": null,
   "id": "3be453db",
   "metadata": {},
   "outputs": [],
   "source": [
    "# C) Create a variable lastname and assign a string value to it. Print the value of lastname, the id, and the data type.\n"
   ]
  },
  {
   "cell_type": "code",
   "execution_count": 77,
   "id": "c7e0ea91",
   "metadata": {},
   "outputs": [
    {
     "name": "stdout",
     "output_type": "stream",
     "text": [
      "singh\n",
      "1612986544368\n",
      "<class 'str'>\n"
     ]
    }
   ],
   "source": [
    "last_name = \"singh\"\n",
    "print(last_name)\n",
    "print(id(last_name))\n",
    "print(type(last_name))"
   ]
  },
  {
   "cell_type": "code",
   "execution_count": null,
   "id": "eaa37637",
   "metadata": {},
   "outputs": [],
   "source": [
    "# d)Create a variable maxmarks and assign the value 50 to it. Print the value of maxmarks, the id, and the data type."
   ]
  },
  {
   "cell_type": "code",
   "execution_count": 8,
   "id": "779d3f59",
   "metadata": {},
   "outputs": [
    {
     "name": "stdout",
     "output_type": "stream",
     "text": [
      "50\n",
      "140726753073480\n",
      "<class 'int'>\n"
     ]
    }
   ],
   "source": [
    "max_marks = 50\n",
    "print(max_marks)\n",
    "print(id(max_marks))\n",
    "print(type(max_marks))"
   ]
  },
  {
   "cell_type": "code",
   "execution_count": null,
   "id": "f1ef40c4",
   "metadata": {},
   "outputs": [],
   "source": [
    "# Task 2: Naming a Variable\n",
    "#Execute the following expressions individually and explain the observations (if any) for each of them: a)\n",
    "#a) var1 = 2\n",
    "#b) 2var = 2\n",
    "#c) var 1 = 2\n",
    "#d) var$2 = 2\n"
   ]
  },
  {
   "cell_type": "code",
   "execution_count": 9,
   "id": "555ab696",
   "metadata": {},
   "outputs": [],
   "source": [
    "var1=2"
   ]
  },
  {
   "cell_type": "code",
   "execution_count": 10,
   "id": "4b465708",
   "metadata": {},
   "outputs": [
    {
     "name": "stdout",
     "output_type": "stream",
     "text": [
      "2\n"
     ]
    }
   ],
   "source": [
    "print(var1)"
   ]
  },
  {
   "cell_type": "code",
   "execution_count": 11,
   "id": "021c2682",
   "metadata": {},
   "outputs": [
    {
     "ename": "SyntaxError",
     "evalue": "invalid decimal literal (3911145163.py, line 1)",
     "output_type": "error",
     "traceback": [
      "\u001b[1;36m  Cell \u001b[1;32mIn[11], line 1\u001b[1;36m\u001b[0m\n\u001b[1;33m    2var =2\u001b[0m\n\u001b[1;37m    ^\u001b[0m\n\u001b[1;31mSyntaxError\u001b[0m\u001b[1;31m:\u001b[0m invalid decimal literal\n"
     ]
    }
   ],
   "source": [
    "2var =2      #cannot start a variable name with numbers, it should always start with a letter "
   ]
  },
  {
   "cell_type": "code",
   "execution_count": 12,
   "id": "b4d7ff9e",
   "metadata": {},
   "outputs": [
    {
     "ename": "SyntaxError",
     "evalue": "invalid non-printable character U+00A0 (214014353.py, line 1)",
     "output_type": "error",
     "traceback": [
      "\u001b[1;36m  Cell \u001b[1;32mIn[12], line 1\u001b[1;36m\u001b[0m\n\u001b[1;33m    var 1 = 2\u001b[0m\n\u001b[1;37m           ^\u001b[0m\n\u001b[1;31mSyntaxError\u001b[0m\u001b[1;31m:\u001b[0m invalid non-printable character U+00A0\n"
     ]
    }
   ],
   "source": [
    "var 1 = 2    #cannot use space in between variables while creating variables , use underscore instead of space\n"
   ]
  },
  {
   "cell_type": "code",
   "execution_count": 13,
   "id": "acde2004",
   "metadata": {},
   "outputs": [
    {
     "ename": "SyntaxError",
     "evalue": "invalid decimal literal (1620301137.py, line 1)",
     "output_type": "error",
     "traceback": [
      "\u001b[1;36m  Cell \u001b[1;32mIn[13], line 1\u001b[1;36m\u001b[0m\n\u001b[1;33m    var$2 = 2\u001b[0m\n\u001b[1;37m        ^\u001b[0m\n\u001b[1;31mSyntaxError\u001b[0m\u001b[1;31m:\u001b[0m invalid decimal literal\n"
     ]
    }
   ],
   "source": [
    "var$2 = 2   #cannot use $ , we can only use underscore while creating variables"
   ]
  },
  {
   "cell_type": "code",
   "execution_count": null,
   "id": "78d0d688",
   "metadata": {},
   "outputs": [],
   "source": [
    "#Task 3: Assigning Values to a Variable \n",
    "#Execute the following expressions individually and explain the observations (if any) for each of them:\n",
    "#a) Class = 15\n",
    "#b) class = 14\n",
    "#c) DEF = 13\n",
    "#d) def = 12\n",
    "#e) a=TRUE\n",
    "#f) b=false"
   ]
  },
  {
   "cell_type": "code",
   "execution_count": 14,
   "id": "5ede2db7",
   "metadata": {},
   "outputs": [],
   "source": [
    "Class = 15"
   ]
  },
  {
   "cell_type": "code",
   "execution_count": 15,
   "id": "3e730be0",
   "metadata": {},
   "outputs": [
    {
     "name": "stdout",
     "output_type": "stream",
     "text": [
      "15\n"
     ]
    }
   ],
   "source": [
    "print(Class)"
   ]
  },
  {
   "cell_type": "code",
   "execution_count": 16,
   "id": "d4a79e96",
   "metadata": {},
   "outputs": [
    {
     "ename": "SyntaxError",
     "evalue": "invalid syntax (4141196902.py, line 1)",
     "output_type": "error",
     "traceback": [
      "\u001b[1;36m  Cell \u001b[1;32mIn[16], line 1\u001b[1;36m\u001b[0m\n\u001b[1;33m    class = 14\u001b[0m\n\u001b[1;37m          ^\u001b[0m\n\u001b[1;31mSyntaxError\u001b[0m\u001b[1;31m:\u001b[0m invalid syntax\n"
     ]
    }
   ],
   "source": [
    " class = 14  #cannot use reserved keywords as variable names"
   ]
  },
  {
   "cell_type": "code",
   "execution_count": 17,
   "id": "7d4badbe",
   "metadata": {},
   "outputs": [],
   "source": [
    "DEF = 13"
   ]
  },
  {
   "cell_type": "code",
   "execution_count": 18,
   "id": "08981b9f",
   "metadata": {},
   "outputs": [
    {
     "name": "stdout",
     "output_type": "stream",
     "text": [
      "13\n"
     ]
    }
   ],
   "source": [
    "print(DEF)"
   ]
  },
  {
   "cell_type": "code",
   "execution_count": 19,
   "id": "a57bdef6",
   "metadata": {},
   "outputs": [
    {
     "ename": "SyntaxError",
     "evalue": "invalid syntax (1759817278.py, line 1)",
     "output_type": "error",
     "traceback": [
      "\u001b[1;36m  Cell \u001b[1;32mIn[19], line 1\u001b[1;36m\u001b[0m\n\u001b[1;33m    def = 12\u001b[0m\n\u001b[1;37m        ^\u001b[0m\n\u001b[1;31mSyntaxError\u001b[0m\u001b[1;31m:\u001b[0m invalid syntax\n"
     ]
    }
   ],
   "source": [
    "def = 12  #cannot use def as variable name as it is use to define function in python"
   ]
  },
  {
   "cell_type": "code",
   "execution_count": 20,
   "id": "2ba4eef9",
   "metadata": {},
   "outputs": [
    {
     "ename": "NameError",
     "evalue": "name 'TRUE' is not defined",
     "output_type": "error",
     "traceback": [
      "\u001b[1;31m---------------------------------------------------------------------------\u001b[0m",
      "\u001b[1;31mNameError\u001b[0m                                 Traceback (most recent call last)",
      "Cell \u001b[1;32mIn[20], line 1\u001b[0m\n\u001b[1;32m----> 1\u001b[0m a\u001b[38;5;241m=\u001b[39mTRUE\n",
      "\u001b[1;31mNameError\u001b[0m: name 'TRUE' is not defined"
     ]
    }
   ],
   "source": [
    "a=TRUE   #The error in the statement a = TRUE is due to the use of the incorrect boolean value. "
   ]
  },
  {
   "cell_type": "code",
   "execution_count": 21,
   "id": "f13b04b7",
   "metadata": {},
   "outputs": [
    {
     "ename": "NameError",
     "evalue": "name 'false' is not defined",
     "output_type": "error",
     "traceback": [
      "\u001b[1;31m---------------------------------------------------------------------------\u001b[0m",
      "\u001b[1;31mNameError\u001b[0m                                 Traceback (most recent call last)",
      "Cell \u001b[1;32mIn[21], line 1\u001b[0m\n\u001b[1;32m----> 1\u001b[0m b\u001b[38;5;241m=\u001b[39mfalse\n",
      "\u001b[1;31mNameError\u001b[0m: name 'false' is not defined"
     ]
    }
   ],
   "source": [
    "b=false  #In Python, the correct keyword for representing a boolean false value is False (with an uppercase 'F')."
   ]
  },
  {
   "cell_type": "code",
   "execution_count": null,
   "id": "ebed5fb1",
   "metadata": {},
   "outputs": [],
   "source": [
    "#Task 4: Using id()\n",
    "#a) Create a variable named marks and assign it a float value between 0 and 100. Print the value, the id, and the data type.\n",
    "#b) Change the value of marks to any other float value between 0 and 100. Print the value of marks, the id, and the data type.\n",
    "#c) Is the id for the marks variable in the last two questions the same or different? Explain with justification."
   ]
  },
  {
   "cell_type": "code",
   "execution_count": 22,
   "id": "b2852e48",
   "metadata": {},
   "outputs": [],
   "source": [
    "marks = 2.2"
   ]
  },
  {
   "cell_type": "code",
   "execution_count": 23,
   "id": "7f140ab9",
   "metadata": {},
   "outputs": [
    {
     "name": "stdout",
     "output_type": "stream",
     "text": [
      "2.2\n",
      "1612985783248\n",
      "<class 'float'>\n"
     ]
    }
   ],
   "source": [
    "print(marks)\n",
    "print(id(marks))\n",
    "print(type(marks))"
   ]
  },
  {
   "cell_type": "code",
   "execution_count": 25,
   "id": "b26b8b53",
   "metadata": {},
   "outputs": [
    {
     "name": "stdout",
     "output_type": "stream",
     "text": [
      "value= 20.9\n",
      "1612985782928\n",
      "<class 'float'>\n"
     ]
    }
   ],
   "source": [
    "marks = 20.9\n",
    "print(\"value=\",marks)\n",
    "print(id(marks))\n",
    "print(type(marks))\n"
   ]
  },
  {
   "cell_type": "code",
   "execution_count": null,
   "id": "047207bc",
   "metadata": {},
   "outputs": [],
   "source": [
    "# The ID for the marks variable in the last two questions is different. \n",
    "#When the value of the marks variable is changed, a new float object is created, \n",
    "#The ID will change whenever the value of the variable is reassigned."
   ]
  },
  {
   "cell_type": "code",
   "execution_count": null,
   "id": "1f83021b",
   "metadata": {},
   "outputs": [],
   "source": [
    "#Task 5: Formatting the Output\n",
    "#a) Define a variable maxmarks and assign it the value 100. Divide marks by maxmarks. Print the output as a percentage. Example of expected output: 87.00%\n",
    "#b) Print the value of the variable fullname by joining firstname and lastname.Example of expected output: John Doe\n",
    "#Note: These are the variables from Task 1.\n",
    "#c) Print the value of the variable fullname with the text\n",
    "\"scored\", followed by the percentage of marks.\n",
    "Example of expected output: John Doe scored 87.00%."
   ]
  },
  {
   "cell_type": "code",
   "execution_count": 8,
   "id": "582bb24c",
   "metadata": {},
   "outputs": [
    {
     "name": "stdout",
     "output_type": "stream",
     "text": [
      "The percentage is: 87.0\n"
     ]
    }
   ],
   "source": [
    "max_marks = 100\n",
    "marks = 87.00\n",
    "percentage = (marks/max_marks) * 100 \n",
    "\n",
    "print(\"The percentage is:\", percentage)"
   ]
  },
  {
   "cell_type": "code",
   "execution_count": 9,
   "id": "b9e9e19a",
   "metadata": {},
   "outputs": [
    {
     "name": "stdout",
     "output_type": "stream",
     "text": [
      "fullname: harsh singh\n"
     ]
    }
   ],
   "source": [
    "first_name = \"harsh\"\n",
    "last_name = \"singh\"\n",
    "fullname = first_name+ \" \"+ last_name\n",
    "print(\"fullname:\",first_name+ \" \"+ last_name)\n"
   ]
  },
  {
   "cell_type": "code",
   "execution_count": 12,
   "id": "4319ed9f",
   "metadata": {},
   "outputs": [
    {
     "name": "stdout",
     "output_type": "stream",
     "text": [
      "harsh singh scored 87.0 %\n"
     ]
    }
   ],
   "source": [
    "print(fullname,\"scored\",percentage,\"%\")"
   ]
  },
  {
   "cell_type": "code",
   "execution_count": 14,
   "id": "a65d0ed6",
   "metadata": {},
   "outputs": [],
   "source": [
    "#Task 6: Creating Data Structures\n",
    "#a) Use the variable rollno as a key and the variable fullname as a value to create a dictionary data structure.\n",
    "#Note: The variables above are from the previous tasks.\n",
    "#b) Use the variables rollno, fullname, and marks as the values to create a list data structure.\n",
    "#Note: The variables above are from the previous tasks."
   ]
  },
  {
   "cell_type": "code",
   "execution_count": 52,
   "id": "bb66f0a1",
   "metadata": {},
   "outputs": [],
   "source": [
    "d = {4:\"harsh singh\"}"
   ]
  },
  {
   "cell_type": "code",
   "execution_count": 53,
   "id": "96ebb50d",
   "metadata": {},
   "outputs": [
    {
     "name": "stdout",
     "output_type": "stream",
     "text": [
      "{4: 'harsh singh'}\n"
     ]
    }
   ],
   "source": [
    "print(d)"
   ]
  },
  {
   "cell_type": "code",
   "execution_count": 54,
   "id": "6d122f4e",
   "metadata": {},
   "outputs": [],
   "source": [
    "l1 = [4,\"harsh singh\",87]"
   ]
  },
  {
   "cell_type": "code",
   "execution_count": 55,
   "id": "e27fd7f0",
   "metadata": {},
   "outputs": [
    {
     "name": "stdout",
     "output_type": "stream",
     "text": [
      "[4, 'harsh singh', 87]\n"
     ]
    }
   ],
   "source": [
    "print(l1)"
   ]
  },
  {
   "cell_type": "code",
   "execution_count": null,
   "id": "2d73e8b1",
   "metadata": {},
   "outputs": [],
   "source": [
    "#Task 7: Arithmetic Operations\n",
    "#Execute the following expressions and explain the observations of the output: a 1 + \"2\" b)\n",
    "#a) 1+\"2\"\n",
    "#b) \"1\" + \"2\"\n",
    "#c) 1/2\n",
    "#d) 1//2"
   ]
  },
  {
   "cell_type": "code",
   "execution_count": 56,
   "id": "c912ab05",
   "metadata": {},
   "outputs": [
    {
     "ename": "TypeError",
     "evalue": "unsupported operand type(s) for +: 'int' and 'str'",
     "output_type": "error",
     "traceback": [
      "\u001b[1;31m---------------------------------------------------------------------------\u001b[0m",
      "\u001b[1;31mTypeError\u001b[0m                                 Traceback (most recent call last)",
      "Cell \u001b[1;32mIn[56], line 1\u001b[0m\n\u001b[1;32m----> 1\u001b[0m \u001b[38;5;241m1\u001b[39m\u001b[38;5;241m+\u001b[39m\u001b[38;5;124m\"\u001b[39m\u001b[38;5;124m2\u001b[39m\u001b[38;5;124m\"\u001b[39m\n",
      "\u001b[1;31mTypeError\u001b[0m: unsupported operand type(s) for +: 'int' and 'str'"
     ]
    }
   ],
   "source": [
    "1+\"2\"   #it show error because it is not possible to add int and str "
   ]
  },
  {
   "cell_type": "code",
   "execution_count": 57,
   "id": "0b7e0fc5",
   "metadata": {},
   "outputs": [
    {
     "data": {
      "text/plain": [
       "'12'"
      ]
     },
     "execution_count": 57,
     "metadata": {},
     "output_type": "execute_result"
    }
   ],
   "source": [
    "\"1\" + \"2\"   #we are adding two strings so the output will be 12"
   ]
  },
  {
   "cell_type": "code",
   "execution_count": 58,
   "id": "5b754dd3",
   "metadata": {},
   "outputs": [
    {
     "data": {
      "text/plain": [
       "0.5"
      ]
     },
     "execution_count": 58,
     "metadata": {},
     "output_type": "execute_result"
    }
   ],
   "source": [
    " 1/2 #division"
   ]
  },
  {
   "cell_type": "code",
   "execution_count": 59,
   "id": "1c82dbbb",
   "metadata": {},
   "outputs": [
    {
     "data": {
      "text/plain": [
       "0"
      ]
     },
     "execution_count": 59,
     "metadata": {},
     "output_type": "execute_result"
    }
   ],
   "source": [
    "1//2  #floor divison"
   ]
  },
  {
   "cell_type": "code",
   "execution_count": null,
   "id": "cb42cba3",
   "metadata": {},
   "outputs": [],
   "source": [
    "#Task 8: Logical Operations\n",
    "#Execute the following commands and explain the output for each:\n",
    "#True and True\n",
    "#True and False\n",
    "#False or True\n",
    "#False or False"
   ]
  },
  {
   "cell_type": "code",
   "execution_count": 60,
   "id": "71298656",
   "metadata": {},
   "outputs": [
    {
     "data": {
      "text/plain": [
       "True"
      ]
     },
     "execution_count": 60,
     "metadata": {},
     "output_type": "execute_result"
    }
   ],
   "source": [
    "True and True  #use of AND logical operator, result is True only if both operands are True."
   ]
  },
  {
   "cell_type": "code",
   "execution_count": 61,
   "id": "d7fddb6c",
   "metadata": {},
   "outputs": [
    {
     "data": {
      "text/plain": [
       "False"
      ]
     },
     "execution_count": 61,
     "metadata": {},
     "output_type": "execute_result"
    }
   ],
   "source": [
    "True and False    #result is True only if both operands are True.so here we have True and False result is False "
   ]
  },
  {
   "cell_type": "code",
   "execution_count": 62,
   "id": "f0006b90",
   "metadata": {},
   "outputs": [
    {
     "data": {
      "text/plain": [
       "True"
      ]
     },
     "execution_count": 62,
     "metadata": {},
     "output_type": "execute_result"
    }
   ],
   "source": [
    "False or True   #use of or logical operator. the result is True if at least one of the operands is True."
   ]
  },
  {
   "cell_type": "code",
   "execution_count": 65,
   "id": "8e774aae",
   "metadata": {},
   "outputs": [
    {
     "data": {
      "text/plain": [
       "False"
      ]
     },
     "execution_count": 65,
     "metadata": {},
     "output_type": "execute_result"
    }
   ],
   "source": [
    "False or False  #the result is True if at least one of the operands is True.so here we have False or False result will be False"
   ]
  },
  {
   "cell_type": "code",
   "execution_count": null,
   "id": "cccb9584",
   "metadata": {},
   "outputs": [],
   "source": [
    "#Task 9: Identity and Membership Operations \n",
    "#a) Compare firstname and fullname using the \"in\" operator. Print and explain the output.\n",
    "#b) Compare firstname and fullname using the \"is\" operator. Print and explain the output."
   ]
  },
  {
   "cell_type": "code",
   "execution_count": 69,
   "id": "c6698338",
   "metadata": {},
   "outputs": [
    {
     "data": {
      "text/plain": [
       "True"
      ]
     },
     "execution_count": 69,
     "metadata": {},
     "output_type": "execute_result"
    }
   ],
   "source": [
    "first_name in fullname   #memership operator will check whether first_name is present in fullname or not if it is present it will return True else False"
   ]
  },
  {
   "cell_type": "code",
   "execution_count": 70,
   "id": "57b725e1",
   "metadata": {},
   "outputs": [
    {
     "data": {
      "text/plain": [
       "False"
      ]
     },
     "execution_count": 70,
     "metadata": {},
     "output_type": "execute_result"
    }
   ],
   "source": [
    "first_name is fullname  #identity operator checks for object identity."
   ]
  },
  {
   "cell_type": "code",
   "execution_count": 17,
   "id": "5ddc2845",
   "metadata": {},
   "outputs": [],
   "source": [
    "#Task 10: Associativity\n",
    "#Given that a=4, b=3, c=2, d= a**b+c, and e = a**(b+c)\n",
    "#a) Print the value of d.\n",
    "#b) Print the value of e.\n",
    "#c) Explain why the values of d and e are same or different."
   ]
  },
  {
   "cell_type": "code",
   "execution_count": 18,
   "id": "44438f8c",
   "metadata": {},
   "outputs": [],
   "source": [
    "a=4 \n",
    "b=3 \n",
    "c=2 \n",
    "d= a**b+c \n",
    "e = a**(b+c)"
   ]
  },
  {
   "cell_type": "code",
   "execution_count": 16,
   "id": "355af309",
   "metadata": {},
   "outputs": [
    {
     "name": "stdout",
     "output_type": "stream",
     "text": [
      "66\n"
     ]
    }
   ],
   "source": [
    "print(d)"
   ]
  },
  {
   "cell_type": "code",
   "execution_count": 19,
   "id": "163fb44f",
   "metadata": {},
   "outputs": [
    {
     "name": "stdout",
     "output_type": "stream",
     "text": [
      "1024\n"
     ]
    }
   ],
   "source": [
    "print(e)"
   ]
  },
  {
   "cell_type": "code",
   "execution_count": null,
   "id": "21dc1612",
   "metadata": {},
   "outputs": [],
   "source": [
    "#both ouputs are different as in python we solve expressions using PEMDAS , so in output of d it gives priority to exponent\n",
    "#in output of e it gives priority to parenthesis that is why we get different output"
   ]
  }
 ],
 "metadata": {
  "kernelspec": {
   "display_name": "Python 3 (ipykernel)",
   "language": "python",
   "name": "python3"
  },
  "language_info": {
   "codemirror_mode": {
    "name": "ipython",
    "version": 3
   },
   "file_extension": ".py",
   "mimetype": "text/x-python",
   "name": "python",
   "nbconvert_exporter": "python",
   "pygments_lexer": "ipython3",
   "version": "3.11.5"
  }
 },
 "nbformat": 4,
 "nbformat_minor": 5
}
