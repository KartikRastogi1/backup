{
 "cells": [
  {
   "cell_type": "markdown",
   "id": "e6a85782",
   "metadata": {},
   "source": [
    "42). Write a Python program that uses a for loop to iterate over a list of numbers and find the largest \n",
    "number in the list."
   ]
  },
  {
   "cell_type": "code",
   "execution_count": 1,
   "id": "9a1fb6e9",
   "metadata": {},
   "outputs": [
    {
     "name": "stdout",
     "output_type": "stream",
     "text": [
      "Largest number is 100\n"
     ]
    }
   ],
   "source": [
    "n = [12,23,45,65,78,98,100]       #list\n",
    "largest = n[0]                    #to compare the largest number, first assign largest number is 12\n",
    "for i in n:\n",
    "    if i > largest:\n",
    "        largest=i\n",
    "print(\"Largest number is\",largest)"
   ]
  },
  {
   "cell_type": "code",
   "execution_count": null,
   "id": "3e0d22f6",
   "metadata": {},
   "outputs": [],
   "source": []
  }
 ],
 "metadata": {
  "kernelspec": {
   "display_name": "Python 3 (ipykernel)",
   "language": "python",
   "name": "python3"
  },
  "language_info": {
   "codemirror_mode": {
    "name": "ipython",
    "version": 3
   },
   "file_extension": ".py",
   "mimetype": "text/x-python",
   "name": "python",
   "nbconvert_exporter": "python",
   "pygments_lexer": "ipython3",
   "version": "3.11.5"
  }
 },
 "nbformat": 4,
 "nbformat_minor": 5
}
