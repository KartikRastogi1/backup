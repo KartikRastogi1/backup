{
 "cells": [
  {
   "cell_type": "code",
   "execution_count": null,
   "id": "9a1e112f",
   "metadata": {},
   "outputs": [],
   "source": [
    "#Task 1: Decision-making Based on User Input\n",
    "#Write interactive decision-driven programs in Python using Jupyter Notebook, based on the following tasks.\n",
    "#Accept a character from the user. If the user enters:\n",
    "#• 'A', then display \"Python\"\n",
    "#• 'B', then display \"MySQL\"\n",
    "#• 'C', then display \"Excel\"\n",
    "#If the user enters any other character, then display\n",
    "#\"Holiday\"."
   ]
  },
  {
   "cell_type": "code",
   "execution_count": 10,
   "id": "0ade4bc6",
   "metadata": {},
   "outputs": [
    {
     "name": "stdout",
     "output_type": "stream",
     "text": [
      "Enter a character: A\n",
      "Python\n"
     ]
    }
   ],
   "source": [
    "c = input(\"Enter a character: \")\n",
    "if c== 'A':\n",
    "    print(\"Python\")\n",
    "elif c == 'B':\n",
    "    print(\"MySQL\")\n",
    "elif c == 'C':\n",
    "    print(\"Excel\")\n",
    "else:\n",
    "    print(\"Holiday\")"
   ]
  },
  {
   "cell_type": "code",
   "execution_count": null,
   "id": "d61cac2c",
   "metadata": {},
   "outputs": [],
   "source": [
    "#Task 2: Comparing Two Numbers\n",
    "#Accept two numbers from the user and display the higher of the two numbers."
   ]
  },
  {
   "cell_type": "code",
   "execution_count": 12,
   "id": "5abc35d0",
   "metadata": {},
   "outputs": [
    {
     "name": "stdout",
     "output_type": "stream",
     "text": [
      "enter first number34\n",
      "enter second number23\n",
      "first number higher 34\n"
     ]
    }
   ],
   "source": [
    "a=int(input(\"enter first number\"))\n",
    "b=int(input(\"enter second number\"))\n",
    "if a>b:\n",
    "    print(\"first number higher\",a)\n",
    "else:\n",
    "    print(\"second number is higher\",b)"
   ]
  },
  {
   "cell_type": "code",
   "execution_count": null,
   "id": "b25fb992",
   "metadata": {},
   "outputs": [],
   "source": [
    "#Task 3: Calculating Gross Salary\n",
    "#• If the monthly basic salary is less than $4,000, the user will get 10% HRA and 5% TA on basic salary.\n",
    "#• If the monthly basic salary is between $4,001 and $10,000, the user will get 10% HRA and 10% TA on basic salary.\n",
    "#• If the monthly basic salary is above $10,000, the user will get 15% HRA and 15% TA on basic salary.\n",
    "#Create a program that accepts basic salary as input and displays the annual gross salary.\n",
    "#Hint: Gross salary = [(Basic salary) + (HRA on basic salary) + (TA on basic salary)]*12"
   ]
  },
  {
   "cell_type": "code",
   "execution_count": 7,
   "id": "e087636a",
   "metadata": {},
   "outputs": [
    {
     "name": "stdout",
     "output_type": "stream",
     "text": [
      "enter the basic salary $30000\n",
      "468000.0\n"
     ]
    }
   ],
   "source": [
    "basic_salary=float(input(\"enter the basic salary $\"))\n",
    "if basic_salary<4000:\n",
    "    print((basic_salary+(10/100)*basic_salary+(5/100)*basic_salary)*12)\n",
    "elif basic_salary>=4001 and basic_salary<=10000:\n",
    "    print((basic_salary+(10/100)*basic_salary+(10/100)*basic_salary)*12)\n",
    "elif basic_salary>10000:\n",
    "    print((basic_salary+(15/100)*basic_salary+(15/100)*basic_salary)*12)\n",
    "    "
   ]
  },
  {
   "cell_type": "code",
   "execution_count": null,
   "id": "c5ba7304",
   "metadata": {},
   "outputs": [],
   "source": [
    "#Task 4: Searching a Word in a Paragraph\n",
    "#var = \"Python is an interpreted, high-level, general-purpose programming language.\n",
    "#Its design philosophy emphasizes code readability, with its use of significant indentation. \n",
    "#Its language constructs as well as its object-oriented approach aim to help programmers write clear, logical code for small \n",
    "#and large-scale projects.\"\n",
    "#Accept a word from the user and check if the word exists in the variable var. Print YES if the word exists, else print NO."
   ]
  },
  {
   "cell_type": "code",
   "execution_count": 28,
   "id": "aab5d42c",
   "metadata": {},
   "outputs": [
    {
     "name": "stdout",
     "output_type": "stream",
     "text": [
      "enter a wordPython\n",
      "yes it is present\n"
     ]
    }
   ],
   "source": [
    "var = \"Python is an interpreted, high-level, general-purpose programming language.Its design philosophy emphasizes code readability, with its use of significant indentation.Its language constructs as well as its object-oriented approach aim to help programmers write clear, logical code for small and large-scale projects.\"\n",
    "word = input(\"enter a word\")\n",
    "if word in var:\n",
    "    print(\"yes it is present\")\n",
    "else:\n",
    "    print(\"not present\")"
   ]
  },
  {
   "cell_type": "code",
   "execution_count": null,
   "id": "b193e5e9",
   "metadata": {},
   "outputs": [],
   "source": [
    "#Task 5: Checking if a Character is Uppercase or Lowercase\n",
    "#Accept an alphabet from the user. Display if the alphabet entered is uppercase or lowercase.\n",
    "#For example:\n",
    "#If the input is A, then the output will be: UPPERCASE\n",
    "#If the input is a, then the output will be: lowercase"
   ]
  },
  {
   "cell_type": "code",
   "execution_count": 13,
   "id": "8f564cb2",
   "metadata": {},
   "outputs": [
    {
     "name": "stdout",
     "output_type": "stream",
     "text": [
      "enter a alphabet:e\n",
      "lowercase\n"
     ]
    }
   ],
   "source": [
    "ch= input(\"enter a alphabet:\")\n",
    "x=\"ABCDEFGHIJKLMNOPQRSTUVWXYZ\"\n",
    "y=\"abcdefghijklmnopqrstuvwxyz\"\n",
    "if ch in x:                                 \n",
    "    print(\"uppercase\")\n",
    "else:\n",
    "    print(\"lowercase\")"
   ]
  },
  {
   "cell_type": "code",
   "execution_count": null,
   "id": "e2059abd",
   "metadata": {},
   "outputs": [],
   "source": [
    "#Task 6: Checking if an Alphabet is a Vowel or a Consonant\n",
    "#Accept an alphabet from the user. Display whether the alphabet entered is a vowel or a consonant.\n",
    "#For example:\n",
    "#If the input is a, then the output will be: vowel\n",
    "#If the input is b, then the output will be: consonant"
   ]
  },
  {
   "cell_type": "code",
   "execution_count": 12,
   "id": "187bf9c9",
   "metadata": {},
   "outputs": [
    {
     "name": "stdout",
     "output_type": "stream",
     "text": [
      "enter a alphabet:w\n",
      "consonent\n"
     ]
    }
   ],
   "source": [
    "ch = input(\"enter a alphabet:\")\n",
    "vowels= \"AEIOUaeiou\"\n",
    "if ch in vowels:     #in to check the presence of the vowels\n",
    "    print('Vowel')\n",
    "else:\n",
    "    print('consonent')"
   ]
  },
  {
   "cell_type": "code",
   "execution_count": null,
   "id": "6bbea717",
   "metadata": {},
   "outputs": [],
   "source": []
  },
  {
   "cell_type": "code",
   "execution_count": null,
   "id": "88ad93e9",
   "metadata": {},
   "outputs": [],
   "source": []
  }
 ],
 "metadata": {
  "kernelspec": {
   "display_name": "Python 3 (ipykernel)",
   "language": "python",
   "name": "python3"
  },
  "language_info": {
   "codemirror_mode": {
    "name": "ipython",
    "version": 3
   },
   "file_extension": ".py",
   "mimetype": "text/x-python",
   "name": "python",
   "nbconvert_exporter": "python",
   "pygments_lexer": "ipython3",
   "version": "3.11.5"
  }
 },
 "nbformat": 4,
 "nbformat_minor": 5
}
