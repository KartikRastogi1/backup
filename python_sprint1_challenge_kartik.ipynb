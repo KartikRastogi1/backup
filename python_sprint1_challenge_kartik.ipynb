{
 "cells": [
  {
   "cell_type": "code",
   "execution_count": null,
   "id": "2e363be0",
   "metadata": {},
   "outputs": [],
   "source": [
    "# task 1"
   ]
  },
  {
   "cell_type": "code",
   "execution_count": null,
   "id": "c6a02eb0",
   "metadata": {},
   "outputs": [],
   "source": [
    "nyc_time = 22\n",
    "france_time = 22+6-24\n",
    "print(\"Time in France\",france_time,\"am\")"
   ]
  },
  {
   "cell_type": "code",
   "execution_count": null,
   "id": "790f512e",
   "metadata": {},
   "outputs": [],
   "source": [
    "#Task 2"
   ]
  },
  {
   "cell_type": "code",
   "execution_count": 5,
   "id": "6794a537",
   "metadata": {},
   "outputs": [
    {
     "name": "stdout",
     "output_type": "stream",
     "text": [
      "Matt will need to spend about 559.625 dollars to get 500 Euros including the 1.75% service charge. \n"
     ]
    }
   ],
   "source": [
    "euro_to_dollar = 1.1*500           \n",
    "service_charge= (euro_to_dollar*(1.75/100))\n",
    "Total_cost =  service_charge + euro_to_dollar\n",
    "print(\"Matt will need to spend about\", Total_cost ,\"dollars to get 500 Euros including the 1.75% service charge. \")"
   ]
  },
  {
   "cell_type": "code",
   "execution_count": null,
   "id": "947be18b",
   "metadata": {},
   "outputs": [],
   "source": [
    "#Task3"
   ]
  },
  {
   "cell_type": "code",
   "execution_count": 6,
   "id": "81e0e066",
   "metadata": {},
   "outputs": [
    {
     "name": "stdout",
     "output_type": "stream",
     "text": [
      "Matt will need approximately 7200.0 for his 45-day trip to France.\n"
     ]
    }
   ],
   "source": [
    "new_exp = 4000+(4000*(20/100))\n",
    "france_exp = (new_exp/30)*45\n",
    "print(\"Matt will need approximately\" ,france_exp, \"for his 45-day trip to France.\")"
   ]
  },
  {
   "cell_type": "code",
   "execution_count": 12,
   "id": "09d68266",
   "metadata": {},
   "outputs": [],
   "source": [
    "#task4"
   ]
  },
  {
   "cell_type": "code",
   "execution_count": 11,
   "id": "53a5f4b1",
   "metadata": {},
   "outputs": [
    {
     "name": "stdout",
     "output_type": "stream",
     "text": [
      "Matt will earn 1000.0 as profit\n"
     ]
    }
   ],
   "source": [
    "principal = 20000\n",
    "rate = 5\n",
    "profit = principal*(rate/100)\n",
    "print(\"Matt will earn\",profit,\"as profit\")"
   ]
  },
  {
   "cell_type": "code",
   "execution_count": null,
   "id": "d87a1cc5",
   "metadata": {},
   "outputs": [],
   "source": [
    "#task5"
   ]
  },
  {
   "cell_type": "code",
   "execution_count": 17,
   "id": "7f6bf257",
   "metadata": {},
   "outputs": [
    {
     "name": "stdout",
     "output_type": "stream",
     "text": [
      "Matt should practice walking approximately 7.224\n"
     ]
    }
   ],
   "source": [
    "km =12\n",
    "mile_1 = 0.602\n",
    "walking_nyc = km *mile_1 \n",
    "print(\"Matt should practice walking approximately\",walking_nyc)"
   ]
  },
  {
   "cell_type": "code",
   "execution_count": null,
   "id": "8ce52546",
   "metadata": {},
   "outputs": [],
   "source": [
    "#task6"
   ]
  },
  {
   "cell_type": "code",
   "execution_count": 18,
   "id": "f1184a70",
   "metadata": {},
   "outputs": [
    {
     "name": "stdout",
     "output_type": "stream",
     "text": [
      "1669.5466666666666\n"
     ]
    }
   ],
   "source": [
    "kilometer = 3328\n",
    "mile_1 = 0.602\n",
    "miles = kilometer*mile_1\n",
    "no_laps = miles/1.2\n",
    "print(no_laps)"
   ]
  },
  {
   "cell_type": "code",
   "execution_count": null,
   "id": "b2e62ba1",
   "metadata": {},
   "outputs": [],
   "source": [
    "#task7"
   ]
  },
  {
   "cell_type": "code",
   "execution_count": 1,
   "id": "e8e4444b",
   "metadata": {},
   "outputs": [
    {
     "name": "stdout",
     "output_type": "stream",
     "text": [
      "The athlete need approximately 12.367012345679012 days\n"
     ]
    }
   ],
   "source": [
    "one_lap_time = 2\n",
    "hour = 60\n",
    "\n",
    "break_time = 10\n",
    "\n",
    "five_laps = 5*one_lap_time\n",
    "\n",
    "total_time = five_laps + break_time\n",
    "\n",
    "no_of_cycles_hour = hour/total_time\n",
    "\n",
    "lunch_break = 60\n",
    "\n",
    "ride_only = 10\n",
    "\n",
    "total_ride_time_and_break = ride_only*no_of_cycles_hour\n",
    "\n",
    "total_ride_time_and_break_min = total_ride_time_and_break*total_time\n",
    "\n",
    "total_time_lunchbreak = total_ride_time_and_break_min + lunch_break\n",
    "\n",
    "one_lap_distance = 1.2\n",
    "\n",
    "total_distance_per_day = 660*0.6\n",
    "\n",
    "total_distance_miles = 3328*0.602 # 1km=0.602 miles, 3328*0.602=2003.456\n",
    "\n",
    "total_no_laps = total_distance_miles/one_lap_distance\n",
    "\n",
    "total_no_days = total_no_laps/135\n",
    "\n",
    "print(\"The athlete need approximately\",total_no_days,\"days\")\n"
   ]
  },
  {
   "cell_type": "code",
   "execution_count": null,
   "id": "5d1473de",
   "metadata": {},
   "outputs": [],
   "source": [
    "#task8"
   ]
  },
  {
   "cell_type": "code",
   "execution_count": 2,
   "id": "ec8d4b3f",
   "metadata": {},
   "outputs": [
    {
     "name": "stdout",
     "output_type": "stream",
     "text": [
      "The number of bottles is:  5.6\n"
     ]
    }
   ],
   "source": [
    "daily = 10\n",
    "days = 7\n",
    "no_of_weeks =2\n",
    "total = daily*days*no_of_weeks\n",
    "\n",
    "one_oz = 30\n",
    "\n",
    "total_ml = total*one_oz\n",
    "\n",
    "no_of_bottles = total_ml/750\n",
    "\n",
    "print(\"The number of bottles is: \",no_of_bottles)"
   ]
  },
  {
   "cell_type": "code",
   "execution_count": null,
   "id": "0af26d63",
   "metadata": {},
   "outputs": [],
   "source": []
  }
 ],
 "metadata": {
  "kernelspec": {
   "display_name": "Python 3 (ipykernel)",
   "language": "python",
   "name": "python3"
  },
  "language_info": {
   "codemirror_mode": {
    "name": "ipython",
    "version": 3
   },
   "file_extension": ".py",
   "mimetype": "text/x-python",
   "name": "python",
   "nbconvert_exporter": "python",
   "pygments_lexer": "ipython3",
   "version": "3.11.5"
  }
 },
 "nbformat": 4,
 "nbformat_minor": 5
}
