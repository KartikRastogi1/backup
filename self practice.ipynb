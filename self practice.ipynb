{
 "cells": [
  {
   "cell_type": "code",
   "execution_count": 4,
   "id": "5e72220a",
   "metadata": {},
   "outputs": [],
   "source": [
    "import pandas as pd\n",
    "import numpy as np\n",
    "import matplotlib.pyplot as plt"
   ]
  },
  {
   "cell_type": "code",
   "execution_count": 2,
   "id": "753b5bb5",
   "metadata": {},
   "outputs": [],
   "source": [
    "import pandas as pd\n",
    "S1 = pd.Series([1, 2, 3, 4], index = ['a', 'b','c','d'])\n",
    "S2 = pd.Series([11, 22, 33, 44], index = ['a', 'bb' ,'c', 'dd'])\n",
    "D1 = pd.DataFrame ([S1,S2])"
   ]
  },
  {
   "cell_type": "code",
   "execution_count": 3,
   "id": "152cc478",
   "metadata": {},
   "outputs": [
    {
     "data": {
      "text/html": [
       "<div>\n",
       "<style scoped>\n",
       "    .dataframe tbody tr th:only-of-type {\n",
       "        vertical-align: middle;\n",
       "    }\n",
       "\n",
       "    .dataframe tbody tr th {\n",
       "        vertical-align: top;\n",
       "    }\n",
       "\n",
       "    .dataframe thead th {\n",
       "        text-align: right;\n",
       "    }\n",
       "</style>\n",
       "<table border=\"1\" class=\"dataframe\">\n",
       "  <thead>\n",
       "    <tr style=\"text-align: right;\">\n",
       "      <th></th>\n",
       "      <th>a</th>\n",
       "      <th>b</th>\n",
       "      <th>c</th>\n",
       "      <th>d</th>\n",
       "      <th>bb</th>\n",
       "      <th>dd</th>\n",
       "    </tr>\n",
       "  </thead>\n",
       "  <tbody>\n",
       "    <tr>\n",
       "      <th>0</th>\n",
       "      <td>1.0</td>\n",
       "      <td>2.0</td>\n",
       "      <td>3.0</td>\n",
       "      <td>4.0</td>\n",
       "      <td>NaN</td>\n",
       "      <td>NaN</td>\n",
       "    </tr>\n",
       "    <tr>\n",
       "      <th>1</th>\n",
       "      <td>11.0</td>\n",
       "      <td>NaN</td>\n",
       "      <td>33.0</td>\n",
       "      <td>NaN</td>\n",
       "      <td>22.0</td>\n",
       "      <td>44.0</td>\n",
       "    </tr>\n",
       "  </tbody>\n",
       "</table>\n",
       "</div>"
      ],
      "text/plain": [
       "      a    b     c    d    bb    dd\n",
       "0   1.0  2.0   3.0  4.0   NaN   NaN\n",
       "1  11.0  NaN  33.0  NaN  22.0  44.0"
      ]
     },
     "execution_count": 3,
     "metadata": {},
     "output_type": "execute_result"
    }
   ],
   "source": [
    "D1"
   ]
  },
  {
   "cell_type": "code",
   "execution_count": null,
   "id": "327d87b5",
   "metadata": {},
   "outputs": [],
   "source": []
  },
  {
   "cell_type": "code",
   "execution_count": 2,
   "id": "de3762e4",
   "metadata": {},
   "outputs": [],
   "source": [
    "from numpy import genfromtxt"
   ]
  },
  {
   "cell_type": "code",
   "execution_count": 3,
   "id": "7aeb1adf",
   "metadata": {},
   "outputs": [
    {
     "data": {
      "text/plain": [
       "array([[  1.  , 337.  , 118.  , ...,   9.65,   1.  ,   0.92],\n",
       "       [  2.  , 324.  , 107.  , ...,   8.87,   1.  ,   0.76],\n",
       "       [  3.  , 316.  , 104.  , ...,   8.  ,   1.  ,   0.72],\n",
       "       ...,\n",
       "       [398.  , 330.  , 116.  , ...,   9.45,   1.  ,   0.91],\n",
       "       [399.  , 312.  , 103.  , ...,   8.78,   0.  ,   0.67],\n",
       "       [400.  , 333.  , 117.  , ...,   9.66,   1.  ,   0.95]])"
      ]
     },
     "execution_count": 3,
     "metadata": {},
     "output_type": "execute_result"
    }
   ],
   "source": [
    "data = genfromtxt('DS1_C4_S1_AdmissionPredict_Data_Practice.csv',delimiter=',',skip_header = 1)\n",
    "data"
   ]
  },
  {
   "cell_type": "code",
   "execution_count": 4,
   "id": "1e3acd7a",
   "metadata": {},
   "outputs": [
    {
     "data": {
      "text/plain": [
       "400"
      ]
     },
     "execution_count": 4,
     "metadata": {},
     "output_type": "execute_result"
    }
   ],
   "source": [
    "index= data[:,1]>320\n",
    "len(index)"
   ]
  },
  {
   "cell_type": "code",
   "execution_count": 5,
   "id": "df85eece",
   "metadata": {},
   "outputs": [],
   "source": [
    "student= [\"kartik\",\"harsh\",\"anika\"]\n",
    "index_out = [1,2,3]"
   ]
  },
  {
   "cell_type": "code",
   "execution_count": 6,
   "id": "803bdb95",
   "metadata": {},
   "outputs": [
    {
     "data": {
      "text/plain": [
       "1    kartik\n",
       "2     harsh\n",
       "3     anika\n",
       "dtype: object"
      ]
     },
     "execution_count": 6,
     "metadata": {},
     "output_type": "execute_result"
    }
   ],
   "source": [
    "series = pd.Series(student,index=index_out)\n",
    "series"
   ]
  },
  {
   "cell_type": "code",
   "execution_count": 5,
   "id": "b2d4a946",
   "metadata": {},
   "outputs": [],
   "source": [
    "y = {\"Name\":[\"ajey\",\"priya\",\"rahul\"], \"rollno\":[1,2,3], \"salary\":[12000,13000,6000]}\n"
   ]
  },
  {
   "cell_type": "code",
   "execution_count": 8,
   "id": "9e28914d",
   "metadata": {},
   "outputs": [],
   "source": [
    "Name = [\"suraj\",\"sourabh\",\"shivani\", \"sanjana\"]\n",
    "Salary = [3000,45000, 340000,1000]"
   ]
  },
  {
   "cell_type": "code",
   "execution_count": 9,
   "id": "6e661fa3",
   "metadata": {},
   "outputs": [
    {
     "data": {
      "text/html": [
       "<div>\n",
       "<style scoped>\n",
       "    .dataframe tbody tr th:only-of-type {\n",
       "        vertical-align: middle;\n",
       "    }\n",
       "\n",
       "    .dataframe tbody tr th {\n",
       "        vertical-align: top;\n",
       "    }\n",
       "\n",
       "    .dataframe thead th {\n",
       "        text-align: right;\n",
       "    }\n",
       "</style>\n",
       "<table border=\"1\" class=\"dataframe\">\n",
       "  <thead>\n",
       "    <tr style=\"text-align: right;\">\n",
       "      <th></th>\n",
       "      <th>Name</th>\n",
       "      <th>Salary</th>\n",
       "    </tr>\n",
       "  </thead>\n",
       "  <tbody>\n",
       "    <tr>\n",
       "      <th>0</th>\n",
       "      <td>suraj</td>\n",
       "      <td>3000</td>\n",
       "    </tr>\n",
       "    <tr>\n",
       "      <th>1</th>\n",
       "      <td>sourabh</td>\n",
       "      <td>45000</td>\n",
       "    </tr>\n",
       "    <tr>\n",
       "      <th>2</th>\n",
       "      <td>shivani</td>\n",
       "      <td>340000</td>\n",
       "    </tr>\n",
       "    <tr>\n",
       "      <th>3</th>\n",
       "      <td>sanjana</td>\n",
       "      <td>1000</td>\n",
       "    </tr>\n",
       "  </tbody>\n",
       "</table>\n",
       "</div>"
      ],
      "text/plain": [
       "      Name  Salary\n",
       "0    suraj    3000\n",
       "1  sourabh   45000\n",
       "2  shivani  340000\n",
       "3  sanjana    1000"
      ]
     },
     "execution_count": 9,
     "metadata": {},
     "output_type": "execute_result"
    }
   ],
   "source": [
    "pd.DataFrame({\"Name\":Name, \"Salary\":Salary})"
   ]
  },
  {
   "cell_type": "code",
   "execution_count": 6,
   "id": "8b3def9a",
   "metadata": {},
   "outputs": [
    {
     "data": {
      "text/html": [
       "<div>\n",
       "<style scoped>\n",
       "    .dataframe tbody tr th:only-of-type {\n",
       "        vertical-align: middle;\n",
       "    }\n",
       "\n",
       "    .dataframe tbody tr th {\n",
       "        vertical-align: top;\n",
       "    }\n",
       "\n",
       "    .dataframe thead th {\n",
       "        text-align: right;\n",
       "    }\n",
       "</style>\n",
       "<table border=\"1\" class=\"dataframe\">\n",
       "  <thead>\n",
       "    <tr style=\"text-align: right;\">\n",
       "      <th></th>\n",
       "      <th>Name</th>\n",
       "      <th>rollno</th>\n",
       "      <th>salary</th>\n",
       "    </tr>\n",
       "  </thead>\n",
       "  <tbody>\n",
       "    <tr>\n",
       "      <th>0</th>\n",
       "      <td>ajey</td>\n",
       "      <td>1</td>\n",
       "      <td>12000</td>\n",
       "    </tr>\n",
       "    <tr>\n",
       "      <th>1</th>\n",
       "      <td>priya</td>\n",
       "      <td>2</td>\n",
       "      <td>13000</td>\n",
       "    </tr>\n",
       "    <tr>\n",
       "      <th>2</th>\n",
       "      <td>rahul</td>\n",
       "      <td>3</td>\n",
       "      <td>6000</td>\n",
       "    </tr>\n",
       "  </tbody>\n",
       "</table>\n",
       "</div>"
      ],
      "text/plain": [
       "    Name  rollno  salary\n",
       "0   ajey       1   12000\n",
       "1  priya       2   13000\n",
       "2  rahul       3    6000"
      ]
     },
     "execution_count": 6,
     "metadata": {},
     "output_type": "execute_result"
    }
   ],
   "source": [
    "pd.DataFrame(y)"
   ]
  },
  {
   "cell_type": "code",
   "execution_count": 10,
   "id": "abc303ae",
   "metadata": {},
   "outputs": [
    {
     "data": {
      "text/html": [
       "<div>\n",
       "<style scoped>\n",
       "    .dataframe tbody tr th:only-of-type {\n",
       "        vertical-align: middle;\n",
       "    }\n",
       "\n",
       "    .dataframe tbody tr th {\n",
       "        vertical-align: top;\n",
       "    }\n",
       "\n",
       "    .dataframe thead th {\n",
       "        text-align: right;\n",
       "    }\n",
       "</style>\n",
       "<table border=\"1\" class=\"dataframe\">\n",
       "  <thead>\n",
       "    <tr style=\"text-align: right;\">\n",
       "      <th></th>\n",
       "      <th>Name</th>\n",
       "      <th>rollno</th>\n",
       "      <th>salary</th>\n",
       "    </tr>\n",
       "  </thead>\n",
       "  <tbody>\n",
       "    <tr>\n",
       "      <th>0</th>\n",
       "      <td>ajey</td>\n",
       "      <td>1</td>\n",
       "      <td>12000</td>\n",
       "    </tr>\n",
       "    <tr>\n",
       "      <th>1</th>\n",
       "      <td>priya</td>\n",
       "      <td>2</td>\n",
       "      <td>13000</td>\n",
       "    </tr>\n",
       "    <tr>\n",
       "      <th>2</th>\n",
       "      <td>rahul</td>\n",
       "      <td>3</td>\n",
       "      <td>6000</td>\n",
       "    </tr>\n",
       "  </tbody>\n",
       "</table>\n",
       "</div>"
      ],
      "text/plain": [
       "    Name  rollno  salary\n",
       "0   ajey       1   12000\n",
       "1  priya       2   13000\n",
       "2  rahul       3    6000"
      ]
     },
     "execution_count": 10,
     "metadata": {},
     "output_type": "execute_result"
    }
   ],
   "source": [
    "x= pd.DataFrame(y)\n",
    "x"
   ]
  },
  {
   "cell_type": "code",
   "execution_count": 11,
   "id": "f1a2c4a0",
   "metadata": {},
   "outputs": [
    {
     "data": {
      "text/plain": [
       "(array([  0,   1,   3,   5,   6,   9,  10,  11,  12,  21,  22,  23,  24,\n",
       "         25,  26,  31,  32,  33,  34,  43,  44,  45,  46,  47,  48,  49,\n",
       "         52,  53,  54,  64,  65,  66,  69,  70,  71,  72,  75,  76,  81,\n",
       "         83,  84,  97,  98,  99, 100, 104, 106, 107, 108, 111, 119, 120,\n",
       "        121, 126, 128, 129, 130, 133, 134, 138, 140, 141, 142, 143, 144,\n",
       "        147, 148, 150, 151, 152, 153, 154, 164, 165, 171, 172, 173, 174,\n",
       "        176, 185, 187, 188, 189, 190, 191, 192, 193, 202, 203, 210, 211,\n",
       "        212, 213, 214, 215, 216, 217, 218, 222, 229, 234, 235, 236, 237,\n",
       "        242, 243, 245, 248, 249, 253, 254, 257, 258, 259, 260, 263, 264,\n",
       "        268, 275, 276, 283, 284, 285, 286, 287, 298, 302, 303, 305, 306,\n",
       "        307, 311, 318, 319, 321, 325, 328, 330, 335, 337, 338, 339, 341,\n",
       "        351, 356, 359, 360, 361, 362, 365, 371, 372, 373, 380, 382, 384,\n",
       "        385, 392, 394, 395, 396, 397, 399], dtype=int64),)"
      ]
     },
     "execution_count": 11,
     "metadata": {},
     "output_type": "execute_result"
    }
   ],
   "source": [
    "np.where(index)"
   ]
  },
  {
   "cell_type": "code",
   "execution_count": 12,
   "id": "dbfb85f7",
   "metadata": {},
   "outputs": [
    {
     "data": {
      "text/plain": [
       "array([337., 324., 322., 330., 321., 323., 325., 327., 328., 325., 328.,\n",
       "       334., 336., 340., 322., 327., 338., 340., 331., 332., 326., 322.,\n",
       "       329., 339., 321., 327., 334., 324., 322., 325., 325., 327., 328.,\n",
       "       332., 336., 321., 329., 327., 340., 322., 340., 331., 332., 323.,\n",
       "       322., 326., 329., 338., 331., 321., 327., 335., 334., 323., 326.,\n",
       "       333., 339., 323., 333., 326., 329., 332., 331., 340., 325., 326.,\n",
       "       339., 334., 332., 321., 324., 326., 329., 322., 334., 322., 323.,\n",
       "       321., 329., 327., 335., 331., 324., 324., 323., 322., 336., 340.,\n",
       "       334., 325., 328., 338., 333., 331., 330., 322., 321., 324., 324.,\n",
       "       324., 330., 326., 325., 329., 324., 325., 328., 324., 321., 335.,\n",
       "       321., 324., 326., 331., 327., 324., 325., 327., 322., 329., 321.,\n",
       "       340., 331., 336., 324., 330., 322., 323., 321., 323., 325., 328.,\n",
       "       324., 327., 323., 326., 324., 327., 325., 332., 323., 324., 326.,\n",
       "       325., 327., 321., 322., 334., 338., 330., 324., 336., 321., 322.,\n",
       "       324., 340., 335., 326., 329., 324., 325., 330., 333.])"
      ]
     },
     "execution_count": 12,
     "metadata": {},
     "output_type": "execute_result"
    }
   ],
   "source": [
    "a=data[:,1][index]\n",
    "a"
   ]
  },
  {
   "cell_type": "code",
   "execution_count": 13,
   "id": "ef0daca9",
   "metadata": {},
   "outputs": [
    {
     "data": {
      "text/plain": [
       "163"
      ]
     },
     "execution_count": 13,
     "metadata": {},
     "output_type": "execute_result"
    }
   ],
   "source": [
    "len(a)"
   ]
  },
  {
   "cell_type": "markdown",
   "id": "7e8f05bb",
   "metadata": {},
   "source": [
    "What is the chance of admission of the students who have a TOEFL score greater than 110? Display the admission chance as a percentage number by multiplying each value in the output by 100."
   ]
  },
  {
   "cell_type": "code",
   "execution_count": 14,
   "id": "b289bc1b",
   "metadata": {},
   "outputs": [],
   "source": [
    "index1 = data[:,2]>110\n",
    "x =np.where(index1)"
   ]
  },
  {
   "cell_type": "code",
   "execution_count": 15,
   "id": "78cb0981",
   "metadata": {},
   "outputs": [
    {
     "data": {
      "text/plain": [
       "array([92., 76., 80., 90., 75., 45., 52., 84., 78., 70., 94., 95., 97.,\n",
       "       94., 76., 74., 91., 90., 94., 87., 91., 88., 86., 89., 82., 78.,\n",
       "       78., 72., 70., 52., 55., 61., 78., 94., 96., 93., 72., 74., 96.,\n",
       "       92., 94., 86., 90., 79., 71., 74., 87., 91., 93., 69., 71., 94.,\n",
       "       94., 85., 84., 92., 96., 79., 89., 80., 84., 90., 92., 97., 80.,\n",
       "       83., 96., 93., 94., 86., 79., 80., 81., 78., 89., 86., 89., 87.,\n",
       "       90., 89., 93., 93., 88., 90., 87., 86., 94., 97., 97., 79., 82.,\n",
       "       95., 96., 94., 93., 91., 85., 84., 76., 82., 91., 88., 85., 86.,\n",
       "       70., 76., 81., 80., 77., 93., 85., 78., 77., 90., 87., 70., 75.,\n",
       "       83., 78., 89., 80., 94., 93., 92., 89., 90., 65., 73., 74., 79.,\n",
       "       80., 84., 79., 80., 73., 81., 80., 80., 83., 94., 81., 81., 79.,\n",
       "       73., 79., 81., 85., 93., 91., 86., 89., 95., 79., 78., 82., 96.,\n",
       "       96., 84., 89., 82., 84., 91., 95.])"
      ]
     },
     "execution_count": 15,
     "metadata": {},
     "output_type": "execute_result"
    }
   ],
   "source": [
    "ad = data[:,8][index]*100\n",
    "ad"
   ]
  },
  {
   "cell_type": "code",
   "execution_count": 16,
   "id": "f0a8a2f6",
   "metadata": {},
   "outputs": [
    {
     "data": {
      "text/plain": [
       "array([[  1.  , 337.  , 118.  , ...,   9.65,   1.  ,   0.92],\n",
       "       [  6.  , 330.  , 115.  , ...,   9.34,   1.  ,   0.9 ],\n",
       "       [ 12.  , 327.  , 111.  , ...,   9.  ,   1.  ,   0.84],\n",
       "       ...,\n",
       "       [395.  , 329.  , 111.  , ...,   9.23,   1.  ,   0.89],\n",
       "       [398.  , 330.  , 116.  , ...,   9.45,   1.  ,   0.91],\n",
       "       [400.  , 333.  , 117.  , ...,   9.66,   1.  ,   0.95]])"
      ]
     },
     "execution_count": 16,
     "metadata": {},
     "output_type": "execute_result"
    }
   ],
   "source": [
    "data[index1]"
   ]
  },
  {
   "cell_type": "code",
   "execution_count": 17,
   "id": "e3245c37",
   "metadata": {},
   "outputs": [
    {
     "data": {
      "text/plain": [
       "(400, 9)"
      ]
     },
     "execution_count": 17,
     "metadata": {},
     "output_type": "execute_result"
    }
   ],
   "source": [
    "data.shape"
   ]
  },
  {
   "cell_type": "code",
   "execution_count": 18,
   "id": "3cc3843d",
   "metadata": {},
   "outputs": [
    {
     "data": {
      "text/plain": [
       "array([ True, False, False, False, False, False, False, False, False,\n",
       "       False, False, False, False, False, False, False, False, False,\n",
       "       False, False, False, False,  True,  True,  True,  True, False,\n",
       "       False, False, False, False, False,  True, False, False, False,\n",
       "       False, False, False, False, False, False, False, False, False,\n",
       "       False, False, False, False, False, False, False,  True, False,\n",
       "       False, False, False, False, False, False, False, False, False,\n",
       "       False, False, False, False, False, False, False,  True, False,\n",
       "       False, False, False, False, False, False, False, False, False,\n",
       "        True, False, False, False, False, False, False, False, False,\n",
       "       False, False, False, False, False, False, False,  True,  True,\n",
       "       False, False, False, False, False, False, False, False,  True,\n",
       "        True, False, False, False, False, False, False, False, False,\n",
       "       False, False, False,  True,  True, False, False, False, False,\n",
       "       False, False, False,  True, False, False, False, False, False,\n",
       "       False, False, False,  True, False, False,  True, False,  True,\n",
       "       False, False, False, False,  True, False, False,  True, False,\n",
       "       False, False, False, False, False, False, False, False, False,\n",
       "       False, False, False, False, False, False, False, False, False,\n",
       "        True, False, False, False, False,  True, False, False, False,\n",
       "       False, False, False, False, False, False, False,  True, False,\n",
       "       False, False, False, False,  True, False, False, False, False,\n",
       "       False, False, False, False,  True,  True, False, False, False,\n",
       "       False, False, False, False, False,  True,  True,  True,  True,\n",
       "       False, False, False, False, False, False, False, False, False,\n",
       "       False, False, False, False, False, False, False, False, False,\n",
       "       False, False, False, False, False, False, False, False, False,\n",
       "       False, False, False, False, False, False, False, False, False,\n",
       "       False, False, False, False, False, False, False,  True, False,\n",
       "       False, False, False, False, False, False, False, False, False,\n",
       "       False, False, False, False, False, False, False, False, False,\n",
       "       False, False, False, False, False, False,  True,  True, False,\n",
       "       False, False, False, False, False, False, False, False, False,\n",
       "       False, False, False, False, False, False, False, False, False,\n",
       "       False, False, False, False, False, False, False, False, False,\n",
       "       False, False, False, False, False, False, False, False, False,\n",
       "       False,  True, False, False, False, False, False, False, False,\n",
       "       False, False, False, False,  True, False, False, False, False,\n",
       "       False, False, False, False, False, False, False, False, False,\n",
       "       False, False, False, False, False, False, False, False, False,\n",
       "       False,  True, False, False, False, False, False, False, False,\n",
       "       False, False, False,  True, False, False, False, False, False,\n",
       "       False, False, False, False, False, False, False,  True, False,\n",
       "       False, False, False, False, False, False, False, False, False,\n",
       "       False,  True, False,  True])"
      ]
     },
     "execution_count": 18,
     "metadata": {},
     "output_type": "execute_result"
    }
   ],
   "source": [
    "index = (data[:,1]>315) & (data[:,2]>115) &(data[:,7]==1)\n",
    "index"
   ]
  },
  {
   "cell_type": "code",
   "execution_count": 19,
   "id": "aec15a5a",
   "metadata": {},
   "outputs": [
    {
     "data": {
      "text/plain": [
       "array([[  1.  , 337.  , 118.  ,   4.  ,   4.5 ,   4.5 ,   9.65,   1.  ,\n",
       "          0.92],\n",
       "       [ 23.  , 328.  , 116.  ,   5.  ,   5.  ,   5.  ,   9.5 ,   1.  ,\n",
       "          0.94],\n",
       "       [ 24.  , 334.  , 119.  ,   5.  ,   5.  ,   4.5 ,   9.7 ,   1.  ,\n",
       "          0.95],\n",
       "       [ 25.  , 336.  , 119.  ,   5.  ,   4.  ,   3.5 ,   9.8 ,   1.  ,\n",
       "          0.97],\n",
       "       [ 26.  , 340.  , 120.  ,   5.  ,   4.5 ,   4.5 ,   9.6 ,   1.  ,\n",
       "          0.94],\n",
       "       [ 33.  , 338.  , 118.  ,   4.  ,   3.  ,   4.5 ,   9.4 ,   1.  ,\n",
       "          0.91],\n",
       "       [ 53.  , 334.  , 116.  ,   4.  ,   4.  ,   3.  ,   8.  ,   1.  ,\n",
       "          0.78],\n",
       "       [ 71.  , 332.  , 118.  ,   5.  ,   5.  ,   5.  ,   9.64,   1.  ,\n",
       "          0.94],\n",
       "       [ 82.  , 340.  , 120.  ,   4.  ,   5.  ,   5.  ,   9.5 ,   1.  ,\n",
       "          0.96],\n",
       "       [ 98.  , 331.  , 120.  ,   3.  ,   4.  ,   4.  ,   8.96,   1.  ,\n",
       "          0.86],\n",
       "       [ 99.  , 332.  , 119.  ,   4.  ,   5.  ,   4.5 ,   9.24,   1.  ,\n",
       "          0.9 ],\n",
       "       [108.  , 338.  , 117.  ,   4.  ,   3.5 ,   4.5 ,   9.46,   1.  ,\n",
       "          0.91],\n",
       "       [109.  , 331.  , 116.  ,   5.  ,   5.  ,   5.  ,   9.38,   1.  ,\n",
       "          0.93],\n",
       "       [121.  , 335.  , 117.  ,   5.  ,   5.  ,   5.  ,   9.56,   1.  ,\n",
       "          0.94],\n",
       "       [122.  , 334.  , 119.  ,   5.  ,   4.5 ,   4.5 ,   9.48,   1.  ,\n",
       "          0.94],\n",
       "       [130.  , 333.  , 118.  ,   5.  ,   5.  ,   5.  ,   9.35,   1.  ,\n",
       "          0.92],\n",
       "       [139.  , 326.  , 116.  ,   2.  ,   4.5 ,   3.  ,   9.08,   1.  ,\n",
       "          0.8 ],\n",
       "       [142.  , 332.  , 118.  ,   2.  ,   4.5 ,   3.5 ,   9.36,   1.  ,\n",
       "          0.9 ],\n",
       "       [144.  , 340.  , 120.  ,   4.  ,   4.5 ,   4.  ,   9.92,   1.  ,\n",
       "          0.97],\n",
       "       [149.  , 339.  , 116.  ,   4.  ,   4.  ,   3.5 ,   9.8 ,   1.  ,\n",
       "          0.96],\n",
       "       [152.  , 332.  , 116.  ,   5.  ,   5.  ,   5.  ,   9.28,   1.  ,\n",
       "          0.94],\n",
       "       [172.  , 334.  , 117.  ,   5.  ,   4.  ,   4.5 ,   9.07,   1.  ,\n",
       "          0.89],\n",
       "       [177.  , 329.  , 119.  ,   4.  ,   4.5 ,   4.5 ,   9.16,   1.  ,\n",
       "          0.9 ],\n",
       "       [188.  , 335.  , 118.  ,   5.  ,   4.5 ,   3.5 ,   9.44,   1.  ,\n",
       "          0.93],\n",
       "       [194.  , 336.  , 118.  ,   5.  ,   4.5 ,   5.  ,   9.53,   1.  ,\n",
       "          0.94],\n",
       "       [203.  , 340.  , 120.  ,   5.  ,   4.5 ,   4.5 ,   9.91,   1.  ,\n",
       "          0.97],\n",
       "       [204.  , 334.  , 120.  ,   5.  ,   4.  ,   5.  ,   9.87,   1.  ,\n",
       "          0.97],\n",
       "       [213.  , 338.  , 120.  ,   4.  ,   5.  ,   5.  ,   9.66,   1.  ,\n",
       "          0.95],\n",
       "       [214.  , 333.  , 119.  ,   5.  ,   5.  ,   4.5 ,   9.78,   1.  ,\n",
       "          0.96],\n",
       "       [215.  , 331.  , 117.  ,   4.  ,   4.5 ,   5.  ,   9.42,   1.  ,\n",
       "          0.94],\n",
       "       [216.  , 330.  , 116.  ,   5.  ,   5.  ,   4.5 ,   9.36,   1.  ,\n",
       "          0.93],\n",
       "       [260.  , 331.  , 119.  ,   4.  ,   5.  ,   4.5 ,   9.34,   1.  ,\n",
       "          0.9 ],\n",
       "       [286.  , 331.  , 116.  ,   5.  ,   4.  ,   4.  ,   9.26,   1.  ,\n",
       "          0.93],\n",
       "       [287.  , 336.  , 118.  ,   5.  ,   4.5 ,   4.  ,   9.19,   1.  ,\n",
       "          0.92],\n",
       "       [326.  , 326.  , 116.  ,   3.  ,   3.5 ,   4.  ,   9.14,   1.  ,\n",
       "          0.81],\n",
       "       [338.  , 332.  , 118.  ,   5.  ,   5.  ,   5.  ,   9.47,   1.  ,\n",
       "          0.94],\n",
       "       [362.  , 334.  , 116.  ,   4.  ,   4.  ,   3.5 ,   9.54,   1.  ,\n",
       "          0.93],\n",
       "       [373.  , 336.  , 119.  ,   4.  ,   4.5 ,   4.  ,   9.62,   1.  ,\n",
       "          0.95],\n",
       "       [386.  , 335.  , 117.  ,   5.  ,   5.  ,   5.  ,   9.82,   1.  ,\n",
       "          0.96],\n",
       "       [398.  , 330.  , 116.  ,   4.  ,   5.  ,   4.5 ,   9.45,   1.  ,\n",
       "          0.91],\n",
       "       [400.  , 333.  , 117.  ,   4.  ,   5.  ,   4.  ,   9.66,   1.  ,\n",
       "          0.95]])"
      ]
     },
     "execution_count": 19,
     "metadata": {},
     "output_type": "execute_result"
    }
   ],
   "source": [
    "data[index]"
   ]
  },
  {
   "cell_type": "code",
   "execution_count": 20,
   "id": "c189982f",
   "metadata": {},
   "outputs": [],
   "source": [
    "blah = [1,2,3,4,5,6,7,8,121]\n",
    "data = np.append(data, [blah],axis = 0)"
   ]
  },
  {
   "cell_type": "code",
   "execution_count": 21,
   "id": "77af6cbd",
   "metadata": {},
   "outputs": [
    {
     "data": {
      "text/plain": [
       "array([[  1.  , 337.  , 118.  , ...,   9.65,   1.  ,   0.92],\n",
       "       [  2.  , 324.  , 107.  , ...,   8.87,   1.  ,   0.76],\n",
       "       [  3.  , 316.  , 104.  , ...,   8.  ,   1.  ,   0.72],\n",
       "       ...,\n",
       "       [399.  , 312.  , 103.  , ...,   8.78,   0.  ,   0.67],\n",
       "       [400.  , 333.  , 117.  , ...,   9.66,   1.  ,   0.95],\n",
       "       [  1.  ,   2.  ,   3.  , ...,   7.  ,   8.  , 121.  ]])"
      ]
     },
     "execution_count": 21,
     "metadata": {},
     "output_type": "execute_result"
    }
   ],
   "source": [
    "data"
   ]
  },
  {
   "cell_type": "code",
   "execution_count": 22,
   "id": "14db7bb3",
   "metadata": {},
   "outputs": [],
   "source": [
    "import pandas as pd\n",
    "import numpy as np\n",
    "price = [80121, 48483, 37077, 30660, 68536, 52666, 78703, 51036, 55643, 56990, 39967, 93822, 51406, 93947, 78373, 62765, 47536, 40528, 58780, 83197]"
   ]
  },
  {
   "cell_type": "code",
   "execution_count": 23,
   "id": "dbeefbf6",
   "metadata": {},
   "outputs": [],
   "source": [
    "cars_index = np.arange(101,121)"
   ]
  },
  {
   "cell_type": "code",
   "execution_count": 24,
   "id": "c290c37f",
   "metadata": {},
   "outputs": [
    {
     "data": {
      "text/plain": [
       "101    80121\n",
       "102    48483\n",
       "103    37077\n",
       "104    30660\n",
       "105    68536\n",
       "106    52666\n",
       "107    78703\n",
       "108    51036\n",
       "109    55643\n",
       "110    56990\n",
       "111    39967\n",
       "112    93822\n",
       "113    51406\n",
       "114    93947\n",
       "115    78373\n",
       "116    62765\n",
       "117    47536\n",
       "118    40528\n",
       "119    58780\n",
       "120    83197\n",
       "dtype: int64"
      ]
     },
     "execution_count": 24,
     "metadata": {},
     "output_type": "execute_result"
    }
   ],
   "source": [
    "car_ser = pd.Series(price,index = cars_index)\n",
    "car_ser"
   ]
  },
  {
   "cell_type": "code",
   "execution_count": 25,
   "id": "80f1699d",
   "metadata": {},
   "outputs": [
    {
     "data": {
      "text/plain": [
       "114    93947\n",
       "dtype: int64"
      ]
     },
     "execution_count": 25,
     "metadata": {},
     "output_type": "execute_result"
    }
   ],
   "source": [
    "car_ser.sort_values(ascending = False)[:1]      #highest"
   ]
  },
  {
   "cell_type": "code",
   "execution_count": 26,
   "id": "2cd556df",
   "metadata": {},
   "outputs": [
    {
     "data": {
      "text/plain": [
       "104    30660\n",
       "dtype: int64"
      ]
     },
     "execution_count": 26,
     "metadata": {},
     "output_type": "execute_result"
    }
   ],
   "source": [
    "car_ser.sort_values(ascending = True)[:1]"
   ]
  },
  {
   "cell_type": "code",
   "execution_count": 27,
   "id": "39568274",
   "metadata": {},
   "outputs": [
    {
     "data": {
      "text/plain": [
       "114    93947\n",
       "112    93822\n",
       "120    83197\n",
       "101    80121\n",
       "107    78703\n",
       "dtype: int64"
      ]
     },
     "execution_count": 27,
     "metadata": {},
     "output_type": "execute_result"
    }
   ],
   "source": [
    "car_ser.sort_values(ascending = False)[:5] "
   ]
  },
  {
   "cell_type": "code",
   "execution_count": 28,
   "id": "c51664a1",
   "metadata": {},
   "outputs": [
    {
     "data": {
      "text/plain": [
       "103    37077\n",
       "104    30660\n",
       "111    39967\n",
       "dtype: int64"
      ]
     },
     "execution_count": 28,
     "metadata": {},
     "output_type": "execute_result"
    }
   ],
   "source": [
    "x = car_ser.between(30000,40000,inclusive = \"both\")\n",
    "car_ser[x]"
   ]
  },
  {
   "cell_type": "code",
   "execution_count": 29,
   "id": "9cbeba76",
   "metadata": {},
   "outputs": [
    {
     "data": {
      "text/plain": [
       "101     True\n",
       "102    False\n",
       "103    False\n",
       "104    False\n",
       "105     True\n",
       "106    False\n",
       "107     True\n",
       "108    False\n",
       "109    False\n",
       "110    False\n",
       "111    False\n",
       "112     True\n",
       "113    False\n",
       "114     True\n",
       "115     True\n",
       "116     True\n",
       "117    False\n",
       "118    False\n",
       "119    False\n",
       "120     True\n",
       "dtype: bool"
      ]
     },
     "execution_count": 29,
     "metadata": {},
     "output_type": "execute_result"
    }
   ],
   "source": [
    "condition = car_ser > np.mean(car_ser)\n",
    "condition"
   ]
  },
  {
   "cell_type": "code",
   "execution_count": 30,
   "id": "6a6fb201",
   "metadata": {},
   "outputs": [
    {
     "data": {
      "text/plain": [
       "101    80121\n",
       "105    68536\n",
       "107    78703\n",
       "112    93822\n",
       "114    93947\n",
       "115    78373\n",
       "116    62765\n",
       "120    83197\n",
       "dtype: int64"
      ]
     },
     "execution_count": 30,
     "metadata": {},
     "output_type": "execute_result"
    }
   ],
   "source": [
    "car_ser[condition]"
   ]
  },
  {
   "cell_type": "code",
   "execution_count": 31,
   "id": "a587a51d",
   "metadata": {},
   "outputs": [
    {
     "data": {
      "text/plain": [
       "201    34000\n",
       "202    45000\n",
       "203    54000\n",
       "dtype: int64"
      ]
     },
     "execution_count": 31,
     "metadata": {},
     "output_type": "execute_result"
    }
   ],
   "source": [
    "new_car_price = pd.Series([34000, 45000, 54000],index = [201,202,203])\n",
    "new_car_price"
   ]
  },
  {
   "cell_type": "code",
   "execution_count": 32,
   "id": "1984a1e0",
   "metadata": {},
   "outputs": [
    {
     "data": {
      "text/plain": [
       "101    80121\n",
       "102    48483\n",
       "103    37077\n",
       "104    30660\n",
       "105    68536\n",
       "106    52666\n",
       "107    78703\n",
       "108    51036\n",
       "109    55643\n",
       "110    56990\n",
       "111    39967\n",
       "112    93822\n",
       "113    51406\n",
       "114    93947\n",
       "115    78373\n",
       "116    62765\n",
       "117    47536\n",
       "118    40528\n",
       "119    58780\n",
       "120    83197\n",
       "201    34000\n",
       "202    45000\n",
       "203    54000\n",
       "dtype: int64"
      ]
     },
     "execution_count": 32,
     "metadata": {},
     "output_type": "execute_result"
    }
   ],
   "source": [
    "car_ser = pd.concat([car_ser,new_car_price])\n",
    "car_ser"
   ]
  },
  {
   "cell_type": "code",
   "execution_count": 1,
   "id": "036a0ed0",
   "metadata": {},
   "outputs": [],
   "source": [
    "import numpy as np\n",
    "import pandas as pd"
   ]
  },
  {
   "cell_type": "code",
   "execution_count": 2,
   "id": "c2b2014e",
   "metadata": {},
   "outputs": [
    {
     "data": {
      "text/html": [
       "<div>\n",
       "<style scoped>\n",
       "    .dataframe tbody tr th:only-of-type {\n",
       "        vertical-align: middle;\n",
       "    }\n",
       "\n",
       "    .dataframe tbody tr th {\n",
       "        vertical-align: top;\n",
       "    }\n",
       "\n",
       "    .dataframe thead th {\n",
       "        text-align: right;\n",
       "    }\n",
       "</style>\n",
       "<table border=\"1\" class=\"dataframe\">\n",
       "  <thead>\n",
       "    <tr style=\"text-align: right;\">\n",
       "      <th></th>\n",
       "      <th>Month</th>\n",
       "      <th>Store</th>\n",
       "      <th>Sales</th>\n",
       "      <th>State</th>\n",
       "    </tr>\n",
       "  </thead>\n",
       "  <tbody>\n",
       "    <tr>\n",
       "      <th>0</th>\n",
       "      <td>Jan</td>\n",
       "      <td>A</td>\n",
       "      <td>21080</td>\n",
       "      <td>Alaska</td>\n",
       "    </tr>\n",
       "    <tr>\n",
       "      <th>1</th>\n",
       "      <td>Jan</td>\n",
       "      <td>B</td>\n",
       "      <td>32985</td>\n",
       "      <td>Texas</td>\n",
       "    </tr>\n",
       "    <tr>\n",
       "      <th>2</th>\n",
       "      <td>Jan</td>\n",
       "      <td>C</td>\n",
       "      <td>22369</td>\n",
       "      <td>California</td>\n",
       "    </tr>\n",
       "    <tr>\n",
       "      <th>3</th>\n",
       "      <td>Jan</td>\n",
       "      <td>D</td>\n",
       "      <td>45710</td>\n",
       "      <td>Montana</td>\n",
       "    </tr>\n",
       "    <tr>\n",
       "      <th>4</th>\n",
       "      <td>Jan</td>\n",
       "      <td>E</td>\n",
       "      <td>27113</td>\n",
       "      <td>New Mexico</td>\n",
       "    </tr>\n",
       "    <tr>\n",
       "      <th>5</th>\n",
       "      <td>Feb</td>\n",
       "      <td>A</td>\n",
       "      <td>27573</td>\n",
       "      <td>Alaska</td>\n",
       "    </tr>\n",
       "    <tr>\n",
       "      <th>6</th>\n",
       "      <td>Feb</td>\n",
       "      <td>B</td>\n",
       "      <td>31244</td>\n",
       "      <td>Texas</td>\n",
       "    </tr>\n",
       "    <tr>\n",
       "      <th>7</th>\n",
       "      <td>Feb</td>\n",
       "      <td>C</td>\n",
       "      <td>48624</td>\n",
       "      <td>California</td>\n",
       "    </tr>\n",
       "    <tr>\n",
       "      <th>8</th>\n",
       "      <td>Feb</td>\n",
       "      <td>D</td>\n",
       "      <td>31768</td>\n",
       "      <td>Montana</td>\n",
       "    </tr>\n",
       "    <tr>\n",
       "      <th>9</th>\n",
       "      <td>Feb</td>\n",
       "      <td>E</td>\n",
       "      <td>23851</td>\n",
       "      <td>New Mexico</td>\n",
       "    </tr>\n",
       "    <tr>\n",
       "      <th>10</th>\n",
       "      <td>Mar</td>\n",
       "      <td>A</td>\n",
       "      <td>33274</td>\n",
       "      <td>Alaska</td>\n",
       "    </tr>\n",
       "    <tr>\n",
       "      <th>11</th>\n",
       "      <td>Mar</td>\n",
       "      <td>B</td>\n",
       "      <td>27215</td>\n",
       "      <td>Texas</td>\n",
       "    </tr>\n",
       "    <tr>\n",
       "      <th>12</th>\n",
       "      <td>Mar</td>\n",
       "      <td>C</td>\n",
       "      <td>23475</td>\n",
       "      <td>California</td>\n",
       "    </tr>\n",
       "    <tr>\n",
       "      <th>13</th>\n",
       "      <td>Mar</td>\n",
       "      <td>D</td>\n",
       "      <td>21357</td>\n",
       "      <td>Montana</td>\n",
       "    </tr>\n",
       "    <tr>\n",
       "      <th>14</th>\n",
       "      <td>Mar</td>\n",
       "      <td>E</td>\n",
       "      <td>22130</td>\n",
       "      <td>New Mexico</td>\n",
       "    </tr>\n",
       "    <tr>\n",
       "      <th>15</th>\n",
       "      <td>Apr</td>\n",
       "      <td>A</td>\n",
       "      <td>26073</td>\n",
       "      <td>Alaska</td>\n",
       "    </tr>\n",
       "    <tr>\n",
       "      <th>16</th>\n",
       "      <td>Apr</td>\n",
       "      <td>B</td>\n",
       "      <td>45919</td>\n",
       "      <td>Texas</td>\n",
       "    </tr>\n",
       "    <tr>\n",
       "      <th>17</th>\n",
       "      <td>Apr</td>\n",
       "      <td>C</td>\n",
       "      <td>30279</td>\n",
       "      <td>California</td>\n",
       "    </tr>\n",
       "    <tr>\n",
       "      <th>18</th>\n",
       "      <td>Apr</td>\n",
       "      <td>D</td>\n",
       "      <td>21394</td>\n",
       "      <td>Montana</td>\n",
       "    </tr>\n",
       "    <tr>\n",
       "      <th>19</th>\n",
       "      <td>Apr</td>\n",
       "      <td>E</td>\n",
       "      <td>25184</td>\n",
       "      <td>New Mexico</td>\n",
       "    </tr>\n",
       "    <tr>\n",
       "      <th>20</th>\n",
       "      <td>May</td>\n",
       "      <td>A</td>\n",
       "      <td>37649</td>\n",
       "      <td>Alaska</td>\n",
       "    </tr>\n",
       "    <tr>\n",
       "      <th>21</th>\n",
       "      <td>May</td>\n",
       "      <td>B</td>\n",
       "      <td>44597</td>\n",
       "      <td>Texas</td>\n",
       "    </tr>\n",
       "    <tr>\n",
       "      <th>22</th>\n",
       "      <td>May</td>\n",
       "      <td>C</td>\n",
       "      <td>29697</td>\n",
       "      <td>California</td>\n",
       "    </tr>\n",
       "    <tr>\n",
       "      <th>23</th>\n",
       "      <td>May</td>\n",
       "      <td>D</td>\n",
       "      <td>28943</td>\n",
       "      <td>Montana</td>\n",
       "    </tr>\n",
       "    <tr>\n",
       "      <th>24</th>\n",
       "      <td>May</td>\n",
       "      <td>E</td>\n",
       "      <td>22541</td>\n",
       "      <td>New Mexico</td>\n",
       "    </tr>\n",
       "    <tr>\n",
       "      <th>25</th>\n",
       "      <td>Jun</td>\n",
       "      <td>A</td>\n",
       "      <td>28500</td>\n",
       "      <td>Alaska</td>\n",
       "    </tr>\n",
       "    <tr>\n",
       "      <th>26</th>\n",
       "      <td>Jun</td>\n",
       "      <td>B</td>\n",
       "      <td>32896</td>\n",
       "      <td>Texas</td>\n",
       "    </tr>\n",
       "    <tr>\n",
       "      <th>27</th>\n",
       "      <td>Jun</td>\n",
       "      <td>C</td>\n",
       "      <td>30200</td>\n",
       "      <td>California</td>\n",
       "    </tr>\n",
       "    <tr>\n",
       "      <th>28</th>\n",
       "      <td>Jun</td>\n",
       "      <td>D</td>\n",
       "      <td>37098</td>\n",
       "      <td>Montana</td>\n",
       "    </tr>\n",
       "    <tr>\n",
       "      <th>29</th>\n",
       "      <td>Jun</td>\n",
       "      <td>E</td>\n",
       "      <td>41098</td>\n",
       "      <td>New Mexico</td>\n",
       "    </tr>\n",
       "  </tbody>\n",
       "</table>\n",
       "</div>"
      ],
      "text/plain": [
       "   Month Store  Sales       State\n",
       "0    Jan     A  21080      Alaska\n",
       "1    Jan     B  32985       Texas\n",
       "2    Jan     C  22369  California\n",
       "3    Jan     D  45710     Montana\n",
       "4    Jan     E  27113  New Mexico\n",
       "5    Feb     A  27573      Alaska\n",
       "6    Feb     B  31244       Texas\n",
       "7    Feb     C  48624  California\n",
       "8    Feb     D  31768     Montana\n",
       "9    Feb     E  23851  New Mexico\n",
       "10   Mar     A  33274      Alaska\n",
       "11   Mar     B  27215       Texas\n",
       "12   Mar     C  23475  California\n",
       "13   Mar     D  21357     Montana\n",
       "14   Mar     E  22130  New Mexico\n",
       "15   Apr     A  26073      Alaska\n",
       "16   Apr     B  45919       Texas\n",
       "17   Apr     C  30279  California\n",
       "18   Apr     D  21394     Montana\n",
       "19   Apr     E  25184  New Mexico\n",
       "20   May     A  37649      Alaska\n",
       "21   May     B  44597       Texas\n",
       "22   May     C  29697  California\n",
       "23   May     D  28943     Montana\n",
       "24   May     E  22541  New Mexico\n",
       "25   Jun     A  28500      Alaska\n",
       "26   Jun     B  32896       Texas\n",
       "27   Jun     C  30200  California\n",
       "28   Jun     D  37098     Montana\n",
       "29   Jun     E  41098  New Mexico"
      ]
     },
     "execution_count": 2,
     "metadata": {},
     "output_type": "execute_result"
    }
   ],
   "source": [
    "df = pd.read_csv(\"DS1_C4_S3_SalesData_Practice.csv\")\n",
    "df"
   ]
  },
  {
   "cell_type": "code",
   "execution_count": 3,
   "id": "9039aa61",
   "metadata": {
    "collapsed": true
   },
   "outputs": [
    {
     "ename": "ValueError",
     "evalue": "Length of values (3) does not match length of index (30)",
     "output_type": "error",
     "traceback": [
      "\u001b[1;31m---------------------------------------------------------------------------\u001b[0m",
      "\u001b[1;31mValueError\u001b[0m                                Traceback (most recent call last)",
      "Cell \u001b[1;32mIn[3], line 1\u001b[0m\n\u001b[1;32m----> 1\u001b[0m df[\u001b[38;5;124m\"\u001b[39m\u001b[38;5;124mMonth\u001b[39m\u001b[38;5;124m\"\u001b[39m] \u001b[38;5;241m=\u001b[39m[\u001b[38;5;241m1\u001b[39m,\u001b[38;5;241m2\u001b[39m,\u001b[38;5;241m3\u001b[39m]\n",
      "File \u001b[1;32m~\\anaconda3\\Lib\\site-packages\\pandas\\core\\frame.py:3950\u001b[0m, in \u001b[0;36mDataFrame.__setitem__\u001b[1;34m(self, key, value)\u001b[0m\n\u001b[0;32m   3947\u001b[0m     \u001b[38;5;28mself\u001b[39m\u001b[38;5;241m.\u001b[39m_setitem_array([key], value)\n\u001b[0;32m   3948\u001b[0m \u001b[38;5;28;01melse\u001b[39;00m:\n\u001b[0;32m   3949\u001b[0m     \u001b[38;5;66;03m# set column\u001b[39;00m\n\u001b[1;32m-> 3950\u001b[0m     \u001b[38;5;28mself\u001b[39m\u001b[38;5;241m.\u001b[39m_set_item(key, value)\n",
      "File \u001b[1;32m~\\anaconda3\\Lib\\site-packages\\pandas\\core\\frame.py:4143\u001b[0m, in \u001b[0;36mDataFrame._set_item\u001b[1;34m(self, key, value)\u001b[0m\n\u001b[0;32m   4133\u001b[0m \u001b[38;5;28;01mdef\u001b[39;00m \u001b[38;5;21m_set_item\u001b[39m(\u001b[38;5;28mself\u001b[39m, key, value) \u001b[38;5;241m-\u001b[39m\u001b[38;5;241m>\u001b[39m \u001b[38;5;28;01mNone\u001b[39;00m:\n\u001b[0;32m   4134\u001b[0m \u001b[38;5;250m    \u001b[39m\u001b[38;5;124;03m\"\"\"\u001b[39;00m\n\u001b[0;32m   4135\u001b[0m \u001b[38;5;124;03m    Add series to DataFrame in specified column.\u001b[39;00m\n\u001b[0;32m   4136\u001b[0m \n\u001b[1;32m   (...)\u001b[0m\n\u001b[0;32m   4141\u001b[0m \u001b[38;5;124;03m    ensure homogeneity.\u001b[39;00m\n\u001b[0;32m   4142\u001b[0m \u001b[38;5;124;03m    \"\"\"\u001b[39;00m\n\u001b[1;32m-> 4143\u001b[0m     value \u001b[38;5;241m=\u001b[39m \u001b[38;5;28mself\u001b[39m\u001b[38;5;241m.\u001b[39m_sanitize_column(value)\n\u001b[0;32m   4145\u001b[0m     \u001b[38;5;28;01mif\u001b[39;00m (\n\u001b[0;32m   4146\u001b[0m         key \u001b[38;5;129;01min\u001b[39;00m \u001b[38;5;28mself\u001b[39m\u001b[38;5;241m.\u001b[39mcolumns\n\u001b[0;32m   4147\u001b[0m         \u001b[38;5;129;01mand\u001b[39;00m value\u001b[38;5;241m.\u001b[39mndim \u001b[38;5;241m==\u001b[39m \u001b[38;5;241m1\u001b[39m\n\u001b[0;32m   4148\u001b[0m         \u001b[38;5;129;01mand\u001b[39;00m \u001b[38;5;129;01mnot\u001b[39;00m is_extension_array_dtype(value)\n\u001b[0;32m   4149\u001b[0m     ):\n\u001b[0;32m   4150\u001b[0m         \u001b[38;5;66;03m# broadcast across multiple columns if necessary\u001b[39;00m\n\u001b[0;32m   4151\u001b[0m         \u001b[38;5;28;01mif\u001b[39;00m \u001b[38;5;129;01mnot\u001b[39;00m \u001b[38;5;28mself\u001b[39m\u001b[38;5;241m.\u001b[39mcolumns\u001b[38;5;241m.\u001b[39mis_unique \u001b[38;5;129;01mor\u001b[39;00m \u001b[38;5;28misinstance\u001b[39m(\u001b[38;5;28mself\u001b[39m\u001b[38;5;241m.\u001b[39mcolumns, MultiIndex):\n",
      "File \u001b[1;32m~\\anaconda3\\Lib\\site-packages\\pandas\\core\\frame.py:4870\u001b[0m, in \u001b[0;36mDataFrame._sanitize_column\u001b[1;34m(self, value)\u001b[0m\n\u001b[0;32m   4867\u001b[0m     \u001b[38;5;28;01mreturn\u001b[39;00m _reindex_for_setitem(Series(value), \u001b[38;5;28mself\u001b[39m\u001b[38;5;241m.\u001b[39mindex)\n\u001b[0;32m   4869\u001b[0m \u001b[38;5;28;01mif\u001b[39;00m is_list_like(value):\n\u001b[1;32m-> 4870\u001b[0m     com\u001b[38;5;241m.\u001b[39mrequire_length_match(value, \u001b[38;5;28mself\u001b[39m\u001b[38;5;241m.\u001b[39mindex)\n\u001b[0;32m   4871\u001b[0m \u001b[38;5;28;01mreturn\u001b[39;00m sanitize_array(value, \u001b[38;5;28mself\u001b[39m\u001b[38;5;241m.\u001b[39mindex, copy\u001b[38;5;241m=\u001b[39m\u001b[38;5;28;01mTrue\u001b[39;00m, allow_2d\u001b[38;5;241m=\u001b[39m\u001b[38;5;28;01mTrue\u001b[39;00m)\n",
      "File \u001b[1;32m~\\anaconda3\\Lib\\site-packages\\pandas\\core\\common.py:576\u001b[0m, in \u001b[0;36mrequire_length_match\u001b[1;34m(data, index)\u001b[0m\n\u001b[0;32m    572\u001b[0m \u001b[38;5;250m\u001b[39m\u001b[38;5;124;03m\"\"\"\u001b[39;00m\n\u001b[0;32m    573\u001b[0m \u001b[38;5;124;03mCheck the length of data matches the length of the index.\u001b[39;00m\n\u001b[0;32m    574\u001b[0m \u001b[38;5;124;03m\"\"\"\u001b[39;00m\n\u001b[0;32m    575\u001b[0m \u001b[38;5;28;01mif\u001b[39;00m \u001b[38;5;28mlen\u001b[39m(data) \u001b[38;5;241m!=\u001b[39m \u001b[38;5;28mlen\u001b[39m(index):\n\u001b[1;32m--> 576\u001b[0m     \u001b[38;5;28;01mraise\u001b[39;00m \u001b[38;5;167;01mValueError\u001b[39;00m(\n\u001b[0;32m    577\u001b[0m         \u001b[38;5;124m\"\u001b[39m\u001b[38;5;124mLength of values \u001b[39m\u001b[38;5;124m\"\u001b[39m\n\u001b[0;32m    578\u001b[0m         \u001b[38;5;124mf\u001b[39m\u001b[38;5;124m\"\u001b[39m\u001b[38;5;124m(\u001b[39m\u001b[38;5;132;01m{\u001b[39;00m\u001b[38;5;28mlen\u001b[39m(data)\u001b[38;5;132;01m}\u001b[39;00m\u001b[38;5;124m) \u001b[39m\u001b[38;5;124m\"\u001b[39m\n\u001b[0;32m    579\u001b[0m         \u001b[38;5;124m\"\u001b[39m\u001b[38;5;124mdoes not match length of index \u001b[39m\u001b[38;5;124m\"\u001b[39m\n\u001b[0;32m    580\u001b[0m         \u001b[38;5;124mf\u001b[39m\u001b[38;5;124m\"\u001b[39m\u001b[38;5;124m(\u001b[39m\u001b[38;5;132;01m{\u001b[39;00m\u001b[38;5;28mlen\u001b[39m(index)\u001b[38;5;132;01m}\u001b[39;00m\u001b[38;5;124m)\u001b[39m\u001b[38;5;124m\"\u001b[39m\n\u001b[0;32m    581\u001b[0m     )\n",
      "\u001b[1;31mValueError\u001b[0m: Length of values (3) does not match length of index (30)"
     ]
    }
   ],
   "source": [
    "df[\"Month\"] =[1,2,3]"
   ]
  },
  {
   "cell_type": "code",
   "execution_count": null,
   "id": "bd2a9618",
   "metadata": {},
   "outputs": [],
   "source": []
  },
  {
   "cell_type": "code",
   "execution_count": null,
   "id": "2a55c957",
   "metadata": {},
   "outputs": [],
   "source": []
  },
  {
   "cell_type": "code",
   "execution_count": 35,
   "id": "9f7a41f6",
   "metadata": {},
   "outputs": [
    {
     "data": {
      "text/html": [
       "<div>\n",
       "<style scoped>\n",
       "    .dataframe tbody tr th:only-of-type {\n",
       "        vertical-align: middle;\n",
       "    }\n",
       "\n",
       "    .dataframe tbody tr th {\n",
       "        vertical-align: top;\n",
       "    }\n",
       "\n",
       "    .dataframe thead th {\n",
       "        text-align: right;\n",
       "    }\n",
       "</style>\n",
       "<table border=\"1\" class=\"dataframe\">\n",
       "  <thead>\n",
       "    <tr style=\"text-align: right;\">\n",
       "      <th></th>\n",
       "      <th>Month</th>\n",
       "      <th>Store</th>\n",
       "      <th>Sales</th>\n",
       "      <th>State</th>\n",
       "    </tr>\n",
       "  </thead>\n",
       "  <tbody>\n",
       "    <tr>\n",
       "      <th>2</th>\n",
       "      <td>Jan</td>\n",
       "      <td>C</td>\n",
       "      <td>22369</td>\n",
       "      <td>California</td>\n",
       "    </tr>\n",
       "    <tr>\n",
       "      <th>7</th>\n",
       "      <td>Feb</td>\n",
       "      <td>C</td>\n",
       "      <td>48624</td>\n",
       "      <td>California</td>\n",
       "    </tr>\n",
       "    <tr>\n",
       "      <th>12</th>\n",
       "      <td>Mar</td>\n",
       "      <td>C</td>\n",
       "      <td>23475</td>\n",
       "      <td>California</td>\n",
       "    </tr>\n",
       "    <tr>\n",
       "      <th>17</th>\n",
       "      <td>Apr</td>\n",
       "      <td>C</td>\n",
       "      <td>30279</td>\n",
       "      <td>California</td>\n",
       "    </tr>\n",
       "    <tr>\n",
       "      <th>22</th>\n",
       "      <td>May</td>\n",
       "      <td>C</td>\n",
       "      <td>29697</td>\n",
       "      <td>California</td>\n",
       "    </tr>\n",
       "    <tr>\n",
       "      <th>27</th>\n",
       "      <td>Jun</td>\n",
       "      <td>C</td>\n",
       "      <td>30200</td>\n",
       "      <td>California</td>\n",
       "    </tr>\n",
       "  </tbody>\n",
       "</table>\n",
       "</div>"
      ],
      "text/plain": [
       "   Month Store  Sales       State\n",
       "2    Jan     C  22369  California\n",
       "7    Feb     C  48624  California\n",
       "12   Mar     C  23475  California\n",
       "17   Apr     C  30279  California\n",
       "22   May     C  29697  California\n",
       "27   Jun     C  30200  California"
      ]
     },
     "execution_count": 35,
     "metadata": {},
     "output_type": "execute_result"
    }
   ],
   "source": [
    "cal = df[df[\"State\"]==\"California\"]\n",
    "cal"
   ]
  },
  {
   "cell_type": "code",
   "execution_count": 36,
   "id": "06af011a",
   "metadata": {},
   "outputs": [
    {
     "data": {
      "text/html": [
       "<div>\n",
       "<style scoped>\n",
       "    .dataframe tbody tr th:only-of-type {\n",
       "        vertical-align: middle;\n",
       "    }\n",
       "\n",
       "    .dataframe tbody tr th {\n",
       "        vertical-align: top;\n",
       "    }\n",
       "\n",
       "    .dataframe thead th {\n",
       "        text-align: right;\n",
       "    }\n",
       "</style>\n",
       "<table border=\"1\" class=\"dataframe\">\n",
       "  <thead>\n",
       "    <tr style=\"text-align: right;\">\n",
       "      <th></th>\n",
       "      <th>Month</th>\n",
       "      <th>Store</th>\n",
       "      <th>Sales</th>\n",
       "      <th>State</th>\n",
       "    </tr>\n",
       "  </thead>\n",
       "  <tbody>\n",
       "    <tr>\n",
       "      <th>2</th>\n",
       "      <td>Jan</td>\n",
       "      <td>C</td>\n",
       "      <td>22369</td>\n",
       "      <td>California</td>\n",
       "    </tr>\n",
       "    <tr>\n",
       "      <th>12</th>\n",
       "      <td>Mar</td>\n",
       "      <td>C</td>\n",
       "      <td>23475</td>\n",
       "      <td>California</td>\n",
       "    </tr>\n",
       "    <tr>\n",
       "      <th>22</th>\n",
       "      <td>May</td>\n",
       "      <td>C</td>\n",
       "      <td>29697</td>\n",
       "      <td>California</td>\n",
       "    </tr>\n",
       "    <tr>\n",
       "      <th>27</th>\n",
       "      <td>Jun</td>\n",
       "      <td>C</td>\n",
       "      <td>30200</td>\n",
       "      <td>California</td>\n",
       "    </tr>\n",
       "    <tr>\n",
       "      <th>17</th>\n",
       "      <td>Apr</td>\n",
       "      <td>C</td>\n",
       "      <td>30279</td>\n",
       "      <td>California</td>\n",
       "    </tr>\n",
       "    <tr>\n",
       "      <th>7</th>\n",
       "      <td>Feb</td>\n",
       "      <td>C</td>\n",
       "      <td>48624</td>\n",
       "      <td>California</td>\n",
       "    </tr>\n",
       "  </tbody>\n",
       "</table>\n",
       "</div>"
      ],
      "text/plain": [
       "   Month Store  Sales       State\n",
       "2    Jan     C  22369  California\n",
       "12   Mar     C  23475  California\n",
       "22   May     C  29697  California\n",
       "27   Jun     C  30200  California\n",
       "17   Apr     C  30279  California\n",
       "7    Feb     C  48624  California"
      ]
     },
     "execution_count": 36,
     "metadata": {},
     "output_type": "execute_result"
    }
   ],
   "source": [
    "cal.sort_values(by=\"Sales\")"
   ]
  },
  {
   "cell_type": "code",
   "execution_count": 37,
   "id": "ab8520b0",
   "metadata": {},
   "outputs": [
    {
     "data": {
      "text/html": [
       "<div>\n",
       "<style scoped>\n",
       "    .dataframe tbody tr th:only-of-type {\n",
       "        vertical-align: middle;\n",
       "    }\n",
       "\n",
       "    .dataframe tbody tr th {\n",
       "        vertical-align: top;\n",
       "    }\n",
       "\n",
       "    .dataframe thead th {\n",
       "        text-align: right;\n",
       "    }\n",
       "</style>\n",
       "<table border=\"1\" class=\"dataframe\">\n",
       "  <thead>\n",
       "    <tr style=\"text-align: right;\">\n",
       "      <th></th>\n",
       "      <th>Month</th>\n",
       "    </tr>\n",
       "  </thead>\n",
       "  <tbody>\n",
       "    <tr>\n",
       "      <th>7</th>\n",
       "      <td>Feb</td>\n",
       "    </tr>\n",
       "  </tbody>\n",
       "</table>\n",
       "</div>"
      ],
      "text/plain": [
       "  Month\n",
       "7   Feb"
      ]
     },
     "execution_count": 37,
     "metadata": {},
     "output_type": "execute_result"
    }
   ],
   "source": [
    "high = cal.sort_values(by=\"Sales\",ascending=False)\n",
    "high[[\"Month\"]][:1]"
   ]
  },
  {
   "cell_type": "code",
   "execution_count": 38,
   "id": "2482039c",
   "metadata": {},
   "outputs": [
    {
     "data": {
      "text/html": [
       "<div>\n",
       "<style scoped>\n",
       "    .dataframe tbody tr th:only-of-type {\n",
       "        vertical-align: middle;\n",
       "    }\n",
       "\n",
       "    .dataframe tbody tr th {\n",
       "        vertical-align: top;\n",
       "    }\n",
       "\n",
       "    .dataframe thead th {\n",
       "        text-align: right;\n",
       "    }\n",
       "</style>\n",
       "<table border=\"1\" class=\"dataframe\">\n",
       "  <thead>\n",
       "    <tr style=\"text-align: right;\">\n",
       "      <th></th>\n",
       "      <th>Month</th>\n",
       "      <th>Store</th>\n",
       "      <th>Sales</th>\n",
       "      <th>State</th>\n",
       "    </tr>\n",
       "  </thead>\n",
       "  <tbody>\n",
       "    <tr>\n",
       "      <th>7</th>\n",
       "      <td>Feb</td>\n",
       "      <td>C</td>\n",
       "      <td>48624</td>\n",
       "      <td>California</td>\n",
       "    </tr>\n",
       "    <tr>\n",
       "      <th>17</th>\n",
       "      <td>Apr</td>\n",
       "      <td>C</td>\n",
       "      <td>30279</td>\n",
       "      <td>California</td>\n",
       "    </tr>\n",
       "    <tr>\n",
       "      <th>27</th>\n",
       "      <td>Jun</td>\n",
       "      <td>C</td>\n",
       "      <td>30200</td>\n",
       "      <td>California</td>\n",
       "    </tr>\n",
       "    <tr>\n",
       "      <th>22</th>\n",
       "      <td>May</td>\n",
       "      <td>C</td>\n",
       "      <td>29697</td>\n",
       "      <td>California</td>\n",
       "    </tr>\n",
       "    <tr>\n",
       "      <th>12</th>\n",
       "      <td>Mar</td>\n",
       "      <td>C</td>\n",
       "      <td>23475</td>\n",
       "      <td>California</td>\n",
       "    </tr>\n",
       "    <tr>\n",
       "      <th>2</th>\n",
       "      <td>Jan</td>\n",
       "      <td>C</td>\n",
       "      <td>22369</td>\n",
       "      <td>California</td>\n",
       "    </tr>\n",
       "  </tbody>\n",
       "</table>\n",
       "</div>"
      ],
      "text/plain": [
       "   Month Store  Sales       State\n",
       "7    Feb     C  48624  California\n",
       "17   Apr     C  30279  California\n",
       "27   Jun     C  30200  California\n",
       "22   May     C  29697  California\n",
       "12   Mar     C  23475  California\n",
       "2    Jan     C  22369  California"
      ]
     },
     "execution_count": 38,
     "metadata": {},
     "output_type": "execute_result"
    }
   ],
   "source": [
    "high"
   ]
  },
  {
   "cell_type": "code",
   "execution_count": 39,
   "id": "0e57d9f1",
   "metadata": {},
   "outputs": [],
   "source": [
    "import pandas as pd\n",
    "import numpy as np"
   ]
  },
  {
   "cell_type": "code",
   "execution_count": 7,
   "id": "db482eb2",
   "metadata": {},
   "outputs": [
    {
     "data": {
      "text/html": [
       "<div>\n",
       "<style scoped>\n",
       "    .dataframe tbody tr th:only-of-type {\n",
       "        vertical-align: middle;\n",
       "    }\n",
       "\n",
       "    .dataframe tbody tr th {\n",
       "        vertical-align: top;\n",
       "    }\n",
       "\n",
       "    .dataframe thead th {\n",
       "        text-align: right;\n",
       "    }\n",
       "</style>\n",
       "<table border=\"1\" class=\"dataframe\">\n",
       "  <thead>\n",
       "    <tr style=\"text-align: right;\">\n",
       "      <th></th>\n",
       "      <th>Cust_ID</th>\n",
       "      <th>Name</th>\n",
       "    </tr>\n",
       "  </thead>\n",
       "  <tbody>\n",
       "    <tr>\n",
       "      <th>0</th>\n",
       "      <td>101</td>\n",
       "      <td>Olivia</td>\n",
       "    </tr>\n",
       "    <tr>\n",
       "      <th>1</th>\n",
       "      <td>102</td>\n",
       "      <td>Will LLC</td>\n",
       "    </tr>\n",
       "    <tr>\n",
       "      <th>2</th>\n",
       "      <td>103</td>\n",
       "      <td>Sophia</td>\n",
       "    </tr>\n",
       "    <tr>\n",
       "      <th>3</th>\n",
       "      <td>104</td>\n",
       "      <td>Isabella</td>\n",
       "    </tr>\n",
       "  </tbody>\n",
       "</table>\n",
       "</div>"
      ],
      "text/plain": [
       "   Cust_ID      Name\n",
       "0      101    Olivia\n",
       "1      102  Will LLC\n",
       "2      103    Sophia\n",
       "3      104  Isabella"
      ]
     },
     "execution_count": 7,
     "metadata": {},
     "output_type": "execute_result"
    }
   ],
   "source": [
    "customer = pd.read_excel(\"DS1_C4_S4_Customer_Data_Concept.xlsx\", sheet_name = 0)\n",
    "customer"
   ]
  },
  {
   "cell_type": "code",
   "execution_count": 8,
   "id": "5f8d74bb",
   "metadata": {},
   "outputs": [
    {
     "data": {
      "text/html": [
       "<div>\n",
       "<style scoped>\n",
       "    .dataframe tbody tr th:only-of-type {\n",
       "        vertical-align: middle;\n",
       "    }\n",
       "\n",
       "    .dataframe tbody tr th {\n",
       "        vertical-align: top;\n",
       "    }\n",
       "\n",
       "    .dataframe thead th {\n",
       "        text-align: right;\n",
       "    }\n",
       "</style>\n",
       "<table border=\"1\" class=\"dataframe\">\n",
       "  <thead>\n",
       "    <tr style=\"text-align: right;\">\n",
       "      <th></th>\n",
       "      <th>Order_ID</th>\n",
       "      <th>Cust_ID</th>\n",
       "      <th>Order</th>\n",
       "    </tr>\n",
       "  </thead>\n",
       "  <tbody>\n",
       "    <tr>\n",
       "      <th>0</th>\n",
       "      <td>222</td>\n",
       "      <td>101</td>\n",
       "      <td>789</td>\n",
       "    </tr>\n",
       "    <tr>\n",
       "      <th>1</th>\n",
       "      <td>223</td>\n",
       "      <td>102</td>\n",
       "      <td>465</td>\n",
       "    </tr>\n",
       "    <tr>\n",
       "      <th>2</th>\n",
       "      <td>224</td>\n",
       "      <td>103</td>\n",
       "      <td>674</td>\n",
       "    </tr>\n",
       "    <tr>\n",
       "      <th>3</th>\n",
       "      <td>225</td>\n",
       "      <td>104</td>\n",
       "      <td>564</td>\n",
       "    </tr>\n",
       "    <tr>\n",
       "      <th>4</th>\n",
       "      <td>226</td>\n",
       "      <td>105</td>\n",
       "      <td>589</td>\n",
       "    </tr>\n",
       "  </tbody>\n",
       "</table>\n",
       "</div>"
      ],
      "text/plain": [
       "   Order_ID  Cust_ID  Order\n",
       "0       222      101    789\n",
       "1       223      102    465\n",
       "2       224      103    674\n",
       "3       225      104    564\n",
       "4       226      105    589"
      ]
     },
     "execution_count": 8,
     "metadata": {},
     "output_type": "execute_result"
    }
   ],
   "source": [
    "order = pd.read_excel(\"DS1_C4_S4_Customer_Data_Concept.xlsx\", sheet_name = 1)\n",
    "order"
   ]
  },
  {
   "cell_type": "code",
   "execution_count": 9,
   "id": "a71861f4",
   "metadata": {},
   "outputs": [
    {
     "data": {
      "text/html": [
       "<div>\n",
       "<style scoped>\n",
       "    .dataframe tbody tr th:only-of-type {\n",
       "        vertical-align: middle;\n",
       "    }\n",
       "\n",
       "    .dataframe tbody tr th {\n",
       "        vertical-align: top;\n",
       "    }\n",
       "\n",
       "    .dataframe thead th {\n",
       "        text-align: right;\n",
       "    }\n",
       "</style>\n",
       "<table border=\"1\" class=\"dataframe\">\n",
       "  <thead>\n",
       "    <tr style=\"text-align: right;\">\n",
       "      <th></th>\n",
       "      <th>Name</th>\n",
       "      <th>Order_ID</th>\n",
       "      <th>Order</th>\n",
       "    </tr>\n",
       "    <tr>\n",
       "      <th>Cust_ID</th>\n",
       "      <th></th>\n",
       "      <th></th>\n",
       "      <th></th>\n",
       "    </tr>\n",
       "  </thead>\n",
       "  <tbody>\n",
       "    <tr>\n",
       "      <th>101</th>\n",
       "      <td>Olivia</td>\n",
       "      <td>222</td>\n",
       "      <td>789</td>\n",
       "    </tr>\n",
       "    <tr>\n",
       "      <th>102</th>\n",
       "      <td>Will LLC</td>\n",
       "      <td>223</td>\n",
       "      <td>465</td>\n",
       "    </tr>\n",
       "    <tr>\n",
       "      <th>103</th>\n",
       "      <td>Sophia</td>\n",
       "      <td>224</td>\n",
       "      <td>674</td>\n",
       "    </tr>\n",
       "    <tr>\n",
       "      <th>104</th>\n",
       "      <td>Isabella</td>\n",
       "      <td>225</td>\n",
       "      <td>564</td>\n",
       "    </tr>\n",
       "  </tbody>\n",
       "</table>\n",
       "</div>"
      ],
      "text/plain": [
       "             Name  Order_ID  Order\n",
       "Cust_ID                           \n",
       "101        Olivia       222    789\n",
       "102      Will LLC       223    465\n",
       "103        Sophia       224    674\n",
       "104      Isabella       225    564"
      ]
     },
     "execution_count": 9,
     "metadata": {},
     "output_type": "execute_result"
    }
   ],
   "source": [
    "customer.set_index(\"Cust_ID\").join(order.set_index(\"Cust_ID\"), on=\"Cust_ID\", how=\"inner\")"
   ]
  },
  {
   "cell_type": "code",
   "execution_count": null,
   "id": "73c1d409",
   "metadata": {},
   "outputs": [],
   "source": []
  },
  {
   "cell_type": "code",
   "execution_count": 42,
   "id": "253fd4b3",
   "metadata": {},
   "outputs": [],
   "source": [
    "# inner join"
   ]
  },
  {
   "cell_type": "code",
   "execution_count": 43,
   "id": "31343d6b",
   "metadata": {},
   "outputs": [
    {
     "data": {
      "text/html": [
       "<div>\n",
       "<style scoped>\n",
       "    .dataframe tbody tr th:only-of-type {\n",
       "        vertical-align: middle;\n",
       "    }\n",
       "\n",
       "    .dataframe tbody tr th {\n",
       "        vertical-align: top;\n",
       "    }\n",
       "\n",
       "    .dataframe thead th {\n",
       "        text-align: right;\n",
       "    }\n",
       "</style>\n",
       "<table border=\"1\" class=\"dataframe\">\n",
       "  <thead>\n",
       "    <tr style=\"text-align: right;\">\n",
       "      <th></th>\n",
       "      <th>Name</th>\n",
       "      <th>Order_ID</th>\n",
       "      <th>Order</th>\n",
       "    </tr>\n",
       "    <tr>\n",
       "      <th>Cust_ID</th>\n",
       "      <th></th>\n",
       "      <th></th>\n",
       "      <th></th>\n",
       "    </tr>\n",
       "  </thead>\n",
       "  <tbody>\n",
       "    <tr>\n",
       "      <th>101</th>\n",
       "      <td>Olivia</td>\n",
       "      <td>222</td>\n",
       "      <td>789</td>\n",
       "    </tr>\n",
       "    <tr>\n",
       "      <th>102</th>\n",
       "      <td>Will LLC</td>\n",
       "      <td>223</td>\n",
       "      <td>465</td>\n",
       "    </tr>\n",
       "    <tr>\n",
       "      <th>103</th>\n",
       "      <td>Sophia</td>\n",
       "      <td>224</td>\n",
       "      <td>674</td>\n",
       "    </tr>\n",
       "    <tr>\n",
       "      <th>104</th>\n",
       "      <td>Isabella</td>\n",
       "      <td>225</td>\n",
       "      <td>564</td>\n",
       "    </tr>\n",
       "  </tbody>\n",
       "</table>\n",
       "</div>"
      ],
      "text/plain": [
       "             Name  Order_ID  Order\n",
       "Cust_ID                           \n",
       "101        Olivia       222    789\n",
       "102      Will LLC       223    465\n",
       "103        Sophia       224    674\n",
       "104      Isabella       225    564"
      ]
     },
     "execution_count": 43,
     "metadata": {},
     "output_type": "execute_result"
    }
   ],
   "source": [
    "customer.set_index(\"Cust_ID\").join(order.set_index(\"Cust_ID\"), on=\"Cust_ID\", how = \"inner\")"
   ]
  },
  {
   "cell_type": "code",
   "execution_count": 44,
   "id": "04496d6b",
   "metadata": {},
   "outputs": [
    {
     "data": {
      "text/html": [
       "<div>\n",
       "<style scoped>\n",
       "    .dataframe tbody tr th:only-of-type {\n",
       "        vertical-align: middle;\n",
       "    }\n",
       "\n",
       "    .dataframe tbody tr th {\n",
       "        vertical-align: top;\n",
       "    }\n",
       "\n",
       "    .dataframe thead th {\n",
       "        text-align: right;\n",
       "    }\n",
       "</style>\n",
       "<table border=\"1\" class=\"dataframe\">\n",
       "  <thead>\n",
       "    <tr style=\"text-align: right;\">\n",
       "      <th></th>\n",
       "      <th>Cust_ID</th>\n",
       "      <th>Name</th>\n",
       "      <th>Order_ID</th>\n",
       "      <th>Order</th>\n",
       "    </tr>\n",
       "  </thead>\n",
       "  <tbody>\n",
       "    <tr>\n",
       "      <th>0</th>\n",
       "      <td>101</td>\n",
       "      <td>Olivia</td>\n",
       "      <td>222</td>\n",
       "      <td>789</td>\n",
       "    </tr>\n",
       "    <tr>\n",
       "      <th>1</th>\n",
       "      <td>102</td>\n",
       "      <td>Will LLC</td>\n",
       "      <td>223</td>\n",
       "      <td>465</td>\n",
       "    </tr>\n",
       "    <tr>\n",
       "      <th>2</th>\n",
       "      <td>103</td>\n",
       "      <td>Sophia</td>\n",
       "      <td>224</td>\n",
       "      <td>674</td>\n",
       "    </tr>\n",
       "    <tr>\n",
       "      <th>3</th>\n",
       "      <td>104</td>\n",
       "      <td>Isabella</td>\n",
       "      <td>225</td>\n",
       "      <td>564</td>\n",
       "    </tr>\n",
       "  </tbody>\n",
       "</table>\n",
       "</div>"
      ],
      "text/plain": [
       "   Cust_ID      Name  Order_ID  Order\n",
       "0      101    Olivia       222    789\n",
       "1      102  Will LLC       223    465\n",
       "2      103    Sophia       224    674\n",
       "3      104  Isabella       225    564"
      ]
     },
     "execution_count": 44,
     "metadata": {},
     "output_type": "execute_result"
    }
   ],
   "source": [
    "customer.merge(order, on=\"Cust_ID\", how= \"inner\")"
   ]
  },
  {
   "cell_type": "code",
   "execution_count": 45,
   "id": "14e67bc1",
   "metadata": {},
   "outputs": [
    {
     "data": {
      "text/html": [
       "<div>\n",
       "<style scoped>\n",
       "    .dataframe tbody tr th:only-of-type {\n",
       "        vertical-align: middle;\n",
       "    }\n",
       "\n",
       "    .dataframe tbody tr th {\n",
       "        vertical-align: top;\n",
       "    }\n",
       "\n",
       "    .dataframe thead th {\n",
       "        text-align: right;\n",
       "    }\n",
       "</style>\n",
       "<table border=\"1\" class=\"dataframe\">\n",
       "  <thead>\n",
       "    <tr style=\"text-align: right;\">\n",
       "      <th></th>\n",
       "      <th>Name</th>\n",
       "      <th>Order_ID</th>\n",
       "      <th>Order</th>\n",
       "    </tr>\n",
       "    <tr>\n",
       "      <th>Cust_ID</th>\n",
       "      <th></th>\n",
       "      <th></th>\n",
       "      <th></th>\n",
       "    </tr>\n",
       "  </thead>\n",
       "  <tbody>\n",
       "    <tr>\n",
       "      <th>101</th>\n",
       "      <td>Olivia</td>\n",
       "      <td>222</td>\n",
       "      <td>789</td>\n",
       "    </tr>\n",
       "    <tr>\n",
       "      <th>102</th>\n",
       "      <td>Will LLC</td>\n",
       "      <td>223</td>\n",
       "      <td>465</td>\n",
       "    </tr>\n",
       "    <tr>\n",
       "      <th>103</th>\n",
       "      <td>Sophia</td>\n",
       "      <td>224</td>\n",
       "      <td>674</td>\n",
       "    </tr>\n",
       "    <tr>\n",
       "      <th>104</th>\n",
       "      <td>Isabella</td>\n",
       "      <td>225</td>\n",
       "      <td>564</td>\n",
       "    </tr>\n",
       "  </tbody>\n",
       "</table>\n",
       "</div>"
      ],
      "text/plain": [
       "             Name  Order_ID  Order\n",
       "Cust_ID                           \n",
       "101        Olivia       222    789\n",
       "102      Will LLC       223    465\n",
       "103        Sophia       224    674\n",
       "104      Isabella       225    564"
      ]
     },
     "execution_count": 45,
     "metadata": {},
     "output_type": "execute_result"
    }
   ],
   "source": [
    "customer.set_index(\"Cust_ID\").join(order.set_index(\"Cust_ID\"), on = \"Cust_ID\", how=\"left\")"
   ]
  },
  {
   "cell_type": "code",
   "execution_count": 46,
   "id": "a6b8e24a",
   "metadata": {},
   "outputs": [
    {
     "data": {
      "text/html": [
       "<div>\n",
       "<style scoped>\n",
       "    .dataframe tbody tr th:only-of-type {\n",
       "        vertical-align: middle;\n",
       "    }\n",
       "\n",
       "    .dataframe tbody tr th {\n",
       "        vertical-align: top;\n",
       "    }\n",
       "\n",
       "    .dataframe thead th {\n",
       "        text-align: right;\n",
       "    }\n",
       "</style>\n",
       "<table border=\"1\" class=\"dataframe\">\n",
       "  <thead>\n",
       "    <tr style=\"text-align: right;\">\n",
       "      <th></th>\n",
       "      <th>Cust_ID</th>\n",
       "      <th>Name</th>\n",
       "      <th>Order_ID</th>\n",
       "      <th>Order</th>\n",
       "    </tr>\n",
       "  </thead>\n",
       "  <tbody>\n",
       "    <tr>\n",
       "      <th>101.0</th>\n",
       "      <td>101</td>\n",
       "      <td>Olivia</td>\n",
       "      <td>222</td>\n",
       "      <td>789</td>\n",
       "    </tr>\n",
       "    <tr>\n",
       "      <th>102.0</th>\n",
       "      <td>102</td>\n",
       "      <td>Will LLC</td>\n",
       "      <td>223</td>\n",
       "      <td>465</td>\n",
       "    </tr>\n",
       "    <tr>\n",
       "      <th>103.0</th>\n",
       "      <td>103</td>\n",
       "      <td>Sophia</td>\n",
       "      <td>224</td>\n",
       "      <td>674</td>\n",
       "    </tr>\n",
       "    <tr>\n",
       "      <th>104.0</th>\n",
       "      <td>104</td>\n",
       "      <td>Isabella</td>\n",
       "      <td>225</td>\n",
       "      <td>564</td>\n",
       "    </tr>\n",
       "    <tr>\n",
       "      <th>NaN</th>\n",
       "      <td>105</td>\n",
       "      <td>NaN</td>\n",
       "      <td>226</td>\n",
       "      <td>589</td>\n",
       "    </tr>\n",
       "  </tbody>\n",
       "</table>\n",
       "</div>"
      ],
      "text/plain": [
       "       Cust_ID      Name  Order_ID  Order\n",
       "101.0      101    Olivia       222    789\n",
       "102.0      102  Will LLC       223    465\n",
       "103.0      103    Sophia       224    674\n",
       "104.0      104  Isabella       225    564\n",
       "NaN        105       NaN       226    589"
      ]
     },
     "execution_count": 46,
     "metadata": {},
     "output_type": "execute_result"
    }
   ],
   "source": [
    "customer.set_index(\"Cust_ID\").join(order.set_index(\"Cust_ID\"), on = \"Cust_ID\", how=\"right\")"
   ]
  },
  {
   "cell_type": "code",
   "execution_count": 47,
   "id": "faf7abf5",
   "metadata": {},
   "outputs": [],
   "source": [
    "name = [\"ajay\",\"vijay\",\"amar\"]\n",
    "wts = [\"60kg\",\"60kg\",\"60kg\"]\n",
    "dob = ['10/05/1999','2/21/1997','12/30/2000']"
   ]
  },
  {
   "cell_type": "code",
   "execution_count": 48,
   "id": "093115ba",
   "metadata": {},
   "outputs": [
    {
     "data": {
      "text/html": [
       "<div>\n",
       "<style scoped>\n",
       "    .dataframe tbody tr th:only-of-type {\n",
       "        vertical-align: middle;\n",
       "    }\n",
       "\n",
       "    .dataframe tbody tr th {\n",
       "        vertical-align: top;\n",
       "    }\n",
       "\n",
       "    .dataframe thead th {\n",
       "        text-align: right;\n",
       "    }\n",
       "</style>\n",
       "<table border=\"1\" class=\"dataframe\">\n",
       "  <thead>\n",
       "    <tr style=\"text-align: right;\">\n",
       "      <th></th>\n",
       "      <th>Name</th>\n",
       "      <th>Weight</th>\n",
       "      <th>DOB</th>\n",
       "    </tr>\n",
       "  </thead>\n",
       "  <tbody>\n",
       "    <tr>\n",
       "      <th>0</th>\n",
       "      <td>ajay</td>\n",
       "      <td>60kg</td>\n",
       "      <td>10/05/1999</td>\n",
       "    </tr>\n",
       "    <tr>\n",
       "      <th>1</th>\n",
       "      <td>vijay</td>\n",
       "      <td>60kg</td>\n",
       "      <td>2/21/1997</td>\n",
       "    </tr>\n",
       "    <tr>\n",
       "      <th>2</th>\n",
       "      <td>amar</td>\n",
       "      <td>60kg</td>\n",
       "      <td>12/30/2000</td>\n",
       "    </tr>\n",
       "  </tbody>\n",
       "</table>\n",
       "</div>"
      ],
      "text/plain": [
       "    Name Weight         DOB\n",
       "0   ajay   60kg  10/05/1999\n",
       "1  vijay   60kg   2/21/1997\n",
       "2   amar   60kg  12/30/2000"
      ]
     },
     "execution_count": 48,
     "metadata": {},
     "output_type": "execute_result"
    }
   ],
   "source": [
    "student = pd.DataFrame({\"Name\":name, \"Weight\": wts, \"DOB\":dob})\n",
    "student"
   ]
  },
  {
   "cell_type": "code",
   "execution_count": 49,
   "id": "05902f57",
   "metadata": {},
   "outputs": [
    {
     "name": "stdout",
     "output_type": "stream",
     "text": [
      "<class 'pandas.core.frame.DataFrame'>\n",
      "RangeIndex: 3 entries, 0 to 2\n",
      "Data columns (total 3 columns):\n",
      " #   Column  Non-Null Count  Dtype         \n",
      "---  ------  --------------  -----         \n",
      " 0   Name    3 non-null      object        \n",
      " 1   Weight  3 non-null      object        \n",
      " 2   DOB     3 non-null      datetime64[ns]\n",
      "dtypes: datetime64[ns](1), object(2)\n",
      "memory usage: 204.0+ bytes\n"
     ]
    }
   ],
   "source": [
    "student[\"DOB\"]  = pd.to_datetime(student[\"DOB\"] )\n",
    "student.info()"
   ]
  },
  {
   "cell_type": "code",
   "execution_count": 50,
   "id": "ce926ebb",
   "metadata": {},
   "outputs": [
    {
     "data": {
      "text/html": [
       "<div>\n",
       "<style scoped>\n",
       "    .dataframe tbody tr th:only-of-type {\n",
       "        vertical-align: middle;\n",
       "    }\n",
       "\n",
       "    .dataframe tbody tr th {\n",
       "        vertical-align: top;\n",
       "    }\n",
       "\n",
       "    .dataframe thead th {\n",
       "        text-align: right;\n",
       "    }\n",
       "</style>\n",
       "<table border=\"1\" class=\"dataframe\">\n",
       "  <thead>\n",
       "    <tr style=\"text-align: right;\">\n",
       "      <th></th>\n",
       "      <th>Name</th>\n",
       "      <th>Weight</th>\n",
       "      <th>DOB</th>\n",
       "    </tr>\n",
       "  </thead>\n",
       "  <tbody>\n",
       "    <tr>\n",
       "      <th>0</th>\n",
       "      <td>ajay</td>\n",
       "      <td>60</td>\n",
       "      <td>1999-10-05</td>\n",
       "    </tr>\n",
       "    <tr>\n",
       "      <th>1</th>\n",
       "      <td>vijay</td>\n",
       "      <td>60</td>\n",
       "      <td>1997-02-21</td>\n",
       "    </tr>\n",
       "    <tr>\n",
       "      <th>2</th>\n",
       "      <td>amar</td>\n",
       "      <td>60</td>\n",
       "      <td>2000-12-30</td>\n",
       "    </tr>\n",
       "  </tbody>\n",
       "</table>\n",
       "</div>"
      ],
      "text/plain": [
       "    Name Weight        DOB\n",
       "0   ajay     60 1999-10-05\n",
       "1  vijay     60 1997-02-21\n",
       "2   amar     60 2000-12-30"
      ]
     },
     "execution_count": 50,
     "metadata": {},
     "output_type": "execute_result"
    }
   ],
   "source": [
    "student['Weight'] = student[\"Weight\"].str.replace(\"kg\",\"\")\n",
    "student"
   ]
  },
  {
   "cell_type": "code",
   "execution_count": 51,
   "id": "bdc4869c",
   "metadata": {},
   "outputs": [
    {
     "name": "stdout",
     "output_type": "stream",
     "text": [
      "<class 'pandas.core.frame.DataFrame'>\n",
      "RangeIndex: 3 entries, 0 to 2\n",
      "Data columns (total 3 columns):\n",
      " #   Column  Non-Null Count  Dtype         \n",
      "---  ------  --------------  -----         \n",
      " 0   Name    3 non-null      object        \n",
      " 1   Weight  3 non-null      float64       \n",
      " 2   DOB     3 non-null      datetime64[ns]\n",
      "dtypes: datetime64[ns](1), float64(1), object(1)\n",
      "memory usage: 204.0+ bytes\n"
     ]
    }
   ],
   "source": [
    "student  = student.astype({\"Weight\":float})\n",
    "student.info()\n"
   ]
  },
  {
   "cell_type": "code",
   "execution_count": 52,
   "id": "31ae3fa2",
   "metadata": {},
   "outputs": [
    {
     "data": {
      "text/html": [
       "<div>\n",
       "<style scoped>\n",
       "    .dataframe tbody tr th:only-of-type {\n",
       "        vertical-align: middle;\n",
       "    }\n",
       "\n",
       "    .dataframe tbody tr th {\n",
       "        vertical-align: top;\n",
       "    }\n",
       "\n",
       "    .dataframe thead th {\n",
       "        text-align: right;\n",
       "    }\n",
       "</style>\n",
       "<table border=\"1\" class=\"dataframe\">\n",
       "  <thead>\n",
       "    <tr style=\"text-align: right;\">\n",
       "      <th></th>\n",
       "      <th>Name</th>\n",
       "      <th>Weight</th>\n",
       "      <th>DOB</th>\n",
       "    </tr>\n",
       "  </thead>\n",
       "  <tbody>\n",
       "    <tr>\n",
       "      <th>0</th>\n",
       "      <td>Deepak</td>\n",
       "      <td>60.0</td>\n",
       "      <td>1999-10-05</td>\n",
       "    </tr>\n",
       "    <tr>\n",
       "      <th>1</th>\n",
       "      <td>vijay</td>\n",
       "      <td>60.0</td>\n",
       "      <td>1997-02-21</td>\n",
       "    </tr>\n",
       "    <tr>\n",
       "      <th>2</th>\n",
       "      <td>amar</td>\n",
       "      <td>60.0</td>\n",
       "      <td>2000-12-30</td>\n",
       "    </tr>\n",
       "  </tbody>\n",
       "</table>\n",
       "</div>"
      ],
      "text/plain": [
       "     Name  Weight        DOB\n",
       "0  Deepak    60.0 1999-10-05\n",
       "1   vijay    60.0 1997-02-21\n",
       "2    amar    60.0 2000-12-30"
      ]
     },
     "execution_count": 52,
     "metadata": {},
     "output_type": "execute_result"
    }
   ],
   "source": [
    "student.replace(to_replace=['ajay'], value =\"Deepak\")"
   ]
  },
  {
   "cell_type": "code",
   "execution_count": 53,
   "id": "3d16dde4",
   "metadata": {},
   "outputs": [
    {
     "ename": "NameError",
     "evalue": "name 'df1' is not defined",
     "output_type": "error",
     "traceback": [
      "\u001b[1;31m---------------------------------------------------------------------------\u001b[0m",
      "\u001b[1;31mNameError\u001b[0m                                 Traceback (most recent call last)",
      "Cell \u001b[1;32mIn[53], line 1\u001b[0m\n\u001b[1;32m----> 1\u001b[0m df1\u001b[38;5;241m.\u001b[39mgroupby(by \u001b[38;5;241m=\u001b[39m [\u001b[38;5;124m\"\u001b[39m\u001b[38;5;124mBlood_pressure_check\u001b[39m\u001b[38;5;124m\"\u001b[39m])[\u001b[38;5;124m\"\u001b[39m\u001b[38;5;124mage\u001b[39m\u001b[38;5;124m\"\u001b[39m]\u001b[38;5;241m.\u001b[39mmean()\n",
      "\u001b[1;31mNameError\u001b[0m: name 'df1' is not defined"
     ]
    }
   ],
   "source": [
    "df1.groupby(by = [\"Blood_pressure_check\"])[\"age\"].mean()"
   ]
  },
  {
   "cell_type": "code",
   "execution_count": null,
   "id": "fc364a75",
   "metadata": {},
   "outputs": [],
   "source": [
    "df1.groupby(by=[\"Gener\"])[\"bmi\"].max()"
   ]
  },
  {
   "cell_type": "code",
   "execution_count": null,
   "id": "a557c93b",
   "metadata": {},
   "outputs": [],
   "source": [
    "df1.groupby(by = [\"region\"])[\"claim\"].sum().sort_values(ascending = False)[:3]"
   ]
  },
  {
   "cell_type": "code",
   "execution_count": null,
   "id": "f6e2cabf",
   "metadata": {},
   "outputs": [],
   "source": [
    "pd.pivot_table(df1, index= [\"region\"], values=[\"claim\"])"
   ]
  },
  {
   "cell_type": "code",
   "execution_count": null,
   "id": "c2668d5b",
   "metadata": {},
   "outputs": [],
   "source": [
    "pd.pivot_table(df1, index= [\"region\"], values=[\"claim\"], aggfunc = \"min\")"
   ]
  },
  {
   "cell_type": "code",
   "execution_count": null,
   "id": "6450393d",
   "metadata": {},
   "outputs": [],
   "source": [
    "pd.crosstab(df1.region, df1.gender, rownames = ['region'], colnames= [\"gender\"])"
   ]
  },
  {
   "cell_type": "code",
   "execution_count": null,
   "id": "b43f8126",
   "metadata": {},
   "outputs": [],
   "source": [
    "pd.crosstab(df1.region, df1.gender, rownames = ['region'], colnames= [\"gender\"], values =df1['claim'], aggfunc=['sum'])"
   ]
  },
  {
   "cell_type": "code",
   "execution_count": null,
   "id": "c9b4b4e9",
   "metadata": {},
   "outputs": [],
   "source": []
  },
  {
   "cell_type": "code",
   "execution_count": null,
   "id": "0e31b3ad",
   "metadata": {},
   "outputs": [],
   "source": [
    "import pandas as pd\n",
    "import numpy as np\n",
    "import matplotlib.pyplot as plt"
   ]
  },
  {
   "cell_type": "code",
   "execution_count": null,
   "id": "e9a20da2",
   "metadata": {},
   "outputs": [],
   "source": [
    "activity = pd.read_csv(\"DS1_C4_S5_Activity_Lifestyle_Data_Concept.csv\")\n",
    "activity"
   ]
  },
  {
   "cell_type": "code",
   "execution_count": null,
   "id": "876359aa",
   "metadata": {},
   "outputs": [],
   "source": [
    "plt.pie(x=activity[\"Average days in a month\"], labels= activity[\"Activity\"], autopct=\"%0.2f%%\")\n",
    "plt.show()"
   ]
  },
  {
   "cell_type": "code",
   "execution_count": null,
   "id": "1c5c6557",
   "metadata": {},
   "outputs": [],
   "source": [
    "building = pd.read_csv(\"DS1_C4_S5_Building_Data_Concept.csv\")\n",
    "building"
   ]
  },
  {
   "cell_type": "code",
   "execution_count": null,
   "id": "30033ada",
   "metadata": {},
   "outputs": [],
   "source": [
    "plt.barh(building[\"Building\"], building[\"Height (in Feet)\"])"
   ]
  },
  {
   "cell_type": "code",
   "execution_count": null,
   "id": "99466304",
   "metadata": {},
   "outputs": [],
   "source": [
    "revenue =pd.read_csv(\"DS1_C4_S5_Revenue_Data_Concept.csv\")\n",
    "revenue"
   ]
  },
  {
   "cell_type": "code",
   "execution_count": null,
   "id": "0074bb2f",
   "metadata": {},
   "outputs": [],
   "source": [
    "revenue.plot(x= \"Brand Name\",kind = \"bar\",\n",
    "            stacked = False,\n",
    "            xlabel=(\"Brand Name\"))"
   ]
  },
  {
   "cell_type": "code",
   "execution_count": null,
   "id": "6e019284",
   "metadata": {},
   "outputs": [],
   "source": [
    "quaterly = pd.read_csv(\"DS1_C4_S5_Sales_Data_Concept.csv\")\n",
    "quaterly"
   ]
  },
  {
   "cell_type": "raw",
   "id": "6edf8931",
   "metadata": {},
   "source": []
  },
  {
   "cell_type": "code",
   "execution_count": null,
   "id": "6420f7d4",
   "metadata": {},
   "outputs": [],
   "source": [
    "plt.figure(figsize=(15,5))                                                      #combinded chart of bar and line\n",
    "plt.plot(quaterly[\"Quarter\"],quaterly[\"Revenue (in Million)\"], color=\"black\")\n",
    "plt.bar(quaterly[\"Quarter\"],quaterly[\"Revenue (in Million)\"], color = \"maroon\")"
   ]
  },
  {
   "cell_type": "code",
   "execution_count": null,
   "id": "db3021c5",
   "metadata": {},
   "outputs": [],
   "source": []
  },
  {
   "cell_type": "code",
   "execution_count": null,
   "id": "7163f2dc",
   "metadata": {},
   "outputs": [],
   "source": [
    "persons = pd.read_csv(\"DS1_C4_S5_Person_Data_Concept.csv\")\n",
    "persons"
   ]
  },
  {
   "cell_type": "code",
   "execution_count": null,
   "id": "3c1f0f06",
   "metadata": {},
   "outputs": [],
   "source": [
    "plt.hist(persons[\"Weight\"], bins=19)"
   ]
  },
  {
   "cell_type": "markdown",
   "id": "993e6a51",
   "metadata": {},
   "source": [
    "The company wants to analyze gender equality across several departments. Display the department-wise total number of male and female employees using a DataFrame. Hints: Summarize the department- and gender-wise count of employees. Create a DataFrame with all department names and the respective male and female counts."
   ]
  },
  {
   "cell_type": "code",
   "execution_count": 54,
   "id": "ee3e04cc",
   "metadata": {},
   "outputs": [
    {
     "data": {
      "text/html": [
       "<div>\n",
       "<style scoped>\n",
       "    .dataframe tbody tr th:only-of-type {\n",
       "        vertical-align: middle;\n",
       "    }\n",
       "\n",
       "    .dataframe tbody tr th {\n",
       "        vertical-align: top;\n",
       "    }\n",
       "\n",
       "    .dataframe thead th {\n",
       "        text-align: right;\n",
       "    }\n",
       "</style>\n",
       "<table border=\"1\" class=\"dataframe\">\n",
       "  <thead>\n",
       "    <tr style=\"text-align: right;\">\n",
       "      <th></th>\n",
       "      <th>Employee_Code</th>\n",
       "      <th>Gender</th>\n",
       "      <th>Department</th>\n",
       "      <th>Annual Salary ($)</th>\n",
       "      <th>Age</th>\n",
       "      <th>Work_Experience</th>\n",
       "    </tr>\n",
       "  </thead>\n",
       "  <tbody>\n",
       "    <tr>\n",
       "      <th>0</th>\n",
       "      <td>1010</td>\n",
       "      <td>Male</td>\n",
       "      <td>IT</td>\n",
       "      <td>27000</td>\n",
       "      <td>22</td>\n",
       "      <td>0</td>\n",
       "    </tr>\n",
       "    <tr>\n",
       "      <th>1</th>\n",
       "      <td>1011</td>\n",
       "      <td>Female</td>\n",
       "      <td>IT</td>\n",
       "      <td>48000</td>\n",
       "      <td>27</td>\n",
       "      <td>4</td>\n",
       "    </tr>\n",
       "    <tr>\n",
       "      <th>2</th>\n",
       "      <td>1012</td>\n",
       "      <td>Male</td>\n",
       "      <td>Sales</td>\n",
       "      <td>75000</td>\n",
       "      <td>31</td>\n",
       "      <td>7</td>\n",
       "    </tr>\n",
       "    <tr>\n",
       "      <th>3</th>\n",
       "      <td>1013</td>\n",
       "      <td>Male</td>\n",
       "      <td>Sales</td>\n",
       "      <td>61000</td>\n",
       "      <td>29</td>\n",
       "      <td>6</td>\n",
       "    </tr>\n",
       "    <tr>\n",
       "      <th>4</th>\n",
       "      <td>1014</td>\n",
       "      <td>Female</td>\n",
       "      <td>Finance</td>\n",
       "      <td>45000</td>\n",
       "      <td>27</td>\n",
       "      <td>4</td>\n",
       "    </tr>\n",
       "    <tr>\n",
       "      <th>...</th>\n",
       "      <td>...</td>\n",
       "      <td>...</td>\n",
       "      <td>...</td>\n",
       "      <td>...</td>\n",
       "      <td>...</td>\n",
       "      <td>...</td>\n",
       "    </tr>\n",
       "    <tr>\n",
       "      <th>65</th>\n",
       "      <td>1074</td>\n",
       "      <td>Female</td>\n",
       "      <td>HR</td>\n",
       "      <td>82500</td>\n",
       "      <td>43</td>\n",
       "      <td>13</td>\n",
       "    </tr>\n",
       "    <tr>\n",
       "      <th>66</th>\n",
       "      <td>1075</td>\n",
       "      <td>Male</td>\n",
       "      <td>Sales</td>\n",
       "      <td>53500</td>\n",
       "      <td>28</td>\n",
       "      <td>5</td>\n",
       "    </tr>\n",
       "    <tr>\n",
       "      <th>67</th>\n",
       "      <td>1076</td>\n",
       "      <td>Female</td>\n",
       "      <td>HR</td>\n",
       "      <td>57000</td>\n",
       "      <td>29</td>\n",
       "      <td>6</td>\n",
       "    </tr>\n",
       "    <tr>\n",
       "      <th>68</th>\n",
       "      <td>1077</td>\n",
       "      <td>Male</td>\n",
       "      <td>Sales</td>\n",
       "      <td>66500</td>\n",
       "      <td>33</td>\n",
       "      <td>7</td>\n",
       "    </tr>\n",
       "    <tr>\n",
       "      <th>69</th>\n",
       "      <td>1078</td>\n",
       "      <td>Male</td>\n",
       "      <td>Finance</td>\n",
       "      <td>92000</td>\n",
       "      <td>45</td>\n",
       "      <td>19</td>\n",
       "    </tr>\n",
       "  </tbody>\n",
       "</table>\n",
       "<p>70 rows × 6 columns</p>\n",
       "</div>"
      ],
      "text/plain": [
       "    Employee_Code   Gender Department  Annual Salary ($)  Age  Work_Experience\n",
       "0             1010    Male        IT               27000   22                0\n",
       "1             1011  Female        IT               48000   27                4\n",
       "2             1012    Male      Sales              75000   31                7\n",
       "3             1013    Male      Sales              61000   29                6\n",
       "4             1014  Female    Finance              45000   27                4\n",
       "..             ...     ...        ...                ...  ...              ...\n",
       "65            1074  Female         HR              82500   43               13\n",
       "66            1075    Male      Sales              53500   28                5\n",
       "67            1076  Female         HR              57000   29                6\n",
       "68            1077    Male      Sales              66500   33                7\n",
       "69            1078    Male    Finance              92000   45               19\n",
       "\n",
       "[70 rows x 6 columns]"
      ]
     },
     "execution_count": 54,
     "metadata": {},
     "output_type": "execute_result"
    }
   ],
   "source": [
    "df = pd.read_excel(\"DS1_C4_S5_Employee_Data_Practice.xlsx\",sheet_name = 0)\n",
    "df"
   ]
  },
  {
   "cell_type": "code",
   "execution_count": 55,
   "id": "a2ba20c4",
   "metadata": {},
   "outputs": [
    {
     "data": {
      "text/html": [
       "<div>\n",
       "<style scoped>\n",
       "    .dataframe tbody tr th:only-of-type {\n",
       "        vertical-align: middle;\n",
       "    }\n",
       "\n",
       "    .dataframe tbody tr th {\n",
       "        vertical-align: top;\n",
       "    }\n",
       "\n",
       "    .dataframe thead th {\n",
       "        text-align: right;\n",
       "    }\n",
       "</style>\n",
       "<table border=\"1\" class=\"dataframe\">\n",
       "  <thead>\n",
       "    <tr style=\"text-align: right;\">\n",
       "      <th>Gender</th>\n",
       "      <th>Female</th>\n",
       "      <th>Male</th>\n",
       "    </tr>\n",
       "    <tr>\n",
       "      <th>Department</th>\n",
       "      <th></th>\n",
       "      <th></th>\n",
       "    </tr>\n",
       "  </thead>\n",
       "  <tbody>\n",
       "    <tr>\n",
       "      <th>Finance</th>\n",
       "      <td>2</td>\n",
       "      <td>11</td>\n",
       "    </tr>\n",
       "    <tr>\n",
       "      <th>HR</th>\n",
       "      <td>11</td>\n",
       "      <td>4</td>\n",
       "    </tr>\n",
       "    <tr>\n",
       "      <th>IT</th>\n",
       "      <td>10</td>\n",
       "      <td>12</td>\n",
       "    </tr>\n",
       "    <tr>\n",
       "      <th>Sales</th>\n",
       "      <td>4</td>\n",
       "      <td>16</td>\n",
       "    </tr>\n",
       "  </tbody>\n",
       "</table>\n",
       "</div>"
      ],
      "text/plain": [
       "Gender      Female  Male\n",
       "Department              \n",
       "Finance          2    11\n",
       "HR              11     4\n",
       "IT              10    12\n",
       "Sales            4    16"
      ]
     },
     "execution_count": 55,
     "metadata": {},
     "output_type": "execute_result"
    }
   ],
   "source": [
    "pd.crosstab(df.Department, df.Gender, rownames = [\"Department\"], colnames=[\"Gender\"])"
   ]
  },
  {
   "cell_type": "code",
   "execution_count": null,
   "id": "6c6b3dae",
   "metadata": {},
   "outputs": [],
   "source": [
    "pd.DataFrame({\"Name\":})"
   ]
  },
  {
   "cell_type": "code",
   "execution_count": 60,
   "id": "55447a0f",
   "metadata": {},
   "outputs": [
    {
     "name": "stdout",
     "output_type": "stream",
     "text": [
      "26\n",
      "Not Weird\n"
     ]
    }
   ],
   "source": [
    "import math\n",
    "import os\n",
    "import random\n",
    "import re\n",
    "import sys\n",
    "\n",
    "\n",
    "n = int(input())\n",
    "if n % 2 !=0:\n",
    "    print(\"weird\")\n",
    "elif n%2==0 and 2 <= n <= 5:\n",
    "    print(\"Not Weird\")\n",
    "elif n%2==0 and 6 <= n <= 20:\n",
    "    print(\"Weird\")\n",
    "elif n%2==0 and n>20:\n",
    "    print(\"Not Weird\")\n"
   ]
  },
  {
   "cell_type": "code",
   "execution_count": 4,
   "id": "be81576b",
   "metadata": {},
   "outputs": [],
   "source": [
    "import pandas as pd\n",
    "lod = [{\"a\": 1,\"b\": 2}, {\"a\":5, \"b\":10, \"c\":20}]\n",
    "d1 = pd.DataFrame(lod)"
   ]
  },
  {
   "cell_type": "code",
   "execution_count": 5,
   "id": "6efde36b",
   "metadata": {},
   "outputs": [
    {
     "data": {
      "text/html": [
       "<div>\n",
       "<style scoped>\n",
       "    .dataframe tbody tr th:only-of-type {\n",
       "        vertical-align: middle;\n",
       "    }\n",
       "\n",
       "    .dataframe tbody tr th {\n",
       "        vertical-align: top;\n",
       "    }\n",
       "\n",
       "    .dataframe thead th {\n",
       "        text-align: right;\n",
       "    }\n",
       "</style>\n",
       "<table border=\"1\" class=\"dataframe\">\n",
       "  <thead>\n",
       "    <tr style=\"text-align: right;\">\n",
       "      <th></th>\n",
       "      <th>a</th>\n",
       "      <th>b</th>\n",
       "      <th>c</th>\n",
       "    </tr>\n",
       "  </thead>\n",
       "  <tbody>\n",
       "    <tr>\n",
       "      <th>0</th>\n",
       "      <td>1</td>\n",
       "      <td>2</td>\n",
       "      <td>NaN</td>\n",
       "    </tr>\n",
       "    <tr>\n",
       "      <th>1</th>\n",
       "      <td>5</td>\n",
       "      <td>10</td>\n",
       "      <td>20.0</td>\n",
       "    </tr>\n",
       "  </tbody>\n",
       "</table>\n",
       "</div>"
      ],
      "text/plain": [
       "   a   b     c\n",
       "0  1   2   NaN\n",
       "1  5  10  20.0"
      ]
     },
     "execution_count": 5,
     "metadata": {},
     "output_type": "execute_result"
    }
   ],
   "source": [
    "d1"
   ]
  },
  {
   "cell_type": "code",
   "execution_count": null,
   "id": "fb400c55",
   "metadata": {},
   "outputs": [],
   "source": [
    "DF.loc"
   ]
  },
  {
   "cell_type": "code",
   "execution_count": 1,
   "id": "ce8078fd",
   "metadata": {},
   "outputs": [
    {
     "name": "stdout",
     "output_type": "stream",
     "text": [
      "2.7264140062238043\n"
     ]
    }
   ],
   "source": [
    "import statistics as st\n",
    "\n",
    "nums = [1, 2, 3, 5, 7, 9, 7, 2, 7, 6]\n",
    "result = st.stdev(nums)\n",
    "print(result)"
   ]
  },
  {
   "cell_type": "code",
   "execution_count": 2,
   "id": "1fd30599",
   "metadata": {},
   "outputs": [
    {
     "data": {
      "text/plain": [
       "0.3333333333333333"
      ]
     },
     "execution_count": 2,
     "metadata": {},
     "output_type": "execute_result"
    }
   ],
   "source": [
    "import statistics as st \n",
    "st. mean ([-2, -4, 7])"
   ]
  },
  {
   "cell_type": "code",
   "execution_count": 17,
   "id": "afe5d582",
   "metadata": {},
   "outputs": [],
   "source": [
    "d1 = {\"kartik\":1, \"harsh\":2 , \"anika\":3, \"jeevika\":4}\n",
    "d2 = {\"arjun\": 5, \"sourabh\":6, \"rishabh\":3, \"rahul\":4}"
   ]
  },
  {
   "cell_type": "code",
   "execution_count": 2,
   "id": "aa9bc7ca",
   "metadata": {},
   "outputs": [
    {
     "data": {
      "text/plain": [
       "dict"
      ]
     },
     "execution_count": 2,
     "metadata": {},
     "output_type": "execute_result"
    }
   ],
   "source": [
    "type(d1)"
   ]
  },
  {
   "cell_type": "code",
   "execution_count": 21,
   "id": "db538642",
   "metadata": {},
   "outputs": [],
   "source": [
    "suumofkeysd1 = d1.get(\"kartik\") +d1.get(\"harsh\")  + d1.get(\"anika\")  +d1.get(\"jeevika\")   "
   ]
  },
  {
   "cell_type": "code",
   "execution_count": 22,
   "id": "178398d7",
   "metadata": {},
   "outputs": [
    {
     "data": {
      "text/plain": [
       "10"
      ]
     },
     "execution_count": 22,
     "metadata": {},
     "output_type": "execute_result"
    }
   ],
   "source": [
    "suumofkeysd1 "
   ]
  },
  {
   "cell_type": "code",
   "execution_count": 20,
   "id": "a1f88c88",
   "metadata": {},
   "outputs": [],
   "source": [
    "sumofd2 = d2.get(\"arjun\") +d2.get(\"sourabh\")  + d2.get(\"rishabh\")  +d2.get(\"rahul\") "
   ]
  },
  {
   "cell_type": "code",
   "execution_count": 24,
   "id": "2c105f07",
   "metadata": {},
   "outputs": [
    {
     "data": {
      "text/plain": [
       "18"
      ]
     },
     "execution_count": 24,
     "metadata": {},
     "output_type": "execute_result"
    }
   ],
   "source": [
    "sumofd2"
   ]
  },
  {
   "cell_type": "code",
   "execution_count": 23,
   "id": "65aa5f09",
   "metadata": {},
   "outputs": [
    {
     "data": {
      "text/plain": [
       "28"
      ]
     },
     "execution_count": 23,
     "metadata": {},
     "output_type": "execute_result"
    }
   ],
   "source": [
    "suumofkeysd1 + sumofd2"
   ]
  },
  {
   "cell_type": "code",
   "execution_count": null,
   "id": "e42805f7",
   "metadata": {},
   "outputs": [],
   "source": []
  },
  {
   "cell_type": "code",
   "execution_count": 10,
   "id": "d040737f",
   "metadata": {},
   "outputs": [
    {
     "data": {
      "text/html": [
       "<div>\n",
       "<style scoped>\n",
       "    .dataframe tbody tr th:only-of-type {\n",
       "        vertical-align: middle;\n",
       "    }\n",
       "\n",
       "    .dataframe tbody tr th {\n",
       "        vertical-align: top;\n",
       "    }\n",
       "\n",
       "    .dataframe thead th {\n",
       "        text-align: right;\n",
       "    }\n",
       "</style>\n",
       "<table border=\"1\" class=\"dataframe\">\n",
       "  <thead>\n",
       "    <tr style=\"text-align: right;\">\n",
       "      <th></th>\n",
       "      <th>city</th>\n",
       "      <th>Name</th>\n",
       "    </tr>\n",
       "  </thead>\n",
       "  <tbody>\n",
       "    <tr>\n",
       "      <th>0</th>\n",
       "      <td>bangalore</td>\n",
       "      <td>kartik</td>\n",
       "    </tr>\n",
       "    <tr>\n",
       "      <th>1</th>\n",
       "      <td>delhi</td>\n",
       "      <td>arjun</td>\n",
       "    </tr>\n",
       "    <tr>\n",
       "      <th>2</th>\n",
       "      <td>bijnor</td>\n",
       "      <td>harsh</td>\n",
       "    </tr>\n",
       "  </tbody>\n",
       "</table>\n",
       "</div>"
      ],
      "text/plain": [
       "        city    Name\n",
       "0  bangalore  kartik\n",
       "1      delhi   arjun\n",
       "2     bijnor   harsh"
      ]
     },
     "execution_count": 10,
     "metadata": {},
     "output_type": "execute_result"
    }
   ],
   "source": [
    "pd.DataFrame({\"city\":[\"bangalore\",\"delhi\", \"bijnor\"], \"Name\":[\"kartik\",\"arjun\",\"harsh\"]})"
   ]
  },
  {
   "cell_type": "code",
   "execution_count": 53,
   "id": "70d7db97",
   "metadata": {},
   "outputs": [],
   "source": [
    "def factorial():\n",
    "    n=int(input(\"enter a number\"))\n",
    "    if n==0:\n",
    "        return 1\n",
    "    else:\n",
    "        return n*factorial(n-1)\n",
    "        "
   ]
  },
  {
   "cell_type": "code",
   "execution_count": 54,
   "id": "9942416a",
   "metadata": {},
   "outputs": [
    {
     "name": "stdout",
     "output_type": "stream",
     "text": [
      "enter a number2\n"
     ]
    },
    {
     "ename": "TypeError",
     "evalue": "factorial() takes 0 positional arguments but 1 was given",
     "output_type": "error",
     "traceback": [
      "\u001b[1;31m---------------------------------------------------------------------------\u001b[0m",
      "\u001b[1;31mTypeError\u001b[0m                                 Traceback (most recent call last)",
      "Cell \u001b[1;32mIn[54], line 1\u001b[0m\n\u001b[1;32m----> 1\u001b[0m factorial()\n",
      "Cell \u001b[1;32mIn[53], line 6\u001b[0m, in \u001b[0;36mfactorial\u001b[1;34m()\u001b[0m\n\u001b[0;32m      4\u001b[0m     \u001b[38;5;28;01mreturn\u001b[39;00m \u001b[38;5;241m1\u001b[39m\n\u001b[0;32m      5\u001b[0m \u001b[38;5;28;01melse\u001b[39;00m:\n\u001b[1;32m----> 6\u001b[0m     \u001b[38;5;28;01mreturn\u001b[39;00m n\u001b[38;5;241m*\u001b[39mfactorial(n\u001b[38;5;241m-\u001b[39m\u001b[38;5;241m1\u001b[39m)\n",
      "\u001b[1;31mTypeError\u001b[0m: factorial() takes 0 positional arguments but 1 was given"
     ]
    }
   ],
   "source": [
    "factorial()"
   ]
  },
  {
   "cell_type": "code",
   "execution_count": null,
   "id": "471868e3",
   "metadata": {},
   "outputs": [],
   "source": []
  },
  {
   "cell_type": "code",
   "execution_count": 36,
   "id": "17f64cdf",
   "metadata": {},
   "outputs": [
    {
     "data": {
      "text/plain": [
       "720"
      ]
     },
     "execution_count": 36,
     "metadata": {},
     "output_type": "execute_result"
    }
   ],
   "source": [
    "factorial(6)"
   ]
  },
  {
   "cell_type": "code",
   "execution_count": 5,
   "id": "862df1ef",
   "metadata": {},
   "outputs": [],
   "source": [
    "import pandas as pd\n",
    "import numpy as np\n"
   ]
  },
  {
   "cell_type": "code",
   "execution_count": 10,
   "id": "f8bc9e9a",
   "metadata": {},
   "outputs": [],
   "source": [
    "df = pd.DataFrame({\"id\":[1,2,3,4], \"Name\":[\"a\",\"b\",\"c\",\"d\"], \"marks\":[10,20,30,40]})"
   ]
  },
  {
   "cell_type": "code",
   "execution_count": 11,
   "id": "088464f4",
   "metadata": {},
   "outputs": [
    {
     "data": {
      "text/html": [
       "<div>\n",
       "<style scoped>\n",
       "    .dataframe tbody tr th:only-of-type {\n",
       "        vertical-align: middle;\n",
       "    }\n",
       "\n",
       "    .dataframe tbody tr th {\n",
       "        vertical-align: top;\n",
       "    }\n",
       "\n",
       "    .dataframe thead th {\n",
       "        text-align: right;\n",
       "    }\n",
       "</style>\n",
       "<table border=\"1\" class=\"dataframe\">\n",
       "  <thead>\n",
       "    <tr style=\"text-align: right;\">\n",
       "      <th></th>\n",
       "      <th>id</th>\n",
       "      <th>Name</th>\n",
       "      <th>marks</th>\n",
       "    </tr>\n",
       "  </thead>\n",
       "  <tbody>\n",
       "    <tr>\n",
       "      <th>0</th>\n",
       "      <td>1</td>\n",
       "      <td>a</td>\n",
       "      <td>10</td>\n",
       "    </tr>\n",
       "    <tr>\n",
       "      <th>1</th>\n",
       "      <td>2</td>\n",
       "      <td>b</td>\n",
       "      <td>20</td>\n",
       "    </tr>\n",
       "    <tr>\n",
       "      <th>2</th>\n",
       "      <td>3</td>\n",
       "      <td>c</td>\n",
       "      <td>30</td>\n",
       "    </tr>\n",
       "    <tr>\n",
       "      <th>3</th>\n",
       "      <td>4</td>\n",
       "      <td>d</td>\n",
       "      <td>40</td>\n",
       "    </tr>\n",
       "  </tbody>\n",
       "</table>\n",
       "</div>"
      ],
      "text/plain": [
       "   id Name  marks\n",
       "0   1    a     10\n",
       "1   2    b     20\n",
       "2   3    c     30\n",
       "3   4    d     40"
      ]
     },
     "execution_count": 11,
     "metadata": {},
     "output_type": "execute_result"
    }
   ],
   "source": [
    "df"
   ]
  },
  {
   "cell_type": "code",
   "execution_count": 38,
   "id": "cd2eef23",
   "metadata": {},
   "outputs": [
    {
     "data": {
      "text/html": [
       "<div>\n",
       "<style scoped>\n",
       "    .dataframe tbody tr th:only-of-type {\n",
       "        vertical-align: middle;\n",
       "    }\n",
       "\n",
       "    .dataframe tbody tr th {\n",
       "        vertical-align: top;\n",
       "    }\n",
       "\n",
       "    .dataframe thead th {\n",
       "        text-align: right;\n",
       "    }\n",
       "</style>\n",
       "<table border=\"1\" class=\"dataframe\">\n",
       "  <thead>\n",
       "    <tr style=\"text-align: right;\">\n",
       "      <th></th>\n",
       "      <th>id</th>\n",
       "      <th>Name</th>\n",
       "      <th>marks</th>\n",
       "      <th>city</th>\n",
       "    </tr>\n",
       "  </thead>\n",
       "  <tbody>\n",
       "    <tr>\n",
       "      <th>0</th>\n",
       "      <td>1</td>\n",
       "      <td>a</td>\n",
       "      <td>10</td>\n",
       "      <td>delhi</td>\n",
       "    </tr>\n",
       "    <tr>\n",
       "      <th>1</th>\n",
       "      <td>2</td>\n",
       "      <td>b</td>\n",
       "      <td>20</td>\n",
       "      <td>bangalore</td>\n",
       "    </tr>\n",
       "    <tr>\n",
       "      <th>2</th>\n",
       "      <td>3</td>\n",
       "      <td>c</td>\n",
       "      <td>30</td>\n",
       "      <td>kanpur</td>\n",
       "    </tr>\n",
       "    <tr>\n",
       "      <th>3</th>\n",
       "      <td>4</td>\n",
       "      <td>d</td>\n",
       "      <td>40</td>\n",
       "      <td>meerut</td>\n",
       "    </tr>\n",
       "  </tbody>\n",
       "</table>\n",
       "</div>"
      ],
      "text/plain": [
       "   id Name  marks       city\n",
       "0   1    a     10      delhi\n",
       "1   2    b     20  bangalore\n",
       "2   3    c     30     kanpur\n",
       "3   4    d     40     meerut"
      ]
     },
     "execution_count": 38,
     "metadata": {},
     "output_type": "execute_result"
    }
   ],
   "source": [
    "df.iloc[0:4,0:4]"
   ]
  },
  {
   "cell_type": "code",
   "execution_count": 24,
   "id": "f7d5b278",
   "metadata": {},
   "outputs": [
    {
     "data": {
      "text/html": [
       "<div>\n",
       "<style scoped>\n",
       "    .dataframe tbody tr th:only-of-type {\n",
       "        vertical-align: middle;\n",
       "    }\n",
       "\n",
       "    .dataframe tbody tr th {\n",
       "        vertical-align: top;\n",
       "    }\n",
       "\n",
       "    .dataframe thead th {\n",
       "        text-align: right;\n",
       "    }\n",
       "</style>\n",
       "<table border=\"1\" class=\"dataframe\">\n",
       "  <thead>\n",
       "    <tr style=\"text-align: right;\">\n",
       "      <th></th>\n",
       "      <th>id</th>\n",
       "      <th>Name</th>\n",
       "    </tr>\n",
       "  </thead>\n",
       "  <tbody>\n",
       "    <tr>\n",
       "      <th>0</th>\n",
       "      <td>1</td>\n",
       "      <td>a</td>\n",
       "    </tr>\n",
       "    <tr>\n",
       "      <th>1</th>\n",
       "      <td>2</td>\n",
       "      <td>b</td>\n",
       "    </tr>\n",
       "    <tr>\n",
       "      <th>2</th>\n",
       "      <td>3</td>\n",
       "      <td>c</td>\n",
       "    </tr>\n",
       "    <tr>\n",
       "      <th>3</th>\n",
       "      <td>4</td>\n",
       "      <td>d</td>\n",
       "    </tr>\n",
       "  </tbody>\n",
       "</table>\n",
       "</div>"
      ],
      "text/plain": [
       "   id Name\n",
       "0   1    a\n",
       "1   2    b\n",
       "2   3    c\n",
       "3   4    d"
      ]
     },
     "execution_count": 24,
     "metadata": {},
     "output_type": "execute_result"
    }
   ],
   "source": [
    "df.loc[0:3,\"id\":\"Name\"]"
   ]
  },
  {
   "cell_type": "code",
   "execution_count": 25,
   "id": "f8b41bf9",
   "metadata": {},
   "outputs": [
    {
     "data": {
      "text/html": [
       "<div>\n",
       "<style scoped>\n",
       "    .dataframe tbody tr th:only-of-type {\n",
       "        vertical-align: middle;\n",
       "    }\n",
       "\n",
       "    .dataframe tbody tr th {\n",
       "        vertical-align: top;\n",
       "    }\n",
       "\n",
       "    .dataframe thead th {\n",
       "        text-align: right;\n",
       "    }\n",
       "</style>\n",
       "<table border=\"1\" class=\"dataframe\">\n",
       "  <thead>\n",
       "    <tr style=\"text-align: right;\">\n",
       "      <th></th>\n",
       "      <th>id</th>\n",
       "      <th>Name</th>\n",
       "      <th>marks</th>\n",
       "    </tr>\n",
       "  </thead>\n",
       "  <tbody>\n",
       "    <tr>\n",
       "      <th>0</th>\n",
       "      <td>1</td>\n",
       "      <td>a</td>\n",
       "      <td>10</td>\n",
       "    </tr>\n",
       "    <tr>\n",
       "      <th>1</th>\n",
       "      <td>2</td>\n",
       "      <td>b</td>\n",
       "      <td>20</td>\n",
       "    </tr>\n",
       "    <tr>\n",
       "      <th>2</th>\n",
       "      <td>3</td>\n",
       "      <td>c</td>\n",
       "      <td>30</td>\n",
       "    </tr>\n",
       "    <tr>\n",
       "      <th>3</th>\n",
       "      <td>4</td>\n",
       "      <td>d</td>\n",
       "      <td>40</td>\n",
       "    </tr>\n",
       "  </tbody>\n",
       "</table>\n",
       "</div>"
      ],
      "text/plain": [
       "   id Name  marks\n",
       "0   1    a     10\n",
       "1   2    b     20\n",
       "2   3    c     30\n",
       "3   4    d     40"
      ]
     },
     "execution_count": 25,
     "metadata": {},
     "output_type": "execute_result"
    }
   ],
   "source": [
    "df"
   ]
  },
  {
   "cell_type": "code",
   "execution_count": 26,
   "id": "75896ae8",
   "metadata": {},
   "outputs": [],
   "source": [
    "df[\"city\"] = [\"delhi\",\"bangalore\",\"kanpur\", \"meerut\"]"
   ]
  },
  {
   "cell_type": "code",
   "execution_count": 27,
   "id": "6074a32e",
   "metadata": {},
   "outputs": [
    {
     "data": {
      "text/html": [
       "<div>\n",
       "<style scoped>\n",
       "    .dataframe tbody tr th:only-of-type {\n",
       "        vertical-align: middle;\n",
       "    }\n",
       "\n",
       "    .dataframe tbody tr th {\n",
       "        vertical-align: top;\n",
       "    }\n",
       "\n",
       "    .dataframe thead th {\n",
       "        text-align: right;\n",
       "    }\n",
       "</style>\n",
       "<table border=\"1\" class=\"dataframe\">\n",
       "  <thead>\n",
       "    <tr style=\"text-align: right;\">\n",
       "      <th></th>\n",
       "      <th>id</th>\n",
       "      <th>Name</th>\n",
       "      <th>marks</th>\n",
       "      <th>city</th>\n",
       "    </tr>\n",
       "  </thead>\n",
       "  <tbody>\n",
       "    <tr>\n",
       "      <th>0</th>\n",
       "      <td>1</td>\n",
       "      <td>a</td>\n",
       "      <td>10</td>\n",
       "      <td>delhi</td>\n",
       "    </tr>\n",
       "    <tr>\n",
       "      <th>1</th>\n",
       "      <td>2</td>\n",
       "      <td>b</td>\n",
       "      <td>20</td>\n",
       "      <td>bangalore</td>\n",
       "    </tr>\n",
       "    <tr>\n",
       "      <th>2</th>\n",
       "      <td>3</td>\n",
       "      <td>c</td>\n",
       "      <td>30</td>\n",
       "      <td>kanpur</td>\n",
       "    </tr>\n",
       "    <tr>\n",
       "      <th>3</th>\n",
       "      <td>4</td>\n",
       "      <td>d</td>\n",
       "      <td>40</td>\n",
       "      <td>meerut</td>\n",
       "    </tr>\n",
       "  </tbody>\n",
       "</table>\n",
       "</div>"
      ],
      "text/plain": [
       "   id Name  marks       city\n",
       "0   1    a     10      delhi\n",
       "1   2    b     20  bangalore\n",
       "2   3    c     30     kanpur\n",
       "3   4    d     40     meerut"
      ]
     },
     "execution_count": 27,
     "metadata": {},
     "output_type": "execute_result"
    }
   ],
   "source": [
    "df"
   ]
  },
  {
   "cell_type": "code",
   "execution_count": 28,
   "id": "bd6e555d",
   "metadata": {},
   "outputs": [],
   "source": [
    "l1 = [10,20,30,40,50]"
   ]
  },
  {
   "cell_type": "code",
   "execution_count": 42,
   "id": "54de94dc",
   "metadata": {},
   "outputs": [
    {
     "data": {
      "text/plain": [
       "[50, 40, 30, 20, 10]"
      ]
     },
     "execution_count": 42,
     "metadata": {},
     "output_type": "execute_result"
    }
   ],
   "source": [
    "l1.reverse()\n",
    "l1"
   ]
  },
  {
   "cell_type": "code",
   "execution_count": 34,
   "id": "cdf4ba3f",
   "metadata": {},
   "outputs": [
    {
     "data": {
      "text/plain": [
       "[50, 40, 30, 20, 10]"
      ]
     },
     "execution_count": 34,
     "metadata": {},
     "output_type": "execute_result"
    }
   ],
   "source": [
    "l1"
   ]
  },
  {
   "cell_type": "code",
   "execution_count": 43,
   "id": "4ef3ff90",
   "metadata": {},
   "outputs": [],
   "source": [
    "l1.reverse()"
   ]
  },
  {
   "cell_type": "code",
   "execution_count": 44,
   "id": "c595a84d",
   "metadata": {},
   "outputs": [
    {
     "data": {
      "text/plain": [
       "[10, 20, 30, 40, 50]"
      ]
     },
     "execution_count": 44,
     "metadata": {},
     "output_type": "execute_result"
    }
   ],
   "source": [
    "l1"
   ]
  },
  {
   "cell_type": "code",
   "execution_count": 45,
   "id": "ce094da1",
   "metadata": {},
   "outputs": [
    {
     "data": {
      "text/plain": [
       "[50, 40, 30, 20, 10]"
      ]
     },
     "execution_count": 45,
     "metadata": {},
     "output_type": "execute_result"
    }
   ],
   "source": [
    "l1[::-1]"
   ]
  },
  {
   "cell_type": "code",
   "execution_count": 59,
   "id": "c5303f19",
   "metadata": {},
   "outputs": [
    {
     "name": "stdout",
     "output_type": "stream",
     "text": [
      "Enter a non-negative integer to calculate its factorial: 2\n",
      "2\n"
     ]
    }
   ],
   "source": [
    "def factorial(n):\n",
    "    # Base case: factorial of 0 is 1\n",
    "    if n == 0:\n",
    "        return 1\n",
    "    else:\n",
    "        # Recursive case: n! = n * (n-1)!\n",
    "        return n * factorial(n - 1)\n",
    "\n",
    "# Ask user to enter a number\n",
    "number = int(input(\"Enter a non-negative integer to calculate its factorial: \"))\n",
    "\n",
    "# Check if the number is non-negative\n",
    "if number < 0:\n",
    "    print(\"Factorial is not defined for negative numbers.\")\n",
    "else:\n",
    "    # Calculate the factorial of the input number\n",
    "    result = factorial(number)\n",
    "    print(result)"
   ]
  },
  {
   "cell_type": "code",
   "execution_count": null,
   "id": "1fcd767f",
   "metadata": {},
   "outputs": [],
   "source": []
  },
  {
   "cell_type": "code",
   "execution_count": 71,
   "id": "562223b4",
   "metadata": {},
   "outputs": [],
   "source": [
    "l4 = [20,30,40]\n",
    "l5 = [50,60]"
   ]
  },
  {
   "cell_type": "code",
   "execution_count": 66,
   "id": "1e303ad5",
   "metadata": {},
   "outputs": [],
   "source": [
    "l2.append(l3)"
   ]
  },
  {
   "cell_type": "code",
   "execution_count": 67,
   "id": "0d5877c8",
   "metadata": {},
   "outputs": [
    {
     "data": {
      "text/plain": [
       "[20, 30, 40, [50, 60]]"
      ]
     },
     "execution_count": 67,
     "metadata": {},
     "output_type": "execute_result"
    }
   ],
   "source": [
    "l2"
   ]
  },
  {
   "cell_type": "code",
   "execution_count": null,
   "id": "3f876ad1",
   "metadata": {},
   "outputs": [],
   "source": [
    "for i in l4:\n",
    "    l4.append(i)\n",
    "print(l4)"
   ]
  },
  {
   "cell_type": "code",
   "execution_count": null,
   "id": "551b8243",
   "metadata": {},
   "outputs": [],
   "source": []
  },
  {
   "cell_type": "code",
   "execution_count": null,
   "id": "b1580da3",
   "metadata": {},
   "outputs": [],
   "source": []
  },
  {
   "cell_type": "code",
   "execution_count": null,
   "id": "5cb8349b",
   "metadata": {},
   "outputs": [],
   "source": []
  },
  {
   "cell_type": "code",
   "execution_count": null,
   "id": "7658e083",
   "metadata": {},
   "outputs": [],
   "source": []
  }
 ],
 "metadata": {
  "kernelspec": {
   "display_name": "Python 3 (ipykernel)",
   "language": "python",
   "name": "python3"
  },
  "language_info": {
   "codemirror_mode": {
    "name": "ipython",
    "version": 3
   },
   "file_extension": ".py",
   "mimetype": "text/x-python",
   "name": "python",
   "nbconvert_exporter": "python",
   "pygments_lexer": "ipython3",
   "version": "3.11.5"
  }
 },
 "nbformat": 4,
 "nbformat_minor": 5
}
