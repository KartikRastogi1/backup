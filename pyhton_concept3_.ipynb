{
 "cells": [
  {
   "cell_type": "code",
   "execution_count": 1,
   "id": "ae724574",
   "metadata": {},
   "outputs": [
    {
     "name": "stdout",
     "output_type": "stream",
     "text": [
      "1\n",
      "2\n",
      "3\n",
      "4\n",
      "5\n",
      "6\n",
      "7\n",
      "8\n",
      "9\n",
      "10\n"
     ]
    }
   ],
   "source": [
    "for i in range(1,11):\n",
    "    print(i)"
   ]
  },
  {
   "cell_type": "code",
   "execution_count": 2,
   "id": "f4e55668",
   "metadata": {},
   "outputs": [
    {
     "name": "stdout",
     "output_type": "stream",
     "text": [
      "21\n",
      "22\n",
      "23\n",
      "24\n",
      "25\n",
      "26\n",
      "27\n",
      "28\n",
      "29\n",
      "30\n"
     ]
    }
   ],
   "source": [
    "for i in range(21,31):     \n",
    "    print(i)"
   ]
  },
  {
   "cell_type": "code",
   "execution_count": 3,
   "id": "5767976f",
   "metadata": {},
   "outputs": [
    {
     "name": "stdout",
     "output_type": "stream",
     "text": [
      "0\n",
      "2\n",
      "4\n",
      "6\n",
      "8\n",
      "10\n",
      "12\n",
      "14\n",
      "16\n",
      "18\n",
      "20\n"
     ]
    }
   ],
   "source": [
    "for i in range(0,21,2):\n",
    "    print(i)"
   ]
  },
  {
   "cell_type": "code",
   "execution_count": 6,
   "id": "a4b20f0b",
   "metadata": {},
   "outputs": [
    {
     "name": "stdout",
     "output_type": "stream",
     "text": [
      "7X 1 = 7\n",
      "7X 2 = 14\n",
      "7X 3 = 21\n",
      "7X 4 = 28\n",
      "7X 5 = 35\n",
      "7X 6 = 42\n",
      "7X 7 = 49\n",
      "7X 8 = 56\n",
      "7X 9 = 63\n",
      "7X 10 = 70\n"
     ]
    }
   ],
   "source": [
    "#table of 7\n",
    "for i in range(1,11,1):\n",
    "    print(\"7X\",i,\"=\",7*i)"
   ]
  },
  {
   "cell_type": "code",
   "execution_count": 7,
   "id": "35a1699b",
   "metadata": {},
   "outputs": [
    {
     "name": "stdout",
     "output_type": "stream",
     "text": [
      "74x 1 = 74\n",
      "74x 2 = 148\n",
      "74x 3 = 222\n",
      "74x 4 = 296\n",
      "74x 5 = 370\n",
      "74x 6 = 444\n",
      "74x 7 = 518\n",
      "74x 8 = 592\n",
      "74x 9 = 666\n",
      "74x 10 = 740\n"
     ]
    }
   ],
   "source": [
    "for i in range(1,11,1):\n",
    "    print(\"74x\",i,\"=\",74*i)"
   ]
  },
  {
   "cell_type": "code",
   "execution_count": 1,
   "id": "3994d378",
   "metadata": {},
   "outputs": [
    {
     "name": "stdout",
     "output_type": "stream",
     "text": [
      "enter a number2\n",
      "2 X 1 = 2\n",
      "2 X 2 = 4\n",
      "2 X 3 = 6\n",
      "2 X 4 = 8\n",
      "2 X 5 = 10\n",
      "2 X 6 = 12\n",
      "2 X 7 = 14\n",
      "2 X 8 = 16\n",
      "2 X 9 = 18\n",
      "2 X 10 = 20\n"
     ]
    }
   ],
   "source": [
    "n=int(input(\"enter a number\"))\n",
    "for i in range(1,11,1):\n",
    "    print(n, \"X\",i,\"=\",n*i)"
   ]
  },
  {
   "cell_type": "code",
   "execution_count": 8,
   "id": "f4e36021",
   "metadata": {},
   "outputs": [],
   "source": [
    "s=\"today im very happy as today is the first session of 2024\""
   ]
  },
  {
   "cell_type": "code",
   "execution_count": 10,
   "id": "19cd21c9",
   "metadata": {},
   "outputs": [
    {
     "name": "stdout",
     "output_type": "stream",
     "text": [
      "todayimveryhappyastodayisthefirstsessionof2024"
     ]
    }
   ],
   "source": [
    "for i in s:\n",
    "    if i!=\" \":\n",
    "        print(i, end=\"\")"
   ]
  },
  {
   "cell_type": "code",
   "execution_count": 17,
   "id": "725d867c",
   "metadata": {},
   "outputs": [],
   "source": [
    "s1=\"hello, my name!., is,! python, and ,! i can,. do powerfull.,! programming, !i like,! to. automate,stuff and improve produvtivity\""
   ]
  },
  {
   "cell_type": "code",
   "execution_count": 23,
   "id": "3ba745b5",
   "metadata": {},
   "outputs": [
    {
     "name": "stdout",
     "output_type": "stream",
     "text": [
      "hello my name is python and  i can do powerfull programming i like to automatestuff and improve produvtivity"
     ]
    }
   ],
   "source": [
    "for i in s1:\n",
    "    if i!=\",\"and i!='!'and i!='.':\n",
    "        print(i,end=\"\")"
   ]
  },
  {
   "cell_type": "code",
   "execution_count": 20,
   "id": "ff6f8cfd",
   "metadata": {
    "scrolled": true
   },
   "outputs": [
    {
     "data": {
      "text/plain": [
       "'hello, my name!., is,! python, and ,! i can,. do powerfull.,! programming, !i like,! to. automate,stuff and improve produvtivity'"
      ]
     },
     "execution_count": 20,
     "metadata": {},
     "output_type": "execute_result"
    }
   ],
   "source": [
    "s1"
   ]
  },
  {
   "cell_type": "code",
   "execution_count": 3,
   "id": "12617d1e",
   "metadata": {},
   "outputs": [],
   "source": [
    "s='python'"
   ]
  },
  {
   "cell_type": "code",
   "execution_count": 5,
   "id": "7ceb0193",
   "metadata": {},
   "outputs": [
    {
     "name": "stdout",
     "output_type": "stream",
     "text": [
      "hello\n",
      "iteration\n",
      "hello\n",
      "iteration\n",
      "hello\n",
      "iteration\n",
      "hello\n",
      "iteration\n",
      "hello\n",
      "iteration\n",
      "hello\n",
      "iteration\n"
     ]
    }
   ],
   "source": [
    "for i in s:                  \n",
    "    print(\"hello\")           #running it 6times\n",
    "    print(\"iteration\")"
   ]
  },
  {
   "cell_type": "code",
   "execution_count": 4,
   "id": "6a643197",
   "metadata": {},
   "outputs": [],
   "source": [
    "li=['rahul','harini','priyam','anil','ravi','priya']"
   ]
  },
  {
   "cell_type": "code",
   "execution_count": 5,
   "id": "7d0bd7c8",
   "metadata": {},
   "outputs": [
    {
     "data": {
      "text/plain": [
       "6"
      ]
     },
     "execution_count": 5,
     "metadata": {},
     "output_type": "execute_result"
    }
   ],
   "source": [
    "len(li)"
   ]
  },
  {
   "cell_type": "code",
   "execution_count": 6,
   "id": "4050bd22",
   "metadata": {},
   "outputs": [
    {
     "data": {
      "text/plain": [
       "list"
      ]
     },
     "execution_count": 6,
     "metadata": {},
     "output_type": "execute_result"
    }
   ],
   "source": [
    "type(li)"
   ]
  },
  {
   "cell_type": "code",
   "execution_count": 7,
   "id": "a06d6e67",
   "metadata": {},
   "outputs": [
    {
     "name": "stdout",
     "output_type": "stream",
     "text": [
      "happy new year rahul\n",
      "happy new year harini\n",
      "happy new year priyam\n",
      "happy new year anil\n",
      "happy new year ravi\n",
      "happy new year priya\n"
     ]
    }
   ],
   "source": [
    "for i in li:\n",
    "    print(\"happy new year\",i)"
   ]
  },
  {
   "cell_type": "code",
   "execution_count": 15,
   "id": "7f21ce80",
   "metadata": {},
   "outputs": [],
   "source": [
    "l2=[13,54,67,87,90,23,43]\n"
   ]
  },
  {
   "cell_type": "code",
   "execution_count": null,
   "id": "89fdfc85",
   "metadata": {},
   "outputs": [],
   "source": [
    "#reverse the names of each person in the list"
   ]
  },
  {
   "cell_type": "code",
   "execution_count": 6,
   "id": "5bb79d54",
   "metadata": {},
   "outputs": [],
   "source": [
    "s=\"MACHINE LEARNING\""
   ]
  },
  {
   "cell_type": "code",
   "execution_count": 7,
   "id": "8f4033ca",
   "metadata": {},
   "outputs": [],
   "source": [
    "a =s[::-1]"
   ]
  },
  {
   "cell_type": "code",
   "execution_count": 10,
   "id": "f2e131fc",
   "metadata": {},
   "outputs": [
    {
     "data": {
      "text/plain": [
       "'GNINRAEL ENIHCAM'"
      ]
     },
     "execution_count": 10,
     "metadata": {},
     "output_type": "execute_result"
    }
   ],
   "source": [
    "a"
   ]
  },
  {
   "cell_type": "code",
   "execution_count": 34,
   "id": "54cfea73",
   "metadata": {},
   "outputs": [
    {
     "name": "stdout",
     "output_type": "stream",
     "text": [
      "31 45 76 78 09 32 34 "
     ]
    }
   ],
   "source": [
    "for i in l2:\n",
    "    print(str(i)[::-1],end=\" \")                   #converted int into str by using str()"
   ]
  },
  {
   "cell_type": "code",
   "execution_count": 13,
   "id": "b3d85f3e",
   "metadata": {},
   "outputs": [
    {
     "name": "stdout",
     "output_type": "stream",
     "text": [
      "happy new year luhar\n",
      "happy new year inirah\n",
      "happy new year mayirp\n",
      "happy new year lina\n",
      "happy new year ivar\n",
      "happy new year ayirp\n"
     ]
    }
   ],
   "source": [
    "for i in li:\n",
    "    print('happy new year',i[::-1])"
   ]
  },
  {
   "cell_type": "code",
   "execution_count": 43,
   "id": "b9bd3348",
   "metadata": {},
   "outputs": [
    {
     "name": "stdout",
     "output_type": "stream",
     "text": [
      "not divisble by 2: 13\n",
      "divisble by 2: 54\n",
      "not divisble by 2: 67\n",
      "not divisble by 2: 87\n",
      "divisble by 2: 90\n",
      "not divisble by 2: 23\n",
      "not divisble by 2: 43\n"
     ]
    }
   ],
   "source": [
    "for i in l2:               #see if the number is divisible by 2 \n",
    "    if i%2==0:\n",
    "        print(\"divisble by 2:\",i)\n",
    "    else:\n",
    "        print(\"not divisble by 2:\",i)"
   ]
  },
  {
   "cell_type": "code",
   "execution_count": 16,
   "id": "390963de",
   "metadata": {},
   "outputs": [
    {
     "data": {
      "text/plain": [
       "[13, 54, 67, 87, 90, 23, 43]"
      ]
     },
     "execution_count": 16,
     "metadata": {},
     "output_type": "execute_result"
    }
   ],
   "source": [
    "l2\n"
   ]
  },
  {
   "cell_type": "code",
   "execution_count": 18,
   "id": "d7e659f6",
   "metadata": {},
   "outputs": [],
   "source": [
    "li.append(\"kartik\")"
   ]
  },
  {
   "cell_type": "code",
   "execution_count": 19,
   "id": "947d5863",
   "metadata": {},
   "outputs": [],
   "source": [
    "li.insert(0,\"dayalan\")"
   ]
  },
  {
   "cell_type": "code",
   "execution_count": 20,
   "id": "59fc2a08",
   "metadata": {},
   "outputs": [
    {
     "data": {
      "text/plain": [
       "['dayalan',\n",
       " 'rahul',\n",
       " 'harini',\n",
       " 'priyam',\n",
       " 'anil',\n",
       " 'ravi',\n",
       " 'priya',\n",
       " 'kartik',\n",
       " 'kartik']"
      ]
     },
     "execution_count": 20,
     "metadata": {},
     "output_type": "execute_result"
    }
   ],
   "source": [
    "li"
   ]
  },
  {
   "cell_type": "code",
   "execution_count": 47,
   "id": "c3774490",
   "metadata": {},
   "outputs": [],
   "source": [
    "extra=['diya','sh','shubham','madi']"
   ]
  },
  {
   "cell_type": "code",
   "execution_count": 48,
   "id": "a8793d29",
   "metadata": {},
   "outputs": [],
   "source": [
    "li.extend(extra)"
   ]
  },
  {
   "cell_type": "code",
   "execution_count": 49,
   "id": "228d90fe",
   "metadata": {},
   "outputs": [
    {
     "data": {
      "text/plain": [
       "['anil',\n",
       " 'dayalan',\n",
       " 'harini',\n",
       " 'kartik',\n",
       " 'priya',\n",
       " 'ravi',\n",
       " 'diya',\n",
       " 'sh',\n",
       " 'shubham',\n",
       " 'madi']"
      ]
     },
     "execution_count": 49,
     "metadata": {},
     "output_type": "execute_result"
    }
   ],
   "source": [
    "li"
   ]
  },
  {
   "cell_type": "code",
   "execution_count": 23,
   "id": "4c2f25ad",
   "metadata": {},
   "outputs": [
    {
     "data": {
      "text/plain": [
       "['dayalan',\n",
       " 'rahul',\n",
       " 'harini',\n",
       " 'priyam',\n",
       " 'anil',\n",
       " 'ravi',\n",
       " 'priya',\n",
       " 'kartik',\n",
       " 'kartik']"
      ]
     },
     "execution_count": 23,
     "metadata": {},
     "output_type": "execute_result"
    }
   ],
   "source": [
    "li"
   ]
  },
  {
   "cell_type": "code",
   "execution_count": 24,
   "id": "86570fef",
   "metadata": {},
   "outputs": [],
   "source": [
    "del li[3]           #delete the specified value "
   ]
  },
  {
   "cell_type": "code",
   "execution_count": 28,
   "id": "fdcc6bbe",
   "metadata": {},
   "outputs": [
    {
     "data": {
      "text/plain": [
       "['dayalan', 'rahul', 'harini', 'anil', 'ravi', 'priya', 'kartik']"
      ]
     },
     "execution_count": 28,
     "metadata": {},
     "output_type": "execute_result"
    }
   ],
   "source": [
    "li\n"
   ]
  },
  {
   "cell_type": "code",
   "execution_count": 26,
   "id": "c9620da9",
   "metadata": {},
   "outputs": [
    {
     "data": {
      "text/plain": [
       "'kartik'"
      ]
     },
     "execution_count": 26,
     "metadata": {},
     "output_type": "execute_result"
    }
   ],
   "source": [
    "li.pop()"
   ]
  },
  {
   "cell_type": "code",
   "execution_count": 29,
   "id": "a9473e64",
   "metadata": {},
   "outputs": [
    {
     "data": {
      "text/plain": [
       "['dayalan', 'rahul', 'harini', 'anil', 'ravi', 'priya', 'kartik']"
      ]
     },
     "execution_count": 29,
     "metadata": {},
     "output_type": "execute_result"
    }
   ],
   "source": [
    "li"
   ]
  },
  {
   "cell_type": "code",
   "execution_count": 34,
   "id": "06cf9c98",
   "metadata": {},
   "outputs": [
    {
     "ename": "ValueError",
     "evalue": "list.remove(x): x not in list",
     "output_type": "error",
     "traceback": [
      "\u001b[1;31m---------------------------------------------------------------------------\u001b[0m",
      "\u001b[1;31mValueError\u001b[0m                                Traceback (most recent call last)",
      "Cell \u001b[1;32mIn[34], line 1\u001b[0m\n\u001b[1;32m----> 1\u001b[0m li\u001b[38;5;241m.\u001b[39mremove(\u001b[38;5;124m\"\u001b[39m\u001b[38;5;124mrahul\u001b[39m\u001b[38;5;124m\"\u001b[39m)\n\u001b[0;32m      2\u001b[0m li\n",
      "\u001b[1;31mValueError\u001b[0m: list.remove(x): x not in list"
     ]
    }
   ],
   "source": [
    "li.remove(\"rahul\")"
   ]
  },
  {
   "cell_type": "code",
   "execution_count": 35,
   "id": "067f9be8",
   "metadata": {},
   "outputs": [
    {
     "data": {
      "text/plain": [
       "['dayalan', 'harini', 'anil', 'ravi', 'priya', 'kartik']"
      ]
     },
     "execution_count": 35,
     "metadata": {},
     "output_type": "execute_result"
    }
   ],
   "source": [
    "li"
   ]
  },
  {
   "cell_type": "code",
   "execution_count": 36,
   "id": "dc92ca92",
   "metadata": {},
   "outputs": [
    {
     "name": "stdout",
     "output_type": "stream",
     "text": [
      "not exist\n"
     ]
    }
   ],
   "source": [
    "if 'python' in li:\n",
    "    print('exist')\n",
    "else:\n",
    "    print('not exist')"
   ]
  },
  {
   "cell_type": "code",
   "execution_count": 37,
   "id": "2f0643d2",
   "metadata": {},
   "outputs": [
    {
     "data": {
      "text/plain": [
       "1"
      ]
     },
     "execution_count": 37,
     "metadata": {},
     "output_type": "execute_result"
    }
   ],
   "source": [
    "li.count('ravi')                    #tells the count of specified value"
   ]
  },
  {
   "cell_type": "code",
   "execution_count": 38,
   "id": "3b0a2541",
   "metadata": {},
   "outputs": [],
   "source": [
    "li.sort()                 #sort the list in ascending order"
   ]
  },
  {
   "cell_type": "code",
   "execution_count": 39,
   "id": "cfec4664",
   "metadata": {},
   "outputs": [
    {
     "data": {
      "text/plain": [
       "['anil', 'dayalan', 'harini', 'kartik', 'priya', 'ravi']"
      ]
     },
     "execution_count": 39,
     "metadata": {},
     "output_type": "execute_result"
    }
   ],
   "source": [
    "li"
   ]
  },
  {
   "cell_type": "code",
   "execution_count": 42,
   "id": "544fe3d7",
   "metadata": {},
   "outputs": [],
   "source": [
    "li.sort(reverse=True)"
   ]
  },
  {
   "cell_type": "code",
   "execution_count": 43,
   "id": "72d9adf0",
   "metadata": {},
   "outputs": [
    {
     "data": {
      "text/plain": [
       "['ravi', 'priya', 'kartik', 'harini', 'dayalan', 'anil']"
      ]
     },
     "execution_count": 43,
     "metadata": {},
     "output_type": "execute_result"
    }
   ],
   "source": [
    "li"
   ]
  },
  {
   "cell_type": "code",
   "execution_count": 44,
   "id": "67310cf9",
   "metadata": {},
   "outputs": [
    {
     "data": {
      "text/plain": [
       "['anil', 'dayalan', 'harini', 'kartik', 'priya', 'ravi']"
      ]
     },
     "execution_count": 44,
     "metadata": {},
     "output_type": "execute_result"
    }
   ],
   "source": [
    "li.reverse()\n",
    "li"
   ]
  },
  {
   "cell_type": "code",
   "execution_count": 45,
   "id": "2e5cc893",
   "metadata": {},
   "outputs": [
    {
     "data": {
      "text/plain": [
       "[43, 23, 90, 87, 67, 54, 13]"
      ]
     },
     "execution_count": 45,
     "metadata": {},
     "output_type": "execute_result"
    }
   ],
   "source": [
    "l2.reverse()\n",
    "l2"
   ]
  },
  {
   "cell_type": "code",
   "execution_count": 11,
   "id": "714445cd",
   "metadata": {},
   "outputs": [
    {
     "name": "stdout",
     "output_type": "stream",
     "text": [
      "true\n"
     ]
    }
   ],
   "source": [
    "x=20\n",
    "y=12\n",
    "if x<y:\n",
    "    print(\"false\")\n",
    "elif x>y:\n",
    "    print(\"true\")"
   ]
  },
  {
   "cell_type": "code",
   "execution_count": null,
   "id": "7d1b6458",
   "metadata": {},
   "outputs": [],
   "source": []
  }
 ],
 "metadata": {
  "kernelspec": {
   "display_name": "Python 3 (ipykernel)",
   "language": "python",
   "name": "python3"
  },
  "language_info": {
   "codemirror_mode": {
    "name": "ipython",
    "version": 3
   },
   "file_extension": ".py",
   "mimetype": "text/x-python",
   "name": "python",
   "nbconvert_exporter": "python",
   "pygments_lexer": "ipython3",
   "version": "3.11.5"
  }
 },
 "nbformat": 4,
 "nbformat_minor": 5
}
